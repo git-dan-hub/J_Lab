{
 "cells": [
  {
   "cell_type": "markdown",
   "metadata": {
    "id": "3368fecd-f8f0-4a11-8948-3a1c9e1cf486"
   },
   "source": [
    "### <b>Import Packages</b>"
   ]
  },
  {
   "cell_type": "code",
   "execution_count": 1,
   "metadata": {
    "id": "9251e0c2-83fe-4e08-826e-86d94707bb52",
    "tags": []
   },
   "outputs": [],
   "source": [
    "import pandas as pd\n",
    "import numpy as np\n",
    "import sklearn as sk\n",
    "import seaborn as sns\n",
    "import matplotlib.pyplot as plt"
   ]
  },
  {
   "cell_type": "markdown",
   "metadata": {
    "id": "49014fbb-a647-480f-a115-d0f35a14929e"
   },
   "source": [
    "### <b>Import Data</b>"
   ]
  },
  {
   "cell_type": "code",
   "execution_count": 2,
   "metadata": {
    "id": "6e1a4538-9570-4373-8e44-a3e23e295a4c",
    "tags": []
   },
   "outputs": [
    {
     "data": {
      "text/html": [
       "<div>\n",
       "<style scoped>\n",
       "    .dataframe tbody tr th:only-of-type {\n",
       "        vertical-align: middle;\n",
       "    }\n",
       "\n",
       "    .dataframe tbody tr th {\n",
       "        vertical-align: top;\n",
       "    }\n",
       "\n",
       "    .dataframe thead th {\n",
       "        text-align: right;\n",
       "    }\n",
       "</style>\n",
       "<table border=\"1\" class=\"dataframe\">\n",
       "  <thead>\n",
       "    <tr style=\"text-align: right;\">\n",
       "      <th></th>\n",
       "      <th>HALF</th>\n",
       "      <th>DOWNNUM</th>\n",
       "      <th>YARDSTOGO</th>\n",
       "      <th>SCOREDIFF</th>\n",
       "      <th>TIMELEFT</th>\n",
       "      <th>DOWNNAME</th>\n",
       "      <th>TRUEFIELD</th>\n",
       "      <th>YARDSGAINED_Mean</th>\n",
       "      <th>AVG_OVER_TOGO</th>\n",
       "      <th>PLAYIDSTR</th>\n",
       "      <th>RUN_PASS</th>\n",
       "      <th>CONCEPT_8</th>\n",
       "      <th>CONCEPT_9</th>\n",
       "      <th>pred_TD</th>\n",
       "      <th>prob_TD_NO</th>\n",
       "      <th>prob_TD_YES</th>\n",
       "      <th>pred_FIRST</th>\n",
       "      <th>prob_FIRST_NO</th>\n",
       "      <th>prob_FIRST_YES</th>\n",
       "    </tr>\n",
       "  </thead>\n",
       "  <tbody>\n",
       "    <tr>\n",
       "      <th>0</th>\n",
       "      <td>0</td>\n",
       "      <td>0</td>\n",
       "      <td>5</td>\n",
       "      <td>0</td>\n",
       "      <td>480</td>\n",
       "      <td>1st</td>\n",
       "      <td>35</td>\n",
       "      <td>6.36</td>\n",
       "      <td>1.272</td>\n",
       "      <td>100000020</td>\n",
       "      <td>RUN</td>\n",
       "      <td>2</td>\n",
       "      <td>0</td>\n",
       "      <td>N</td>\n",
       "      <td>0.989180609</td>\n",
       "      <td>0.010819391</td>\n",
       "      <td>N</td>\n",
       "      <td>0.562406343</td>\n",
       "      <td>0.437593657</td>\n",
       "    </tr>\n",
       "    <tr>\n",
       "      <th>1</th>\n",
       "      <td>0</td>\n",
       "      <td>0</td>\n",
       "      <td>9</td>\n",
       "      <td>-7</td>\n",
       "      <td>1050</td>\n",
       "      <td>1st</td>\n",
       "      <td>45</td>\n",
       "      <td>4.756098</td>\n",
       "      <td>0.528455333</td>\n",
       "      <td>100000054</td>\n",
       "      <td>RUN</td>\n",
       "      <td>5</td>\n",
       "      <td>4</td>\n",
       "      <td>N</td>\n",
       "      <td>0.999278473</td>\n",
       "      <td>0.000721527</td>\n",
       "      <td>Y</td>\n",
       "      <td>0.439295772</td>\n",
       "      <td>0.560704228</td>\n",
       "    </tr>\n",
       "    <tr>\n",
       "      <th>2</th>\n",
       "      <td>0</td>\n",
       "      <td>2</td>\n",
       "      <td>4</td>\n",
       "      <td>7</td>\n",
       "      <td>600</td>\n",
       "      <td>3rd</td>\n",
       "      <td>5</td>\n",
       "      <td>8.164835</td>\n",
       "      <td>2.04120875</td>\n",
       "      <td>200000049</td>\n",
       "      <td>PASS</td>\n",
       "      <td>4</td>\n",
       "      <td>9</td>\n",
       "      <td>N</td>\n",
       "      <td>0.929719852</td>\n",
       "      <td>0.070280148</td>\n",
       "      <td>Y</td>\n",
       "      <td>0.391968242</td>\n",
       "      <td>0.608031758</td>\n",
       "    </tr>\n",
       "    <tr>\n",
       "      <th>3</th>\n",
       "      <td>0</td>\n",
       "      <td>0</td>\n",
       "      <td>11</td>\n",
       "      <td>7</td>\n",
       "      <td>180</td>\n",
       "      <td>1st</td>\n",
       "      <td>45</td>\n",
       "      <td>6.216667</td>\n",
       "      <td>0.565151545</td>\n",
       "      <td>200000041</td>\n",
       "      <td>PASS</td>\n",
       "      <td>4</td>\n",
       "      <td>1</td>\n",
       "      <td>N</td>\n",
       "      <td>0.999941376</td>\n",
       "      <td>5.86E-05</td>\n",
       "      <td>N</td>\n",
       "      <td>0.676802873</td>\n",
       "      <td>0.323197127</td>\n",
       "    </tr>\n",
       "    <tr>\n",
       "      <th>4</th>\n",
       "      <td>0</td>\n",
       "      <td>0</td>\n",
       "      <td>1</td>\n",
       "      <td>0</td>\n",
       "      <td>60</td>\n",
       "      <td>1st</td>\n",
       "      <td>45</td>\n",
       "      <td>13.416667</td>\n",
       "      <td>13.416667</td>\n",
       "      <td>200000085</td>\n",
       "      <td>PASS</td>\n",
       "      <td>8</td>\n",
       "      <td>5</td>\n",
       "      <td>N</td>\n",
       "      <td>0.800382789</td>\n",
       "      <td>0.199617211</td>\n",
       "      <td>N</td>\n",
       "      <td>0.60849475</td>\n",
       "      <td>0.39150525</td>\n",
       "    </tr>\n",
       "  </tbody>\n",
       "</table>\n",
       "</div>"
      ],
      "text/plain": [
       "  HALF DOWNNUM YARDSTOGO SCOREDIFF TIMELEFT DOWNNAME TRUEFIELD  \\\n",
       "0    0       0         5         0      480      1st        35   \n",
       "1    0       0         9        -7     1050      1st        45   \n",
       "2    0       2         4         7      600      3rd         5   \n",
       "3    0       0        11         7      180      1st        45   \n",
       "4    0       0         1         0       60      1st        45   \n",
       "\n",
       "  YARDSGAINED_Mean AVG_OVER_TOGO  PLAYIDSTR RUN_PASS CONCEPT_8 CONCEPT_9  \\\n",
       "0             6.36         1.272  100000020      RUN         2         0   \n",
       "1         4.756098   0.528455333  100000054      RUN         5         4   \n",
       "2         8.164835    2.04120875  200000049     PASS         4         9   \n",
       "3         6.216667   0.565151545  200000041     PASS         4         1   \n",
       "4        13.416667     13.416667  200000085     PASS         8         5   \n",
       "\n",
       "  pred_TD   prob_TD_NO  prob_TD_YES pred_FIRST prob_FIRST_NO prob_FIRST_YES  \n",
       "0       N  0.989180609  0.010819391          N   0.562406343    0.437593657  \n",
       "1       N  0.999278473  0.000721527          Y   0.439295772    0.560704228  \n",
       "2       N  0.929719852  0.070280148          Y   0.391968242    0.608031758  \n",
       "3       N  0.999941376     5.86E-05          N   0.676802873    0.323197127  \n",
       "4       N  0.800382789  0.199617211          N    0.60849475     0.39150525  "
      ]
     },
     "execution_count": 2,
     "metadata": {},
     "output_type": "execute_result"
    }
   ],
   "source": [
    "import itc_utils.flight_service as itcfs\n",
    "\n",
    "readClient = itcfs.get_flight_client()\n",
    "\n",
    "nb_data_request = {'data_name': \"\"\"Test_fields_100821_results.csv\"\"\", 'interaction_properties': {}}\n",
    "\n",
    "flightInfo = itcfs.get_flight_info(readClient, nb_data_request=nb_data_request)\n",
    "\n",
    "df = itcfs.read_pandas_and_concat(readClient, flightInfo)\n",
    "df.head()"
   ]
  },
  {
   "cell_type": "code",
   "execution_count": 3,
   "metadata": {
    "id": "dca55600-1494-4b9e-a137-9755c4f41ccf",
    "tags": []
   },
   "outputs": [],
   "source": [
    "## To drop variables from a dataframe, simply list the ones you want to keep. Can pass to a new dataframe (as here) or drop from original\n",
    "df = pd.DataFrame(df, columns=['HALF', 'DOWNNUM', 'YARDSTOGO', 'SCOREDIFF', 'TIMELEFT', 'DOWNNAME','TRUEFIELD','RUN_PASS',\n",
    "       'CONCEPT_8', 'CONCEPT_9','YARDSGAINED_Mean', 'AVG_OVER_TOGO', 'prob_FIRST_YES','pred_FIRST','prob_TD_YES','pred_TD'])"
   ]
  },
  {
   "cell_type": "code",
   "execution_count": 4,
   "metadata": {
    "id": "eaa8da42-44f7-492a-a3ce-5f5e3df941dd",
    "tags": []
   },
   "outputs": [],
   "source": [
    "## Re-Name columns as needed by casting new column names using the .columns method. New columns names will be applied in order and must be same length as number of existing columns.\n",
    "df.columns = ['HALF', 'DOWNNUM', 'YARDSTOGO', 'SCOREDIFF', 'TIMELEFT', 'DOWNNAME','TRUEFIELD','RUN_PASS',\n",
    "       'CONCEPT_8', 'CONCEPT_9','YARDSGAINED_Mean', 'AVG_OVER_TOGO', 'prob_FIRST','TARGET_1ST','prob_TD','TARGET_TD']"
   ]
  },
  {
   "cell_type": "code",
   "execution_count": 5,
   "metadata": {
    "id": "370a0307-f5dc-4fe6-9822-af7e9f46c053",
    "tags": []
   },
   "outputs": [],
   "source": [
    "df[['HALF','DOWNNUM','YARDSTOGO','SCOREDIFF','TIMELEFT','TRUEFIELD','YARDSGAINED_Mean','AVG_OVER_TOGO',\n",
    "       'CONCEPT_8','CONCEPT_9','prob_TD','prob_FIRST']] = df[['HALF','DOWNNUM','YARDSTOGO','SCOREDIFF','TIMELEFT','TRUEFIELD','YARDSGAINED_Mean','AVG_OVER_TOGO',\n",
    "       'CONCEPT_8','CONCEPT_9','prob_TD','prob_FIRST']].apply(pd.to_numeric)"
   ]
  },
  {
   "cell_type": "code",
   "execution_count": 6,
   "metadata": {
    "id": "ff4b1d0b-1871-420f-9786-0a6239d6d7c7",
    "tags": []
   },
   "outputs": [
    {
     "name": "stderr",
     "output_type": "stream",
     "text": [
      "/opt/conda/envs/Python-3.7-OpenCE/lib/python3.7/site-packages/pandas/core/indexing.py:671: SettingWithCopyWarning: \n",
      "A value is trying to be set on a copy of a slice from a DataFrame\n",
      "\n",
      "See the caveats in the documentation: https://pandas.pydata.org/pandas-docs/stable/user_guide/indexing.html#returning-a-view-versus-a-copy\n",
      "  self._setitem_with_indexer(indexer, value)\n"
     ]
    }
   ],
   "source": [
    "df['PLAYID'] = df['RUN_PASS'] + df['CONCEPT_8'].astype(str)\n",
    "df['TSHIRT'] = \"\" \n",
    "#    print(len(data))\n",
    "for i in range(len(df)):\n",
    "    if df['YARDSTOGO'].iloc[i] <= 3:\n",
    "        df['TSHIRT'].iloc[i] = \"SMALL\"\n",
    "    elif df['YARDSTOGO'].iloc[i] <= 6:\n",
    "        df['TSHIRT'].iloc[i] = \"MEDIUM\"\n",
    "    elif df['YARDSTOGO'].iloc[i] <= 10:\n",
    "        df['TSHIRT'].iloc[i] = \"LONG\"  \n",
    "    elif df['YARDSTOGO'].iloc[i] > 10:\n",
    "        df['TSHIRT'].iloc[i] = \"XLONG\" \n",
    "    else: df['TSHIRT'].iloc[i] = \"NONE\" \n",
    "        \n"
   ]
  },
  {
   "cell_type": "code",
   "execution_count": 7,
   "metadata": {
    "id": "d61248d7a70648fd84f1e60248d4467f",
    "tags": []
   },
   "outputs": [],
   "source": [
    "#DataFrame.replace(to_replace=None, value=None, inplace=False, limit=None, regex=False, method='pad')[source]\n",
    "df.TARGET_TD = df.TARGET_TD.replace({'N': 0,'Y': 1})\n",
    "df.TARGET_1ST = df.TARGET_1ST.replace({'N': 0,'Y': 1})\n"
   ]
  },
  {
   "cell_type": "code",
   "execution_count": 8,
   "metadata": {
    "id": "cba582ff-db0c-4b4c-8449-472c57e80bb4",
    "tags": []
   },
   "outputs": [
    {
     "data": {
      "text/html": [
       "<div>\n",
       "<style scoped>\n",
       "    .dataframe tbody tr th:only-of-type {\n",
       "        vertical-align: middle;\n",
       "    }\n",
       "\n",
       "    .dataframe tbody tr th {\n",
       "        vertical-align: top;\n",
       "    }\n",
       "\n",
       "    .dataframe thead th {\n",
       "        text-align: right;\n",
       "    }\n",
       "</style>\n",
       "<table border=\"1\" class=\"dataframe\">\n",
       "  <thead>\n",
       "    <tr style=\"text-align: right;\">\n",
       "      <th></th>\n",
       "      <th>HALF</th>\n",
       "      <th>DOWNNUM</th>\n",
       "      <th>YARDSTOGO</th>\n",
       "      <th>SCOREDIFF</th>\n",
       "      <th>TIMELEFT</th>\n",
       "      <th>TRUEFIELD</th>\n",
       "      <th>RUN_PASS</th>\n",
       "      <th>YARDSGAINED_Mean</th>\n",
       "      <th>AVG_OVER_TOGO</th>\n",
       "      <th>PLAYID</th>\n",
       "      <th>TSHIRT</th>\n",
       "    </tr>\n",
       "  </thead>\n",
       "  <tbody>\n",
       "    <tr>\n",
       "      <th>0</th>\n",
       "      <td>0</td>\n",
       "      <td>0</td>\n",
       "      <td>5</td>\n",
       "      <td>0</td>\n",
       "      <td>480</td>\n",
       "      <td>35</td>\n",
       "      <td>RUN</td>\n",
       "      <td>6.360000</td>\n",
       "      <td>1.272000</td>\n",
       "      <td>RUN2</td>\n",
       "      <td>MEDIUM</td>\n",
       "    </tr>\n",
       "    <tr>\n",
       "      <th>1</th>\n",
       "      <td>0</td>\n",
       "      <td>0</td>\n",
       "      <td>9</td>\n",
       "      <td>-7</td>\n",
       "      <td>1050</td>\n",
       "      <td>45</td>\n",
       "      <td>RUN</td>\n",
       "      <td>4.756098</td>\n",
       "      <td>0.528455</td>\n",
       "      <td>RUN5</td>\n",
       "      <td>LONG</td>\n",
       "    </tr>\n",
       "    <tr>\n",
       "      <th>2</th>\n",
       "      <td>0</td>\n",
       "      <td>2</td>\n",
       "      <td>4</td>\n",
       "      <td>7</td>\n",
       "      <td>600</td>\n",
       "      <td>5</td>\n",
       "      <td>PASS</td>\n",
       "      <td>8.164835</td>\n",
       "      <td>2.041209</td>\n",
       "      <td>PASS4</td>\n",
       "      <td>MEDIUM</td>\n",
       "    </tr>\n",
       "    <tr>\n",
       "      <th>3</th>\n",
       "      <td>0</td>\n",
       "      <td>0</td>\n",
       "      <td>11</td>\n",
       "      <td>7</td>\n",
       "      <td>180</td>\n",
       "      <td>45</td>\n",
       "      <td>PASS</td>\n",
       "      <td>6.216667</td>\n",
       "      <td>0.565152</td>\n",
       "      <td>PASS4</td>\n",
       "      <td>XLONG</td>\n",
       "    </tr>\n",
       "    <tr>\n",
       "      <th>4</th>\n",
       "      <td>0</td>\n",
       "      <td>0</td>\n",
       "      <td>1</td>\n",
       "      <td>0</td>\n",
       "      <td>60</td>\n",
       "      <td>45</td>\n",
       "      <td>PASS</td>\n",
       "      <td>13.416667</td>\n",
       "      <td>13.416667</td>\n",
       "      <td>PASS8</td>\n",
       "      <td>SMALL</td>\n",
       "    </tr>\n",
       "  </tbody>\n",
       "</table>\n",
       "</div>"
      ],
      "text/plain": [
       "   HALF  DOWNNUM  YARDSTOGO  SCOREDIFF  TIMELEFT  TRUEFIELD RUN_PASS  \\\n",
       "0     0        0          5          0       480         35      RUN   \n",
       "1     0        0          9         -7      1050         45      RUN   \n",
       "2     0        2          4          7       600          5     PASS   \n",
       "3     0        0         11          7       180         45     PASS   \n",
       "4     0        0          1          0        60         45     PASS   \n",
       "\n",
       "   YARDSGAINED_Mean  AVG_OVER_TOGO PLAYID  TSHIRT  \n",
       "0          6.360000       1.272000   RUN2  MEDIUM  \n",
       "1          4.756098       0.528455   RUN5    LONG  \n",
       "2          8.164835       2.041209  PASS4  MEDIUM  \n",
       "3          6.216667       0.565152  PASS4   XLONG  \n",
       "4         13.416667      13.416667  PASS8   SMALL  "
      ]
     },
     "execution_count": 8,
     "metadata": {},
     "output_type": "execute_result"
    }
   ],
   "source": [
    "df_TD = pd.DataFrame(df, columns=['HALF', 'DOWNNUM', 'YARDSTOGO', 'SCOREDIFF', 'TIMELEFT', 'TRUEFIELD', 'RUN_PASS','YARDSGAINED_Mean', 'AVG_OVER_TOGO','PLAYID','TSHIRT'])\n",
    "df_TD.head()"
   ]
  },
  {
   "cell_type": "code",
   "execution_count": 46,
   "metadata": {
    "id": "c86772aa-9ca4-4bad-af7e-2080802e5418",
    "scrolled": true
   },
   "outputs": [
    {
     "data": {
      "text/html": [
       "<div>\n",
       "<style scoped>\n",
       "    .dataframe tbody tr th:only-of-type {\n",
       "        vertical-align: middle;\n",
       "    }\n",
       "\n",
       "    .dataframe tbody tr th {\n",
       "        vertical-align: top;\n",
       "    }\n",
       "\n",
       "    .dataframe thead th {\n",
       "        text-align: right;\n",
       "    }\n",
       "</style>\n",
       "<table border=\"1\" class=\"dataframe\">\n",
       "  <thead>\n",
       "    <tr style=\"text-align: right;\">\n",
       "      <th></th>\n",
       "      <th>HALF</th>\n",
       "      <th>DOWNNUM</th>\n",
       "      <th>YARDSTOGO</th>\n",
       "      <th>SCOREDIFF</th>\n",
       "      <th>TIMELEFT</th>\n",
       "      <th>TRUEFIELD</th>\n",
       "      <th>RUN_PASS</th>\n",
       "      <th>YARDSGAINED_Mean</th>\n",
       "      <th>AVG_OVER_TOGO</th>\n",
       "      <th>PLAYID</th>\n",
       "      <th>TSHIRT</th>\n",
       "    </tr>\n",
       "  </thead>\n",
       "  <tbody>\n",
       "    <tr>\n",
       "      <th>0</th>\n",
       "      <td>0</td>\n",
       "      <td>0</td>\n",
       "      <td>5</td>\n",
       "      <td>0</td>\n",
       "      <td>480</td>\n",
       "      <td>35</td>\n",
       "      <td>RUN</td>\n",
       "      <td>6.360000</td>\n",
       "      <td>1.272000</td>\n",
       "      <td>RUN2</td>\n",
       "      <td>MEDIUM</td>\n",
       "    </tr>\n",
       "    <tr>\n",
       "      <th>1</th>\n",
       "      <td>0</td>\n",
       "      <td>0</td>\n",
       "      <td>9</td>\n",
       "      <td>-7</td>\n",
       "      <td>1050</td>\n",
       "      <td>45</td>\n",
       "      <td>RUN</td>\n",
       "      <td>4.756098</td>\n",
       "      <td>0.528455</td>\n",
       "      <td>RUN5</td>\n",
       "      <td>LONG</td>\n",
       "    </tr>\n",
       "    <tr>\n",
       "      <th>2</th>\n",
       "      <td>0</td>\n",
       "      <td>2</td>\n",
       "      <td>4</td>\n",
       "      <td>7</td>\n",
       "      <td>600</td>\n",
       "      <td>5</td>\n",
       "      <td>PASS</td>\n",
       "      <td>8.164835</td>\n",
       "      <td>2.041209</td>\n",
       "      <td>PASS4</td>\n",
       "      <td>MEDIUM</td>\n",
       "    </tr>\n",
       "    <tr>\n",
       "      <th>3</th>\n",
       "      <td>0</td>\n",
       "      <td>0</td>\n",
       "      <td>11</td>\n",
       "      <td>7</td>\n",
       "      <td>180</td>\n",
       "      <td>45</td>\n",
       "      <td>PASS</td>\n",
       "      <td>6.216667</td>\n",
       "      <td>0.565152</td>\n",
       "      <td>PASS4</td>\n",
       "      <td>XLONG</td>\n",
       "    </tr>\n",
       "    <tr>\n",
       "      <th>4</th>\n",
       "      <td>0</td>\n",
       "      <td>0</td>\n",
       "      <td>1</td>\n",
       "      <td>0</td>\n",
       "      <td>60</td>\n",
       "      <td>45</td>\n",
       "      <td>PASS</td>\n",
       "      <td>13.416667</td>\n",
       "      <td>13.416667</td>\n",
       "      <td>PASS8</td>\n",
       "      <td>SMALL</td>\n",
       "    </tr>\n",
       "  </tbody>\n",
       "</table>\n",
       "</div>"
      ],
      "text/plain": [
       "   HALF  DOWNNUM  YARDSTOGO  SCOREDIFF  TIMELEFT  TRUEFIELD RUN_PASS  \\\n",
       "0     0        0          5          0       480         35      RUN   \n",
       "1     0        0          9         -7      1050         45      RUN   \n",
       "2     0        2          4          7       600          5     PASS   \n",
       "3     0        0         11          7       180         45     PASS   \n",
       "4     0        0          1          0        60         45     PASS   \n",
       "\n",
       "   YARDSGAINED_Mean  AVG_OVER_TOGO PLAYID  TSHIRT  \n",
       "0          6.360000       1.272000   RUN2  MEDIUM  \n",
       "1          4.756098       0.528455   RUN5    LONG  \n",
       "2          8.164835       2.041209  PASS4  MEDIUM  \n",
       "3          6.216667       0.565152  PASS4   XLONG  \n",
       "4         13.416667      13.416667  PASS8   SMALL  "
      ]
     },
     "execution_count": 46,
     "metadata": {},
     "output_type": "execute_result"
    }
   ],
   "source": [
    "df_TD.head()"
   ]
  },
  {
   "cell_type": "code",
   "execution_count": 9,
   "metadata": {
    "id": "1f8057be-b13b-48a9-a034-6c434c4f3d19",
    "tags": []
   },
   "outputs": [],
   "source": [
    "from sklearn.preprocessing import OneHotEncoder\n",
    "\n",
    "bin_data = pd.get_dummies(df_TD[['RUN_PASS','PLAYID','TSHIRT']]) ## list the fields which you want to encode\n",
    "bin_data = bin_data.drop(['RUN_PASS_PASS'], axis=1) ## where the target field is binary, first field can be dropped\n",
    "\n",
    "df_TD = df_TD.drop(['RUN_PASS','PLAYID','TSHIRT'], axis=1) ## drop original fields\n",
    "df_TD = pd.concat([df_TD, bin_data], axis=1)"
   ]
  },
  {
   "cell_type": "markdown",
   "metadata": {
    "id": "d8113cd7e04d40ca84af3f32d43bc913"
   },
   "source": [
    "Rescaling the input variables creates a fitted scaler based on training data. That sclaer must be saved and used to convert data at runtime."
   ]
  },
  {
   "cell_type": "code",
   "execution_count": 10,
   "metadata": {
    "id": "cdf7da21-7273-4a71-b6f4-c581f9da14e0",
    "tags": []
   },
   "outputs": [],
   "source": [
    "from sklearn import preprocessing\n",
    "\n",
    "scaler = preprocessing.StandardScaler().fit(df_TD.values)\n",
    "scaler\n",
    "\n",
    "XTD_scaled = scaler.transform(df_TD.values)"
   ]
  },
  {
   "cell_type": "markdown",
   "metadata": {
    "id": "a4189ed38ea2438098bd25f43c3580ff"
   },
   "source": [
    "## Create & Deploy Test Function"
   ]
  },
  {
   "cell_type": "code",
   "execution_count": 11,
   "metadata": {
    "id": "a1836ce160534d259966986dc2dc7178",
    "tags": []
   },
   "outputs": [
    {
     "name": "stdout",
     "output_type": "stream",
     "text": [
      "ibm-watson-machine-learning 1.0.173\n",
      "ibm-watson-openscale        3.0.12\n",
      "ibm-watson-studio-lib       3.0.6\n"
     ]
    }
   ],
   "source": [
    "!pip list | grep watson"
   ]
  },
  {
   "cell_type": "code",
   "execution_count": 12,
   "metadata": {
    "id": "84ab9f0c34e54fb18c4e1725b4f30c07",
    "tags": []
   },
   "outputs": [
    {
     "name": "stdout",
     "output_type": "stream",
     "text": [
      "Writing tmp_py_function.py\n"
     ]
    }
   ],
   "source": [
    "%%writefile tmp_py_function.py\n",
    "\n",
    "custom_yaml = \"\"\"\n",
    "dependencies:\n",
    "  - pip\n",
    "  - pip:\n",
    "    - --index-url https://test.pypi.org/simple/\n",
    "    - lightgbm==3.3.1\n",
    "\"\"\"\n",
    "\n",
    "with open(\"tmp.yaml\",\"w\") as f:\n",
    "    f.write(custom_yaml)\n",
    "\n",
    "print(\"tmp.yaml written\")\n",
    "\n",
    "\n",
    "def score(input_data) :\n",
    "    import subprocess\n",
    "    \n",
    "    # ignore input_data\n",
    "    my_log_msgs = []\n",
    "    \n",
    "    runlog = subprocess.run([\"conda\",\"env\",\"update\",\"--file\",\"tmp.yaml\"], check=False, stdout=subprocess.PIPE,\n",
    "                              stderr=subprocess.STDOUT, text=True)\n",
    "    my_log_msgs.append(runlog.stdout)\n",
    "    try:\n",
    "        import lightgbm   \n",
    "    except Exception as exc:\n",
    "        my_log_msgs.append(\"import failed\")\n",
    "    \n",
    "    \n",
    "    score_response = {\n",
    "            'predictions': [{ 'fields':[\"log_msgs\"], \n",
    "                              'values': [my_log_msgs] }]\n",
    "    } \n",
    "    return score_response\n"
   ]
  },
  {
   "cell_type": "code",
   "execution_count": 7,
   "metadata": {
    "id": "43b493f0b21e48e38340e84033f67ac3",
    "scrolled": true
   },
   "outputs": [
    {
     "name": "stdout",
     "output_type": "stream",
     "text": [
      "tmp.yaml written\n"
     ]
    }
   ],
   "source": [
    "import tmp_py_function"
   ]
  },
  {
   "cell_type": "code",
   "execution_count": 13,
   "metadata": {
    "id": "08893e0a966a4a8d8524f15df86e66b3",
    "tags": []
   },
   "outputs": [
    {
     "data": {
      "text/plain": [
       "(ibm_watson_machine_learning.client.APIClient, '1.0.173')"
      ]
     },
     "execution_count": 13,
     "metadata": {},
     "output_type": "execute_result"
    }
   ],
   "source": [
    "import os\n",
    "from ibm_watson_machine_learning import APIClient\n",
    "\n",
    "wml_credentials = { \"url\" : os.environ['RUNTIME_ENV_APSX_URL'],        \n",
    "                    \"token\": os.environ['USER_ACCESS_TOKEN'],\n",
    "                    \"instance_id\" : \"openshift\", \n",
    "                    \"version\": \"4.0\"\n",
    "        }\n",
    "\n",
    "wml_client = APIClient(wml_credentials)\n",
    "    \n",
    "type(wml_client), wml_client.version"
   ]
  },
  {
   "cell_type": "code",
   "execution_count": 14,
   "metadata": {
    "id": "ddab53eeb078412389a96401c5319b9d",
    "tags": []
   },
   "outputs": [
    {
     "data": {
      "text/plain": [
       "'SUCCESS'"
      ]
     },
     "execution_count": 14,
     "metadata": {},
     "output_type": "execute_result"
    }
   ],
   "source": [
    "# Connect to current WStudio project\n",
    "wml_client.set.default_project(os.environ['PROJECT_ID'])\n",
    "# should return 'SUCCESS'"
   ]
  },
  {
   "cell_type": "code",
   "execution_count": 17,
   "metadata": {
    "id": "9b7d50ff0bf345e19047101c95dad5c6",
    "scrolled": true,
    "tags": []
   },
   "outputs": [
    {
     "name": "stdout",
     "output_type": "stream",
     "text": [
      "------------------------------------  -----------------------------------------------------------------------  ------------------------\n",
      "ID                                    NAME                                                                     CREATED\n",
      "e02d8142-d472-4b2f-bd48-34d1f278f5bc  ASB_TEST_Deploy_ds                                                       2022-01-13T19:14:18.478Z\n",
      "08acc5cb-66c3-4aef-a54e-29da16f8c7dc  openscale-express-path-preprod-00000000-0000-0000-0000-1639718812425487  2021-12-17T05:43:27.892Z\n",
      "a5fe8631-b90b-4365-917a-6e173bb2e164  openscale-express-path-00000000-0000-0000-0000-1639718812425487          2021-12-17T05:43:10.158Z\n",
      "b3ddf01f-4587-41be-b190-ee899830b5d3  toy-image-model                                                          2021-11-09T20:30:59.655Z\n",
      "54ac1e3e-cf4b-40d0-b4d9-26c339eddb1c  openscale-express-path-preprod-00000000-0000-0000-0000-000000000000      2021-10-29T20:54:12.711Z\n",
      "7a8e4077-3a02-4752-915f-26ae0d74160a  openscale-express-path-00000000-0000-0000-0000-000000000000              2021-10-29T20:53:54.157Z\n",
      "------------------------------------  -----------------------------------------------------------------------  ------------------------\n"
     ]
    }
   ],
   "source": [
    "wml_client.spaces.list(limit=30)"
   ]
  },
  {
   "cell_type": "code",
   "execution_count": 18,
   "metadata": {
    "id": "17c92907d1824c9781b6abef35a76bfa",
    "tags": []
   },
   "outputs": [
    {
     "name": "stdout",
     "output_type": "stream",
     "text": [
      "Unsetting the project_id ...\n"
     ]
    },
    {
     "data": {
      "text/plain": [
       "'SUCCESS'"
      ]
     },
     "execution_count": 18,
     "metadata": {},
     "output_type": "execute_result"
    }
   ],
   "source": [
    "space_id = \"e02d8142-d472-4b2f-bd48-34d1f278f5bc\"\n",
    "wml_client.set.default_space(space_id)"
   ]
  },
  {
   "cell_type": "code",
   "execution_count": 19,
   "metadata": {
    "id": "f18da023591441878ba88caefed944bf",
    "tags": []
   },
   "outputs": [
    {
     "data": {
      "text/plain": [
       "'e02d8142-d472-4b2f-bd48-34d1f278f5bc'"
      ]
     },
     "execution_count": 19,
     "metadata": {},
     "output_type": "execute_result"
    }
   ],
   "source": [
    "space_id"
   ]
  },
  {
   "cell_type": "code",
   "execution_count": null,
   "metadata": {
    "id": "e3e3e054-7cb0-44d0-8b8c-0b102562a932"
   },
   "outputs": [],
   "source": []
  },
  {
   "cell_type": "code",
   "execution_count": 20,
   "metadata": {
    "id": "79ebfbfdc2f44ee98b49a191560c5e49",
    "tags": []
   },
   "outputs": [],
   "source": [
    "# copied from wml utilities\n",
    "def wml_util__store_python_function_file( wml_client, file_name, name,sw_spec_name=None) :\n",
    "    import sys\n",
    "    if not sw_spec_name :\n",
    "        py_version = sys.version[:3]   # 3.8 or 3.7\n",
    "        if py_version == \"3.7\":\n",
    "            sw_spec_name=\"default_py\"+py_version+\"_opence\"\n",
    "        else :\n",
    "            sw_spec_name=\"default_py\"+py_version \n",
    "    #\n",
    "    sw_spec_id = wml_client.software_specifications.get_uid_by_name(sw_spec_name)\n",
    "    print(\"sw_spec\",sw_spec_name,sw_spec_id)\n",
    "    assert(sw_spec_id and sw_spec_id != \"Not Found\")\n",
    "    meta_props = {\n",
    "        wml_client.repository.FunctionMetaNames.NAME: name,\n",
    "        wml_client.repository.FunctionMetaNames.SOFTWARE_SPEC_UID : sw_spec_id\n",
    "    }\n",
    "    assert isinstance(file_name,str) , \"function_name must be name of the .py file, not the Python function object\"\n",
    "    import gzip\n",
    "    with open(file_name, 'rb') as orig_file:\n",
    "        with gzip.open(file_name+\".gz\", 'wb') as zipped_file:\n",
    "            zipped_file.writelines(orig_file)\n",
    "        \n",
    "    function_artefact = wml_client.repository.store_function(meta_props=meta_props, function=file_name+\".gz\")\n",
    "    function_uid = wml_client.repository.get_function_uid(function_artefact)\n",
    "    # print(\"Stored Function UID = \" + function_uid)\n",
    "    return function_uid"
   ]
  },
  {
   "cell_type": "code",
   "execution_count": null,
   "metadata": {
    "id": "a2a23782-9ed7-40cd-bb19-a3f1198bdc76"
   },
   "outputs": [],
   "source": []
  },
  {
   "cell_type": "code",
   "execution_count": 34,
   "metadata": {
    "id": "770df34e-cde5-4732-8038-5c75d94544ca",
    "tags": []
   },
   "outputs": [
    {
     "name": "stderr",
     "output_type": "stream",
     "text": [
      "Failure during list sw_specs. (GET https://internal-nginx-svc:12443/v2/software_specifications?version=2021-06-24&space_id=e02d8142-d472-4b2f-bd48-34d1f278f5bc&userfs=true)\n",
      "Status code: 500, body: {\"trace\":\"4b3324de-a2db-43dc-bfbb-e712cd3e35e3\",\"errors\":[{\"code\":\"invalid_response\",\"message\":\"Invalid error response for search software specification asset. Details: {\\\"code\\\":400,\\\"error\\\":\\\"Bad Request\\\",\\\"reason\\\":\\\"Required request parameters missing\\\",\\\"message\\\":\\\"The server cannot or will not process the request due to an apparent client error (e.g. malformed request syntax).\\\"}\"}]}\n"
     ]
    },
    {
     "ename": "ApiRequestFailure",
     "evalue": "Failure during list sw_specs. (GET https://internal-nginx-svc:12443/v2/software_specifications?version=2021-06-24&space_id=e02d8142-d472-4b2f-bd48-34d1f278f5bc&userfs=true)\nStatus code: 500, body: {\"trace\":\"4b3324de-a2db-43dc-bfbb-e712cd3e35e3\",\"errors\":[{\"code\":\"invalid_response\",\"message\":\"Invalid error response for search software specification asset. Details: {\\\"code\\\":400,\\\"error\\\":\\\"Bad Request\\\",\\\"reason\\\":\\\"Required request parameters missing\\\",\\\"message\\\":\\\"The server cannot or will not process the request due to an apparent client error (e.g. malformed request syntax).\\\"}\"}]}",
     "output_type": "error",
     "traceback": [
      "\u001b[0;31m---------------------------------------------------------------------------\u001b[0m",
      "\u001b[0;31mApiRequestFailure\u001b[0m                         Traceback (most recent call last)",
      "\u001b[0;32m<ipython-input-34-60f7968603f1>\u001b[0m in \u001b[0;36m<module>\u001b[0;34m\u001b[0m\n\u001b[0;32m----> 1\u001b[0;31m \u001b[0mwml_client\u001b[0m\u001b[0;34m.\u001b[0m\u001b[0msoftware_specifications\u001b[0m\u001b[0;34m.\u001b[0m\u001b[0mlist\u001b[0m\u001b[0;34m(\u001b[0m\u001b[0;34m)\u001b[0m\u001b[0;34m\u001b[0m\u001b[0;34m\u001b[0m\u001b[0m\n\u001b[0m",
      "\u001b[0;32m/opt/conda/envs/Python-3.7-OpenCE/lib/python3.7/site-packages/ibm_watson_machine_learning/sw_spec.py\u001b[0m in \u001b[0;36mlist\u001b[0;34m(self, limit)\u001b[0m\n\u001b[1;32m    222\u001b[0m             \u001b[0;32melse\u001b[0m\u001b[0;34m:\u001b[0m\u001b[0;34m\u001b[0m\u001b[0;34m\u001b[0m\u001b[0m\n\u001b[1;32m    223\u001b[0m                 \u001b[0mresponse\u001b[0m \u001b[0;34m=\u001b[0m \u001b[0mrequests\u001b[0m\u001b[0;34m.\u001b[0m\u001b[0mget\u001b[0m\u001b[0;34m(\u001b[0m\u001b[0mhref\u001b[0m\u001b[0;34m,\u001b[0m \u001b[0mparams\u001b[0m\u001b[0;34m=\u001b[0m\u001b[0mself\u001b[0m\u001b[0;34m.\u001b[0m\u001b[0m_client\u001b[0m\u001b[0;34m.\u001b[0m\u001b[0m_params\u001b[0m\u001b[0;34m(\u001b[0m\u001b[0;34m)\u001b[0m\u001b[0;34m,\u001b[0m \u001b[0mheaders\u001b[0m\u001b[0;34m=\u001b[0m\u001b[0mself\u001b[0m\u001b[0;34m.\u001b[0m\u001b[0m_client\u001b[0m\u001b[0;34m.\u001b[0m\u001b[0m_get_headers\u001b[0m\u001b[0;34m(\u001b[0m\u001b[0;34m)\u001b[0m\u001b[0;34m,\u001b[0m \u001b[0mverify\u001b[0m\u001b[0;34m=\u001b[0m\u001b[0;32mFalse\u001b[0m\u001b[0;34m)\u001b[0m\u001b[0;34m\u001b[0m\u001b[0;34m\u001b[0m\u001b[0m\n\u001b[0;32m--> 224\u001b[0;31m             \u001b[0mself\u001b[0m\u001b[0;34m.\u001b[0m\u001b[0m_handle_response\u001b[0m\u001b[0;34m(\u001b[0m\u001b[0;36m200\u001b[0m\u001b[0;34m,\u001b[0m \u001b[0;34mu'list sw_specs'\u001b[0m\u001b[0;34m,\u001b[0m \u001b[0mresponse\u001b[0m\u001b[0;34m)\u001b[0m\u001b[0;34m\u001b[0m\u001b[0;34m\u001b[0m\u001b[0m\n\u001b[0m\u001b[1;32m    225\u001b[0m             \u001b[0masset_details\u001b[0m \u001b[0;34m=\u001b[0m \u001b[0mself\u001b[0m\u001b[0;34m.\u001b[0m\u001b[0m_handle_response\u001b[0m\u001b[0;34m(\u001b[0m\u001b[0;36m200\u001b[0m\u001b[0;34m,\u001b[0m \u001b[0;34mu'list assets'\u001b[0m\u001b[0;34m,\u001b[0m \u001b[0mresponse\u001b[0m\u001b[0;34m)\u001b[0m\u001b[0;34m[\u001b[0m\u001b[0;34m\"resources\"\u001b[0m\u001b[0;34m]\u001b[0m\u001b[0;34m\u001b[0m\u001b[0;34m\u001b[0m\u001b[0m\n\u001b[1;32m    226\u001b[0m             sw_spec_values = [\n",
      "\u001b[0;32m/opt/conda/envs/Python-3.7-OpenCE/lib/python3.7/site-packages/ibm_watson_machine_learning/wml_resource.py\u001b[0m in \u001b[0;36m_handle_response\u001b[0;34m(self, expected_status_code, operationName, response, json_response)\u001b[0m\n\u001b[1;32m     71\u001b[0m                 \u001b[0;32mreturn\u001b[0m \u001b[0mresponse\u001b[0m\u001b[0;34m.\u001b[0m\u001b[0mtext\u001b[0m\u001b[0;34m\u001b[0m\u001b[0;34m\u001b[0m\u001b[0m\n\u001b[1;32m     72\u001b[0m         \u001b[0;32melse\u001b[0m\u001b[0;34m:\u001b[0m\u001b[0;34m\u001b[0m\u001b[0;34m\u001b[0m\u001b[0m\n\u001b[0;32m---> 73\u001b[0;31m             \u001b[0;32mraise\u001b[0m \u001b[0mApiRequestFailure\u001b[0m\u001b[0;34m(\u001b[0m\u001b[0;34mu'Failure during {}.'\u001b[0m\u001b[0;34m.\u001b[0m\u001b[0mformat\u001b[0m\u001b[0;34m(\u001b[0m\u001b[0moperationName\u001b[0m\u001b[0;34m)\u001b[0m\u001b[0;34m,\u001b[0m \u001b[0mresponse\u001b[0m\u001b[0;34m)\u001b[0m\u001b[0;34m\u001b[0m\u001b[0;34m\u001b[0m\u001b[0m\n\u001b[0m\u001b[1;32m     74\u001b[0m \u001b[0;34m\u001b[0m\u001b[0m\n\u001b[1;32m     75\u001b[0m     \u001b[0;34m@\u001b[0m\u001b[0mstaticmethod\u001b[0m\u001b[0;34m\u001b[0m\u001b[0;34m\u001b[0m\u001b[0m\n",
      "\u001b[0;31mApiRequestFailure\u001b[0m: Failure during list sw_specs. (GET https://internal-nginx-svc:12443/v2/software_specifications?version=2021-06-24&space_id=e02d8142-d472-4b2f-bd48-34d1f278f5bc&userfs=true)\nStatus code: 500, body: {\"trace\":\"4b3324de-a2db-43dc-bfbb-e712cd3e35e3\",\"errors\":[{\"code\":\"invalid_response\",\"message\":\"Invalid error response for search software specification asset. Details: {\\\"code\\\":400,\\\"error\\\":\\\"Bad Request\\\",\\\"reason\\\":\\\"Required request parameters missing\\\",\\\"message\\\":\\\"The server cannot or will not process the request due to an apparent client error (e.g. malformed request syntax).\\\"}\"}]}"
     ]
    }
   ],
   "source": [
    "wml_client.software_specifications.list()"
   ]
  },
  {
   "cell_type": "code",
   "execution_count": 35,
   "metadata": {
    "id": "7ce25186c66d4c6895998d6a06d388b7",
    "tags": []
   },
   "outputs": [
    {
     "name": "stderr",
     "output_type": "stream",
     "text": [
      "Failure during list assets. (GET https://internal-nginx-svc:12443/v2/software_specifications?version=2021-06-24&space_id=e02d8142-d472-4b2f-bd48-34d1f278f5bc&userfs=true&name=default_py3.7)\n",
      "Status code: 500, body: {\"trace\":\"e18b8bea-8842-4e7f-9864-0287175b1f6e\",\"errors\":[{\"code\":\"invalid_response\",\"message\":\"Invalid error response for search software specification asset. Details: {\\\"code\\\":400,\\\"error\\\":\\\"Bad Request\\\",\\\"reason\\\":\\\"Required request parameters missing\\\",\\\"message\\\":\\\"The server cannot or will not process the request due to an apparent client error (e.g. malformed request syntax).\\\"}\"}]}\n"
     ]
    },
    {
     "ename": "ApiRequestFailure",
     "evalue": "Failure during list assets. (GET https://internal-nginx-svc:12443/v2/software_specifications?version=2021-06-24&space_id=e02d8142-d472-4b2f-bd48-34d1f278f5bc&userfs=true&name=default_py3.7)\nStatus code: 500, body: {\"trace\":\"e18b8bea-8842-4e7f-9864-0287175b1f6e\",\"errors\":[{\"code\":\"invalid_response\",\"message\":\"Invalid error response for search software specification asset. Details: {\\\"code\\\":400,\\\"error\\\":\\\"Bad Request\\\",\\\"reason\\\":\\\"Required request parameters missing\\\",\\\"message\\\":\\\"The server cannot or will not process the request due to an apparent client error (e.g. malformed request syntax).\\\"}\"}]}",
     "output_type": "error",
     "traceback": [
      "\u001b[0;31m---------------------------------------------------------------------------\u001b[0m",
      "\u001b[0;31mApiRequestFailure\u001b[0m                         Traceback (most recent call last)",
      "\u001b[0;32m<ipython-input-35-157efaa35552>\u001b[0m in \u001b[0;36m<module>\u001b[0;34m\u001b[0m\n\u001b[1;32m      1\u001b[0m \u001b[0;31m# specify the software specification for the model\u001b[0m\u001b[0;34m\u001b[0m\u001b[0;34m\u001b[0m\u001b[0;34m\u001b[0m\u001b[0m\n\u001b[0;32m----> 2\u001b[0;31m \u001b[0msw_spec_id\u001b[0m \u001b[0;34m=\u001b[0m \u001b[0mwml_client\u001b[0m\u001b[0;34m.\u001b[0m\u001b[0msoftware_specifications\u001b[0m\u001b[0;34m.\u001b[0m\u001b[0mget_id_by_name\u001b[0m\u001b[0;34m(\u001b[0m\u001b[0;34m'default_py3.7'\u001b[0m\u001b[0;34m)\u001b[0m\u001b[0;34m\u001b[0m\u001b[0;34m\u001b[0m\u001b[0m\n\u001b[0m\u001b[1;32m      3\u001b[0m \u001b[0msw_spec_id\u001b[0m\u001b[0;34m\u001b[0m\u001b[0;34m\u001b[0m\u001b[0m\n",
      "\u001b[0;32m/opt/conda/envs/Python-3.7-OpenCE/lib/python3.7/site-packages/ibm_watson_machine_learning/sw_spec.py\u001b[0m in \u001b[0;36mget_id_by_name\u001b[0;34m(self, sw_spec_name)\u001b[0m\n\u001b[1;32m    322\u001b[0m         \"\"\"\n\u001b[1;32m    323\u001b[0m \u001b[0;34m\u001b[0m\u001b[0m\n\u001b[0;32m--> 324\u001b[0;31m         \u001b[0;32mreturn\u001b[0m \u001b[0mSwSpec\u001b[0m\u001b[0;34m.\u001b[0m\u001b[0mget_uid_by_name\u001b[0m\u001b[0;34m(\u001b[0m\u001b[0mself\u001b[0m\u001b[0;34m,\u001b[0m \u001b[0msw_spec_name\u001b[0m\u001b[0;34m)\u001b[0m\u001b[0;34m\u001b[0m\u001b[0;34m\u001b[0m\u001b[0m\n\u001b[0m\u001b[1;32m    325\u001b[0m \u001b[0;34m\u001b[0m\u001b[0m\n\u001b[1;32m    326\u001b[0m     \u001b[0;34m@\u001b[0m\u001b[0mdocstring_parameter\u001b[0m\u001b[0;34m(\u001b[0m\u001b[0;34m{\u001b[0m\u001b[0;34m'str_type'\u001b[0m\u001b[0;34m:\u001b[0m \u001b[0mSTR_TYPE_NAME\u001b[0m\u001b[0;34m}\u001b[0m\u001b[0;34m)\u001b[0m\u001b[0;34m\u001b[0m\u001b[0;34m\u001b[0m\u001b[0m\n",
      "\u001b[0;32m/opt/conda/envs/Python-3.7-OpenCE/lib/python3.7/site-packages/ibm_watson_machine_learning/sw_spec.py\u001b[0m in \u001b[0;36mget_uid_by_name\u001b[0;34m(self, sw_spec_name)\u001b[0m\n\u001b[1;32m    364\u001b[0m                                         headers=self._client._get_headers(), verify=False)\n\u001b[1;32m    365\u001b[0m \u001b[0;34m\u001b[0m\u001b[0m\n\u001b[0;32m--> 366\u001b[0;31m             \u001b[0mtotal_values\u001b[0m \u001b[0;34m=\u001b[0m \u001b[0mself\u001b[0m\u001b[0;34m.\u001b[0m\u001b[0m_handle_response\u001b[0m\u001b[0;34m(\u001b[0m\u001b[0;36m200\u001b[0m\u001b[0;34m,\u001b[0m \u001b[0;34mu'list assets'\u001b[0m\u001b[0;34m,\u001b[0m \u001b[0mresponse\u001b[0m\u001b[0;34m)\u001b[0m\u001b[0;34m[\u001b[0m\u001b[0;34m\"total_results\"\u001b[0m\u001b[0;34m]\u001b[0m\u001b[0;34m\u001b[0m\u001b[0;34m\u001b[0m\u001b[0m\n\u001b[0m\u001b[1;32m    367\u001b[0m             \u001b[0;32mif\u001b[0m \u001b[0mtotal_values\u001b[0m \u001b[0;34m!=\u001b[0m \u001b[0;36m0\u001b[0m\u001b[0;34m:\u001b[0m\u001b[0;34m\u001b[0m\u001b[0;34m\u001b[0m\u001b[0m\n\u001b[1;32m    368\u001b[0m                 \u001b[0msw_spec_details\u001b[0m \u001b[0;34m=\u001b[0m \u001b[0mself\u001b[0m\u001b[0;34m.\u001b[0m\u001b[0m_handle_response\u001b[0m\u001b[0;34m(\u001b[0m\u001b[0;36m200\u001b[0m\u001b[0;34m,\u001b[0m \u001b[0;34mu'list assets'\u001b[0m\u001b[0;34m,\u001b[0m \u001b[0mresponse\u001b[0m\u001b[0;34m)\u001b[0m\u001b[0;34m[\u001b[0m\u001b[0;34m\"resources\"\u001b[0m\u001b[0;34m]\u001b[0m\u001b[0;34m\u001b[0m\u001b[0;34m\u001b[0m\u001b[0m\n",
      "\u001b[0;32m/opt/conda/envs/Python-3.7-OpenCE/lib/python3.7/site-packages/ibm_watson_machine_learning/wml_resource.py\u001b[0m in \u001b[0;36m_handle_response\u001b[0;34m(self, expected_status_code, operationName, response, json_response)\u001b[0m\n\u001b[1;32m     71\u001b[0m                 \u001b[0;32mreturn\u001b[0m \u001b[0mresponse\u001b[0m\u001b[0;34m.\u001b[0m\u001b[0mtext\u001b[0m\u001b[0;34m\u001b[0m\u001b[0;34m\u001b[0m\u001b[0m\n\u001b[1;32m     72\u001b[0m         \u001b[0;32melse\u001b[0m\u001b[0;34m:\u001b[0m\u001b[0;34m\u001b[0m\u001b[0;34m\u001b[0m\u001b[0m\n\u001b[0;32m---> 73\u001b[0;31m             \u001b[0;32mraise\u001b[0m \u001b[0mApiRequestFailure\u001b[0m\u001b[0;34m(\u001b[0m\u001b[0;34mu'Failure during {}.'\u001b[0m\u001b[0;34m.\u001b[0m\u001b[0mformat\u001b[0m\u001b[0;34m(\u001b[0m\u001b[0moperationName\u001b[0m\u001b[0;34m)\u001b[0m\u001b[0;34m,\u001b[0m \u001b[0mresponse\u001b[0m\u001b[0;34m)\u001b[0m\u001b[0;34m\u001b[0m\u001b[0;34m\u001b[0m\u001b[0m\n\u001b[0m\u001b[1;32m     74\u001b[0m \u001b[0;34m\u001b[0m\u001b[0m\n\u001b[1;32m     75\u001b[0m     \u001b[0;34m@\u001b[0m\u001b[0mstaticmethod\u001b[0m\u001b[0;34m\u001b[0m\u001b[0;34m\u001b[0m\u001b[0m\n",
      "\u001b[0;31mApiRequestFailure\u001b[0m: Failure during list assets. (GET https://internal-nginx-svc:12443/v2/software_specifications?version=2021-06-24&space_id=e02d8142-d472-4b2f-bd48-34d1f278f5bc&userfs=true&name=default_py3.7)\nStatus code: 500, body: {\"trace\":\"e18b8bea-8842-4e7f-9864-0287175b1f6e\",\"errors\":[{\"code\":\"invalid_response\",\"message\":\"Invalid error response for search software specification asset. Details: {\\\"code\\\":400,\\\"error\\\":\\\"Bad Request\\\",\\\"reason\\\":\\\"Required request parameters missing\\\",\\\"message\\\":\\\"The server cannot or will not process the request due to an apparent client error (e.g. malformed request syntax).\\\"}\"}]}"
     ]
    }
   ],
   "source": [
    "# specify the software specification for the model\n",
    "sw_spec_id = wml_client.software_specifications.get_id_by_name('default_py3.7')\n",
    "sw_spec_id"
   ]
  },
  {
   "cell_type": "code",
   "execution_count": 21,
   "metadata": {
    "id": "0c03b419517d43118c05693a022c57dd",
    "tags": []
   },
   "outputs": [
    {
     "name": "stderr",
     "output_type": "stream",
     "text": [
      "Failure during list assets. (GET https://internal-nginx-svc:12443/v2/software_specifications?version=2021-06-24&space_id=e02d8142-d472-4b2f-bd48-34d1f278f5bc&userfs=true&name=default_py3.7_opence)\n",
      "Status code: 500, body: {\"trace\":\"a2a12a34-aa6d-4ceb-8795-44e6780df7a4\",\"errors\":[{\"code\":\"invalid_response\",\"message\":\"Invalid error response for search software specification asset. Details: {\\\"code\\\":400,\\\"error\\\":\\\"Bad Request\\\",\\\"reason\\\":\\\"Required request parameters missing\\\",\\\"message\\\":\\\"The server cannot or will not process the request due to an apparent client error (e.g. malformed request syntax).\\\"}\"}]}\n"
     ]
    },
    {
     "ename": "ApiRequestFailure",
     "evalue": "Failure during list assets. (GET https://internal-nginx-svc:12443/v2/software_specifications?version=2021-06-24&space_id=e02d8142-d472-4b2f-bd48-34d1f278f5bc&userfs=true&name=default_py3.7_opence)\nStatus code: 500, body: {\"trace\":\"a2a12a34-aa6d-4ceb-8795-44e6780df7a4\",\"errors\":[{\"code\":\"invalid_response\",\"message\":\"Invalid error response for search software specification asset. Details: {\\\"code\\\":400,\\\"error\\\":\\\"Bad Request\\\",\\\"reason\\\":\\\"Required request parameters missing\\\",\\\"message\\\":\\\"The server cannot or will not process the request due to an apparent client error (e.g. malformed request syntax).\\\"}\"}]}",
     "output_type": "error",
     "traceback": [
      "\u001b[0;31m---------------------------------------------------------------------------\u001b[0m",
      "\u001b[0;31mApiRequestFailure\u001b[0m                         Traceback (most recent call last)",
      "\u001b[0;32m<ipython-input-21-3866c20afa5d>\u001b[0m in \u001b[0;36m<module>\u001b[0;34m\u001b[0m\n\u001b[0;32m----> 1\u001b[0;31m \u001b[0mmy_wml_function\u001b[0m \u001b[0;34m=\u001b[0m \u001b[0mwml_util__store_python_function_file\u001b[0m\u001b[0;34m(\u001b[0m\u001b[0mwml_client\u001b[0m\u001b[0;34m,\u001b[0m\u001b[0;34m\"tmp_py_function.py\"\u001b[0m\u001b[0;34m,\u001b[0m\u001b[0;34m\"tmp_py_function\"\u001b[0m\u001b[0;34m)\u001b[0m\u001b[0;34m\u001b[0m\u001b[0;34m\u001b[0m\u001b[0m\n\u001b[0m",
      "\u001b[0;32m<ipython-input-20-cf035c637243>\u001b[0m in \u001b[0;36mwml_util__store_python_function_file\u001b[0;34m(wml_client, file_name, name, sw_spec_name)\u001b[0m\n\u001b[1;32m      9\u001b[0m             \u001b[0msw_spec_name\u001b[0m\u001b[0;34m=\u001b[0m\u001b[0;34m\"default_py\"\u001b[0m\u001b[0;34m+\u001b[0m\u001b[0mpy_version\u001b[0m\u001b[0;34m\u001b[0m\u001b[0;34m\u001b[0m\u001b[0m\n\u001b[1;32m     10\u001b[0m     \u001b[0;31m#\u001b[0m\u001b[0;34m\u001b[0m\u001b[0;34m\u001b[0m\u001b[0;34m\u001b[0m\u001b[0m\n\u001b[0;32m---> 11\u001b[0;31m     \u001b[0msw_spec_id\u001b[0m \u001b[0;34m=\u001b[0m \u001b[0mwml_client\u001b[0m\u001b[0;34m.\u001b[0m\u001b[0msoftware_specifications\u001b[0m\u001b[0;34m.\u001b[0m\u001b[0mget_uid_by_name\u001b[0m\u001b[0;34m(\u001b[0m\u001b[0msw_spec_name\u001b[0m\u001b[0;34m)\u001b[0m\u001b[0;34m\u001b[0m\u001b[0;34m\u001b[0m\u001b[0m\n\u001b[0m\u001b[1;32m     12\u001b[0m     \u001b[0mprint\u001b[0m\u001b[0;34m(\u001b[0m\u001b[0;34m\"sw_spec\"\u001b[0m\u001b[0;34m,\u001b[0m\u001b[0msw_spec_name\u001b[0m\u001b[0;34m,\u001b[0m\u001b[0msw_spec_id\u001b[0m\u001b[0;34m)\u001b[0m\u001b[0;34m\u001b[0m\u001b[0;34m\u001b[0m\u001b[0m\n\u001b[1;32m     13\u001b[0m     \u001b[0;32massert\u001b[0m\u001b[0;34m(\u001b[0m\u001b[0msw_spec_id\u001b[0m \u001b[0;32mand\u001b[0m \u001b[0msw_spec_id\u001b[0m \u001b[0;34m!=\u001b[0m \u001b[0;34m\"Not Found\"\u001b[0m\u001b[0;34m)\u001b[0m\u001b[0;34m\u001b[0m\u001b[0;34m\u001b[0m\u001b[0m\n",
      "\u001b[0;32m/opt/conda/envs/Python-3.7-OpenCE/lib/python3.7/site-packages/ibm_watson_machine_learning/sw_spec.py\u001b[0m in \u001b[0;36mget_uid_by_name\u001b[0;34m(self, sw_spec_name)\u001b[0m\n\u001b[1;32m    364\u001b[0m                                         headers=self._client._get_headers(), verify=False)\n\u001b[1;32m    365\u001b[0m \u001b[0;34m\u001b[0m\u001b[0m\n\u001b[0;32m--> 366\u001b[0;31m             \u001b[0mtotal_values\u001b[0m \u001b[0;34m=\u001b[0m \u001b[0mself\u001b[0m\u001b[0;34m.\u001b[0m\u001b[0m_handle_response\u001b[0m\u001b[0;34m(\u001b[0m\u001b[0;36m200\u001b[0m\u001b[0;34m,\u001b[0m \u001b[0;34mu'list assets'\u001b[0m\u001b[0;34m,\u001b[0m \u001b[0mresponse\u001b[0m\u001b[0;34m)\u001b[0m\u001b[0;34m[\u001b[0m\u001b[0;34m\"total_results\"\u001b[0m\u001b[0;34m]\u001b[0m\u001b[0;34m\u001b[0m\u001b[0;34m\u001b[0m\u001b[0m\n\u001b[0m\u001b[1;32m    367\u001b[0m             \u001b[0;32mif\u001b[0m \u001b[0mtotal_values\u001b[0m \u001b[0;34m!=\u001b[0m \u001b[0;36m0\u001b[0m\u001b[0;34m:\u001b[0m\u001b[0;34m\u001b[0m\u001b[0;34m\u001b[0m\u001b[0m\n\u001b[1;32m    368\u001b[0m                 \u001b[0msw_spec_details\u001b[0m \u001b[0;34m=\u001b[0m \u001b[0mself\u001b[0m\u001b[0;34m.\u001b[0m\u001b[0m_handle_response\u001b[0m\u001b[0;34m(\u001b[0m\u001b[0;36m200\u001b[0m\u001b[0;34m,\u001b[0m \u001b[0;34mu'list assets'\u001b[0m\u001b[0;34m,\u001b[0m \u001b[0mresponse\u001b[0m\u001b[0;34m)\u001b[0m\u001b[0;34m[\u001b[0m\u001b[0;34m\"resources\"\u001b[0m\u001b[0;34m]\u001b[0m\u001b[0;34m\u001b[0m\u001b[0;34m\u001b[0m\u001b[0m\n",
      "\u001b[0;32m/opt/conda/envs/Python-3.7-OpenCE/lib/python3.7/site-packages/ibm_watson_machine_learning/wml_resource.py\u001b[0m in \u001b[0;36m_handle_response\u001b[0;34m(self, expected_status_code, operationName, response, json_response)\u001b[0m\n\u001b[1;32m     71\u001b[0m                 \u001b[0;32mreturn\u001b[0m \u001b[0mresponse\u001b[0m\u001b[0;34m.\u001b[0m\u001b[0mtext\u001b[0m\u001b[0;34m\u001b[0m\u001b[0;34m\u001b[0m\u001b[0m\n\u001b[1;32m     72\u001b[0m         \u001b[0;32melse\u001b[0m\u001b[0;34m:\u001b[0m\u001b[0;34m\u001b[0m\u001b[0;34m\u001b[0m\u001b[0m\n\u001b[0;32m---> 73\u001b[0;31m             \u001b[0;32mraise\u001b[0m \u001b[0mApiRequestFailure\u001b[0m\u001b[0;34m(\u001b[0m\u001b[0;34mu'Failure during {}.'\u001b[0m\u001b[0;34m.\u001b[0m\u001b[0mformat\u001b[0m\u001b[0;34m(\u001b[0m\u001b[0moperationName\u001b[0m\u001b[0;34m)\u001b[0m\u001b[0;34m,\u001b[0m \u001b[0mresponse\u001b[0m\u001b[0;34m)\u001b[0m\u001b[0;34m\u001b[0m\u001b[0;34m\u001b[0m\u001b[0m\n\u001b[0m\u001b[1;32m     74\u001b[0m \u001b[0;34m\u001b[0m\u001b[0m\n\u001b[1;32m     75\u001b[0m     \u001b[0;34m@\u001b[0m\u001b[0mstaticmethod\u001b[0m\u001b[0;34m\u001b[0m\u001b[0;34m\u001b[0m\u001b[0m\n",
      "\u001b[0;31mApiRequestFailure\u001b[0m: Failure during list assets. (GET https://internal-nginx-svc:12443/v2/software_specifications?version=2021-06-24&space_id=e02d8142-d472-4b2f-bd48-34d1f278f5bc&userfs=true&name=default_py3.7_opence)\nStatus code: 500, body: {\"trace\":\"a2a12a34-aa6d-4ceb-8795-44e6780df7a4\",\"errors\":[{\"code\":\"invalid_response\",\"message\":\"Invalid error response for search software specification asset. Details: {\\\"code\\\":400,\\\"error\\\":\\\"Bad Request\\\",\\\"reason\\\":\\\"Required request parameters missing\\\",\\\"message\\\":\\\"The server cannot or will not process the request due to an apparent client error (e.g. malformed request syntax).\\\"}\"}]}"
     ]
    }
   ],
   "source": [
    "my_wml_function = wml_util__store_python_function_file(wml_client,\"tmp_py_function.py\",\"tmp_py_function\")"
   ]
  },
  {
   "cell_type": "code",
   "execution_count": 22,
   "metadata": {
    "id": "9691a4274af844119937de97bc79cb19",
    "scrolled": true,
    "tags": []
   },
   "outputs": [
    {
     "name": "stdout",
     "output_type": "stream",
     "text": [
      "--  ----  -------  ----\n",
      "ID  NAME  CREATED  TYPE\n",
      "--  ----  -------  ----\n"
     ]
    }
   ],
   "source": [
    "wml_client.repository.list_models()"
   ]
  },
  {
   "cell_type": "markdown",
   "metadata": {
    "id": "3e651b04905849278945c8100e3134da"
   },
   "source": [
    "## Deploy Scaler to space"
   ]
  },
  {
   "cell_type": "code",
   "execution_count": 30,
   "metadata": {
    "id": "a512587c682246699f374333342451dc"
   },
   "outputs": [
    {
     "data": {
      "text/plain": [
       "'85c7da71-360f-45a8-a20f-755641f13335'"
      ]
     },
     "execution_count": 30,
     "metadata": {},
     "output_type": "execute_result"
    }
   ],
   "source": [
    "metadata = {\n",
    "    wml_client.repository.ModelMetaNames.NAME: 'FIRST_DOWN_SCALER',\n",
    "    wml_client.repository.ModelMetaNames.TYPE: \"scikit-learn_0.23\",\n",
    "    wml_client.repository.ModelMetaNames.SOFTWARE_SPEC_UID: sw_spec_id\n",
    "}\n",
    "\n",
    "model_info = wml_client.repository.store_model(scaler,\n",
    "                                               meta_props=metadata,\n",
    "                                               training_data=df_TD.values,\n",
    "                                               training_target=df['TARGET_1ST'].values)\n",
    "\n",
    "model_id = wml_client.repository.get_model_uid(model_info)\n",
    "model_id"
   ]
  },
  {
   "cell_type": "markdown",
   "metadata": {
    "id": "cdcb08918d8945b180e97b4dc348d3c2"
   },
   "source": [
    "## Build Model and Deploy to Space"
   ]
  },
  {
   "cell_type": "code",
   "execution_count": 31,
   "metadata": {
    "id": "6f2687d8-f049-42eb-854f-14365c878780",
    "tags": []
   },
   "outputs": [],
   "source": [
    "from sklearn.model_selection import train_test_split\n",
    "\n",
    "## https://scikit-learn.org/stable/modules/generated/sklearn.model_selection.train_test_split.html\n",
    "\n",
    "#X_1st = df_TD.values ## We are using the same input variables, so the same scaled data will work. Only change is the target and stratification variables.\n",
    "y_1st = df['TARGET_1ST'].values\n",
    "\n",
    "train_X1ST, test_X1ST, train_y1st, test_y1st = train_test_split(XTD_scaled, y_1st, test_size=0.3,stratify=df.STRAT_1ST, random_state=121)"
   ]
  },
  {
   "cell_type": "markdown",
   "metadata": {
    "id": "b84165c08d1141a88d1872b407ef8aca"
   },
   "source": [
    "Import and run the Random Forest Classifier using the parameters established in model development phase."
   ]
  },
  {
   "cell_type": "code",
   "execution_count": 32,
   "metadata": {
    "id": "37e3ec39-58ed-44ef-afcc-09991e2ce1a7",
    "tags": []
   },
   "outputs": [],
   "source": [
    "from sklearn.ensemble import RandomForestClassifier\n",
    "from sklearn.datasets import make_classification\n",
    "\n",
    "clf_1ST = RandomForestClassifier(max_depth=7, random_state=33)\n",
    "clf_1ST.fit(train_X1ST,train_y1st)\n",
    "clf_1ST.score(test_X1ST, test_y1st)"
   ]
  },
  {
   "cell_type": "markdown",
   "metadata": {
    "id": "af01ff5d1b7042a8b108b1f905133220"
   },
   "source": [
    "## Deploy the Model"
   ]
  },
  {
   "cell_type": "code",
   "execution_count": 38,
   "metadata": {
    "id": "bc483ad513d34397810b211a423aaf5c"
   },
   "outputs": [
    {
     "data": {
      "text/plain": [
       "'ddaad323-f7ae-444a-b132-9bbc46b16d83'"
      ]
     },
     "execution_count": 38,
     "metadata": {},
     "output_type": "execute_result"
    }
   ],
   "source": [
    "metadata = {\n",
    "    wml_client.repository.ModelMetaNames.NAME: 'FIRST_DOWN_MODEL',\n",
    "    wml_client.repository.ModelMetaNames.TYPE: \"scikit-learn_0.23\",\n",
    "    wml_client.repository.ModelMetaNames.SOFTWARE_SPEC_UID: sw_spec_id\n",
    "}\n",
    "\n",
    "model_info = wml_client.repository.store_model(clf_1ST,\n",
    "                                               meta_props=metadata,\n",
    "                                               training_data=train_X1ST,\n",
    "                                               training_target=train_y1st)\n",
    "\n",
    "model_id = wml_client.repository.get_model_uid(model_info)\n",
    "model_id"
   ]
  },
  {
   "cell_type": "code",
   "execution_count": 39,
   "metadata": {
    "id": "5134b0616c6f40eb875596cd8018816c",
    "scrolled": true
   },
   "outputs": [
    {
     "name": "stdout",
     "output_type": "stream",
     "text": [
      "------------------------------------  -----------------  ------------------------  -----------------\n",
      "ID                                    NAME               CREATED                   TYPE\n",
      "ddaad323-f7ae-444a-b132-9bbc46b16d83  FIRST_DOWN_MODEL   2022-01-11T23:09:44.002Z  scikit-learn_0.23\n",
      "85c7da71-360f-45a8-a20f-755641f13335  FIRST_DOWN_SCALER  2022-01-11T22:56:50.002Z  scikit-learn_0.23\n",
      "------------------------------------  -----------------  ------------------------  -----------------\n"
     ]
    }
   ],
   "source": [
    "wml_client.repository.list_models()"
   ]
  },
  {
   "cell_type": "markdown",
   "metadata": {
    "id": "71b4c5847d204524809c72eb227b5358"
   },
   "source": [
    "## Create Function to Transform and Score the Data"
   ]
  },
  {
   "cell_type": "code",
   "execution_count": 216,
   "metadata": {
    "id": "d97c4a3c7b204fa691f4e6c2a454fc94"
   },
   "outputs": [],
   "source": [
    "def data_process(url=os.environ['RUNTIME_ENV_APSX_URL'],project_id=os.environ['PROJECT_ID'], space_id=space_id, token=os.environ['USER_ACCESS_TOKEN'], payload=payload): #os.environ['SPACE_ID']):\n",
    "    # May be needed for above definition: token=os.environ['USER_ACCESS_TOKEN'],\n",
    "    # keep all function arguments in one line to avoid \n",
    "    \n",
    "    import pandas as pd\n",
    "    import numpy as np\n",
    "    from sklearn.model_selection import RepeatedStratifiedKFold\n",
    "    from sklearn.ensemble import RandomForestClassifier\n",
    "    from sklearn.datasets import make_classification\n",
    "    import json\n",
    "       \n",
    "    # Load model from the deployment space\n",
    "    from ibm_watson_machine_learning import APIClient\n",
    "    import os\n",
    "    \n",
    "    wml_credentials = { \"url\" : os.environ['RUNTIME_ENV_APSX_URL'],        \n",
    "                    \"token\": os.environ['USER_ACCESS_TOKEN'],\n",
    "                    \"instance_id\" : \"openshift\", \n",
    "                    \"version\": \"4.0\"\n",
    "        }      \n",
    "\n",
    "    #NOTE: _fn to refer to the wml_client instance running inside the functiopn\n",
    "    wml_client_fn = APIClient(wml_credentials)\n",
    "\n",
    "    #Space ID taken by pre-running cells above\n",
    "    space_id_fn = '36aa3b6f-2329-4382-aa25-973ccf667470'\n",
    "    wml_client_fn.set.default_space(space_id_fn)\n",
    "\n",
    "    # Load scaler from the deployment space\n",
    "    scaler_obj = wml_client_fn.repository.load('85c7da71-360f-45a8-a20f-755641f13335')\n",
    "    model_obj = wml_client_fn.repository.load('ddaad323-f7ae-444a-b132-9bbc46b16d83')\n",
    "        \n",
    "    def score(payload):   \n",
    "\n",
    "            #Set client to the function space identified above\n",
    "            wml_client_fn.set.default_space('36aa3b6f-2329-4382-aa25-973ccf667470')\n",
    "\n",
    "            outputs =[]\n",
    "            \n",
    "            fields = payload[\"input_data\"][0]['fields']\n",
    "\n",
    "            for i in range(len(payload.get(\"input_data\")[0].get(\"values\"))):\n",
    "                list_of_records = payload.get(\"input_data\")[0].get(\"values\")[i]\n",
    "                list_of_fields = payload.get(\"input_data\")[0].get(\"fields\")    \n",
    "\n",
    "            array_of_records = np.array(list_of_records)\n",
    "            array_of_records = array_of_records.reshape(1,-1)\n",
    "            scaled = scaler_obj.transform(array_of_records)\n",
    "\n",
    "            scored = model_obj.predict(scaled).tolist()[0],model_obj.predict_proba(scaled).tolist()[0]\n",
    "            outputs.append(scored)    \n",
    "            \n",
    "            print(outputs)            \n",
    "            payload_output = {'predictions':[{'fields': ['prediction','probability']},{'values': outputs}]}\n",
    "            \n",
    "\n",
    "            return payload_output\n",
    "\n",
    "    return score"
   ]
  },
  {
   "cell_type": "markdown",
   "metadata": {
    "id": "d45cce83b038412b9ff65f9db0e942f7"
   },
   "source": [
    "### Create data payload to pre-test the function"
   ]
  },
  {
   "cell_type": "code",
   "execution_count": 85,
   "metadata": {
    "id": "8dd65885be5246b3a167fa44489536eb"
   },
   "outputs": [],
   "source": [
    "payload = { \"input_data\": [{ \"fields\": ['HALF', 'DOWNNUM','YARDSTOGO','SCOREDIFF','TIMELEFT','TRUEFIELD',\n",
    "'YARDSGAINED_Mean','AVG_OVER_TOGO','RUN_PASS_RUN','PLAYID_PASS4','PLAYID_PASS5','PLAYID_PASS6','PLAYID_PASS7','PLAYID_PASS8',\n",
    "'PLAYID_PASS9','PLAYID_RUN1','PLAYID_RUN2','PLAYID_RUN3','PLAYID_RUN5','TSHIRT_LONG','TSHIRT_MEDIUM','TSHIRT_SMALL','TSHIRT_XLONG'],\n",
    "                                \"values\": [[1,2,10,-5,470,25,5.277778,0.527,1,1,0,0,0,0,0,0,0,0,0,1,0,0,0]]}]}   "
   ]
  },
  {
   "cell_type": "code",
   "execution_count": 194,
   "metadata": {
    "id": "a7a1e820146a47c99efd4769a431c575"
   },
   "outputs": [
    {
     "name": "stdout",
     "output_type": "stream",
     "text": [
      "{'input_data': [{'fields': ['HALF', 'DOWNNUM', 'YARDSTOGO', 'SCOREDIFF', 'TIMELEFT', 'TRUEFIELD', 'YARDSGAINED_Mean', 'AVG_OVER_TOGO', 'RUN_PASS_RUN', 'PLAYID_PASS4', 'PLAYID_PASS5', 'PLAYID_PASS6', 'PLAYID_PASS7', 'PLAYID_PASS8', 'PLAYID_PASS9', 'PLAYID_RUN1', 'PLAYID_RUN2', 'PLAYID_RUN3', 'PLAYID_RUN5', 'TSHIRT_LONG', 'TSHIRT_MEDIUM', 'TSHIRT_SMALL', 'TSHIRT_XLONG'], 'values': [[1, 2, 10, -5, 470, 25, 5.277778, 0.527, 1, 1, 0, 0, 0, 0, 0, 0, 0, 0, 0, 1, 0, 0, 0]]}]}\n"
     ]
    }
   ],
   "source": [
    "print(payload)"
   ]
  },
  {
   "cell_type": "code",
   "execution_count": 217,
   "metadata": {
    "id": "b942fd46133a476a8c40923e800b820d"
   },
   "outputs": [
    {
     "name": "stdout",
     "output_type": "stream",
     "text": [
      "[('N', [0.6091495374437705, 0.3908504625562296])]\n",
      "{'predictions': [{'fields': ['prediction', 'probability']}, {'values': [('N', [0.6091495374437705, 0.3908504625562296])]}]}\n"
     ]
    }
   ],
   "source": [
    "import pandas as pd\n",
    "function_result = data_process()(payload)\n",
    "print(function_result)"
   ]
  },
  {
   "cell_type": "code",
   "execution_count": 176,
   "metadata": {
    "id": "ff27ecb413cb4ffd840ed163121e2178",
    "scrolled": true
   },
   "outputs": [
    {
     "data": {
      "text/plain": [
       "<function __main__.data_process(url='https://internal-nginx-svc:12443', project_id='a56034f5-5534-4da8-894e-4b7363ffa274', space_id='36aa3b6f-2329-4382-aa25-973ccf667470', payload={'input_data': [{'fields': ['HALF', 'DOWNNUM', 'YARDSTOGO', 'SCOREDIFF', 'TIMELEFT', 'TRUEFIELD', 'YARDSGAINED_Mean', 'AVG_OVER_TOGO', 'RUN_PASS_RUN', 'PLAYID_PASS4', 'PLAYID_PASS5', 'PLAYID_PASS6', 'PLAYID_PASS7', 'PLAYID_PASS8', 'PLAYID_PASS9', 'PLAYID_RUN1', 'PLAYID_RUN2', 'PLAYID_RUN3', 'PLAYID_RUN5', 'TSHIRT_LONG', 'TSHIRT_MEDIUM', 'TSHIRT_SMALL', 'TSHIRT_XLONG'], 'values': [[1, 2, 10, -5, 470, 25, 5.277778, 0.527, 1, 1, 0, 0, 0, 0, 0, 0, 0, 0, 0, 1, 0, 0, 0]]}]})>"
      ]
     },
     "execution_count": 176,
     "metadata": {},
     "output_type": "execute_result"
    }
   ],
   "source": [
    "data_process"
   ]
  },
  {
   "cell_type": "markdown",
   "metadata": {
    "id": "c7029d19fc554d968e1717d1026fc926"
   },
   "source": [
    "### Store the function in the Deployment Space"
   ]
  },
  {
   "cell_type": "code",
   "execution_count": 218,
   "metadata": {
    "id": "3ffdb05c272a48ce856a6e4ac3df163e"
   },
   "outputs": [
    {
     "data": {
      "text/plain": [
       "'c2057dd4-f42c-5f77-a02f-72bdbd3282c9'"
      ]
     },
     "execution_count": 218,
     "metadata": {},
     "output_type": "execute_result"
    }
   ],
   "source": [
    "sofware_spec_uid_function = wml_client.software_specifications.get_id_by_name(\"default_py3.7_opence\")\n",
    "sofware_spec_uid_function"
   ]
  },
  {
   "cell_type": "code",
   "execution_count": 219,
   "metadata": {
    "id": "a41b1f2853ee4ded8733d7a8050a1925"
   },
   "outputs": [],
   "source": [
    "function_meta_props = {\n",
    "         wml_client.repository.FunctionMetaNames.NAME: 'data_process',\n",
    "         wml_client.repository.FunctionMetaNames.SOFTWARE_SPEC_ID: sofware_spec_uid_function\n",
    "         }"
   ]
  },
  {
   "cell_type": "code",
   "execution_count": 220,
   "metadata": {
    "id": "24e2183fab6b40cfb212202f18e9a5dc"
   },
   "outputs": [
    {
     "data": {
      "text/plain": [
       "{'name': 'data_process',\n",
       " 'software_spec_id': 'c2057dd4-f42c-5f77-a02f-72bdbd3282c9'}"
      ]
     },
     "execution_count": 220,
     "metadata": {},
     "output_type": "execute_result"
    }
   ],
   "source": [
    "function_meta_props"
   ]
  },
  {
   "cell_type": "code",
   "execution_count": 221,
   "metadata": {
    "id": "2b882d6debe64c078d414d592d809ace"
   },
   "outputs": [],
   "source": [
    "function_artifact = wml_client.repository.store_function(meta_props=function_meta_props, function=data_process)"
   ]
  },
  {
   "cell_type": "markdown",
   "metadata": {
    "id": "f10510b58c044f8185c0f76bdfef6141"
   },
   "source": [
    "Function is now stored and can be called from deployment space."
   ]
  },
  {
   "cell_type": "code",
   "execution_count": 222,
   "metadata": {
    "id": "d58ac01c7bdc43598d107818a834a151"
   },
   "outputs": [
    {
     "name": "stdout",
     "output_type": "stream",
     "text": [
      "------------------------------------  ---------------  ------------------------  ------\n",
      "GUID                                  NAME             CREATED                   TYPE\n",
      "4bda823b-d151-4e5d-81e2-4fa5432e70e4  data_process     2022-01-12T23:11:13.002Z  python\n",
      "b1d1375b-d03a-4bcc-b746-8e1f6693d88a  tmp_py_function  2022-01-11T22:46:34.002Z  python\n",
      "------------------------------------  ---------------  ------------------------  ------\n"
     ]
    }
   ],
   "source": [
    "wml_client.repository.list_functions()"
   ]
  },
  {
   "cell_type": "code",
   "execution_count": 223,
   "metadata": {
    "id": "6561d973530549ba8c137909c293bc6c"
   },
   "outputs": [
    {
     "name": "stdout",
     "output_type": "stream",
     "text": [
      "Function UID = ad1e5f19-d3de-4a60-9ec8-fb17cfb3c820\n"
     ]
    }
   ],
   "source": [
    "function_artifact = wml_client.repository.store_function(meta_props=function_meta_props, function=data_process)\n",
    "function_uid = wml_client.repository.get_function_id(function_artifact)\n",
    "print(\"Function UID = \" + function_uid)"
   ]
  },
  {
   "cell_type": "markdown",
   "metadata": {
    "id": "a3944f905c4946e18b15653fc33d9a5b"
   },
   "source": [
    "## Creating the Deployment"
   ]
  },
  {
   "cell_type": "code",
   "execution_count": 208,
   "metadata": {
    "id": "7f5f1658498e461a92d1c533c38fe504",
    "scrolled": true
   },
   "outputs": [
    {
     "name": "stdout",
     "output_type": "stream",
     "text": [
      "----  ----  -----  -------\n",
      "GUID  NAME  STATE  CREATED\n",
      "----  ----  -----  -------\n"
     ]
    }
   ],
   "source": [
    "wml_client.deployments.list()"
   ]
  },
  {
   "cell_type": "code",
   "execution_count": null,
   "metadata": {
    "id": "17f07c343d834cf0b25ad02c52fa59ec"
   },
   "outputs": [],
   "source": [
    "## Show selection of hardware specifications and tune for job size and priority\n",
    "#wml_client.hardware_specifications.list()"
   ]
  },
  {
   "cell_type": "code",
   "execution_count": 224,
   "metadata": {
    "id": "f9a2f10c3f7c4a9d9ade4549ccf409f0"
   },
   "outputs": [],
   "source": [
    "hardware_spec_id = wml_client.hardware_specifications.get_id_by_name('S')"
   ]
  },
  {
   "cell_type": "code",
   "execution_count": 225,
   "metadata": {
    "id": "1635cc4f641948968a0f691ed1a2ed00"
   },
   "outputs": [],
   "source": [
    "function_deploy_meta = {\n",
    "     wml_client.deployments.ConfigurationMetaNames.NAME: \"data_process\",\n",
    "    ## Next line passes an empty dictionary for the payload in an online deployment\n",
    "     wml_client.deployments.ConfigurationMetaNames.ONLINE: {},\n",
    "     wml_client.deployments.ConfigurationMetaNames.HARDWARE_SPEC: { \"id\": hardware_spec_id}\n",
    " }"
   ]
  },
  {
   "cell_type": "code",
   "execution_count": 214,
   "metadata": {
    "id": "d1d908a5a8c54beb8f7559d0463efe08"
   },
   "outputs": [],
   "source": [
    "import os\n",
    "token = os.environ['USER_ACCESS_TOKEN']"
   ]
  },
  {
   "cell_type": "code",
   "execution_count": 215,
   "metadata": {
    "id": "df123c59642a4a239ae1236b8a099b67"
   },
   "outputs": [
    {
     "data": {
      "text/plain": [
       "'eyJhbGciOiJSUzI1NiIsInR5cCI6IkpXVCIsImtpZCI6Ino1S0lLNGZmZ3RPVTJ4R2ZMR0RJNFJQakFCWWNYbURrWk1sclBoeVpwMFEifQ.eyJ1aWQiOiIxMDAwMzMxMTExIiwidXNlcm5hbWUiOiJkYW4uc2NoZXVjaEB1cy5pYm0uY29tIiwicm9sZSI6IlVzZXIiLCJwZXJtaXNzaW9ucyI6WyJjcmVhdGVfcHJvamVjdCIsImFjY2Vzc19jYXRhbG9nIiwibW9uaXRvcl9zcGFjZSIsInZpZXdfcGxhdGZvcm1faGVhbHRoIiwic2hhcmVfc2VjcmV0cyIsImF1dGhvcl9nb3Zlcm5hbmNlX2FydGlmYWN0cyIsInZpZXdfZ292ZXJuYW5jZV9hcnRpZmFjdHMiLCJ2aWV3X3F1YWxpdHkiLCJtYW5hZ2VfaW5mb3JtYXRpb25fYXNzZXRzIiwibWFuYWdlX21ldGFkYXRhX2ltcG9ydCIsIm1hbmFnZV9kaXNjb3ZlcnkiLCJtYW5hZ2VfcXVhbGl0eSIsImNyZWF0ZV9zcGFjZSIsImFjY2Vzc19hZHZhbmNlZF9nb3Zlcm5hbmNlX2NhcGFiaWxpdGllcyIsImFjY2Vzc19hZHZhbmNlZF9tYXBwaW5nX2NhcGFiaWxpdGllcyIsImFjY2Vzc19pbmZvcm1hdGlvbl9hc3NldHMiLCJtYW5hZ2VfY2F0ZWdvcmllcyIsInZpcnR1YWxpemVfdHJhbnNmb3JtIiwibWFuYWdlX2NhdGFsb2ciXSwiZ3JvdXBzIjpbMTAwMDBdLCJzdWIiOiJkYW4uc2NoZXVjaEB1cy5pYm0uY29tIiwiaXNzIjoiS05PWFNTTyIsImF1ZCI6IkRTWCIsImlhdCI6MTY0MjAwMjY3MCwiZXhwIjozNjE2NDE5OTkwNzB9.LCcnzk-EYqwi4J9Be22HaJw9LxURT_29WpELyGqbJv0nJ0oyVz9FwOZMfSVWCVRncdtIhZdPiw_YJdbz76DX8zOlymZ10K37G9nAihBba2NzWt9QCmMsVSw7Kekt64TSn9yVZLxJa4AjK9rJb8xviZebnnjxWoQvwSYa45t7jKNOp-WSLNWihR3j2B6HaYNDJvGfEU8c6aVdLHiuizDQVOccg1NUtpjxC1gxkb51LmPozHPDkghyMq-y0DM-sS2Tew4I6d77SVRmkE1orlWtjoI55Owuyo1lqCsNvtA4s1keQA_4hGpqOOfXp0kffpxajFKSEjHcNtx2qLDXNMM40A'"
      ]
     },
     "execution_count": 215,
     "metadata": {},
     "output_type": "execute_result"
    }
   ],
   "source": [
    "token"
   ]
  },
  {
   "cell_type": "code",
   "execution_count": null,
   "metadata": {
    "id": "746a45a435d649558c13c98f82517a2e"
   },
   "outputs": [],
   "source": [
    "meta_props = {\n",
    "\n",
    "wml_client.deployments.ConfigurationMetaNames.NAME: \"SAMPLE DEPLOYMENT NAME\",\n",
    "\n",
    "wml_client.deployments.ConfigurationMetaNames.ONLINE: {},\n",
    "\n",
    "wml_client.deployments.ConfigurationMetaNames.HARDWARE_SPEC : { \"id\":  \"e7ed1d6c-2e89-42d7-aed5-8sb972c1d2b\"}\n",
    "\n",
    "}"
   ]
  },
  {
   "cell_type": "code",
   "execution_count": null,
   "metadata": {
    "id": "e79928d1317d4dee8c39cd677170c10a"
   },
   "outputs": [],
   "source": [
    "deployment_details = client.deployments.create(artifact_uid, meta_props)"
   ]
  },
  {
   "cell_type": "code",
   "execution_count": 226,
   "metadata": {
    "id": "5ea490cf02424bcca00c6cb04081e7f5"
   },
   "outputs": [
    {
     "name": "stdout",
     "output_type": "stream",
     "text": [
      "\n",
      "\n",
      "#######################################################################################\n",
      "\n",
      "Synchronous deployment creation for uid: 'ad1e5f19-d3de-4a60-9ec8-fb17cfb3c820' started\n",
      "\n",
      "#######################################################################################\n",
      "\n",
      "\n",
      "initializing\n",
      "Note: online_url is deprecated and will be removed in a future release. Use serving_urls instead.\n",
      "..."
     ]
    },
    {
     "name": "stderr",
     "output_type": "stream",
     "text": [
      "Deployment creation failed for deployment id: 60e7ef8e-92e0-45f7-beef-2b6d89df6820. Errors: [{'code': 'load_model_failure', 'message': \"'USER_ACCESS_TOKEN'\", 'target': {'type': 'none', 'name': 'none'}, 'more_info': 'none'}]\n"
     ]
    },
    {
     "name": "stdout",
     "output_type": "stream",
     "text": [
      "\n",
      "failed\n",
      "\n",
      "--------------------------\n",
      "Deployment creation failed\n",
      "--------------------------\n",
      "\n",
      "\n",
      "'USER_ACCESS_TOKEN'\n"
     ]
    },
    {
     "ename": "WMLClientError",
     "evalue": "Deployment creation failed for deployment id: 60e7ef8e-92e0-45f7-beef-2b6d89df6820. Errors: [{'code': 'load_model_failure', 'message': \"'USER_ACCESS_TOKEN'\", 'target': {'type': 'none', 'name': 'none'}, 'more_info': 'none'}]",
     "output_type": "error",
     "traceback": [
      "\u001b[0;31m---------------------------------------------------------------------------\u001b[0m",
      "\u001b[0;31mWMLClientError\u001b[0m                            Traceback (most recent call last)",
      "\u001b[0;32m<ipython-input-226-a156c12a0da4>\u001b[0m in \u001b[0;36m<module>\u001b[0;34m\u001b[0m\n\u001b[0;32m----> 1\u001b[0;31m \u001b[0mfunction_deployment_details\u001b[0m \u001b[0;34m=\u001b[0m \u001b[0mwml_client\u001b[0m\u001b[0;34m.\u001b[0m\u001b[0mdeployments\u001b[0m\u001b[0;34m.\u001b[0m\u001b[0mcreate\u001b[0m\u001b[0;34m(\u001b[0m\u001b[0mfunction_uid\u001b[0m\u001b[0;34m,\u001b[0m \u001b[0mmeta_props\u001b[0m\u001b[0;34m=\u001b[0m\u001b[0mfunction_deploy_meta\u001b[0m\u001b[0;34m)\u001b[0m\u001b[0;34m\u001b[0m\u001b[0;34m\u001b[0m\u001b[0m\n\u001b[0m",
      "\u001b[0;32m/opt/conda/envs/Python-3.7-OpenCE/lib/python3.7/site-packages/ibm_watson_machine_learning/deployments.py\u001b[0m in \u001b[0;36mcreate\u001b[0;34m(self, artifact_uid, meta_props, rev_id, **kwargs)\u001b[0m\n\u001b[1;32m    267\u001b[0m                 \u001b[0;32melse\u001b[0m\u001b[0;34m:\u001b[0m\u001b[0;34m\u001b[0m\u001b[0;34m\u001b[0m\u001b[0m\n\u001b[1;32m    268\u001b[0m                     \u001b[0mprint_text_header_h2\u001b[0m\u001b[0;34m(\u001b[0m\u001b[0;34mu'Deployment creation failed'\u001b[0m\u001b[0;34m)\u001b[0m\u001b[0;34m\u001b[0m\u001b[0;34m\u001b[0m\u001b[0m\n\u001b[0;32m--> 269\u001b[0;31m                     \u001b[0mself\u001b[0m\u001b[0;34m.\u001b[0m\u001b[0m_deployment_status_errors_handling\u001b[0m\u001b[0;34m(\u001b[0m\u001b[0mdeployment_details\u001b[0m\u001b[0;34m,\u001b[0m \u001b[0;34m'creation'\u001b[0m\u001b[0;34m,\u001b[0m \u001b[0mdeployment_uid\u001b[0m\u001b[0;34m)\u001b[0m\u001b[0;34m\u001b[0m\u001b[0;34m\u001b[0m\u001b[0m\n\u001b[0m\u001b[1;32m    270\u001b[0m             \u001b[0;32melse\u001b[0m\u001b[0;34m:\u001b[0m\u001b[0;34m\u001b[0m\u001b[0;34m\u001b[0m\u001b[0m\n\u001b[1;32m    271\u001b[0m                 \u001b[0merror_msg\u001b[0m \u001b[0;34m=\u001b[0m \u001b[0;34mu'Deployment creation failed'\u001b[0m\u001b[0;34m\u001b[0m\u001b[0;34m\u001b[0m\u001b[0m\n",
      "\u001b[0;32m/opt/conda/envs/Python-3.7-OpenCE/lib/python3.7/site-packages/ibm_watson_machine_learning/deployments.py\u001b[0m in \u001b[0;36m_deployment_status_errors_handling\u001b[0;34m(self, deployment_details, operation_name, deployment_id)\u001b[0m\n\u001b[1;32m     77\u001b[0m                 \u001b[0;32mraise\u001b[0m \u001b[0mWMLClientError\u001b[0m\u001b[0;34m(\u001b[0m\u001b[0;34m'Deployment '\u001b[0m \u001b[0;34m+\u001b[0m \u001b[0moperation_name\u001b[0m \u001b[0;34m+\u001b[0m \u001b[0;34m' failed for deployment id: '\u001b[0m \u001b[0;34m+\u001b[0m \u001b[0mdeployment_id\u001b[0m \u001b[0;34m+\u001b[0m\u001b[0;34m'. Error: '\u001b[0m \u001b[0;34m+\u001b[0m \u001b[0mstr\u001b[0m\u001b[0;34m(\u001b[0m\u001b[0mdeployment_details\u001b[0m\u001b[0;34m[\u001b[0m\u001b[0;34m'entity'\u001b[0m\u001b[0;34m]\u001b[0m\u001b[0;34m[\u001b[0m\u001b[0;34m'status'\u001b[0m\u001b[0;34m]\u001b[0m\u001b[0;34m[\u001b[0m\u001b[0;34m'state'\u001b[0m\u001b[0;34m]\u001b[0m\u001b[0;34m)\u001b[0m\u001b[0;34m)\u001b[0m\u001b[0;34m\u001b[0m\u001b[0;34m\u001b[0m\u001b[0m\n\u001b[1;32m     78\u001b[0m         \u001b[0;32mexcept\u001b[0m \u001b[0mWMLClientError\u001b[0m \u001b[0;32mas\u001b[0m \u001b[0me\u001b[0m\u001b[0;34m:\u001b[0m\u001b[0;34m\u001b[0m\u001b[0;34m\u001b[0m\u001b[0m\n\u001b[0;32m---> 79\u001b[0;31m             \u001b[0;32mraise\u001b[0m \u001b[0me\u001b[0m\u001b[0;34m\u001b[0m\u001b[0;34m\u001b[0m\u001b[0m\n\u001b[0m\u001b[1;32m     80\u001b[0m         \u001b[0;32mexcept\u001b[0m \u001b[0mException\u001b[0m \u001b[0;32mas\u001b[0m \u001b[0me\u001b[0m\u001b[0;34m:\u001b[0m\u001b[0;34m\u001b[0m\u001b[0;34m\u001b[0m\u001b[0m\n\u001b[1;32m     81\u001b[0m             \u001b[0mself\u001b[0m\u001b[0;34m.\u001b[0m\u001b[0m_logger\u001b[0m\u001b[0;34m.\u001b[0m\u001b[0mdebug\u001b[0m\u001b[0;34m(\u001b[0m\u001b[0;34m'Deployment '\u001b[0m \u001b[0;34m+\u001b[0m \u001b[0moperation_name\u001b[0m \u001b[0;34m+\u001b[0m \u001b[0;34m' failed: '\u001b[0m \u001b[0;34m+\u001b[0m \u001b[0mstr\u001b[0m\u001b[0;34m(\u001b[0m\u001b[0me\u001b[0m\u001b[0;34m)\u001b[0m\u001b[0;34m)\u001b[0m\u001b[0;34m\u001b[0m\u001b[0;34m\u001b[0m\u001b[0m\n",
      "\u001b[0;32m/opt/conda/envs/Python-3.7-OpenCE/lib/python3.7/site-packages/ibm_watson_machine_learning/deployments.py\u001b[0m in \u001b[0;36m_deployment_status_errors_handling\u001b[0;34m(self, deployment_details, operation_name, deployment_id)\u001b[0m\n\u001b[1;32m     72\u001b[0m                     \u001b[0;32melse\u001b[0m\u001b[0;34m:\u001b[0m\u001b[0;34m\u001b[0m\u001b[0;34m\u001b[0m\u001b[0m\n\u001b[1;32m     73\u001b[0m                         \u001b[0mprint\u001b[0m\u001b[0;34m(\u001b[0m\u001b[0merror\u001b[0m\u001b[0;34m)\u001b[0m\u001b[0;34m\u001b[0m\u001b[0;34m\u001b[0m\u001b[0m\n\u001b[0;32m---> 74\u001b[0;31m                 \u001b[0;32mraise\u001b[0m \u001b[0mWMLClientError\u001b[0m\u001b[0;34m(\u001b[0m\u001b[0;34m'Deployment '\u001b[0m \u001b[0;34m+\u001b[0m \u001b[0moperation_name\u001b[0m \u001b[0;34m+\u001b[0m \u001b[0;34m' failed for deployment id: '\u001b[0m \u001b[0;34m+\u001b[0m \u001b[0mdeployment_id\u001b[0m \u001b[0;34m+\u001b[0m\u001b[0;34m'. Errors: '\u001b[0m \u001b[0;34m+\u001b[0m \u001b[0mstr\u001b[0m\u001b[0;34m(\u001b[0m\u001b[0merrors\u001b[0m\u001b[0;34m)\u001b[0m\u001b[0;34m)\u001b[0m\u001b[0;34m\u001b[0m\u001b[0;34m\u001b[0m\u001b[0m\n\u001b[0m\u001b[1;32m     75\u001b[0m             \u001b[0;32melse\u001b[0m\u001b[0;34m:\u001b[0m\u001b[0;34m\u001b[0m\u001b[0;34m\u001b[0m\u001b[0m\n\u001b[1;32m     76\u001b[0m                 \u001b[0mprint\u001b[0m\u001b[0;34m(\u001b[0m\u001b[0mdeployment_details\u001b[0m\u001b[0;34m[\u001b[0m\u001b[0;34m'entity'\u001b[0m\u001b[0;34m]\u001b[0m\u001b[0;34m[\u001b[0m\u001b[0;34m'status'\u001b[0m\u001b[0;34m]\u001b[0m\u001b[0;34m)\u001b[0m\u001b[0;34m\u001b[0m\u001b[0;34m\u001b[0m\u001b[0m\n",
      "\u001b[0;31mWMLClientError\u001b[0m: Deployment creation failed for deployment id: 60e7ef8e-92e0-45f7-beef-2b6d89df6820. Errors: [{'code': 'load_model_failure', 'message': \"'USER_ACCESS_TOKEN'\", 'target': {'type': 'none', 'name': 'none'}, 'more_info': 'none'}]"
     ]
    }
   ],
   "source": [
    "function_deployment_details = wml_client.deployments.create(function_uid, meta_props=function_deploy_meta)"
   ]
  }
 ],
 "metadata": {
  "kernelspec": {
   "display_name": "Python 3.7",
   "language": "python",
   "name": "python3"
  },
  "language_info": {
   "codemirror_mode": {
    "name": "ipython",
    "version": 3
   },
   "file_extension": ".py",
   "mimetype": "text/x-python",
   "name": "python",
   "nbconvert_exporter": "python",
   "pygments_lexer": "ipython3",
   "version": "3.7.11"
  },
  "toc-showtags": true
 },
 "nbformat": 4,
 "nbformat_minor": 4
}
