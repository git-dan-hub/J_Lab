{
 "cells": [
  {
   "cell_type": "markdown",
   "metadata": {
    "id": "747c0222-2643-4836-b737-b0310069938e"
   },
   "source": [
    "![image](https://github.com/IBM/watson-machine-learning-samples/raw/master/cloud/notebooks/headers/AutoAI-Banner_Experiment-Notebook.png)\n",
    "# Experiment Notebook - AutoAI Notebook v1.15.3\n",
    "\n",
    "\n",
    "This notebook contains the steps and code to demonstrate support of AutoAI experiments in Watson Machine Learning service. It introduces Python API commands for data retrieval, training experiments, persisting pipelines, testing pipelines, refining pipelines, and scoring the resulting model.\n",
    "\n",
    "**Note:** Notebook code generated using AutoAI will execute successfully. If code is modified or reordered, there is no guarantee it will successfully execute. For details, see: <a href=\"https://dataplatform.cloud.ibm.com/docs/content/wsj/analyze-data/autoai-notebook.html\">Saving an Auto AI experiment as a notebook</a>\n"
   ]
  },
  {
   "cell_type": "markdown",
   "metadata": {
    "id": "d0ea6b02-b49c-44a3-9e3c-86b74c57dfa3"
   },
   "source": [
    "Some familiarity with Python is helpful. This notebook uses Python 3.8 and `ibm_watson_machine_learning` package.\n",
    "\n",
    "\n",
    "## Notebook goals\n",
    "\n",
    "The learning goals of this notebook are:\n",
    "-  Defining an AutoAI experiment\n",
    "-  Training AutoAI models \n",
    "-  Comparing trained models\n",
    "-  Deploying the model as a web service\n",
    "-  Scoring the model to generate predictions.\n",
    "\n",
    "\n",
    "\n",
    "## Contents\n",
    "\n",
    "This notebook contains the following parts:\n",
    "\n",
    "**[Setup](#setup)**<br>\n",
    "&nbsp;&nbsp;[Package installation](#install)<br>\n",
    "&nbsp;&nbsp;[Watson Machine Learning connection](#connection)<br>\n",
    "**[Experiment configuration](#configuration)**<br>\n",
    "&nbsp;&nbsp;[Experiment metadata](#metadata)<br>\n",
    "**[Working with completed AutoAI experiment](#work)**<br>\n",
    "&nbsp;&nbsp;[Get fitted AutoAI optimizer](#get)<br>\n",
    "&nbsp;&nbsp;[Pipelines comparison](#comparison)<br>\n",
    "&nbsp;&nbsp;[Get pipeline as scikit-learn pipeline model](#get_pipeline)<br>\n",
    "&nbsp;&nbsp;[Inspect pipeline](#inspect_pipeline)<br>\n",
    "&nbsp;&nbsp;&nbsp;&nbsp;[Visualize pipeline model](#visualize)<br>\n",
    "&nbsp;&nbsp;&nbsp;&nbsp;[Preview pipeline model as python code](#preview)<br>\n",
    "**[Deploy and Score](#scoring)**<br>\n",
    "&nbsp;&nbsp;[Working with spaces](#working_spaces)<br>\n",
    "**[Running AutoAI experiment with Python API](#run)**<br>\n",
    "**[Clean up](#cleanup)**<br>\n",
    "**[Next steps](#next_steps)**<br>\n",
    "**[Copyrights](#copyrights)**"
   ]
  },
  {
   "cell_type": "markdown",
   "metadata": {
    "id": "b776fff7-35d0-4c9e-84ab-ccd2f7a316ba"
   },
   "source": [
    "<a id=\"setup\"></a>\n",
    "# Setup"
   ]
  },
  {
   "cell_type": "markdown",
   "metadata": {
    "id": "3662b433-8081-4377-be37-ad3ae3033113"
   },
   "source": [
    "<a id=\"install\"></a>\n",
    "## Package installation\n",
    "Before you use the sample code in this notebook, install the following packages:\n",
    " - ibm-watson-machine-learning,\n",
    " - autoai-libs,\n",
    " - lale,\n",
    " - scikit-learn,\n",
    " - xgboost,\n",
    " - lightgbm,\n",
    " - snapml.\n"
   ]
  },
  {
   "cell_type": "code",
   "execution_count": 1,
   "metadata": {
    "id": "b337a542-ccc0-4cfd-ad35-7c25a8479fc0",
    "pycharm": {
     "name": "#%%\n"
    },
    "tags": []
   },
   "outputs": [
    {
     "name": "stdout",
     "output_type": "stream",
     "text": [
      "Requirement already satisfied: docutils<0.16,>=0.10 in /opt/conda/envs/Python-3.7-OpenCE/lib/python3.7/site-packages (from ibm-cos-sdk-core==2.7.0->ibm-cos-sdk==2.7.*->ibm-watson-machine-learning) (0.15.2)\n",
      "Requirement already satisfied, skipping upgrade: python-dateutil>=2.6.1 in /opt/conda/envs/Python-3.7-OpenCE/lib/python3.7/site-packages (from pandas<1.3,>=0.24.2->autoai-libs==1.12.13) (2.8.1)\n",
      "Successfully installed lale-0.5.11\n",
      "Requirement already satisfied, skipping upgrade: joblib>=0.11 in /opt/conda/envs/Python-3.7-OpenCE/lib/python3.7/site-packages (from scikit-learn==0.23.2) (0.17.0)\n",
      "Requirement already satisfied, skipping upgrade: scipy in /opt/conda/envs/Python-3.7-OpenCE/lib/python3.7/site-packages (from xgboost==1.3.3) (1.4.1)\n",
      "Requirement already satisfied, skipping upgrade: threadpoolctl>=2.0.0 in /opt/conda/envs/Python-3.7-OpenCE/lib/python3.7/site-packages (from scikit-learn!=0.22.0->lightgbm<=3.2.1,>=3.1.1) (2.1.0)\n",
      "Successfully installed py-cpu-0.1.2 snapml-1.7.8\n"
     ]
    }
   ],
   "source": [
    "!pip install ibm-watson-machine-learning | tail -n 1\n",
    "!pip install -U autoai-libs==1.12.13 | tail -n 1\n",
    "!pip install -U 'lale>=0.5.3,<0.6' | tail -n 1\n",
    "!pip install -U scikit-learn==0.23.2 | tail -n 1\n",
    "!pip install -U xgboost==1.3.3 | tail -n 1\n",
    "!pip install -U 'lightgbm>=3.1.1,<=3.2.1' | tail -n 1\n",
    "!pip install -U 'snapml>=1.7.4,<1.8.0' | tail -n 1"
   ]
  },
  {
   "cell_type": "markdown",
   "metadata": {
    "id": "16e23a69-e31e-4faa-b330-62cb210ec7b7"
   },
   "source": [
    "<a id=\"configuration\"></a>\n",
    "# Experiment configuration"
   ]
  },
  {
   "cell_type": "markdown",
   "metadata": {
    "id": "d23b4edb-f464-40f8-a2ae-90c878b7f75b",
    "pycharm": {
     "name": "#%% md\n"
    }
   },
   "source": [
    "<a id=\"metadata\"></a>\n",
    "## Experiment metadata\n",
    "This cell defines the metadata for the experiment, including: training_data_reference, training_result_reference, experiment_metadata."
   ]
  },
  {
   "cell_type": "code",
   "execution_count": null,
   "metadata": {
    "id": "2f6cac78-7138-442c-8190-a787c71ea7b4"
   },
   "outputs": [],
   "source": []
  },
  {
   "cell_type": "code",
   "execution_count": 2,
   "metadata": {
    "id": "cf4f6c38-9fb9-4d79-b51b-dbaf38e05196",
    "pycharm": {
     "name": "#%%\n"
    },
    "tags": []
   },
   "outputs": [],
   "source": [
    "from ibm_watson_machine_learning.helpers import DataConnection\n",
    "from ibm_watson_machine_learning.helpers import FSLocation\n",
    "\n",
    "training_data_reference = [\n",
    "    DataConnection(\n",
    "        data_asset_id='4ea5abf4-f695-46d4-888c-6db25d5a7b2f'\n",
    "    ),\n",
    "]\n",
    "training_result_reference = DataConnection(\n",
    "    location=FSLocation(\n",
    "        path='/projects/44b8751c-098f-484b-8c66-ebf128cdd731/assets/auto_ml/bd8a8621-10e2-46f0-ad5a-3ffefafddf24/wml_data/b955d67e-d129-4931-9d8d-706442c24d98/data/automl'\n",
    "    )\n",
    ")"
   ]
  },
  {
   "cell_type": "code",
   "execution_count": 7,
   "metadata": {
    "id": "0afc5bb4-6d48-4cb4-8a90-cc29c6260c6a",
    "tags": []
   },
   "outputs": [
    {
     "name": "stderr",
     "output_type": "stream",
     "text": [
      "2022-02-09 21:11:46,471 - __PROJECT_LIB__ - ERROR - create_storage_adapter: unknown storage type 'local_git_storage'\n"
     ]
    },
    {
     "ename": "RuntimeError",
     "evalue": "Unknown storage type in metadata.",
     "output_type": "error",
     "traceback": [
      "\u001b[0;31m---------------------------------------------------------------------------\u001b[0m",
      "\u001b[0;31mRuntimeError\u001b[0m                              Traceback (most recent call last)",
      "\u001b[0;32m<ipython-input-7-b5b268a3127e>\u001b[0m in \u001b[0;36m<module>\u001b[0;34m\u001b[0m\n\u001b[1;32m      1\u001b[0m \u001b[0;31m# Import the lib\u001b[0m\u001b[0;34m\u001b[0m\u001b[0;34m\u001b[0m\u001b[0;34m\u001b[0m\u001b[0m\n\u001b[1;32m      2\u001b[0m \u001b[0;32mfrom\u001b[0m \u001b[0mproject_lib\u001b[0m \u001b[0;32mimport\u001b[0m \u001b[0mProject\u001b[0m\u001b[0;34m\u001b[0m\u001b[0;34m\u001b[0m\u001b[0m\n\u001b[0;32m----> 3\u001b[0;31m \u001b[0mproject\u001b[0m \u001b[0;34m=\u001b[0m \u001b[0mProject\u001b[0m\u001b[0;34m.\u001b[0m\u001b[0maccess\u001b[0m\u001b[0;34m(\u001b[0m\u001b[0;34m)\u001b[0m\u001b[0;34m\u001b[0m\u001b[0;34m\u001b[0m\u001b[0m\n\u001b[0m",
      "\u001b[0;32m/opt/conda/envs/Python-3.7-OpenCE/lib/python3.7/site-packages/project_lib/project.py\u001b[0m in \u001b[0;36maccess\u001b[0;34m(project_id, auth_token, spark_context)\u001b[0m\n\u001b[1;32m     85\u001b[0m         return Project(project_id=project_id,\n\u001b[1;32m     86\u001b[0m                        \u001b[0mproject_access_token\u001b[0m\u001b[0;34m=\u001b[0m\u001b[0mauth_token\u001b[0m\u001b[0;34m,\u001b[0m\u001b[0;34m\u001b[0m\u001b[0;34m\u001b[0m\u001b[0m\n\u001b[0;32m---> 87\u001b[0;31m                        spark_context=spark_context)\n\u001b[0m\u001b[1;32m     88\u001b[0m \u001b[0;34m\u001b[0m\u001b[0m\n\u001b[1;32m     89\u001b[0m \u001b[0;34m\u001b[0m\u001b[0m\n",
      "\u001b[0;32m/opt/conda/envs/Python-3.7-OpenCE/lib/python3.7/site-packages/project_lib/project.py\u001b[0m in \u001b[0;36m__init__\u001b[0;34m(self, spark_context, project_id, project_access_token, _handle_, _core_)\u001b[0m\n\u001b[1;32m     39\u001b[0m         \u001b[0mself\u001b[0m\u001b[0;34m.\u001b[0m\u001b[0m_core\u001b[0m \u001b[0;34m=\u001b[0m \u001b[0m_core_\u001b[0m\u001b[0;34m\u001b[0m\u001b[0;34m\u001b[0m\u001b[0m\n\u001b[1;32m     40\u001b[0m         \u001b[0;32mif\u001b[0m \u001b[0;32mnot\u001b[0m \u001b[0mself\u001b[0m\u001b[0;34m.\u001b[0m\u001b[0m_core\u001b[0m\u001b[0;34m:\u001b[0m\u001b[0;34m\u001b[0m\u001b[0;34m\u001b[0m\u001b[0m\n\u001b[0;32m---> 41\u001b[0;31m             \u001b[0mself\u001b[0m\u001b[0;34m.\u001b[0m\u001b[0m_core\u001b[0m \u001b[0;34m=\u001b[0m \u001b[0mcreate_project_handler\u001b[0m\u001b[0;34m(\u001b[0m\u001b[0mhandle\u001b[0m\u001b[0;34m,\u001b[0m \u001b[0mspark_context\u001b[0m\u001b[0;34m)\u001b[0m\u001b[0;34m\u001b[0m\u001b[0;34m\u001b[0m\u001b[0m\n\u001b[0m\u001b[1;32m     42\u001b[0m \u001b[0;34m\u001b[0m\u001b[0m\n\u001b[1;32m     43\u001b[0m \u001b[0;34m\u001b[0m\u001b[0m\n",
      "\u001b[0;32m/opt/conda/envs/Python-3.7-OpenCE/lib/python3.7/site-packages/project_lib/handlers/factory.py\u001b[0m in \u001b[0;36mcreate_project_handler\u001b[0;34m(handle, spark_context, api_proxy_factory)\u001b[0m\n\u001b[1;32m     25\u001b[0m     \u001b[0;32mfrom\u001b[0m \u001b[0mproject_lib\u001b[0m\u001b[0;34m.\u001b[0m\u001b[0mstorage\u001b[0m\u001b[0;34m.\u001b[0m\u001b[0mfactory\u001b[0m \u001b[0;32mimport\u001b[0m \u001b[0mcreate_storage_adapter\u001b[0m\u001b[0;34m\u001b[0m\u001b[0;34m\u001b[0m\u001b[0m\n\u001b[1;32m     26\u001b[0m     storage = create_storage_adapter(handle, metadata, api_proxy_factory,\n\u001b[0;32m---> 27\u001b[0;31m                                      spark_context)\n\u001b[0m\u001b[1;32m     28\u001b[0m \u001b[0;34m\u001b[0m\u001b[0m\n\u001b[1;32m     29\u001b[0m     \u001b[0;32mfrom\u001b[0m \u001b[0;34m.\u001b[0m\u001b[0mproject_v2\u001b[0m \u001b[0;32mimport\u001b[0m \u001b[0mProjectV2\u001b[0m\u001b[0;34m\u001b[0m\u001b[0;34m\u001b[0m\u001b[0m\n",
      "\u001b[0;32m/opt/conda/envs/Python-3.7-OpenCE/lib/python3.7/site-packages/project_lib/storage/factory.py\u001b[0m in \u001b[0;36mcreate_storage_adapter\u001b[0;34m(handle, metadata, api_proxy_factory, spark_context)\u001b[0m\n\u001b[1;32m     84\u001b[0m     pylogger.error(\"create_storage_adapter: unknown storage type '%s'\",\n\u001b[1;32m     85\u001b[0m                    stotype)\n\u001b[0;32m---> 86\u001b[0;31m     \u001b[0;32mraise\u001b[0m \u001b[0mRuntimeError\u001b[0m\u001b[0;34m(\u001b[0m\u001b[0;34m\"Unknown storage type in metadata.\"\u001b[0m\u001b[0;34m)\u001b[0m\u001b[0;34m\u001b[0m\u001b[0;34m\u001b[0m\u001b[0m\n\u001b[0m",
      "\u001b[0;31mRuntimeError\u001b[0m: Unknown storage type in metadata."
     ]
    }
   ],
   "source": [
    "# Import the lib\n",
    "from project_lib import Project\n",
    "project = Project.access()"
   ]
  },
  {
   "cell_type": "code",
   "execution_count": 6,
   "metadata": {
    "id": "735b128a-2c89-437a-b784-60d1ab52861d",
    "tags": []
   },
   "outputs": [
    {
     "ename": "NameError",
     "evalue": "name 'project_id' is not defined",
     "output_type": "error",
     "traceback": [
      "\u001b[0;31m---------------------------------------------------------------------------\u001b[0m",
      "\u001b[0;31mNameError\u001b[0m                                 Traceback (most recent call last)",
      "\u001b[0;32m<ipython-input-6-97c80e6bef4a>\u001b[0m in \u001b[0;36m<module>\u001b[0;34m\u001b[0m\n\u001b[0;32m----> 1\u001b[0;31m \u001b[0mproject_id\u001b[0m\u001b[0;34m\u001b[0m\u001b[0;34m\u001b[0m\u001b[0m\n\u001b[0m",
      "\u001b[0;31mNameError\u001b[0m: name 'project_id' is not defined"
     ]
    }
   ],
   "source": [
    "project_id"
   ]
  },
  {
   "cell_type": "code",
   "execution_count": 3,
   "metadata": {
    "id": "bae44bbb-7835-43aa-b49e-316d3cf693e7",
    "pycharm": {
     "name": "#%%\n"
    },
    "tags": []
   },
   "outputs": [],
   "source": [
    "experiment_metadata = dict(\n",
    "    prediction_type='binary',\n",
    "    prediction_column='pred_FIRST',\n",
    "    holdout_size=0.15,\n",
    "    scoring='roc_auc',\n",
    "    csv_separator=',',\n",
    "    random_state=33,\n",
    "    max_number_of_estimators=2,\n",
    "    training_data_reference=training_data_reference,\n",
    "    training_result_reference=training_result_reference,\n",
    "    include_only_estimators=['LogisticRegression', 'RandomForestClassifier', 'DecisionTreeClassifier', 'GradientBoostingClassifier'],\n",
    "    project_id='44b8751c-098f-484b-8c66-ebf128cdd731',\n",
    "    train_sample_columns_index_list=[0, 1, 2, 3, 4, 5, 6, 7, 8, 9, 10, 11, 12],\n",
    "    positive_label='Y',\n",
    "    drop_duplicates=True\n",
    ")"
   ]
  },
  {
   "cell_type": "markdown",
   "metadata": {
    "id": "47eb0599-9f0c-4ad1-a4a6-66a5edae2535"
   },
   "source": [
    "<a id=\"connection\"></a>\n",
    "## Watson Machine Learning connection\n",
    "\n",
    "This cell defines the credentials required to work with the Watson Machine Learning service.\n",
    "\n",
    "**Action**: You need to pass yours Cloud Pak for Data instance home url.   \n",
    "**Note**: If you want to run the notebook outside of the Watson Studio please provide Watson Machine Learning credentials: [Documentation](http://ibm-wml-api-pyclient.mybluemix.net/#id6)\n",
    "```\n",
    "wml_credentials = {  \n",
    "    \"instance_id\": \"openshift\",  \n",
    "    \"token\": \"\",  \n",
    "    \"url\": \"\",  \n",
    "    \"version\": \"4.0\"  \n",
    "}\n",
    "```"
   ]
  },
  {
   "cell_type": "code",
   "execution_count": 4,
   "metadata": {
    "id": "b277ad8b-4998-4141-a56c-25afd2913857",
    "pycharm": {
     "name": "#%%\n"
    },
    "tags": []
   },
   "outputs": [],
   "source": [
    "import os\n",
    "\n",
    "wml_credentials = {\n",
    "    \"instance_id\": \"openshift\",\n",
    "    \"token\": os.environ.get(\"USER_ACCESS_TOKEN\"),\n",
    "    \"url\": os.environ.get(\"RUNTIME_ENV_APSX_URL\"),\n",
    "    \"version\": \"4.0\"\n",
    "}"
   ]
  },
  {
   "cell_type": "markdown",
   "metadata": {
    "id": "561dbef7-7fdc-4720-a02f-1ba6d4131d36"
   },
   "source": [
    "<a id=\"work\"></a>\n",
    "\n",
    "\n",
    "# Working with the completed AutoAI experiment\n",
    "\n",
    "This cell imports the pipelines generated for the experiment so they can be compared to find the optimal pipeline to save as a model."
   ]
  },
  {
   "cell_type": "markdown",
   "metadata": {
    "id": "6e37ffc7-9e4c-4630-bd81-df1b89a20800"
   },
   "source": [
    "<a id=\"get\"></a>\n",
    "\n",
    "\n",
    "## Get fitted AutoAI optimizer"
   ]
  },
  {
   "cell_type": "code",
   "execution_count": 5,
   "metadata": {
    "id": "91818153-e5de-4abe-bda8-0bd82730bb4c",
    "pycharm": {
     "name": "#%%\n"
    },
    "tags": []
   },
   "outputs": [
    {
     "name": "stderr",
     "output_type": "stream",
     "text": [
      "Cannot set Project or Space\n",
      "Reason: {\"code\":404,\"error\":\"Not Found\",\"reason\":\"Failed to retrieve project: 44b8751c-098f-484b-8c66-ebf128cdd731. Failed to retrieve Cloudant document: 44b8751c-098f-484b-8c66-ebf128cdd731. missing.\",\"message\":\"Resource requested by the client was not found.\"}\n"
     ]
    },
    {
     "ename": "CannotSetProjectOrSpace",
     "evalue": "Cannot set Project or Space\nReason: {\"code\":404,\"error\":\"Not Found\",\"reason\":\"Failed to retrieve project: 44b8751c-098f-484b-8c66-ebf128cdd731. Failed to retrieve Cloudant document: 44b8751c-098f-484b-8c66-ebf128cdd731. missing.\",\"message\":\"Resource requested by the client was not found.\"}",
     "output_type": "error",
     "traceback": [
      "\u001b[0;31m---------------------------------------------------------------------------\u001b[0m",
      "\u001b[0;31mCannotSetProjectOrSpace\u001b[0m                   Traceback (most recent call last)",
      "\u001b[0;32m<ipython-input-5-c77c63c9352e>\u001b[0m in \u001b[0;36m<module>\u001b[0;34m\u001b[0m\n\u001b[1;32m      1\u001b[0m \u001b[0;32mfrom\u001b[0m \u001b[0mibm_watson_machine_learning\u001b[0m\u001b[0;34m.\u001b[0m\u001b[0mexperiment\u001b[0m \u001b[0;32mimport\u001b[0m \u001b[0mAutoAI\u001b[0m\u001b[0;34m\u001b[0m\u001b[0;34m\u001b[0m\u001b[0m\n\u001b[1;32m      2\u001b[0m \u001b[0;34m\u001b[0m\u001b[0m\n\u001b[0;32m----> 3\u001b[0;31m \u001b[0mpipeline_optimizer\u001b[0m \u001b[0;34m=\u001b[0m \u001b[0mAutoAI\u001b[0m\u001b[0;34m(\u001b[0m\u001b[0mwml_credentials\u001b[0m\u001b[0;34m,\u001b[0m \u001b[0mproject_id\u001b[0m\u001b[0;34m=\u001b[0m\u001b[0mexperiment_metadata\u001b[0m\u001b[0;34m[\u001b[0m\u001b[0;34m'project_id'\u001b[0m\u001b[0;34m]\u001b[0m\u001b[0;34m)\u001b[0m\u001b[0;34m.\u001b[0m\u001b[0mruns\u001b[0m\u001b[0;34m.\u001b[0m\u001b[0mget_optimizer\u001b[0m\u001b[0;34m(\u001b[0m\u001b[0mmetadata\u001b[0m\u001b[0;34m=\u001b[0m\u001b[0mexperiment_metadata\u001b[0m\u001b[0;34m)\u001b[0m\u001b[0;34m\u001b[0m\u001b[0;34m\u001b[0m\u001b[0m\n\u001b[0m",
      "\u001b[0;32m/opt/conda/envs/Python-3.7-OpenCE/lib/python3.7/site-packages/ibm_watson_machine_learning/experiment/autoai/autoai.py\u001b[0m in \u001b[0;36m__init__\u001b[0;34m(self, wml_credentials, project_id, space_id)\u001b[0m\n\u001b[1;32m    100\u001b[0m                 self._workspace = WorkSpace(wml_credentials=wml_credentials.copy(),\n\u001b[1;32m    101\u001b[0m                                             \u001b[0mproject_id\u001b[0m\u001b[0;34m=\u001b[0m\u001b[0mproject_id\u001b[0m\u001b[0;34m,\u001b[0m\u001b[0;34m\u001b[0m\u001b[0;34m\u001b[0m\u001b[0m\n\u001b[0;32m--> 102\u001b[0;31m                                             space_id=space_id)\n\u001b[0m\u001b[1;32m    103\u001b[0m \u001b[0;34m\u001b[0m\u001b[0m\n\u001b[1;32m    104\u001b[0m             \u001b[0mself\u001b[0m\u001b[0;34m.\u001b[0m\u001b[0mproject_id\u001b[0m \u001b[0;34m=\u001b[0m \u001b[0mself\u001b[0m\u001b[0;34m.\u001b[0m\u001b[0m_workspace\u001b[0m\u001b[0;34m.\u001b[0m\u001b[0mproject_id\u001b[0m\u001b[0;34m\u001b[0m\u001b[0;34m\u001b[0m\u001b[0m\n",
      "\u001b[0;32m/opt/conda/envs/Python-3.7-OpenCE/lib/python3.7/site-packages/ibm_watson_machine_learning/workspace/workspace.py\u001b[0m in \u001b[0;36m__init__\u001b[0;34m(self, wml_credentials, project_id, space_id)\u001b[0m\n\u001b[1;32m    109\u001b[0m             \u001b[0;32melse\u001b[0m\u001b[0;34m:\u001b[0m\u001b[0;34m\u001b[0m\u001b[0;34m\u001b[0m\u001b[0m\n\u001b[1;32m    110\u001b[0m                 \u001b[0;32mif\u001b[0m \u001b[0mself\u001b[0m\u001b[0;34m.\u001b[0m\u001b[0mproject_id\u001b[0m \u001b[0;32mis\u001b[0m \u001b[0;32mnot\u001b[0m \u001b[0;32mNone\u001b[0m\u001b[0;34m:\u001b[0m\u001b[0;34m\u001b[0m\u001b[0;34m\u001b[0m\u001b[0m\n\u001b[0;32m--> 111\u001b[0;31m                     \u001b[0moutcome\u001b[0m \u001b[0;34m=\u001b[0m \u001b[0mself\u001b[0m\u001b[0;34m.\u001b[0m\u001b[0mwml_client\u001b[0m\u001b[0;34m.\u001b[0m\u001b[0mset\u001b[0m\u001b[0;34m.\u001b[0m\u001b[0mdefault_project\u001b[0m\u001b[0;34m(\u001b[0m\u001b[0mself\u001b[0m\u001b[0;34m.\u001b[0m\u001b[0mproject_id\u001b[0m\u001b[0;34m)\u001b[0m\u001b[0;34m\u001b[0m\u001b[0;34m\u001b[0m\u001b[0m\n\u001b[0m\u001b[1;32m    112\u001b[0m \u001b[0;34m\u001b[0m\u001b[0m\n\u001b[1;32m    113\u001b[0m                 \u001b[0;32melse\u001b[0m\u001b[0;34m:\u001b[0m\u001b[0;34m\u001b[0m\u001b[0;34m\u001b[0m\u001b[0m\n",
      "\u001b[0;32m/opt/conda/envs/Python-3.7-OpenCE/lib/python3.7/site-packages/ibm_watson_machine_learning/Set.py\u001b[0m in \u001b[0;36mdefault_project\u001b[0;34m(self, project_id)\u001b[0m\n\u001b[1;32m    138\u001b[0m                 \u001b[0mproject_details\u001b[0m \u001b[0;34m=\u001b[0m \u001b[0mrequests\u001b[0m\u001b[0;34m.\u001b[0m\u001b[0mget\u001b[0m\u001b[0;34m(\u001b[0m\u001b[0mproject_endpoint\u001b[0m\u001b[0;34m,\u001b[0m \u001b[0mheaders\u001b[0m\u001b[0;34m=\u001b[0m\u001b[0mself\u001b[0m\u001b[0;34m.\u001b[0m\u001b[0m_client\u001b[0m\u001b[0;34m.\u001b[0m\u001b[0m_get_headers\u001b[0m\u001b[0;34m(\u001b[0m\u001b[0;34m)\u001b[0m\u001b[0;34m,\u001b[0m \u001b[0mverify\u001b[0m\u001b[0;34m=\u001b[0m\u001b[0;32mFalse\u001b[0m\u001b[0;34m)\u001b[0m\u001b[0;34m\u001b[0m\u001b[0;34m\u001b[0m\u001b[0m\n\u001b[1;32m    139\u001b[0m                 \u001b[0;32mif\u001b[0m \u001b[0mproject_details\u001b[0m\u001b[0;34m.\u001b[0m\u001b[0mstatus_code\u001b[0m \u001b[0;34m!=\u001b[0m \u001b[0;36m200\u001b[0m \u001b[0;32mand\u001b[0m \u001b[0mproject_details\u001b[0m\u001b[0;34m.\u001b[0m\u001b[0mstatus_code\u001b[0m \u001b[0;34m!=\u001b[0m \u001b[0;36m204\u001b[0m\u001b[0;34m:\u001b[0m\u001b[0;34m\u001b[0m\u001b[0;34m\u001b[0m\u001b[0m\n\u001b[0;32m--> 140\u001b[0;31m                     \u001b[0;32mraise\u001b[0m \u001b[0mCannotSetProjectOrSpace\u001b[0m\u001b[0;34m(\u001b[0m\u001b[0mreason\u001b[0m\u001b[0;34m=\u001b[0m\u001b[0mproject_details\u001b[0m\u001b[0;34m.\u001b[0m\u001b[0mtext\u001b[0m\u001b[0;34m)\u001b[0m\u001b[0;34m\u001b[0m\u001b[0;34m\u001b[0m\u001b[0m\n\u001b[0m\u001b[1;32m    141\u001b[0m                 \u001b[0;32melse\u001b[0m\u001b[0;34m:\u001b[0m\u001b[0;34m\u001b[0m\u001b[0;34m\u001b[0m\u001b[0m\n\u001b[1;32m    142\u001b[0m                     \u001b[0mself\u001b[0m\u001b[0;34m.\u001b[0m\u001b[0m_client\u001b[0m\u001b[0;34m.\u001b[0m\u001b[0mproject_type\u001b[0m \u001b[0;34m=\u001b[0m \u001b[0mproject_details\u001b[0m\u001b[0;34m.\u001b[0m\u001b[0mjson\u001b[0m\u001b[0;34m(\u001b[0m\u001b[0;34m)\u001b[0m\u001b[0;34m[\u001b[0m\u001b[0;34m'entity'\u001b[0m\u001b[0;34m]\u001b[0m\u001b[0;34m[\u001b[0m\u001b[0;34m'storage'\u001b[0m\u001b[0;34m]\u001b[0m\u001b[0;34m[\u001b[0m\u001b[0;34m'type'\u001b[0m\u001b[0;34m]\u001b[0m\u001b[0;34m\u001b[0m\u001b[0;34m\u001b[0m\u001b[0m\n",
      "\u001b[0;31mCannotSetProjectOrSpace\u001b[0m: Cannot set Project or Space\nReason: {\"code\":404,\"error\":\"Not Found\",\"reason\":\"Failed to retrieve project: 44b8751c-098f-484b-8c66-ebf128cdd731. Failed to retrieve Cloudant document: 44b8751c-098f-484b-8c66-ebf128cdd731. missing.\",\"message\":\"Resource requested by the client was not found.\"}"
     ]
    }
   ],
   "source": [
    "from ibm_watson_machine_learning.experiment import AutoAI\n",
    "\n",
    "pipeline_optimizer = AutoAI(wml_credentials, project_id=experiment_metadata['project_id']).runs.get_optimizer(metadata=experiment_metadata)"
   ]
  },
  {
   "cell_type": "markdown",
   "metadata": {
    "id": "81323f14-1b99-4064-bda0-4a66cb296527"
   },
   "source": [
    "Use `get_params()`- to retrieve configuration parameters."
   ]
  },
  {
   "cell_type": "code",
   "execution_count": null,
   "metadata": {
    "id": "4451de32-95b7-4dce-a64d-ac64dda7e0f1",
    "pycharm": {
     "name": "#%%\n"
    }
   },
   "outputs": [],
   "source": [
    "pipeline_optimizer.get_params()"
   ]
  },
  {
   "cell_type": "markdown",
   "metadata": {
    "id": "d31009f8-14d7-4b9c-8c1d-85a35271676a",
    "pycharm": {
     "name": "#%% md\n"
    }
   },
   "source": [
    "<a id=\"comparison\"></a>\n",
    "## Pipelines comparison\n",
    "\n",
    "Use the `summary()` method to list trained pipelines and evaluation metrics information in\n",
    "the form of a Pandas DataFrame. You can use the DataFrame to compare all discovered pipelines and select the one you like for further testing."
   ]
  },
  {
   "cell_type": "code",
   "execution_count": null,
   "metadata": {
    "id": "4841c9dc-7a79-46bd-8f38-19feb928ddb0",
    "pycharm": {
     "name": "#%%\n"
    }
   },
   "outputs": [],
   "source": [
    "summary = pipeline_optimizer.summary()\n",
    "best_pipeline_name = list(summary.index)[0]\n",
    "summary"
   ]
  },
  {
   "cell_type": "markdown",
   "metadata": {
    "id": "ba08064e-432e-4f43-bf39-efca85186d6e"
   },
   "source": [
    "<a id=\"get_pipeline\"></a>\n",
    "### Get pipeline as scikit-learn pipeline model\n",
    "\n",
    "After you compare the pipelines, download and save a scikit-learn pipeline model object from the\n",
    "AutoAI training job.\n",
    "\n",
    "**Tip:** To get a specific pipeline pass the pipeline name in:\n",
    "```\n",
    "pipeline_optimizer.get_pipeline(pipeline_name=pipeline_name)\n",
    "```"
   ]
  },
  {
   "cell_type": "code",
   "execution_count": null,
   "metadata": {
    "id": "5d6e0a95-1025-405a-8df4-08499bba67b2",
    "pycharm": {
     "name": "#%%\n"
    }
   },
   "outputs": [],
   "source": [
    "pipeline_model = pipeline_optimizer.get_pipeline()"
   ]
  },
  {
   "cell_type": "markdown",
   "metadata": {
    "id": "e157c614-92ba-477c-bf74-d0d8fe078781"
   },
   "source": [
    "Next, check features importance for selected pipeline."
   ]
  },
  {
   "cell_type": "code",
   "execution_count": null,
   "metadata": {
    "id": "dc2124bc-a464-4da3-92a0-b0a8ca778db8",
    "pycharm": {
     "name": "#%%\n"
    }
   },
   "outputs": [],
   "source": [
    "pipeline_optimizer.get_pipeline_details()['features_importance']"
   ]
  },
  {
   "cell_type": "markdown",
   "metadata": {
    "id": "e0e77dfc-1427-4043-8972-5b079a1507f8"
   },
   "source": [
    "**Tip:** If you want to check all model evaluation metrics-details, use:\n",
    "```\n",
    "pipeline_optimizer.get_pipeline_details()\n",
    "```"
   ]
  },
  {
   "cell_type": "markdown",
   "metadata": {
    "id": "6f25122f-8fae-42e0-b9a6-2a7c89dbc132",
    "pycharm": {
     "name": "#%% md\n"
    }
   },
   "source": [
    "<a id=\"inspect_pipeline\"></a>\n",
    "## Inspect pipeline"
   ]
  },
  {
   "cell_type": "markdown",
   "metadata": {
    "id": "d97b207d-10d8-4704-a59e-9f31cfdd53d9"
   },
   "source": [
    "<a id=\"visualize\"></a>\n",
    "### Visualize pipeline model\n",
    "\n",
    "Preview pipeline model stages as a graph. Each node's name links to a detailed description of the stage.\n"
   ]
  },
  {
   "cell_type": "code",
   "execution_count": null,
   "metadata": {
    "id": "8f7271aa-68cd-4f65-93e9-b29a484d0334",
    "pycharm": {
     "name": "#%%\n"
    }
   },
   "outputs": [],
   "source": [
    "pipeline_model.visualize()"
   ]
  },
  {
   "cell_type": "markdown",
   "metadata": {
    "id": "5b00dda0-53e5-49c8-b427-7c962319a426"
   },
   "source": [
    "<a id=\"preview\"></a>\n",
    "### Preview pipeline model as Python code\n",
    "In the next cell, you can preview the saved pipeline model as Python code.  \n",
    "You can review the exact steps used to create the model.\n",
    "\n",
    "**Note:** If you want to get sklearn representation, add the following parameter to `pretty_print` call: `astype='sklearn'`."
   ]
  },
  {
   "cell_type": "code",
   "execution_count": null,
   "metadata": {
    "id": "843ccaf0-0f38-4453-9a05-60b22b1c04a7",
    "pycharm": {
     "name": "#%%\n"
    }
   },
   "outputs": [],
   "source": [
    "pipeline_model.pretty_print(combinators=False, ipython_display=True)"
   ]
  },
  {
   "cell_type": "markdown",
   "metadata": {
    "id": "7ab7c5ba-4291-44c1-811c-d4197e64c508"
   },
   "source": [
    "### Calling the `predict` method\n",
    "If you want to get a prediction using pipeline model object, call `pipeline_model.predict()`.\n",
    "\n",
    "**Note:** If you want to work with pure sklearn model:\n",
    " - add the following parameter to `get_pipeline` call: `astype='sklearn'`,\n",
    " - or `scikit_learn_pipeline = pipeline_model.export_to_sklearn_pipeline()`"
   ]
  },
  {
   "cell_type": "markdown",
   "metadata": {
    "id": "1e60e334-e5dd-4fab-b4d8-ed99f6276f37"
   },
   "source": [
    "<a id=\"scoring\"></a>\n",
    "## Deploy and Score\n",
    "\n",
    "In this section you will learn how to deploy and score the model as a web service."
   ]
  },
  {
   "cell_type": "markdown",
   "metadata": {
    "id": "f1a3d47d-4ba5-45a6-987d-2059e65d4f62",
    "pycharm": {
     "name": "#%% md\n"
    }
   },
   "source": [
    "<a id=\"working_spaces\"></a>\n",
    "### Working with spaces\n",
    "\n",
    "In this section you will specify a deployment space for organizing the assets for deploying and scoring the model. If you do not have an existing space, go to **Deployments** section and create a new space, following these steps:\n",
    "\n",
    "- Click **New Deployment Space**.\n",
    "- Create an empty space.\n",
    "- View new space.\n",
    "- Go to **Manage** bookmark.\n",
    "- Copy `space_id` and paste it below.\n",
    "\n",
    "**Tip**: You can also use the API to prepare the space for your work. Learn more [here](https://github.com/IBM/watson-machine-learning-samples/blob/master/cpd4.0/notebooks/python_sdk/instance-management/Space%20management.ipynb).\n",
    "\n",
    "**Action**: assign or update space ID below."
   ]
  },
  {
   "cell_type": "markdown",
   "metadata": {
    "id": "0611fca2-c5a6-4941-a5fc-59147e3d82f0"
   },
   "source": [
    "### Deployment creation"
   ]
  },
  {
   "cell_type": "code",
   "execution_count": null,
   "metadata": {
    "id": "5b941849-83d6-4954-8833-993b126d62a2",
    "pycharm": {
     "name": "#%%\n"
    }
   },
   "outputs": [],
   "source": [
    "target_space_id = \"PUT_YOUR_TARGET_SPACE_ID_HERE\"\n",
    "\n",
    "from ibm_watson_machine_learning.deployment import WebService\n",
    "\n",
    "service = WebService(\n",
    "    source_wml_credentials=wml_credentials,\n",
    "    target_wml_credentials=wml_credentials,\n",
    "    source_project_id=experiment_metadata['project_id'],\n",
    "    target_space_id=target_space_id\n",
    ")\n",
    "service.create(\n",
    "    model=best_pipeline_name,\n",
    "    metadata=experiment_metadata,\n",
    "    deployment_name='Best_pipeline_webservice'\n",
    ")"
   ]
  },
  {
   "cell_type": "markdown",
   "metadata": {
    "id": "72cfd757-a404-4e60-86ab-23896a063d43"
   },
   "source": [
    "Use the `print` method for the deployment object to show basic information about the service: "
   ]
  },
  {
   "cell_type": "code",
   "execution_count": null,
   "metadata": {
    "id": "f33d49e4-9266-4bbf-acf6-597ce4000246",
    "pycharm": {
     "name": "#%%\n"
    }
   },
   "outputs": [],
   "source": [
    "print(service)"
   ]
  },
  {
   "cell_type": "markdown",
   "metadata": {
    "id": "6f741d88-6a9d-4809-a4fc-dd6de6e1b689"
   },
   "source": [
    "To show all available information about the deployment use the `.get_params()` method."
   ]
  },
  {
   "cell_type": "code",
   "execution_count": null,
   "metadata": {
    "id": "41d54a69-09c5-4993-9fe2-e44b0fc95a7b",
    "pycharm": {
     "name": "#%%\n"
    }
   },
   "outputs": [],
   "source": [
    "service.get_params()"
   ]
  },
  {
   "cell_type": "markdown",
   "metadata": {
    "id": "41751dc4-e0e4-42f7-9f30-0d543f1a528b"
   },
   "source": [
    "### Scoring of webservice\n",
    "You can make scoring request by calling `score()` on the deployed pipeline."
   ]
  },
  {
   "cell_type": "markdown",
   "metadata": {
    "id": "e6e71cdb-79dc-47eb-bf2e-c116a86f2517",
    "pycharm": {
     "name": "#%% md\n"
    }
   },
   "source": [
    "If you want to work with the web service in an external Python application, follow these steps to retrieve the service object:\n",
    "\n",
    " - Initialize the service by `service = WebService(target_wml_credentials=wml_credentials,target_space_id=experiment_metadata['space_id'])`\n",
    " - Get deployment_id by `service.list()` method\n",
    " - Get webservice object by `service.get('deployment_id')` method\n",
    "\n",
    "After that you can call `service.score(score_records_df)` method. The `score()` method accepts `pandas.DataFrame` object. "
   ]
  },
  {
   "cell_type": "markdown",
   "metadata": {
    "id": "73957953-dbb5-48a7-8822-bdc81cf03ef0"
   },
   "source": [
    "<a id=\"cleanup\"></a>\n",
    "### Deleting deployment\n",
    "You can delete the existing deployment by calling the `service.delete()` command.\n",
    "To list the existing web services, use `service.list()`."
   ]
  },
  {
   "cell_type": "markdown",
   "metadata": {
    "id": "f2939ea2-4789-4a27-a4d5-5954520351c5"
   },
   "source": [
    "<a id=\"run\"></a>\n",
    "\n",
    "## Running AutoAI experiment with Python API"
   ]
  },
  {
   "cell_type": "markdown",
   "metadata": {
    "id": "fd1d53fe-0e86-4265-9f4f-9836e4750309"
   },
   "source": [
    "If you want to run the AutoAI experiment using the Python API, follow these. The experiment settings were generated basing on parameters set in the AutoAI UI.\n"
   ]
  },
  {
   "cell_type": "markdown",
   "metadata": {
    "id": "da06e7ea-1279-444b-bd2d-de0cf041345a",
    "pycharm": {
     "name": "#%%\n"
    }
   },
   "source": [
    "```\n",
    "from ibm_watson_machine_learning.experiment import AutoAI\n",
    "\n",
    "experiment = AutoAI(wml_credentials, project_id=experiment_metadata['project_id'])\n",
    "```"
   ]
  },
  {
   "cell_type": "markdown",
   "metadata": {
    "id": "20e50a39-df82-42d8-9057-bec429221ae1"
   },
   "source": [
    "```\n",
    "OPTIMIZER_NAME = 'custom_name'\n",
    "```"
   ]
  },
  {
   "cell_type": "markdown",
   "metadata": {
    "id": "0b98cd8b-eee3-4d89-b521-f05c03459d66",
    "pycharm": {
     "name": "#%% raw\n"
    }
   },
   "source": [
    "```\n",
    "from ibm_watson_machine_learning.helpers import DataConnection\n",
    "from ibm_watson_machine_learning.helpers import FSLocation\n",
    "\n",
    "training_data_reference = [\n",
    "    DataConnection(\n",
    "        data_asset_id='4ea5abf4-f695-46d4-888c-6db25d5a7b2f'\n",
    "    ),\n",
    "]\n",
    "training_result_reference = DataConnection(\n",
    "    location=FSLocation(\n",
    "        path='/projects/44b8751c-098f-484b-8c66-ebf128cdd731/assets/auto_ml/bd8a8621-10e2-46f0-ad5a-3ffefafddf24/wml_data/b955d67e-d129-4931-9d8d-706442c24d98/data/automl'\n",
    "    )\n",
    ")\n",
    "```"
   ]
  },
  {
   "cell_type": "markdown",
   "metadata": {
    "id": "44bba0e4-586f-4268-8a9a-b171d9d7890c"
   },
   "source": [
    "The new pipeline optimizer will be created and training will be triggered."
   ]
  },
  {
   "cell_type": "markdown",
   "metadata": {
    "id": "9a683f52-14df-40b6-9b7a-2e7c41b218ce",
    "pycharm": {
     "name": "#%%raw\n"
    }
   },
   "source": [
    "```\n",
    "pipeline_optimizer = experiment.optimizer(\n",
    "    name=OPTIMIZER_NAME,\n",
    "    prediction_type=experiment_metadata['prediction_type'],\n",
    "    prediction_column=experiment_metadata['prediction_column'],\n",
    "    scoring=experiment_metadata['scoring'],\n",
    "    holdout_size=experiment_metadata['holdout_size'],\n",
    "    csv_separator=experiment_metadata['csv_separator'],\n",
    "    positive_label=experiment_metadata['positive_label'],\n",
    "    drop_duplicates=experiment_metadata['drop_duplicates'],\n",
    "    train_sample_columns_index_list=experiment_metadata['train_sample_columns_index_list'],\n",
    "    include_only_estimators=experiment_metadata['include_only_estimators']\n",
    ")\n",
    "```"
   ]
  },
  {
   "cell_type": "markdown",
   "metadata": {
    "id": "b2af5974-6d2a-46c4-a0b8-d2a71b098150",
    "pycharm": {
     "name": "#%% md\n"
    }
   },
   "source": [
    "```\n",
    "pipeline_optimizer.fit(\n",
    "    training_data_reference=training_data_reference,\n",
    "    training_results_reference=training_result_reference,\n",
    "    background_mode=False,\n",
    ")\n",
    "```"
   ]
  },
  {
   "cell_type": "markdown",
   "metadata": {
    "id": "99840cfe-c916-4ed3-badb-7f51ba223664"
   },
   "source": [
    "\n",
    "<a id=\"next_steps\"></a>\n",
    "# Next steps\n",
    "\n",
    "#### [Online Documentation](https://www.ibm.com/support/producthub/icpdata/docs/content/SSQNUZ_latest/cpd/overview/relnotes-4.0.html)"
   ]
  },
  {
   "cell_type": "markdown",
   "metadata": {
    "id": "80d68819-4af1-463f-8992-d7fd22be8e0f"
   },
   "source": [
    "<a id=\"copyrights\"></a>\n",
    "### Copyrights\n",
    "\n",
    "Licensed Materials - Copyright © 2021 IBM. This notebook and its source code are released under the terms of the ILAN License.\n",
    "Use, duplication disclosure restricted by GSA ADP Schedule Contract with IBM Corp.\n",
    "\n",
    "**Note:** The auto-generated notebooks are subject to the International License Agreement for Non-Warranted Programs (or equivalent) and License Information document for Watson Studio Auto-generated Notebook (License Terms), such agreements located in the link below. Specifically, the Source Components and Sample Materials clause included in the License Information document for Watson Studio Auto-generated Notebook applies to the auto-generated notebooks.  \n",
    "\n",
    "By downloading, copying, accessing, or otherwise using the materials, you agree to the <a href=\"http://www14.software.ibm.com/cgi-bin/weblap/lap.pl?li_formnum=L-AMCU-BYC7LF\">License Terms</a>  \n",
    "\n",
    "___"
   ]
  }
 ],
 "metadata": {
  "kernelspec": {
   "display_name": "Python 3.7",
   "language": "python",
   "name": "python3"
  },
  "language_info": {
   "codemirror_mode": {
    "name": "ipython",
    "version": 3
   },
   "file_extension": ".py",
   "mimetype": "text/x-python",
   "name": "python",
   "nbconvert_exporter": "python",
   "pygments_lexer": "ipython3",
   "version": "3.7.11"
  },
  "pycharm": {
   "stem_cell": {
    "cell_type": "raw",
    "metadata": {
     "collapsed": false
    },
    "source": [
     "\n"
    ]
   }
  }
 },
 "nbformat": 4,
 "nbformat_minor": 4
}
