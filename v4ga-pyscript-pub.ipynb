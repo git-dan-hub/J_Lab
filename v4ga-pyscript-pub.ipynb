{
 "cells": [
  {
   "cell_type": "markdown",
   "metadata": {},
   "source": [
    "# PyScript - Deployment"
   ]
  },
  {
   "cell_type": "code",
   "execution_count": null,
   "metadata": {},
   "outputs": [],
   "source": []
  },
  {
   "cell_type": "markdown",
   "metadata": {},
   "source": [
    "### Install WML Python Client"
   ]
  },
  {
   "cell_type": "markdown",
   "metadata": {},
   "source": [
    "### Specify WML credentials and initialize WML client"
   ]
  },
  {
   "cell_type": "code",
   "execution_count": 1,
   "metadata": {},
   "outputs": [],
   "source": [
    "\n",
    "\n",
    "\n",
    "wml_credentials_401x86_SVT = {\n",
    "    \"url\": \"https://cpd-zen.apps.cpd40devops2.cp.fyre.ibm.com\",\n",
    "    \"username\": \"admin\",\n",
    "    \"password\": \"Xx0xiMMUjKFhYre78a65VkPJSCuIJE7e\",\n",
    "    \"instance_id\": \"wml_local\",\n",
    "    \"version\" : \"4.0\" ,\n",
    "    \"space_id\": \"93a8cce8-8292-424e-8f02-795b4d78aa26\"\n",
    "}\n",
    "\n",
    "\n",
    "wml_credentials =  wml_credentials_401x86_SVT\n",
    "\n"
   ]
  },
  {
   "cell_type": "code",
   "execution_count": 2,
   "metadata": {},
   "outputs": [
    {
     "name": "stdout",
     "output_type": "stream",
     "text": [
      "DEPRECATED!! Python 3.6 framework is deprecated and will be removed on Jan 20th, 2021. It will be read-only mode starting Nov 20th, 2020. i.e you won't be able to create new assets using this client. Use Python 3.7 instead. For details, see https://dataplatform.cloud.ibm.com/docs/content/wsj/analyze-data/pm_service_supported_frameworks.html\n"
     ]
    },
    {
     "name": "stderr",
     "output_type": "stream",
     "text": [
      "2021-07-21 19:38:24,709 - ibm_watson_machine_learning.wml_client_error - WARNING - Failure during creating new asset. (POST https://api.dataplatform.dev.cloud.ibm.com/v2/assets?version=2020-08-01&space_id=440ada9b-af87-4da8-a9fa-a5450825e260)\n",
      "Status code: 500, body: {\"trace\":\"3g6qekq35lc0b9e9763hyyxb2\",\"errors\":[{\"code\":\"ReservedValue\",\"message\":\"NGPDL3080E: We encountered a problem. '500 Internal Server Error at https://03f2006b-f00d-4659-b3bf-c3768a87ec43-bluemix.cloudant. Error: unknown_error. Reason: function_clause.'\"}]}\n"
     ]
    }
   ],
   "source": [
    "from ibm_watson_machine_learning import APIClient\n",
    "client = APIClient(wml_credentials)"
   ]
  },
  {
   "cell_type": "raw",
   "metadata": {},
   "source": [
    "client.version"
   ]
  },
  {
   "cell_type": "raw",
   "metadata": {},
   "source": [
    "client.spaces.list()"
   ]
  },
  {
   "cell_type": "code",
   "execution_count": 3,
   "metadata": {},
   "outputs": [],
   "source": [
    "space_id = wml_credentials['space_id']"
   ]
  },
  {
   "cell_type": "code",
   "execution_count": 4,
   "metadata": {},
   "outputs": [
    {
     "data": {
      "text/plain": [
       "'SUCCESS'"
      ]
     },
     "execution_count": 4,
     "metadata": {},
     "output_type": "execute_result"
    }
   ],
   "source": [
    "client.set.default_space(space_id)"
   ]
  },
  {
   "cell_type": "raw",
   "metadata": {},
   "source": [
    "client.spaces.list_members(\"9f445f30-1bf9-422b-b2cd-52ab5a8d2f63\")"
   ]
  },
  {
   "cell_type": "markdown",
   "metadata": {},
   "source": [
    "### Create space and set it as default for rest of the operations in this session"
   ]
  },
  {
   "cell_type": "raw",
   "metadata": {},
   "source": [
    "space_id = client.spaces.store(meta_props={client.spaces.ConfigurationMetaNames.NAME: \"Kspace\"})[\"metadata\"][\"guid\"]\n",
    "space_id"
   ]
  },
  {
   "cell_type": "raw",
   "metadata": {},
   "source": [
    "client.spaces.list()"
   ]
  },
  {
   "cell_type": "raw",
   "metadata": {},
   "source": [
    "client.spaces.delete(\"5a432ac2-7fdf-4716-8ef8-b38abae09731\")"
   ]
  },
  {
   "cell_type": "code",
   "execution_count": 5,
   "metadata": {},
   "outputs": [
    {
     "data": {
      "text/plain": [
       "'SUCCESS'"
      ]
     },
     "execution_count": 5,
     "metadata": {},
     "output_type": "execute_result"
    }
   ],
   "source": [
    "client.set.default_space(space_id)"
   ]
  },
  {
   "cell_type": "raw",
   "metadata": {},
   "source": [
    "client.software_specifications.list()"
   ]
  },
  {
   "cell_type": "markdown",
   "metadata": {},
   "source": [
    "### Create a software specification and associate package extensions created in earlier steps to the software specification"
   ]
  },
  {
   "cell_type": "markdown",
   "metadata": {},
   "source": [
    "Get base software spec id"
   ]
  },
  {
   "cell_type": "code",
   "execution_count": 5,
   "metadata": {},
   "outputs": [
    {
     "data": {
      "text/plain": [
       "'c2057dd4-f42c-5f77-a02f-72bdbd3282c9'"
      ]
     },
     "execution_count": 5,
     "metadata": {},
     "output_type": "execute_result"
    }
   ],
   "source": [
    "base_sw_spec_id = client.software_specifications.get_uid_by_name(\"default_py3.7_opence\")\n",
    "\n",
    "# base_sw_spec_id = client.software_specifications.get_uid_by_name(\"default_py3.8\")\n",
    "\n",
    "base_sw_spec_id"
   ]
  },
  {
   "cell_type": "code",
   "execution_count": null,
   "metadata": {},
   "outputs": [],
   "source": []
  },
  {
   "cell_type": "code",
   "execution_count": 6,
   "metadata": {},
   "outputs": [],
   "source": [
    "### Py script code:"
   ]
  },
  {
   "cell_type": "code",
   "execution_count": 7,
   "metadata": {},
   "outputs": [
    {
     "name": "stdout",
     "output_type": "stream",
     "text": [
      "Writing /tmp/CreateSwSpec_script.py\n"
     ]
    }
   ],
   "source": [
    "%%writefile /tmp/CreateSwSpec_script.py\n",
    "\n",
    "import sys\n",
    "import time\n",
    "import os\n",
    "# sys.path.append(\"/opt/ibm/scoring/python/cust-libs\")\n",
    "outfname = os.path.join(os.environ.get('BATCH_OUTPUT_DIR'),\"swspec.log\")\n",
    "f = open(outfname, \"w\")\n",
    "try:\n",
    "    \n",
    "    f.write(\"wml_util ok\")\n",
    "except Exception as ex:\n",
    "    f.write(\"wml_util failed: \" + repr(sys.exc_info()[0]))\n",
    "    f.write(\"sys path:\")\n",
    "    f.write(sys.path)\n",
    "   \n",
    "f.close()\n",
    "# time.sleep(600)\n",
    "\n",
    "#"
   ]
  },
  {
   "cell_type": "code",
   "execution_count": 8,
   "metadata": {},
   "outputs": [
    {
     "name": "stdout",
     "output_type": "stream",
     "text": [
      "\r\n",
      "import sys\r\n",
      "import time\r\n",
      "import os\r\n",
      "# sys.path.append(\"/opt/ibm/scoring/python/cust-libs\")\r\n",
      "outfname = os.path.join(os.environ.get('BATCH_OUTPUT_DIR'),\"swspec.log\")\r\n",
      "f = open(outfname, \"w\")\r\n",
      "try:\r\n",
      "    \r\n",
      "    f.write(\"wml_util ok\")\r\n",
      "except Exception as ex:\r\n",
      "    f.write(\"wml_util failed: \" + repr(sys.exc_info()[0]))\r\n",
      "    f.write(\"sys path:\")\r\n",
      "    f.write(sys.path)\r\n",
      "   \r\n",
      "f.close()\r\n",
      "# time.sleep(600)\r\n",
      "\r\n",
      "#\r\n"
     ]
    }
   ],
   "source": [
    "!cat /tmp/CreateSwSpec_script.py"
   ]
  },
  {
   "cell_type": "code",
   "execution_count": 9,
   "metadata": {},
   "outputs": [],
   "source": [
    "meta_props = {\n",
    "    client.script.ConfigurationMetaNames.NAME: \"FVTPyScript\",\n",
    "    client.script.ConfigurationMetaNames.SOFTWARE_SPEC_UID: base_sw_spec_id  # required\n",
    "}"
   ]
  },
  {
   "cell_type": "code",
   "execution_count": 11,
   "metadata": {},
   "outputs": [
    {
     "name": "stdout",
     "output_type": "stream",
     "text": [
      "Creating Script asset...\n",
      "SUCCESS\n",
      "created script  75d2fcb1-85d5-4c69-9c2d-e65198358bfc\n"
     ]
    }
   ],
   "source": [
    "script_path = \"/tmp/CreateSwSpec_script.py\"\n",
    "script_details = client.script.store(meta_props, file_path=script_path)\n",
    "script_id = client.script.get_uid(script_details)\n",
    "print(\"created script \",script_id)"
   ]
  },
  {
   "cell_type": "code",
   "execution_count": 12,
   "metadata": {},
   "outputs": [
    {
     "data": {
      "text/plain": [
       "{'metadata': {'space_id': '440ada9b-af87-4da8-a9fa-a5450825e260',\n",
       "  'name': 'FVTPyScript',\n",
       "  'guid': '75d2fcb1-85d5-4c69-9c2d-e65198358bfc',\n",
       "  'href': 'https://api.dataplatform.dev.cloud.ibm.com/v2/assets/75d2fcb1-85d5-4c69-9c2d-e65198358bfc?space_id=440ada9b-af87-4da8-a9fa-a5450825e260',\n",
       "  'asset_type': 'script',\n",
       "  'created_at': '2021-07-21T14:09:56Z',\n",
       "  'last_updated_at': '2021-07-21T14:09:56Z',\n",
       "  'description': ''},\n",
       " 'entity': {'script': {'language': {'name': 'python3'},\n",
       "   'software_spec': {'base_id': 'c2057dd4-f42c-5f77-a02f-72bdbd3282c9'}}}}"
      ]
     },
     "execution_count": 12,
     "metadata": {},
     "output_type": "execute_result"
    }
   ],
   "source": [
    "script_details"
   ]
  },
  {
   "cell_type": "markdown",
   "metadata": {},
   "source": [
    "## Deployment "
   ]
  },
  {
   "cell_type": "code",
   "execution_count": 13,
   "metadata": {},
   "outputs": [
    {
     "name": "stdout",
     "output_type": "stream",
     "text": [
      "\n",
      "\n",
      "#######################################################################################\n",
      "\n",
      "Synchronous deployment creation for uid: '75d2fcb1-85d5-4c69-9c2d-e65198358bfc' started\n",
      "\n",
      "#######################################################################################\n",
      "\n",
      "\n",
      "ready.\n",
      "\n",
      "\n",
      "------------------------------------------------------------------------------------------------\n",
      "Successfully finished deployment creation, deployment_uid='4aa43ea2-84a8-4f83-95a8-e19a3f8a954d'\n",
      "------------------------------------------------------------------------------------------------\n",
      "\n",
      "\n"
     ]
    }
   ],
   "source": [
    "deployment_meta_props = {\n",
    "    client.deployments.ConfigurationMetaNames.NAME: \"pyscript_batch_dep\",\n",
    "    client.deployments.ConfigurationMetaNames.BATCH: {},\n",
    "    client.deployments.ConfigurationMetaNames.HARDWARE_SPEC: {'name': 'S' }\n",
    "}\n",
    "deployment_details = client.deployments.create(script_id, deployment_meta_props)\n",
    "deployment_id = client.deployments.get_uid(deployment_details)"
   ]
  },
  {
   "cell_type": "markdown",
   "metadata": {},
   "source": [
    "### RUn job"
   ]
  },
  {
   "cell_type": "code",
   "execution_count": 14,
   "metadata": {},
   "outputs": [],
   "source": [
    "def poll_async_job(wml_client, job_uid):\n",
    "    import time\n",
    "    while True:\n",
    "        job_status = wml_client.deployments.get_job_status(job_uid)\n",
    "        print(job_status)\n",
    "        state = job_status['state']\n",
    "        if state == 'completed' or 'fail' in state:\n",
    "            return wml_client.deployments.get_job_details(job_uid)\n",
    "        time.sleep(5)"
   ]
  },
  {
   "cell_type": "code",
   "execution_count": 15,
   "metadata": {},
   "outputs": [],
   "source": [
    "job_payload_ref = {\n",
    "    client.deployments.ScoringMetaNames.OUTPUT_DATA_REFERENCE: {\n",
    "        'type': 'data_asset',\n",
    "        'location': { 'name': 'deploy_test_script-out' }\n",
    "    }\n",
    "}\n",
    "job = client.deployments.create_job(deployment_id, meta_props=job_payload_ref)\n",
    "job_id = client.deployments.get_job_uid(job)\n"
   ]
  },
  {
   "cell_type": "code",
   "execution_count": 16,
   "metadata": {},
   "outputs": [
    {
     "name": "stdout",
     "output_type": "stream",
     "text": [
      "{'completed_at': '', 'running_at': '', 'state': 'queued'}\n",
      "{'completed_at': '', 'running_at': '', 'state': 'queued'}\n",
      "{'completed_at': '2021-07-21T14:11:10.181546Z', 'running_at': '2021-07-21T14:11:08.260646Z', 'state': 'completed'}\n"
     ]
    }
   ],
   "source": [
    "job_details = poll_async_job(client, job_id)"
   ]
  },
  {
   "cell_type": "code",
   "execution_count": null,
   "metadata": {},
   "outputs": [],
   "source": []
  },
  {
   "cell_type": "code",
   "execution_count": null,
   "metadata": {},
   "outputs": [],
   "source": []
  },
  {
   "cell_type": "code",
   "execution_count": null,
   "metadata": {},
   "outputs": [],
   "source": []
  },
  {
   "cell_type": "markdown",
   "metadata": {},
   "source": [
    "### clean up"
   ]
  },
  {
   "cell_type": "code",
   "execution_count": 17,
   "metadata": {},
   "outputs": [
    {
     "data": {
      "text/plain": [
       "'SUCCESS'"
      ]
     },
     "execution_count": 17,
     "metadata": {},
     "output_type": "execute_result"
    }
   ],
   "source": [
    "client.deployments.delete(deployment_id)"
   ]
  },
  {
   "cell_type": "code",
   "execution_count": 34,
   "metadata": {},
   "outputs": [
    {
     "data": {
      "text/plain": [
       "'SUCCESS'"
      ]
     },
     "execution_count": 34,
     "metadata": {},
     "output_type": "execute_result"
    }
   ],
   "source": [
    "client.script.delete(script_id)"
   ]
  },
  {
   "cell_type": "markdown",
   "metadata": {},
   "source": [
    "#### TO download a script"
   ]
  },
  {
   "cell_type": "code",
   "execution_count": 19,
   "metadata": {},
   "outputs": [
    {
     "name": "stdout",
     "output_type": "stream",
     "text": [
      "Successfully saved data asset content to file: 'fvt-pyscript.py'\n"
     ]
    },
    {
     "data": {
      "text/plain": [
       "'/Users/Shared/Relocated-Items/Security/safe/dev/ngp/standalone/notebooks/fvt-pyscript.py'"
      ]
     },
     "execution_count": 19,
     "metadata": {},
     "output_type": "execute_result"
    }
   ],
   "source": [
    "client.script.download(\"b3d9d99b-55ec-4339-8741-78b0a420a408\", filename=\"fvt-pyscript.py\")"
   ]
  },
  {
   "cell_type": "code",
   "execution_count": null,
   "metadata": {},
   "outputs": [],
   "source": []
  }
 ],
 "metadata": {
  "kernelspec": {
   "display_name": "Python 3",
   "language": "python",
   "name": "python3"
  },
  "language_info": {
   "codemirror_mode": {
    "name": "ipython",
    "version": 3
   },
   "file_extension": ".py",
   "mimetype": "text/x-python",
   "name": "python",
   "nbconvert_exporter": "python",
   "pygments_lexer": "ipython3",
   "version": "3.7.10"
  }
 },
 "nbformat": 4,
 "nbformat_minor": 2
}
