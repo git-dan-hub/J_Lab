{
 "cells": [
  {
   "cell_type": "markdown",
   "metadata": {
    "id": "3368fecd-f8f0-4a11-8948-3a1c9e1cf486"
   },
   "source": [
    "### <b>Import Packages</b>"
   ]
  },
  {
   "cell_type": "code",
   "execution_count": 12,
   "metadata": {
    "id": "9251e0c2-83fe-4e08-826e-86d94707bb52",
    "tags": []
   },
   "outputs": [],
   "source": [
    "import pandas as pd\n",
    "import numpy as np\n",
    "import sklearn as sk\n",
    "import seaborn as sns\n",
    "import matplotlib.pyplot as plt\n",
    "from sklearn.preprocessing import OneHotEncoder\n",
    "#sk.__version__"
   ]
  },
  {
   "cell_type": "markdown",
   "metadata": {
    "id": "49014fbb-a647-480f-a115-d0f35a14929e"
   },
   "source": [
    "### <b>Import Data</b>"
   ]
  },
  {
   "cell_type": "code",
   "execution_count": 4,
   "metadata": {
    "id": "61ba0332-6397-4d7e-9757-81b8d9a2cfe6",
    "tags": []
   },
   "outputs": [],
   "source": [
    "# df_h = pd.read_csv('/project_data/data_asset/Sample Heloc Data Dummy Values.csv')\n",
    "# df_h.head()"
   ]
  },
  {
   "cell_type": "code",
   "execution_count": 236,
   "metadata": {
    "id": "6e1a4538-9570-4373-8e44-a3e23e295a4c",
    "scrolled": true,
    "tags": []
   },
   "outputs": [
    {
     "data": {
      "text/html": [
       "<div>\n",
       "<style scoped>\n",
       "    .dataframe tbody tr th:only-of-type {\n",
       "        vertical-align: middle;\n",
       "    }\n",
       "\n",
       "    .dataframe tbody tr th {\n",
       "        vertical-align: top;\n",
       "    }\n",
       "\n",
       "    .dataframe thead th {\n",
       "        text-align: right;\n",
       "    }\n",
       "</style>\n",
       "<table border=\"1\" class=\"dataframe\">\n",
       "  <thead>\n",
       "    <tr style=\"text-align: right;\">\n",
       "      <th></th>\n",
       "      <th>HALF</th>\n",
       "      <th>DOWNNUM</th>\n",
       "      <th>YARDSTOGO</th>\n",
       "      <th>SCOREDIFF</th>\n",
       "      <th>TIMELEFT</th>\n",
       "      <th>DOWNNAME</th>\n",
       "      <th>TRUEFIELD</th>\n",
       "      <th>YARDSGAINED_Mean</th>\n",
       "      <th>AVG_OVER_TOGO</th>\n",
       "      <th>PLAYIDSTR</th>\n",
       "      <th>RUN_PASS</th>\n",
       "      <th>CONCEPT_8</th>\n",
       "      <th>CONCEPT_9</th>\n",
       "      <th>pred_TD</th>\n",
       "      <th>prob_TD_NO</th>\n",
       "      <th>prob_TD_YES</th>\n",
       "      <th>pred_FIRST</th>\n",
       "      <th>prob_FIRST_NO</th>\n",
       "      <th>prob_FIRST_YES</th>\n",
       "    </tr>\n",
       "  </thead>\n",
       "  <tbody>\n",
       "    <tr>\n",
       "      <th>0</th>\n",
       "      <td>0</td>\n",
       "      <td>0</td>\n",
       "      <td>5</td>\n",
       "      <td>0</td>\n",
       "      <td>480</td>\n",
       "      <td>1st</td>\n",
       "      <td>35</td>\n",
       "      <td>6.36</td>\n",
       "      <td>1.272</td>\n",
       "      <td>100000020</td>\n",
       "      <td>RUN</td>\n",
       "      <td>2</td>\n",
       "      <td>0</td>\n",
       "      <td>N</td>\n",
       "      <td>0.989180609</td>\n",
       "      <td>0.010819391</td>\n",
       "      <td>N</td>\n",
       "      <td>0.562406343</td>\n",
       "      <td>0.437593657</td>\n",
       "    </tr>\n",
       "  </tbody>\n",
       "</table>\n",
       "</div>"
      ],
      "text/plain": [
       "  HALF DOWNNUM YARDSTOGO SCOREDIFF TIMELEFT DOWNNAME TRUEFIELD  \\\n",
       "0  0    0       5         0         480      1st      35         \n",
       "\n",
       "  YARDSGAINED_Mean AVG_OVER_TOGO  PLAYIDSTR RUN_PASS CONCEPT_8 CONCEPT_9  \\\n",
       "0  6.36             1.272         100000020  RUN      2         0          \n",
       "\n",
       "  pred_TD   prob_TD_NO  prob_TD_YES pred_FIRST prob_FIRST_NO prob_FIRST_YES  \n",
       "0  N       0.989180609  0.010819391  N          0.562406343   0.437593657    "
      ]
     },
     "execution_count": 236,
     "metadata": {},
     "output_type": "execute_result"
    }
   ],
   "source": [
    "import itc_utils.flight_service as itcfs\n",
    "\n",
    "readClient = itcfs.get_flight_client()\n",
    "\n",
    "nb_data_request = {'data_name': \"\"\"Test_fields_100821_results.csv\"\"\", 'interaction_properties': {}}\n",
    "\n",
    "flightInfo = itcfs.get_flight_info(readClient, nb_data_request=nb_data_request)\n",
    "\n",
    "df1 = itcfs.read_pandas_and_concat(readClient, flightInfo)\n",
    "df1.head(1)"
   ]
  },
  {
   "cell_type": "code",
   "execution_count": 208,
   "metadata": {
    "id": "37793952-770b-4989-8257-2c18f42b1f81",
    "tags": []
   },
   "outputs": [
    {
     "data": {
      "text/plain": [
       "Index(['HALF', 'DOWNNUM', 'YARDSTOGO', 'SCOREDIFF', 'TIMELEFT', 'DOWNNAME',\n",
       "       'TRUEFIELD', 'YARDSGAINED_Mean', 'AVG_OVER_TOGO', 'PLAYIDSTR',\n",
       "       'RUN_PASS', 'CONCEPT_8', 'CONCEPT_9', 'pred_TD', 'prob_TD_NO',\n",
       "       'prob_TD_YES', 'pred_FIRST', 'prob_FIRST_NO', 'prob_FIRST_YES'],\n",
       "      dtype='object')"
      ]
     },
     "execution_count": 208,
     "metadata": {},
     "output_type": "execute_result"
    }
   ],
   "source": [
    "df1.columns"
   ]
  },
  {
   "cell_type": "code",
   "execution_count": 245,
   "metadata": {
    "id": "269987cb-e22a-4766-b56c-9a912d9aae6f",
    "tags": []
   },
   "outputs": [],
   "source": [
    "import pandas as pd\n",
    "import numpy as np\n",
    "import sklearn as sk\n",
    "import seaborn as sns\n",
    "import matplotlib.pyplot as plt\n",
    "from sklearn.preprocessing import OneHotEncoder\n",
    "\n",
    "\n",
    "def transform_mydata(data):\n",
    "    ## To drop variables from a dataframe, simply list the ones you want to keep. Can pass to a new dataframe (as here) or drop from original\n",
    "    df = data\n",
    "    df = pd.DataFrame(df, columns=['YARDSTOGO', 'SCOREDIFF', 'TIMELEFT', 'DOWNNAME','TRUEFIELD','RUN_PASS',\n",
    "       'CONCEPT_8', 'CONCEPT_9','YARDSGAINED_Mean', 'AVG_OVER_TOGO', 'prob_FIRST_YES','pred_FIRST'])\n",
    "\n",
    "    ## Re-Name columns as needed by casting new column names using the .columns method. New columns names will be applied in order and must be same length as number of existing columns.\n",
    "    df.columns = ['YARDSTOGO', 'SCOREDIFF', 'TIMELEFT', 'DOWNNAME','TRUEFIELD','RUN_PASS',\n",
    "       'CONCEPT_8', 'CONCEPT_9','YARDSGAINED_Mean', 'AVG_OVER_TOGO', 'prob_FIRST','TARGET_1ST']\n",
    "\n",
    "    ## Convert numeric fields to numeric so that they can be explored and used for analysis\n",
    "    df[['YARDSTOGO','SCOREDIFF','TIMELEFT','TRUEFIELD','YARDSGAINED_Mean','AVG_OVER_TOGO',\n",
    "       'CONCEPT_8','CONCEPT_9','prob_FIRST']] = df[['YARDSTOGO','SCOREDIFF','TIMELEFT','TRUEFIELD','YARDSGAINED_Mean','AVG_OVER_TOGO',\n",
    "       'CONCEPT_8','CONCEPT_9','prob_FIRST']].apply(pd.to_numeric)\n",
    "\n",
    "    df.TARGET_1ST = df.TARGET_1ST.replace({'N': 0,'Y': 1})\n",
    "\n",
    "    ## Use the bins= parameter to specify the desired cut points for bins \n",
    "    df['TEE'] = pd.cut(df.YARDSTOGO, bins=[0, 3, 6, 10, 100],  labels=[\"SHORT\",\"MED\",\"LONG\",\"XLONG\"], include_lowest=True)\n",
    "\n",
    "    ## For sample stratification, we need to add a variable to capture the fields on which we want to stratify\n",
    "    df['STRAT_1ST'] = df['TEE'].astype(str) + df['DOWNNAME'].astype(str) + df['TARGET_1ST'].astype(str)\n",
    "        \n",
    "    df['PLAYID'] = df['RUN_PASS'] + df['CONCEPT_8'].astype(str)\n",
    "\n",
    "    #bin_data = pd.get_dummies(df[['RUN_PASS','PLAYID','TEE','DOWNNAME']]) ## list the fields which you want to encode\n",
    "    #bin_data = bin_data.drop(['RUN_PASS_PASS'], axis=1) ## where the target field is binary, first field can be dropped\n",
    "\n",
    "    df = df.drop(['RUN_PASS','PLAYID','TEE','DOWNNAME'], axis=1) ## drop original fields\n",
    "    print(df.columns)\n",
    "    #df = pd.concat([df, bin_data], axis=1)\n",
    "    \n",
    "    return(df)"
   ]
  },
  {
   "cell_type": "code",
   "execution_count": 204,
   "metadata": {
    "id": "89e2cef9-9aa1-47b5-b845-20a621eecce4",
    "tags": []
   },
   "outputs": [
    {
     "data": {
      "text/html": [
       "<div>\n",
       "<style scoped>\n",
       "    .dataframe tbody tr th:only-of-type {\n",
       "        vertical-align: middle;\n",
       "    }\n",
       "\n",
       "    .dataframe tbody tr th {\n",
       "        vertical-align: top;\n",
       "    }\n",
       "\n",
       "    .dataframe thead th {\n",
       "        text-align: right;\n",
       "    }\n",
       "</style>\n",
       "<table border=\"1\" class=\"dataframe\">\n",
       "  <thead>\n",
       "    <tr style=\"text-align: right;\">\n",
       "      <th></th>\n",
       "      <th>YARDSTOGO</th>\n",
       "      <th>SCOREDIFF</th>\n",
       "      <th>TIMELEFT</th>\n",
       "      <th>TRUEFIELD</th>\n",
       "      <th>CONCEPT_8</th>\n",
       "      <th>CONCEPT_9</th>\n",
       "      <th>YARDSGAINED_Mean</th>\n",
       "      <th>AVG_OVER_TOGO</th>\n",
       "      <th>prob_FIRST</th>\n",
       "      <th>RUN_PASS_RUN</th>\n",
       "      <th>PLAYID_PASS4</th>\n",
       "      <th>PLAYID_PASS5</th>\n",
       "      <th>PLAYID_PASS6</th>\n",
       "      <th>PLAYID_PASS7</th>\n",
       "      <th>PLAYID_PASS8</th>\n",
       "      <th>PLAYID_PASS9</th>\n",
       "      <th>PLAYID_RUN1</th>\n",
       "      <th>PLAYID_RUN2</th>\n",
       "      <th>PLAYID_RUN3</th>\n",
       "      <th>PLAYID_RUN5</th>\n",
       "      <th>TEE_SHORT</th>\n",
       "      <th>TEE_MED</th>\n",
       "      <th>TEE_LONG</th>\n",
       "      <th>TEE_XLONG</th>\n",
       "      <th>DOWNNAME_1st</th>\n",
       "      <th>DOWNNAME_3rd</th>\n",
       "    </tr>\n",
       "  </thead>\n",
       "  <tbody>\n",
       "    <tr>\n",
       "      <th>0</th>\n",
       "      <td>5</td>\n",
       "      <td>0</td>\n",
       "      <td>480</td>\n",
       "      <td>35</td>\n",
       "      <td>2</td>\n",
       "      <td>0</td>\n",
       "      <td>6.36</td>\n",
       "      <td>1.272</td>\n",
       "      <td>0.437594</td>\n",
       "      <td>1</td>\n",
       "      <td>0</td>\n",
       "      <td>0</td>\n",
       "      <td>0</td>\n",
       "      <td>0</td>\n",
       "      <td>0</td>\n",
       "      <td>0</td>\n",
       "      <td>0</td>\n",
       "      <td>1</td>\n",
       "      <td>0</td>\n",
       "      <td>0</td>\n",
       "      <td>0</td>\n",
       "      <td>1</td>\n",
       "      <td>0</td>\n",
       "      <td>0</td>\n",
       "      <td>1</td>\n",
       "      <td>0</td>\n",
       "    </tr>\n",
       "  </tbody>\n",
       "</table>\n",
       "</div>"
      ],
      "text/plain": [
       "   YARDSTOGO  SCOREDIFF  TIMELEFT  TRUEFIELD  CONCEPT_8  CONCEPT_9  \\\n",
       "0  5          0          480       35         2          0           \n",
       "\n",
       "   YARDSGAINED_Mean  AVG_OVER_TOGO  prob_FIRST  RUN_PASS_RUN  PLAYID_PASS4  \\\n",
       "0  6.36              1.272          0.437594    1             0              \n",
       "\n",
       "   PLAYID_PASS5  PLAYID_PASS6  PLAYID_PASS7  PLAYID_PASS8  PLAYID_PASS9  \\\n",
       "0  0             0             0             0             0              \n",
       "\n",
       "   PLAYID_RUN1  PLAYID_RUN2  PLAYID_RUN3  PLAYID_RUN5  TEE_SHORT  TEE_MED  \\\n",
       "0  0            1            0            0            0          1         \n",
       "\n",
       "   TEE_LONG  TEE_XLONG  DOWNNAME_1st  DOWNNAME_3rd  \n",
       "0  0         0          1             0             "
      ]
     },
     "execution_count": 204,
     "metadata": {},
     "output_type": "execute_result"
    }
   ],
   "source": [
    "pd.set_option('display.max_columns', None)\n",
    "df.head(1)"
   ]
  },
  {
   "cell_type": "code",
   "execution_count": 205,
   "metadata": {
    "id": "51445d87-4b89-410e-b01f-5acfc1d72fc7",
    "tags": []
   },
   "outputs": [
    {
     "data": {
      "text/plain": [
       "26"
      ]
     },
     "execution_count": 205,
     "metadata": {},
     "output_type": "execute_result"
    }
   ],
   "source": [
    "len(df.columns)"
   ]
  },
  {
   "cell_type": "code",
   "execution_count": 80,
   "metadata": {
    "id": "276c37e2-a9e1-4400-96d3-f2527cab68a7",
    "tags": []
   },
   "outputs": [
    {
     "name": "stdout",
     "output_type": "stream",
     "text": [
      "<class 'pandas.core.frame.DataFrame'>\n",
      "RangeIndex: 10000 entries, 0 to 9999\n",
      "Data columns (total 19 columns):\n",
      " #   Column            Non-Null Count  Dtype \n",
      "---  ------            --------------  ----- \n",
      " 0   HALF              10000 non-null  object\n",
      " 1   DOWNNUM           10000 non-null  object\n",
      " 2   YARDSTOGO         10000 non-null  object\n",
      " 3   SCOREDIFF         10000 non-null  object\n",
      " 4   TIMELEFT          10000 non-null  object\n",
      " 5   DOWNNAME          10000 non-null  object\n",
      " 6   TRUEFIELD         10000 non-null  object\n",
      " 7   YARDSGAINED_Mean  10000 non-null  object\n",
      " 8   AVG_OVER_TOGO     10000 non-null  object\n",
      " 9   PLAYIDSTR         10000 non-null  object\n",
      " 10  RUN_PASS          10000 non-null  object\n",
      " 11  CONCEPT_8         10000 non-null  object\n",
      " 12  CONCEPT_9         10000 non-null  object\n",
      " 13  pred_TD           10000 non-null  object\n",
      " 14  prob_TD_NO        10000 non-null  object\n",
      " 15  prob_TD_YES       10000 non-null  object\n",
      " 16  pred_FIRST        10000 non-null  object\n",
      " 17  prob_FIRST_NO     10000 non-null  object\n",
      " 18  prob_FIRST_YES    10000 non-null  object\n",
      "dtypes: object(19)\n",
      "memory usage: 1.4+ MB\n"
     ]
    }
   ],
   "source": [
    "df1.info()"
   ]
  },
  {
   "cell_type": "code",
   "execution_count": 246,
   "metadata": {
    "id": "a63b8b23-2d57-4bc0-8caf-ba39075d590c",
    "tags": []
   },
   "outputs": [
    {
     "name": "stdout",
     "output_type": "stream",
     "text": [
      "Index(['YARDSTOGO', 'SCOREDIFF', 'TIMELEFT', 'TRUEFIELD', 'CONCEPT_8',\n",
      "       'CONCEPT_9', 'YARDSGAINED_Mean', 'AVG_OVER_TOGO', 'prob_FIRST',\n",
      "       'TARGET_1ST', 'STRAT_1ST'],\n",
      "      dtype='object')\n"
     ]
    },
    {
     "data": {
      "text/html": [
       "<div>\n",
       "<style scoped>\n",
       "    .dataframe tbody tr th:only-of-type {\n",
       "        vertical-align: middle;\n",
       "    }\n",
       "\n",
       "    .dataframe tbody tr th {\n",
       "        vertical-align: top;\n",
       "    }\n",
       "\n",
       "    .dataframe thead th {\n",
       "        text-align: right;\n",
       "    }\n",
       "</style>\n",
       "<table border=\"1\" class=\"dataframe\">\n",
       "  <thead>\n",
       "    <tr style=\"text-align: right;\">\n",
       "      <th></th>\n",
       "      <th>YARDSTOGO</th>\n",
       "      <th>SCOREDIFF</th>\n",
       "      <th>TIMELEFT</th>\n",
       "      <th>TRUEFIELD</th>\n",
       "      <th>CONCEPT_8</th>\n",
       "      <th>CONCEPT_9</th>\n",
       "      <th>YARDSGAINED_Mean</th>\n",
       "      <th>AVG_OVER_TOGO</th>\n",
       "      <th>prob_FIRST</th>\n",
       "      <th>TARGET_1ST</th>\n",
       "      <th>STRAT_1ST</th>\n",
       "    </tr>\n",
       "  </thead>\n",
       "  <tbody>\n",
       "    <tr>\n",
       "      <th>0</th>\n",
       "      <td>5</td>\n",
       "      <td>0</td>\n",
       "      <td>480</td>\n",
       "      <td>35</td>\n",
       "      <td>2</td>\n",
       "      <td>0</td>\n",
       "      <td>6.360000</td>\n",
       "      <td>1.272000</td>\n",
       "      <td>0.437594</td>\n",
       "      <td>0</td>\n",
       "      <td>MED1st0</td>\n",
       "    </tr>\n",
       "    <tr>\n",
       "      <th>1</th>\n",
       "      <td>9</td>\n",
       "      <td>-7</td>\n",
       "      <td>1050</td>\n",
       "      <td>45</td>\n",
       "      <td>5</td>\n",
       "      <td>4</td>\n",
       "      <td>4.756098</td>\n",
       "      <td>0.528455</td>\n",
       "      <td>0.560704</td>\n",
       "      <td>1</td>\n",
       "      <td>LONG1st1</td>\n",
       "    </tr>\n",
       "    <tr>\n",
       "      <th>2</th>\n",
       "      <td>4</td>\n",
       "      <td>7</td>\n",
       "      <td>600</td>\n",
       "      <td>5</td>\n",
       "      <td>4</td>\n",
       "      <td>9</td>\n",
       "      <td>8.164835</td>\n",
       "      <td>2.041209</td>\n",
       "      <td>0.608032</td>\n",
       "      <td>1</td>\n",
       "      <td>MED3rd1</td>\n",
       "    </tr>\n",
       "    <tr>\n",
       "      <th>3</th>\n",
       "      <td>11</td>\n",
       "      <td>7</td>\n",
       "      <td>180</td>\n",
       "      <td>45</td>\n",
       "      <td>4</td>\n",
       "      <td>1</td>\n",
       "      <td>6.216667</td>\n",
       "      <td>0.565152</td>\n",
       "      <td>0.323197</td>\n",
       "      <td>0</td>\n",
       "      <td>XLONG1st0</td>\n",
       "    </tr>\n",
       "    <tr>\n",
       "      <th>4</th>\n",
       "      <td>1</td>\n",
       "      <td>0</td>\n",
       "      <td>60</td>\n",
       "      <td>45</td>\n",
       "      <td>8</td>\n",
       "      <td>5</td>\n",
       "      <td>13.416667</td>\n",
       "      <td>13.416667</td>\n",
       "      <td>0.391505</td>\n",
       "      <td>0</td>\n",
       "      <td>SHORT1st0</td>\n",
       "    </tr>\n",
       "  </tbody>\n",
       "</table>\n",
       "</div>"
      ],
      "text/plain": [
       "   YARDSTOGO  SCOREDIFF  TIMELEFT  TRUEFIELD  CONCEPT_8  CONCEPT_9  \\\n",
       "0  5          0          480       35         2          0           \n",
       "1  9         -7          1050      45         5          4           \n",
       "2  4          7          600       5          4          9           \n",
       "3  11         7          180       45         4          1           \n",
       "4  1          0          60        45         8          5           \n",
       "\n",
       "   YARDSGAINED_Mean  AVG_OVER_TOGO  prob_FIRST  TARGET_1ST  STRAT_1ST  \n",
       "0  6.360000          1.272000       0.437594    0           MED1st0    \n",
       "1  4.756098          0.528455       0.560704    1           LONG1st1   \n",
       "2  8.164835          2.041209       0.608032    1           MED3rd1    \n",
       "3  6.216667          0.565152       0.323197    0           XLONG1st0  \n",
       "4  13.416667         13.416667      0.391505    0           SHORT1st0  "
      ]
     },
     "execution_count": 246,
     "metadata": {},
     "output_type": "execute_result"
    }
   ],
   "source": [
    "df = transform_mydata(df1)\n",
    "df.head()"
   ]
  },
  {
   "cell_type": "code",
   "execution_count": 142,
   "metadata": {
    "id": "abab56a3-fcc5-4f4a-8b30-cad8e6ea9a15",
    "tags": []
   },
   "outputs": [
    {
     "data": {
      "text/plain": [
       "(10000, 19)"
      ]
     },
     "execution_count": 142,
     "metadata": {},
     "output_type": "execute_result"
    }
   ],
   "source": [
    "df1.shape"
   ]
  },
  {
   "cell_type": "markdown",
   "metadata": {
    "id": "e4f83483-50b2-484a-b2fe-8620195bb4c6",
    "tags": []
   },
   "source": [
    "## <b>Data Selection for Model Build</b>"
   ]
  },
  {
   "cell_type": "markdown",
   "metadata": {
    "id": "a6491cc4-7015-4a00-b4d8-80f6b3eb2259"
   },
   "source": [
    " ### Model Build"
   ]
  },
  {
   "cell_type": "markdown",
   "metadata": {
    "id": "a6e4b75d496049428f188bfa5f64b70c"
   },
   "source": [
    "We will build 2 models to predict First Down, one using Logistic Regression and one with Cross-Validation."
   ]
  },
  {
   "cell_type": "markdown",
   "metadata": {
    "id": "37bb5d78ee784f4580a98cb229773d33"
   },
   "source": [
    "#### Data Preparation is complete. Step 1 is Sample Splitting "
   ]
  },
  {
   "cell_type": "markdown",
   "metadata": {
    "id": "cd7b5bba564146adb7cf0a7845cd83fd"
   },
   "source": [
    "First we will save a validation sample for testing the batch deployment"
   ]
  },
  {
   "cell_type": "code",
   "execution_count": 247,
   "metadata": {
    "id": "4e2c2f113cc94050866c26ade18ab18a",
    "tags": []
   },
   "outputs": [
    {
     "name": "stdout",
     "output_type": "stream",
     "text": [
      "8000\n"
     ]
    }
   ],
   "source": [
    "model_df = df.sample(frac=0.8, random_state=100)\n",
    "#valid_df = df[~df.index.isin(model_df.index)]\n",
    "print(len(model_df)) #,len(valid_df))"
   ]
  },
  {
   "cell_type": "markdown",
   "metadata": {
    "id": "62f575c339684932b9499b0e50a6721b"
   },
   "source": [
    "Working with First Down predictions, we split the data, stratifying on selected data fields, always including y </br>\n",
    "If desired, we can use the substitute scaled data for raw input variables. They have already been transformed into the appropriate array. "
   ]
  },
  {
   "cell_type": "code",
   "execution_count": 248,
   "metadata": {
    "id": "c47b593fb3194af98712716dfcac0f0f",
    "tags": []
   },
   "outputs": [],
   "source": [
    "from sklearn.model_selection import train_test_split\n",
    "\n",
    "## https://scikit-learn.org/stable/modules/generated/sklearn.model_selection.train_test_split.html\n",
    "\n",
    "X = model_df.drop(columns = ['TARGET_1ST','STRAT_1ST'], axis = 1) ## We are using the same input variables, so the same scaled data will work. Only change is the target and stratification variables.\n",
    "y = model_df['TARGET_1ST'].values\n",
    "\n",
    "train_X, test_X, train_y, test_y = train_test_split(X, y, test_size=0.2, stratify = model_df.STRAT_1ST, random_state=121)"
   ]
  },
  {
   "cell_type": "code",
   "execution_count": 267,
   "metadata": {
    "id": "8c200cee-a5f8-4dd3-9243-44a7488c6f62",
    "tags": []
   },
   "outputs": [
    {
     "data": {
      "text/html": [
       "<div>\n",
       "<style scoped>\n",
       "    .dataframe tbody tr th:only-of-type {\n",
       "        vertical-align: middle;\n",
       "    }\n",
       "\n",
       "    .dataframe tbody tr th {\n",
       "        vertical-align: top;\n",
       "    }\n",
       "\n",
       "    .dataframe thead th {\n",
       "        text-align: right;\n",
       "    }\n",
       "</style>\n",
       "<table border=\"1\" class=\"dataframe\">\n",
       "  <thead>\n",
       "    <tr style=\"text-align: right;\">\n",
       "      <th></th>\n",
       "      <th>YARDSTOGO</th>\n",
       "      <th>SCOREDIFF</th>\n",
       "      <th>TIMELEFT</th>\n",
       "      <th>TRUEFIELD</th>\n",
       "      <th>CONCEPT_8</th>\n",
       "      <th>CONCEPT_9</th>\n",
       "      <th>YARDSGAINED_Mean</th>\n",
       "      <th>AVG_OVER_TOGO</th>\n",
       "      <th>prob_FIRST</th>\n",
       "    </tr>\n",
       "  </thead>\n",
       "  <tbody>\n",
       "    <tr>\n",
       "      <th>8018</th>\n",
       "      <td>7</td>\n",
       "      <td>-7</td>\n",
       "      <td>1140</td>\n",
       "      <td>35</td>\n",
       "      <td>7</td>\n",
       "      <td>1</td>\n",
       "      <td>10.717391</td>\n",
       "      <td>1.531056</td>\n",
       "      <td>0.598261</td>\n",
       "    </tr>\n",
       "  </tbody>\n",
       "</table>\n",
       "</div>"
      ],
      "text/plain": [
       "      YARDSTOGO  SCOREDIFF  TIMELEFT  TRUEFIELD  CONCEPT_8  CONCEPT_9  \\\n",
       "8018  7         -7          1140      35         7          1           \n",
       "\n",
       "      YARDSGAINED_Mean  AVG_OVER_TOGO  prob_FIRST  \n",
       "8018  10.717391         1.531056       0.598261    "
      ]
     },
     "execution_count": 267,
     "metadata": {},
     "output_type": "execute_result"
    }
   ],
   "source": [
    "X.head(1)"
   ]
  },
  {
   "cell_type": "markdown",
   "metadata": {
    "id": "8cce6e85d135443faab25fc436c4b6e5"
   },
   "source": [
    "### Based on our findings, we decide to build the CV regression model"
   ]
  },
  {
   "cell_type": "code",
   "execution_count": 250,
   "metadata": {
    "id": "b9001a30f6c34b0f8f94c08671927aa0",
    "tags": []
   },
   "outputs": [],
   "source": [
    "import warnings\n",
    "warnings.filterwarnings(\"ignore\")\n",
    "\n",
    "from sklearn.linear_model import LogisticRegressionCV\n",
    "\n",
    "# fit the model with data using the default parameters\n",
    "cv_logr = LogisticRegressionCV(cv=7, random_state=0).fit(X, y)\n",
    "#cv_logr.get_params()\n",
    "#cv_logr.score(test_X, test_y)"
   ]
  },
  {
   "cell_type": "code",
   "execution_count": 252,
   "metadata": {
    "id": "a5bf775a-be5f-4e98-897c-558a715c67fd",
    "tags": []
   },
   "outputs": [
    {
     "name": "stdout",
     "output_type": "stream",
     "text": [
      "              precision    recall  f1-score   support\n",
      "\n",
      "           0       1.00      0.98      0.99       607\n",
      "           1       0.99      1.00      0.99       993\n",
      "\n",
      "    accuracy                           0.99      1600\n",
      "   macro avg       0.99      0.99      0.99      1600\n",
      "weighted avg       0.99      0.99      0.99      1600\n",
      "\n"
     ]
    }
   ],
   "source": [
    "cv_pred = cv_logr.predict(test_X)\n",
    "\n",
    "report = sk.metrics.classification_report(test_y, cv_pred)\n",
    "print(report)"
   ]
  },
  {
   "cell_type": "code",
   "execution_count": 253,
   "metadata": {
    "id": "745626fab01046febcf07c0857ece76b",
    "scrolled": true,
    "tags": []
   },
   "outputs": [
    {
     "data": {
      "text/plain": [
       "<matplotlib.axes._subplots.AxesSubplot at 0x7f4b2bcefe90>"
      ]
     },
     "execution_count": 253,
     "metadata": {},
     "output_type": "execute_result"
    },
    {
     "data": {
      "image/png": "[encoded data removed]",
      "text/plain": [
       "<Figure size 432x288 with 1 Axes>"
      ]
     },
     "metadata": {
      "needs_background": "light"
     },
     "output_type": "display_data"
    }
   ],
   "source": [
    "cv_probs = cv_logr.predict_proba(test_X)\n",
    "cv_probs\n",
    "\n",
    "sns.distplot(cv_probs, kde=True, hist=True)"
   ]
  },
  {
   "cell_type": "markdown",
   "metadata": {
    "id": "af32241a-2237-473b-a000-6c17e437c61e",
    "tags": []
   },
   "source": [
    "### ROC Curve for Logistic Regression model"
   ]
  },
  {
   "cell_type": "markdown",
   "metadata": {
    "id": "b74c60b5-0659-43ad-90b6-566186da33b4"
   },
   "source": [
    "## Publish the Model by Storing in the Deployment Space"
   ]
  },
  {
   "cell_type": "code",
   "execution_count": 254,
   "metadata": {
    "id": "60798865-437b-4569-b692-45f258cd0aa3",
    "tags": []
   },
   "outputs": [
    {
     "data": {
      "text/plain": [
       "(ibm_watson_machine_learning.client.APIClient, '1.0.173')"
      ]
     },
     "execution_count": 254,
     "metadata": {},
     "output_type": "execute_result"
    }
   ],
   "source": [
    "import os\n",
    "from ibm_watson_machine_learning import APIClient\n",
    "\n",
    "wml_credentials = { \"url\" : os.environ['RUNTIME_ENV_APSX_URL'],        \n",
    "                    \"token\": os.environ['USER_ACCESS_TOKEN'],\n",
    "                    \"instance_id\" : \"openshift\", \n",
    "                    \"version\": \"4.0\"\n",
    "        }\n",
    "\n",
    "wml_client = APIClient(wml_credentials)\n",
    "    \n",
    "type(wml_client), wml_client.version"
   ]
  },
  {
   "cell_type": "code",
   "execution_count": 255,
   "metadata": {
    "id": "491d3947-6326-4875-905a-4b64b474f27d",
    "tags": []
   },
   "outputs": [],
   "source": [
    "from ibm_watson_machine_learning import APIClient\n",
    "\n",
    "client = APIClient(wml_credentials)"
   ]
  },
  {
   "cell_type": "code",
   "execution_count": 256,
   "metadata": {
    "id": "a6f681c0-cf11-491a-b66c-cccd2ab94831",
    "tags": []
   },
   "outputs": [
    {
     "data": {
      "text/plain": [
       "'c2057dd4-f42c-5f77-a02f-72bdbd3282c9'"
      ]
     },
     "execution_count": 256,
     "metadata": {},
     "output_type": "execute_result"
    }
   ],
   "source": [
    "# specify the software specification for the model\n",
    "sw_spec_id = wml_client.software_specifications.get_id_by_name('default_py3.7_opence')\n",
    "sw_spec_id"
   ]
  },
  {
   "cell_type": "code",
   "execution_count": 257,
   "metadata": {
    "id": "45d31b2d-f215-4d99-9fbf-eec943183069",
    "tags": []
   },
   "outputs": [
    {
     "data": {
      "text/plain": [
       "'SUCCESS'"
      ]
     },
     "execution_count": 257,
     "metadata": {},
     "output_type": "execute_result"
    }
   ],
   "source": [
    "# Connect to current WStudio project\n",
    "wml_client.set.default_project(os.environ['PROJECT_ID'])\n",
    "# should return 'SUCCESS'"
   ]
  },
  {
   "cell_type": "code",
   "execution_count": 29,
   "metadata": {
    "id": "92723add-3da2-4905-b216-37bfd5724e19",
    "tags": []
   },
   "outputs": [],
   "source": [
    "#wml_client.spaces.list(limit=100)"
   ]
  },
  {
   "cell_type": "code",
   "execution_count": 258,
   "metadata": {
    "id": "65babe50-c366-4d9a-8cf2-be4e61f22ad1",
    "tags": []
   },
   "outputs": [
    {
     "data": {
      "text/plain": [
       "'e02d8142-d472-4b2f-bd48-34d1f278f5bc'"
      ]
     },
     "execution_count": 258,
     "metadata": {},
     "output_type": "execute_result"
    }
   ],
   "source": [
    "space_id = 'e02d8142-d472-4b2f-bd48-34d1f278f5bc'\n",
    "space_id"
   ]
  },
  {
   "cell_type": "code",
   "execution_count": 259,
   "metadata": {
    "id": "2a33b66b-4e13-4331-aedc-696d2818daac",
    "tags": []
   },
   "outputs": [
    {
     "name": "stdout",
     "output_type": "stream",
     "text": [
      "Unsetting the project_id ...\n"
     ]
    },
    {
     "data": {
      "text/plain": [
       "'SUCCESS'"
      ]
     },
     "execution_count": 259,
     "metadata": {},
     "output_type": "execute_result"
    }
   ],
   "source": [
    "wml_client.set.default_space(space_id)"
   ]
  },
  {
   "cell_type": "code",
   "execution_count": 260,
   "metadata": {
    "id": "6166877e-3539-4b16-b906-407cfc49b5e5",
    "tags": []
   },
   "outputs": [
    {
     "data": {
      "text/plain": [
       "'bb9bb767-cf3e-4154-8749-e077502fc4e1'"
      ]
     },
     "execution_count": 260,
     "metadata": {},
     "output_type": "execute_result"
    }
   ],
   "source": [
    "metadata = {\n",
    "    wml_client.repository.ModelMetaNames.NAME: 'Cross_Val_Model',\n",
    "    wml_client.repository.ModelMetaNames.TYPE: \"scikit-learn_0.23\",\n",
    "    wml_client.repository.ModelMetaNames.SOFTWARE_SPEC_UID: sw_spec_id\n",
    "}\n",
    "\n",
    "model_info = wml_client.repository.store_model(cv_logr,\n",
    "                                               meta_props=metadata,\n",
    "                                               training_data=train_X,\n",
    "                                               feature_names=X.columns,\n",
    "                                               training_target=train_y)\n",
    "\n",
    "model_id = wml_client.repository.get_model_uid(model_info)\n",
    "model_info,\n",
    "model_id"
   ]
  },
  {
   "cell_type": "code",
   "execution_count": 261,
   "metadata": {
    "id": "75f7f70c-eb53-4b57-808f-2f1e705b0151",
    "tags": []
   },
   "outputs": [
    {
     "name": "stdout",
     "output_type": "stream",
     "text": [
      "{\n",
      "  \"entity\": {\n",
      "    \"label_column\": \"l1\",\n",
      "    \"software_spec\": {\n",
      "      \"id\": \"c2057dd4-f42c-5f77-a02f-72bdbd3282c9\",\n",
      "      \"name\": \"default_py3.7_opence\"\n",
      "    },\n",
      "    \"training_data_references\": [\n",
      "      {\n",
      "        \"connection\": {\n",
      "          \"access_key_id\": \"not_applicable\",\n",
      "          \"endpoint_url\": \"not_applicable\",\n",
      "          \"secret_access_key\": \"not_applicable\"\n",
      "        },\n",
      "        \"id\": \"1\",\n",
      "        \"location\": {},\n",
      "        \"schema\": {\n",
      "          \"fields\": [\n",
      "            {\n",
      "              \"name\": \"YARDSTOGO\",\n",
      "              \"type\": \"int64\"\n",
      "            },\n",
      "            {\n",
      "              \"name\": \"SCOREDIFF\",\n",
      "              \"type\": \"int64\"\n",
      "            },\n",
      "            {\n",
      "              \"name\": \"TIMELEFT\",\n",
      "              \"type\": \"int64\"\n",
      "            },\n",
      "            {\n",
      "              \"name\": \"TRUEFIELD\",\n",
      "              \"type\": \"int64\"\n",
      "            },\n",
      "            {\n",
      "              \"name\": \"CONCEPT_8\",\n",
      "              \"type\": \"int64\"\n",
      "            },\n",
      "            {\n",
      "              \"name\": \"CONCEPT_9\",\n",
      "              \"type\": \"int64\"\n",
      "            },\n",
      "            {\n",
      "              \"name\": \"YARDSGAINED_Mean\",\n",
      "              \"type\": \"float64\"\n",
      "            },\n",
      "            {\n",
      "              \"name\": \"AVG_OVER_TOGO\",\n",
      "              \"type\": \"float64\"\n",
      "            },\n",
      "            {\n",
      "              \"name\": \"prob_FIRST\",\n",
      "              \"type\": \"float64\"\n",
      "            }\n",
      "          ],\n",
      "          \"id\": \"1\",\n",
      "          \"type\": \"DataFrame\"\n",
      "        },\n",
      "        \"type\": \"fs\"\n",
      "      }\n",
      "    ],\n",
      "    \"type\": \"scikit-learn_0.23\"\n",
      "  },\n",
      "  \"metadata\": {\n",
      "    \"created_at\": \"2022-02-10T14:29:15.782Z\",\n",
      "    \"id\": \"bb9bb767-cf3e-4154-8749-e077502fc4e1\",\n",
      "    \"modified_at\": \"2022-02-10T14:29:17.100Z\",\n",
      "    \"name\": \"Cross_Val_Model\",\n",
      "    \"owner\": \"1000331030\",\n",
      "    \"resource_key\": \"802d8fcb-7ad3-4c8d-b2ff-0949b0098860\",\n",
      "    \"space_id\": \"e02d8142-d472-4b2f-bd48-34d1f278f5bc\"\n",
      "  },\n",
      "  \"system\": {\n",
      "    \"warnings\": []\n",
      "  }\n",
      "}\n"
     ]
    }
   ],
   "source": [
    "import json\n",
    "\n",
    "print(json.dumps(model_info, indent=2))"
   ]
  },
  {
   "cell_type": "code",
   "execution_count": 283,
   "metadata": {
    "id": "0a8f6895-220a-4932-9933-474cb928bc29",
    "tags": []
   },
   "outputs": [
    {
     "name": "stdout",
     "output_type": "stream",
     "text": [
      "------------------------------------  ----------------  ------------------------  -----------------\n",
      "ID                                    NAME              CREATED                   TYPE\n",
      "bb9bb767-cf3e-4154-8749-e077502fc4e1  Cross_Val_Model   2022-02-10T14:29:15.002Z  scikit-learn_0.23\n",
      "de5e0649-73ce-4aef-b028-bacff5d5847e  FIRST_DOWN_MODEL  2022-01-14T15:14:48.002Z  scikit-learn_0.23\n",
      "------------------------------------  ----------------  ------------------------  -----------------\n"
     ]
    }
   ],
   "source": [
    "wml_client.repository.list_models()"
   ]
  },
  {
   "cell_type": "code",
   "execution_count": 263,
   "metadata": {
    "id": "5048d768-bd16-4ca3-acc4-3a1b28823ed1",
    "tags": []
   },
   "outputs": [],
   "source": [
    "loaded_model = wml_client.repository.load(model_id)"
   ]
  },
  {
   "cell_type": "code",
   "execution_count": 264,
   "metadata": {
    "id": "dd65bb8d-bb15-4ee6-8190-a7efaa1b500c",
    "tags": []
   },
   "outputs": [
    {
     "name": "stdout",
     "output_type": "stream",
     "text": [
      "<class 'sklearn.linear_model._logistic.LogisticRegressionCV'>\n"
     ]
    }
   ],
   "source": [
    "print(type(loaded_model))"
   ]
  },
  {
   "cell_type": "markdown",
   "metadata": {
    "id": "ba2dd9ba-a213-4988-a0c0-f92fe45f85c5"
   },
   "source": [
    "#### Now deploy the model so we can test payload return. For a single item test, we use a synchronous deployment"
   ]
  },
  {
   "cell_type": "code",
   "execution_count": null,
   "metadata": {
    "id": "0b804f28-09c2-4623-b415-0cbff7938518"
   },
   "outputs": [],
   "source": [
    "## We can skip this and next step if creating the model deployment from the UI\n",
    "\n",
    "# metadata = {\n",
    "#     wml_client.deployments.ConfigurationMetaNames.NAME: \"Deployment of scikit model\",\n",
    "#     wml_client.deployments.ConfigurationMetaNames.ONLINE: {}\n",
    "# }\n",
    "# created_deployment = wml_client.deployments.create(model_id, meta_props=metadata)"
   ]
  },
  {
   "cell_type": "code",
   "execution_count": 272,
   "metadata": {
    "id": "9990ec20-ac49-44c5-9957-4493c5c1d3ce",
    "tags": []
   },
   "outputs": [],
   "source": [
    "## Here, the deployment was created in the Deployment Space GUI, saving steps above and below\n",
    "\n",
    "deployment_uid = 'c612e050-ef00-4a07-9604-15d8b2bc8773'"
   ]
  },
  {
   "cell_type": "code",
   "execution_count": null,
   "metadata": {
    "id": "c5a52da8-ba9a-4692-839e-b8b43356b6fa"
   },
   "outputs": [],
   "source": [
    "## The endpoint URL is also available in the deployment space UI\n",
    "\n",
    "# scoring_endpoint = wml_client.deployments.get_scoring_href(created_deployment)\n",
    "# print(scoring_endpoint)"
   ]
  },
  {
   "cell_type": "markdown",
   "metadata": {
    "id": "70a241a5-a834-4f25-9474-6979e0c0cb0b"
   },
   "source": [
    "#### Create a single record payload. This can be used for testing here in the notebook or pasted into the UI as part of integration testing"
   ]
  },
  {
   "cell_type": "code",
   "execution_count": null,
   "metadata": {
    "id": "921a821b-aac1-4670-ac9c-3a271e1bd136"
   },
   "outputs": [],
   "source": []
  },
  {
   "cell_type": "code",
   "execution_count": 273,
   "metadata": {
    "id": "f68f3ea7-0ac5-4d3e-81fb-8c5a954f238e",
    "tags": []
   },
   "outputs": [],
   "source": [
    "payload = { \"input_data\": [{ \"fields\":[\"YARDSTOGO\", \"SCOREDIFF\", \"TIMELEFT\", \"TRUEFIELD\", \"CONCEPT_8\",\n",
    "\"CONCEPT_9\", \"YARDSGAINED_Mean\", \"AVG_OVER_TOGO\", \"prob_FIRST\"],\n",
    " \"values\": [[7,-7,1140,35,7,1,10.717391,1.531056,0.59826]]}]}"
   ]
  },
  {
   "cell_type": "code",
   "execution_count": 274,
   "metadata": {
    "id": "420a916f-5814-4558-a45d-b02f28df1a93",
    "tags": []
   },
   "outputs": [],
   "source": [
    "predictions = wml_client.deployments.score(deployment_uid, payload)"
   ]
  },
  {
   "cell_type": "code",
   "execution_count": 275,
   "metadata": {
    "id": "377f3dfb-dd78-4028-a6ca-6d5fb293d256",
    "tags": []
   },
   "outputs": [
    {
     "name": "stdout",
     "output_type": "stream",
     "text": [
      "{\n",
      "  \"predictions\": [\n",
      "    {\n",
      "      \"fields\": [\n",
      "        \"prediction\",\n",
      "        \"probability\"\n",
      "      ],\n",
      "      \"values\": [\n",
      "        [\n",
      "          1,\n",
      "          [\n",
      "            0.002662501745594348,\n",
      "            0.9973374982544057\n",
      "          ]\n",
      "        ]\n",
      "      ]\n",
      "    }\n",
      "  ]\n",
      "}\n"
     ]
    }
   ],
   "source": [
    "print(json.dumps(predictions, indent=2))"
   ]
  },
  {
   "cell_type": "markdown",
   "metadata": {
    "id": "9a65cd41-fce1-4026-a33b-051ae93e517e"
   },
   "source": [
    "## Export Data back to project space"
   ]
  },
  {
   "cell_type": "code",
   "execution_count": null,
   "metadata": {
    "id": "33083358-dccc-4648-9b4e-2268dd0de138"
   },
   "outputs": [],
   "source": []
  },
  {
   "cell_type": "code",
   "execution_count": null,
   "metadata": {
    "id": "4d37dbe6-2f91-49eb-9055-684edbb1673e"
   },
   "outputs": [],
   "source": []
  },
  {
   "cell_type": "code",
   "execution_count": null,
   "metadata": {
    "id": "25e2eb28-5626-4e48-aa10-bb4f83281dc1"
   },
   "outputs": [],
   "source": []
  },
  {
   "cell_type": "code",
   "execution_count": null,
   "metadata": {
    "id": "a24b8473-3cae-49d6-90e1-3b1bf9a10e27"
   },
   "outputs": [],
   "source": []
  },
  {
   "cell_type": "code",
   "execution_count": 276,
   "metadata": {
    "id": "b4a439586fcd45fb8b5ce9a22f3048bb",
    "tags": []
   },
   "outputs": [
    {
     "name": "stdout",
     "output_type": "stream",
     "text": [
      "8000 2000\n"
     ]
    }
   ],
   "source": [
    "#model_df = df.sample(frac=0.8, random_state=100)\n",
    "valid_df = df1[~df1.index.isin(model_df.index)]\n",
    "print(len(model_df),len(valid_df))\n",
    "#df1"
   ]
  },
  {
   "cell_type": "code",
   "execution_count": 277,
   "metadata": {
    "id": "c4e12c8a-944b-4201-ba03-c25de86dd24b",
    "tags": []
   },
   "outputs": [
    {
     "data": {
      "text/plain": [
       "{'name': 'validation_data.csv',\n",
       " 'asset_type': 'data_asset',\n",
       " 'asset_id': 'data_asset.validationdatacsv',\n",
       " 'attachment_id': '6b948fde-1524-4213-96eb-18602e4b80bb',\n",
       " 'filepath': 'data_asset/validation_data.csv',\n",
       " 'data_size': 214390,\n",
       " 'mime': 'text/csv',\n",
       " 'summary': ['looked up asset', 'selected attachment', 'overwritten file']}"
      ]
     },
     "execution_count": 277,
     "metadata": {},
     "output_type": "execute_result"
    }
   ],
   "source": [
    "from ibm_watson_studio_lib import access_project_or_space\n",
    "wslib = access_project_or_space()\n",
    "wslib.save_data(\"validation_data.csv\", valid_df.to_csv(index=False).encode(),overwrite=True)"
   ]
  },
  {
   "cell_type": "markdown",
   "metadata": {
    "id": "62bf1786-dc59-4379-8d42-a69e47ca1e87"
   },
   "source": [
    "### Re-import saved data and view it"
   ]
  },
  {
   "cell_type": "code",
   "execution_count": 278,
   "metadata": {
    "id": "1686ee2d-5281-480c-b55e-74e8fe5296dd",
    "tags": []
   },
   "outputs": [
    {
     "name": "stdout",
     "output_type": "stream",
     "text": [
      "(2000, 19)\n"
     ]
    },
    {
     "data": {
      "text/html": [
       "<div>\n",
       "<style scoped>\n",
       "    .dataframe tbody tr th:only-of-type {\n",
       "        vertical-align: middle;\n",
       "    }\n",
       "\n",
       "    .dataframe tbody tr th {\n",
       "        vertical-align: top;\n",
       "    }\n",
       "\n",
       "    .dataframe thead th {\n",
       "        text-align: right;\n",
       "    }\n",
       "</style>\n",
       "<table border=\"1\" class=\"dataframe\">\n",
       "  <thead>\n",
       "    <tr style=\"text-align: right;\">\n",
       "      <th></th>\n",
       "      <th>HALF</th>\n",
       "      <th>DOWNNUM</th>\n",
       "      <th>YARDSTOGO</th>\n",
       "      <th>SCOREDIFF</th>\n",
       "      <th>TIMELEFT</th>\n",
       "      <th>DOWNNAME</th>\n",
       "      <th>TRUEFIELD</th>\n",
       "      <th>YARDSGAINED_Mean</th>\n",
       "      <th>AVG_OVER_TOGO</th>\n",
       "      <th>PLAYIDSTR</th>\n",
       "      <th>RUN_PASS</th>\n",
       "      <th>CONCEPT_8</th>\n",
       "      <th>CONCEPT_9</th>\n",
       "      <th>pred_TD</th>\n",
       "      <th>prob_TD_NO</th>\n",
       "      <th>prob_TD_YES</th>\n",
       "      <th>pred_FIRST</th>\n",
       "      <th>prob_FIRST_NO</th>\n",
       "      <th>prob_FIRST_YES</th>\n",
       "    </tr>\n",
       "  </thead>\n",
       "  <tbody>\n",
       "    <tr>\n",
       "      <th>0</th>\n",
       "      <td>0</td>\n",
       "      <td>2</td>\n",
       "      <td>4</td>\n",
       "      <td>7</td>\n",
       "      <td>600</td>\n",
       "      <td>3rd</td>\n",
       "      <td>5</td>\n",
       "      <td>8.164835</td>\n",
       "      <td>2.04120875</td>\n",
       "      <td>200000049</td>\n",
       "      <td>PASS</td>\n",
       "      <td>4</td>\n",
       "      <td>9</td>\n",
       "      <td>N</td>\n",
       "      <td>0.929719852</td>\n",
       "      <td>0.070280148</td>\n",
       "      <td>Y</td>\n",
       "      <td>0.391968242</td>\n",
       "      <td>0.608031758</td>\n",
       "    </tr>\n",
       "    <tr>\n",
       "      <th>1</th>\n",
       "      <td>0</td>\n",
       "      <td>2</td>\n",
       "      <td>1</td>\n",
       "      <td>7</td>\n",
       "      <td>1140</td>\n",
       "      <td>3rd</td>\n",
       "      <td>5</td>\n",
       "      <td>13.16</td>\n",
       "      <td>13.16</td>\n",
       "      <td>200000062</td>\n",
       "      <td>PASS</td>\n",
       "      <td>6</td>\n",
       "      <td>2</td>\n",
       "      <td>N</td>\n",
       "      <td>0.918811506</td>\n",
       "      <td>0.081188494</td>\n",
       "      <td>Y</td>\n",
       "      <td>0.197842735</td>\n",
       "      <td>0.802157265</td>\n",
       "    </tr>\n",
       "    <tr>\n",
       "      <th>2</th>\n",
       "      <td>0</td>\n",
       "      <td>2</td>\n",
       "      <td>7</td>\n",
       "      <td>7</td>\n",
       "      <td>60</td>\n",
       "      <td>3rd</td>\n",
       "      <td>45</td>\n",
       "      <td>5.62</td>\n",
       "      <td>0.802857143</td>\n",
       "      <td>100000031</td>\n",
       "      <td>RUN</td>\n",
       "      <td>3</td>\n",
       "      <td>1</td>\n",
       "      <td>N</td>\n",
       "      <td>0.999992873</td>\n",
       "      <td>7.13E-06</td>\n",
       "      <td>N</td>\n",
       "      <td>0.546142512</td>\n",
       "      <td>0.453857488</td>\n",
       "    </tr>\n",
       "    <tr>\n",
       "      <th>3</th>\n",
       "      <td>0</td>\n",
       "      <td>0</td>\n",
       "      <td>3</td>\n",
       "      <td>-7</td>\n",
       "      <td>975</td>\n",
       "      <td>1st</td>\n",
       "      <td>5</td>\n",
       "      <td>11.895105</td>\n",
       "      <td>3.965035</td>\n",
       "      <td>200000083</td>\n",
       "      <td>PASS</td>\n",
       "      <td>8</td>\n",
       "      <td>3</td>\n",
       "      <td>Y</td>\n",
       "      <td>0.435497017</td>\n",
       "      <td>0.564502983</td>\n",
       "      <td>Y</td>\n",
       "      <td>0.499266757</td>\n",
       "      <td>0.500733243</td>\n",
       "    </tr>\n",
       "    <tr>\n",
       "      <th>4</th>\n",
       "      <td>0</td>\n",
       "      <td>2</td>\n",
       "      <td>4</td>\n",
       "      <td>7</td>\n",
       "      <td>600</td>\n",
       "      <td>3rd</td>\n",
       "      <td>5</td>\n",
       "      <td>5.62</td>\n",
       "      <td>1.405</td>\n",
       "      <td>100000010</td>\n",
       "      <td>RUN</td>\n",
       "      <td>1</td>\n",
       "      <td>0</td>\n",
       "      <td>N</td>\n",
       "      <td>0.621614407</td>\n",
       "      <td>0.378385593</td>\n",
       "      <td>Y</td>\n",
       "      <td>0.455149394</td>\n",
       "      <td>0.544850606</td>\n",
       "    </tr>\n",
       "  </tbody>\n",
       "</table>\n",
       "</div>"
      ],
      "text/plain": [
       "  HALF DOWNNUM YARDSTOGO SCOREDIFF TIMELEFT DOWNNAME TRUEFIELD  \\\n",
       "0  0    2       4         7         600      3rd      5          \n",
       "1  0    2       1         7         1140     3rd      5          \n",
       "2  0    2       7         7         60       3rd      45         \n",
       "3  0    0       3         -7        975      1st      5          \n",
       "4  0    2       4         7         600      3rd      5          \n",
       "\n",
       "  YARDSGAINED_Mean AVG_OVER_TOGO  PLAYIDSTR RUN_PASS CONCEPT_8 CONCEPT_9  \\\n",
       "0  8.164835         2.04120875    200000049  PASS     4         9          \n",
       "1  13.16            13.16         200000062  PASS     6         2          \n",
       "2  5.62             0.802857143   100000031  RUN      3         1          \n",
       "3  11.895105        3.965035      200000083  PASS     8         3          \n",
       "4  5.62             1.405         100000010  RUN      1         0          \n",
       "\n",
       "  pred_TD   prob_TD_NO  prob_TD_YES pred_FIRST prob_FIRST_NO prob_FIRST_YES  \n",
       "0  N       0.929719852  0.070280148  Y          0.391968242   0.608031758    \n",
       "1  N       0.918811506  0.081188494  Y          0.197842735   0.802157265    \n",
       "2  N       0.999992873  7.13E-06     N          0.546142512   0.453857488    \n",
       "3  Y       0.435497017  0.564502983  Y          0.499266757   0.500733243    \n",
       "4  N       0.621614407  0.378385593  Y          0.455149394   0.544850606    "
      ]
     },
     "execution_count": 278,
     "metadata": {},
     "output_type": "execute_result"
    }
   ],
   "source": [
    "import itc_utils.flight_service as itcfs\n",
    "\n",
    "readClient = itcfs.get_flight_client()\n",
    "\n",
    "nb_data_request = {'data_name': \"\"\"validation_data.csv\"\"\", 'interaction_properties': {}}\n",
    "\n",
    "flightInfo = itcfs.get_flight_info(readClient, nb_data_request=nb_data_request)\n",
    "\n",
    "df_val = itcfs.read_pandas_and_concat(readClient, flightInfo)\n",
    "print(df_val.shape)\n",
    "df_val.head()"
   ]
  },
  {
   "cell_type": "code",
   "execution_count": 307,
   "metadata": {
    "id": "18d6a869-c749-4aed-ab2b-6d33d6813394",
    "tags": []
   },
   "outputs": [],
   "source": [
    "def model_batch_score():\n",
    "\n",
    "    import pandas as pd\n",
    "    import numpy as np\n",
    "    import sklearn as sk\n",
    "    import seaborn as sns\n",
    "    import matplotlib.pyplot as plt\n",
    "    from sklearn.preprocessing import OneHotEncoder\n",
    "\n",
    "    # Load model from the deployment space\n",
    "    from ibm_watson_machine_learning import APIClient\n",
    "    import os\n",
    "\n",
    "    wml_credentials = { \"url\" : os.environ['RUNTIME_ENV_APSX_URL'],        \n",
    "                    \"token\": os.environ['USER_ACCESS_TOKEN'],\n",
    "                    \"instance_id\" : \"openshift\", \n",
    "                    \"version\": \"4.0\"\n",
    "        }\n",
    "\n",
    "    wml_client_fn = APIClient(wml_credentials)\n",
    "    \n",
    "    #Space ID taken by pre-running cells above\n",
    "    space_id_fn = 'e02d8142-d472-4b2f-bd48-34d1f278f5bc'\n",
    "    wml_client_fn.set.default_space(space_id_fn)\n",
    "\n",
    "    # Load model from the deployment space\n",
    "    model_obj = wml_client_fn.repository.load('bb9bb767-cf3e-4154-8749-e077502fc4e1')\n",
    "\n",
    "\n",
    "    def transform_mydata(data):    \n",
    "        ## To drop variables from a dataframe, simply list the ones you want to keep. Can pass to a new dataframe (as here) or drop from original\n",
    "        df = data\n",
    "        df = pd.DataFrame(data, columns=[\"HALF\", \"DOWNNUM\", \"YARDSTOGO\", \"SCOREDIFF\", \"TIMELEFT\", \"DOWNNAME\",\n",
    "       \"TRUEFIELD\", \"YARDSGAINED_Mean\", \"AVG_OVER_TOGO\", \"PLAYIDSTR\",\"RUN_PASS\", \"CONCEPT_8\", \"CONCEPT_9\", \"pred_TD\", \"prob_TD_NO\",\n",
    "       \"prob_TD_YES\", \"pred_FIRST\", \"prob_FIRST_NO\", \"prob_FIRST_YES\"])\n",
    "    \n",
    "        df = df.drop(columns = [\"HALF\", \"DOWNNUM\", \"PLAYIDSTR\",\"pred_TD\",\"prob_TD_NO\",\"prob_TD_YES\",\"prob_FIRST_NO\"])\n",
    "\n",
    "        ## Re-Name columns as needed by casting new column names using the .columns method. New columns names will be applied in order and must be same length as number of existing columns.\n",
    "        df.columns = ['YARDSTOGO','SCOREDIFF','TIMELEFT','DOWNNAME','TRUEFIELD','YARDSGAINED_Mean','AVG_OVER_TOGO','RUN_PASS','CONCEPT_8','CONCEPT_9','TARGET_1ST','prob_FIRST']\n",
    "\n",
    "        ## Convert numeric fields to numeric so that they can be explored and used for analysis\n",
    "        df[['YARDSTOGO','SCOREDIFF','TIMELEFT','TRUEFIELD','YARDSGAINED_Mean','AVG_OVER_TOGO',\n",
    "       'CONCEPT_8','CONCEPT_9','prob_FIRST']] = df[['YARDSTOGO','SCOREDIFF','TIMELEFT','TRUEFIELD','YARDSGAINED_Mean','AVG_OVER_TOGO',\n",
    "       'CONCEPT_8','CONCEPT_9','prob_FIRST']].apply(pd.to_numeric)\n",
    "\n",
    "        df.TARGET_1ST = df.TARGET_1ST.replace({'N': 0,'Y': 1})\n",
    "\n",
    "        ## Use the bins= parameter to specify the desired cut points for bins \n",
    "        df['TEE'] = pd.cut(df.YARDSTOGO, bins=[0, 3, 6, 10, 100],  labels=[\"SHORT\",\"MED\",\"LONG\",\"XLONG\"], include_lowest=True)\n",
    "\n",
    "        ## For sample stratification, we need to add a variable to capture the fields on which we want to stratify\n",
    "        df['STRAT_1ST'] = df['TEE'].astype(str) + df['DOWNNAME'].astype(str) + df['TARGET_1ST'].astype(str)\n",
    "        \n",
    "        df['PLAYID'] = df['RUN_PASS'] + df['CONCEPT_8'].astype(str)\n",
    "\n",
    "        #bin_data = pd.get_dummies(df[['RUN_PASS','PLAYID','TEE','DOWNNAME']]) ## list the fields which you want to encode\n",
    "        #bin_data = bin_data.drop(['RUN_PASS_PASS'], axis=1) ## where the target field is binary, first field can be dropped\n",
    "\n",
    "        df = df.drop(['RUN_PASS','PLAYID','TEE','DOWNNAME','TARGET_1ST','STRAT_1ST'], axis=1) ## drop original fields\n",
    "        #df = pd.concat([df, bin_data], axis=1)\n",
    "    \n",
    "        return(df)\n",
    "\n",
    "\n",
    "    def score(df):\n",
    "\n",
    "            #Set cleitn to the function space identified above\n",
    "            wml_client_fn.set.default_space('e02d8142-d472-4b2f-bd48-34d1f278f5bc')\n",
    "\n",
    "            outputs =[]\n",
    "\n",
    "            list_of_records = df.get(\"input_data\")[0].get(\"values\")\n",
    "\n",
    "            new_records = transform_mydata(list_of_records)\n",
    "        \n",
    "            #records = list_of_records[0]\n",
    "\n",
    "            scored = model_obj.predict(new_records)\n",
    "            probs = model_obj.predict_proba(new_records)\n",
    "            payload_output= {\"predictions\": [{\"values\": [scored.tolist(),probs.tolist()]}]}\n",
    "\n",
    "            return payload_output\n",
    "\n",
    "    return score\n"
   ]
  },
  {
   "cell_type": "code",
   "execution_count": 280,
   "metadata": {
    "id": "76de03b9-76d8-4124-8318-3cb9369dbdbe",
    "tags": []
   },
   "outputs": [],
   "source": [
    " payload_batch = { \"input_data\": [{ \"fields\":[ \"HALF\", \"DOWNNUM\", \"YARDSTOGO\", \"SCOREDIFF\", \"TIMELEFT\", \"DOWNNAME\",\"TRUEFIELD\", \"YARDSGAINED_Mean\", \"AVG_OVER_TOGO\", \"PLAYIDSTR\",\"RUN_PASS\", \"CONCEPT_8\", \"CONCEPT_9\", \"pred_TD\", \"prob_TD_NO\",\n",
    "       \"prob_TD_YES\", \"pred_FIRST\", \"prob_FIRST_NO\", \"prob_FIRST_YES\"],\n",
    " \"values\": [[0,0,5,0,480,\"1st\",35,6.36,1.272,100000020,\"RUN\",2,0,\"N\",0.989180609,0.010819391,\"N\",0.562406343,0.437593657]]}]}                                                                          "
   ]
  },
  {
   "cell_type": "code",
   "execution_count": 286,
   "metadata": {
    "id": "52309fb2-683d-4df5-92e8-61907987296c",
    "tags": []
   },
   "outputs": [],
   "source": [
    "data = payload_batch.get(\"input_data\")[0].get(\"values\")"
   ]
  },
  {
   "cell_type": "code",
   "execution_count": null,
   "metadata": {
    "id": "cf4cc6fa-7c29-4ab1-a7db-45f29ee49c3f"
   },
   "outputs": [],
   "source": [
    "transform_mydata(data)"
   ]
  },
  {
   "cell_type": "code",
   "execution_count": 308,
   "metadata": {
    "id": "0f27e393-ddf9-478b-98a4-83aa3ced06ac",
    "tags": []
   },
   "outputs": [
    {
     "data": {
      "text/plain": [
       "{'predictions': [{'values': [[0],\n",
       "    [[0.9457548735113317, 0.05424512648866827]]]}]}"
      ]
     },
     "execution_count": 308,
     "metadata": {},
     "output_type": "execute_result"
    }
   ],
   "source": [
    "model_batch_score()(payload_batch)"
   ]
  },
  {
   "cell_type": "code",
   "execution_count": 305,
   "metadata": {
    "id": "eeb25397-fa28-4caf-8a05-a0dba0193900",
    "tags": []
   },
   "outputs": [
    {
     "name": "stdout",
     "output_type": "stream",
     "text": [
      "Index(['YARDSTOGO', 'SCOREDIFF', 'TIMELEFT', 'TRUEFIELD', 'YARDSGAINED_Mean',\n",
      "       'AVG_OVER_TOGO', 'CONCEPT_8', 'CONCEPT_9', 'prob_FIRST'],\n",
      "      dtype='object')\n",
      "   YARDSTOGO  SCOREDIFF  TIMELEFT  TRUEFIELD  YARDSGAINED_Mean  AVG_OVER_TOGO  \\\n",
      "0  5          0          480       35         6.36              1.272           \n",
      "\n",
      "   CONCEPT_8  CONCEPT_9  prob_FIRST  \n",
      "0  2          0          0.437594    \n",
      "testmyfoot\n"
     ]
    },
    {
     "data": {
      "text/plain": [
       "[{'values': [[0], [[0.9457548735113317, 0.05424512648866827]]]}]"
      ]
     },
     "execution_count": 305,
     "metadata": {},
     "output_type": "execute_result"
    }
   ],
   "source": [
    "my_pred = model_batch_score()(payload_batch)\n",
    "my_preditions = my_pred[\"predictions\"]\n",
    "my_preditions"
   ]
  },
  {
   "cell_type": "markdown",
   "metadata": {
    "id": "fc3a7893-7eaa-4832-a69c-c1c9272732a6"
   },
   "source": [
    "## Deploy Function to the Space"
   ]
  },
  {
   "cell_type": "code",
   "execution_count": 310,
   "metadata": {
    "id": "4a34f1f1-d24c-4cd9-b010-95a257706fd1",
    "tags": []
   },
   "outputs": [],
   "source": [
    "meta_data = {\n",
    "    wml_client.repository.FunctionMetaNames.NAME: 'model_batch_score',\n",
    "    wml_client.repository.FunctionMetaNames.DESCRIPTION: 'model_batch_score',\n",
    "    wml_client.repository.FunctionMetaNames.SOFTWARE_SPEC_UID: sw_spec_id\n",
    "}\n",
    "\n",
    "function_details = wml_client.repository.store_function(meta_props=meta_data, function=model_batch_score)"
   ]
  },
  {
   "cell_type": "code",
   "execution_count": 311,
   "metadata": {
    "id": "3fb6832e-cf1f-4124-a2ef-9b36415aeb98",
    "tags": []
   },
   "outputs": [
    {
     "name": "stdout",
     "output_type": "stream",
     "text": [
      "ff852586-0e98-43f0-94e6-cfe9e82c0044\n"
     ]
    }
   ],
   "source": [
    "function_uid = wml_client.repository.get_function_uid(function_details)\n",
    "print(function_uid)"
   ]
  },
  {
   "cell_type": "code",
   "execution_count": null,
   "metadata": {
    "id": "39c4b65e-75df-484c-98b3-45afbecea123"
   },
   "outputs": [],
   "source": []
  }
 ],
 "metadata": {
  "kernelspec": {
   "display_name": "Python 3.7",
   "language": "python",
   "name": "python3"
  },
  "language_info": {
   "codemirror_mode": {
    "name": "ipython",
    "version": 3
   },
   "file_extension": ".py",
   "mimetype": "text/x-python",
   "name": "python",
   "nbconvert_exporter": "python",
   "pygments_lexer": "ipython3",
   "version": "3.7.11"
  },
  "toc-showtags": true
 },
 "nbformat": 4,
 "nbformat_minor": 4
}
