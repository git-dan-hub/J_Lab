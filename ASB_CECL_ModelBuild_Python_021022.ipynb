{
 "cells": [
  {
   "cell_type": "markdown",
   "metadata": {
    "id": "3368fecd-f8f0-4a11-8948-3a1c9e1cf486"
   },
   "source": [
    "### <b>Import Packages</b>"
   ]
  },
  {
   "cell_type": "code",
   "execution_count": 1,
   "metadata": {
    "id": "9251e0c2-83fe-4e08-826e-86d94707bb52",
    "tags": []
   },
   "outputs": [
    {
     "data": {
      "text/plain": [
       "'0.23.2'"
      ]
     },
     "execution_count": 1,
     "metadata": {},
     "output_type": "execute_result"
    }
   ],
   "source": [
    "import pandas as pd\n",
    "import numpy as np\n",
    "import sklearn as sk\n",
    "import seaborn as sns\n",
    "import matplotlib.pyplot as plt\n",
    "from sklearn.preprocessing import OneHotEncoder\n",
    "#sk.__version__"
   ]
  },
  {
   "cell_type": "markdown",
   "metadata": {
    "id": "49014fbb-a647-480f-a115-d0f35a14929e"
   },
   "source": [
    "### <b>Import Data</b>"
   ]
  },
  {
   "cell_type": "code",
   "execution_count": 4,
   "metadata": {
    "id": "61ba0332-6397-4d7e-9757-81b8d9a2cfe6",
    "tags": []
   },
   "outputs": [],
   "source": [
    "# df_h = pd.read_csv('/project_data/data_asset/Sample Heloc Data Dummy Values.csv')\n",
    "# df_h.head()"
   ]
  },
  {
   "cell_type": "code",
   "execution_count": 3,
   "metadata": {
    "id": "6e1a4538-9570-4373-8e44-a3e23e295a4c",
    "scrolled": true,
    "tags": []
   },
   "outputs": [
    {
     "data": {
      "text/html": [
       "<div>\n",
       "<style scoped>\n",
       "    .dataframe tbody tr th:only-of-type {\n",
       "        vertical-align: middle;\n",
       "    }\n",
       "\n",
       "    .dataframe tbody tr th {\n",
       "        vertical-align: top;\n",
       "    }\n",
       "\n",
       "    .dataframe thead th {\n",
       "        text-align: right;\n",
       "    }\n",
       "</style>\n",
       "<table border=\"1\" class=\"dataframe\">\n",
       "  <thead>\n",
       "    <tr style=\"text-align: right;\">\n",
       "      <th></th>\n",
       "      <th>HALF</th>\n",
       "      <th>DOWNNUM</th>\n",
       "      <th>YARDSTOGO</th>\n",
       "      <th>SCOREDIFF</th>\n",
       "      <th>TIMELEFT</th>\n",
       "      <th>DOWNNAME</th>\n",
       "      <th>TRUEFIELD</th>\n",
       "      <th>YARDSGAINED_Mean</th>\n",
       "      <th>AVG_OVER_TOGO</th>\n",
       "      <th>PLAYIDSTR</th>\n",
       "      <th>RUN_PASS</th>\n",
       "      <th>CONCEPT_8</th>\n",
       "      <th>CONCEPT_9</th>\n",
       "      <th>pred_TD</th>\n",
       "      <th>prob_TD_NO</th>\n",
       "      <th>prob_TD_YES</th>\n",
       "      <th>pred_FIRST</th>\n",
       "      <th>prob_FIRST_NO</th>\n",
       "      <th>prob_FIRST_YES</th>\n",
       "    </tr>\n",
       "  </thead>\n",
       "  <tbody>\n",
       "    <tr>\n",
       "      <th>0</th>\n",
       "      <td>0</td>\n",
       "      <td>0</td>\n",
       "      <td>5</td>\n",
       "      <td>0</td>\n",
       "      <td>480</td>\n",
       "      <td>1st</td>\n",
       "      <td>35</td>\n",
       "      <td>6.36</td>\n",
       "      <td>1.272</td>\n",
       "      <td>100000020</td>\n",
       "      <td>RUN</td>\n",
       "      <td>2</td>\n",
       "      <td>0</td>\n",
       "      <td>N</td>\n",
       "      <td>0.989180609</td>\n",
       "      <td>0.010819391</td>\n",
       "      <td>N</td>\n",
       "      <td>0.562406343</td>\n",
       "      <td>0.437593657</td>\n",
       "    </tr>\n",
       "    <tr>\n",
       "      <th>1</th>\n",
       "      <td>0</td>\n",
       "      <td>0</td>\n",
       "      <td>9</td>\n",
       "      <td>-7</td>\n",
       "      <td>1050</td>\n",
       "      <td>1st</td>\n",
       "      <td>45</td>\n",
       "      <td>4.756098</td>\n",
       "      <td>0.528455333</td>\n",
       "      <td>100000054</td>\n",
       "      <td>RUN</td>\n",
       "      <td>5</td>\n",
       "      <td>4</td>\n",
       "      <td>N</td>\n",
       "      <td>0.999278473</td>\n",
       "      <td>0.000721527</td>\n",
       "      <td>Y</td>\n",
       "      <td>0.439295772</td>\n",
       "      <td>0.560704228</td>\n",
       "    </tr>\n",
       "    <tr>\n",
       "      <th>2</th>\n",
       "      <td>0</td>\n",
       "      <td>2</td>\n",
       "      <td>4</td>\n",
       "      <td>7</td>\n",
       "      <td>600</td>\n",
       "      <td>3rd</td>\n",
       "      <td>5</td>\n",
       "      <td>8.164835</td>\n",
       "      <td>2.04120875</td>\n",
       "      <td>200000049</td>\n",
       "      <td>PASS</td>\n",
       "      <td>4</td>\n",
       "      <td>9</td>\n",
       "      <td>N</td>\n",
       "      <td>0.929719852</td>\n",
       "      <td>0.070280148</td>\n",
       "      <td>Y</td>\n",
       "      <td>0.391968242</td>\n",
       "      <td>0.608031758</td>\n",
       "    </tr>\n",
       "    <tr>\n",
       "      <th>3</th>\n",
       "      <td>0</td>\n",
       "      <td>0</td>\n",
       "      <td>11</td>\n",
       "      <td>7</td>\n",
       "      <td>180</td>\n",
       "      <td>1st</td>\n",
       "      <td>45</td>\n",
       "      <td>6.216667</td>\n",
       "      <td>0.565151545</td>\n",
       "      <td>200000041</td>\n",
       "      <td>PASS</td>\n",
       "      <td>4</td>\n",
       "      <td>1</td>\n",
       "      <td>N</td>\n",
       "      <td>0.999941376</td>\n",
       "      <td>5.86E-05</td>\n",
       "      <td>N</td>\n",
       "      <td>0.676802873</td>\n",
       "      <td>0.323197127</td>\n",
       "    </tr>\n",
       "    <tr>\n",
       "      <th>4</th>\n",
       "      <td>0</td>\n",
       "      <td>0</td>\n",
       "      <td>1</td>\n",
       "      <td>0</td>\n",
       "      <td>60</td>\n",
       "      <td>1st</td>\n",
       "      <td>45</td>\n",
       "      <td>13.416667</td>\n",
       "      <td>13.416667</td>\n",
       "      <td>200000085</td>\n",
       "      <td>PASS</td>\n",
       "      <td>8</td>\n",
       "      <td>5</td>\n",
       "      <td>N</td>\n",
       "      <td>0.800382789</td>\n",
       "      <td>0.199617211</td>\n",
       "      <td>N</td>\n",
       "      <td>0.60849475</td>\n",
       "      <td>0.39150525</td>\n",
       "    </tr>\n",
       "  </tbody>\n",
       "</table>\n",
       "</div>"
      ],
      "text/plain": [
       "  HALF DOWNNUM YARDSTOGO SCOREDIFF TIMELEFT DOWNNAME TRUEFIELD  \\\n",
       "0    0       0         5         0      480      1st        35   \n",
       "1    0       0         9        -7     1050      1st        45   \n",
       "2    0       2         4         7      600      3rd         5   \n",
       "3    0       0        11         7      180      1st        45   \n",
       "4    0       0         1         0       60      1st        45   \n",
       "\n",
       "  YARDSGAINED_Mean AVG_OVER_TOGO  PLAYIDSTR RUN_PASS CONCEPT_8 CONCEPT_9  \\\n",
       "0             6.36         1.272  100000020      RUN         2         0   \n",
       "1         4.756098   0.528455333  100000054      RUN         5         4   \n",
       "2         8.164835    2.04120875  200000049     PASS         4         9   \n",
       "3         6.216667   0.565151545  200000041     PASS         4         1   \n",
       "4        13.416667     13.416667  200000085     PASS         8         5   \n",
       "\n",
       "  pred_TD   prob_TD_NO  prob_TD_YES pred_FIRST prob_FIRST_NO prob_FIRST_YES  \n",
       "0       N  0.989180609  0.010819391          N   0.562406343    0.437593657  \n",
       "1       N  0.999278473  0.000721527          Y   0.439295772    0.560704228  \n",
       "2       N  0.929719852  0.070280148          Y   0.391968242    0.608031758  \n",
       "3       N  0.999941376     5.86E-05          N   0.676802873    0.323197127  \n",
       "4       N  0.800382789  0.199617211          N    0.60849475     0.39150525  "
      ]
     },
     "execution_count": 3,
     "metadata": {},
     "output_type": "execute_result"
    }
   ],
   "source": [
    "import itc_utils.flight_service as itcfs\n",
    "\n",
    "readClient = itcfs.get_flight_client()\n",
    "\n",
    "nb_data_request = {'data_name': \"\"\"Test_fields_100821_results.csv\"\"\", 'interaction_properties': {}}\n",
    "\n",
    "flightInfo = itcfs.get_flight_info(readClient, nb_data_request=nb_data_request)\n",
    "\n",
    "df1 = itcfs.read_pandas_and_concat(readClient, flightInfo)\n",
    "df1.head()"
   ]
  },
  {
   "cell_type": "code",
   "execution_count": 4,
   "metadata": {
    "id": "1d65eea3-650f-4da3-a939-4f56c77630c3",
    "tags": []
   },
   "outputs": [],
   "source": [
    "from mytest_function import transform_mydata"
   ]
  },
  {
   "cell_type": "code",
   "execution_count": 5,
   "metadata": {
    "id": "a63b8b23-2d57-4bc0-8caf-ba39075d590c",
    "tags": []
   },
   "outputs": [
    {
     "data": {
      "text/html": [
       "<div>\n",
       "<style scoped>\n",
       "    .dataframe tbody tr th:only-of-type {\n",
       "        vertical-align: middle;\n",
       "    }\n",
       "\n",
       "    .dataframe tbody tr th {\n",
       "        vertical-align: top;\n",
       "    }\n",
       "\n",
       "    .dataframe thead th {\n",
       "        text-align: right;\n",
       "    }\n",
       "</style>\n",
       "<table border=\"1\" class=\"dataframe\">\n",
       "  <thead>\n",
       "    <tr style=\"text-align: right;\">\n",
       "      <th></th>\n",
       "      <th>YARDSTOGO</th>\n",
       "      <th>SCOREDIFF</th>\n",
       "      <th>TIMELEFT</th>\n",
       "      <th>TRUEFIELD</th>\n",
       "      <th>CONCEPT_8</th>\n",
       "      <th>CONCEPT_9</th>\n",
       "      <th>YARDSGAINED_Mean</th>\n",
       "      <th>AVG_OVER_TOGO</th>\n",
       "      <th>prob_FIRST</th>\n",
       "      <th>TARGET_1ST</th>\n",
       "      <th>...</th>\n",
       "      <th>PLAYID_RUN1</th>\n",
       "      <th>PLAYID_RUN2</th>\n",
       "      <th>PLAYID_RUN3</th>\n",
       "      <th>PLAYID_RUN5</th>\n",
       "      <th>TEE_SHORT</th>\n",
       "      <th>TEE_MED</th>\n",
       "      <th>TEE_LONG</th>\n",
       "      <th>TEE_XLONG</th>\n",
       "      <th>DOWNNAME_1st</th>\n",
       "      <th>DOWNNAME_3rd</th>\n",
       "    </tr>\n",
       "  </thead>\n",
       "  <tbody>\n",
       "    <tr>\n",
       "      <th>0</th>\n",
       "      <td>5</td>\n",
       "      <td>0</td>\n",
       "      <td>480</td>\n",
       "      <td>35</td>\n",
       "      <td>2</td>\n",
       "      <td>0</td>\n",
       "      <td>6.360000</td>\n",
       "      <td>1.272000</td>\n",
       "      <td>0.437594</td>\n",
       "      <td>0</td>\n",
       "      <td>...</td>\n",
       "      <td>0</td>\n",
       "      <td>1</td>\n",
       "      <td>0</td>\n",
       "      <td>0</td>\n",
       "      <td>0</td>\n",
       "      <td>1</td>\n",
       "      <td>0</td>\n",
       "      <td>0</td>\n",
       "      <td>1</td>\n",
       "      <td>0</td>\n",
       "    </tr>\n",
       "    <tr>\n",
       "      <th>1</th>\n",
       "      <td>9</td>\n",
       "      <td>-7</td>\n",
       "      <td>1050</td>\n",
       "      <td>45</td>\n",
       "      <td>5</td>\n",
       "      <td>4</td>\n",
       "      <td>4.756098</td>\n",
       "      <td>0.528455</td>\n",
       "      <td>0.560704</td>\n",
       "      <td>1</td>\n",
       "      <td>...</td>\n",
       "      <td>0</td>\n",
       "      <td>0</td>\n",
       "      <td>0</td>\n",
       "      <td>1</td>\n",
       "      <td>0</td>\n",
       "      <td>0</td>\n",
       "      <td>1</td>\n",
       "      <td>0</td>\n",
       "      <td>1</td>\n",
       "      <td>0</td>\n",
       "    </tr>\n",
       "    <tr>\n",
       "      <th>2</th>\n",
       "      <td>4</td>\n",
       "      <td>7</td>\n",
       "      <td>600</td>\n",
       "      <td>5</td>\n",
       "      <td>4</td>\n",
       "      <td>9</td>\n",
       "      <td>8.164835</td>\n",
       "      <td>2.041209</td>\n",
       "      <td>0.608032</td>\n",
       "      <td>1</td>\n",
       "      <td>...</td>\n",
       "      <td>0</td>\n",
       "      <td>0</td>\n",
       "      <td>0</td>\n",
       "      <td>0</td>\n",
       "      <td>0</td>\n",
       "      <td>1</td>\n",
       "      <td>0</td>\n",
       "      <td>0</td>\n",
       "      <td>0</td>\n",
       "      <td>1</td>\n",
       "    </tr>\n",
       "    <tr>\n",
       "      <th>3</th>\n",
       "      <td>11</td>\n",
       "      <td>7</td>\n",
       "      <td>180</td>\n",
       "      <td>45</td>\n",
       "      <td>4</td>\n",
       "      <td>1</td>\n",
       "      <td>6.216667</td>\n",
       "      <td>0.565152</td>\n",
       "      <td>0.323197</td>\n",
       "      <td>0</td>\n",
       "      <td>...</td>\n",
       "      <td>0</td>\n",
       "      <td>0</td>\n",
       "      <td>0</td>\n",
       "      <td>0</td>\n",
       "      <td>0</td>\n",
       "      <td>0</td>\n",
       "      <td>0</td>\n",
       "      <td>1</td>\n",
       "      <td>1</td>\n",
       "      <td>0</td>\n",
       "    </tr>\n",
       "    <tr>\n",
       "      <th>4</th>\n",
       "      <td>1</td>\n",
       "      <td>0</td>\n",
       "      <td>60</td>\n",
       "      <td>45</td>\n",
       "      <td>8</td>\n",
       "      <td>5</td>\n",
       "      <td>13.416667</td>\n",
       "      <td>13.416667</td>\n",
       "      <td>0.391505</td>\n",
       "      <td>0</td>\n",
       "      <td>...</td>\n",
       "      <td>0</td>\n",
       "      <td>0</td>\n",
       "      <td>0</td>\n",
       "      <td>0</td>\n",
       "      <td>1</td>\n",
       "      <td>0</td>\n",
       "      <td>0</td>\n",
       "      <td>0</td>\n",
       "      <td>1</td>\n",
       "      <td>0</td>\n",
       "    </tr>\n",
       "  </tbody>\n",
       "</table>\n",
       "<p>5 rows × 28 columns</p>\n",
       "</div>"
      ],
      "text/plain": [
       "   YARDSTOGO  SCOREDIFF  TIMELEFT  TRUEFIELD  CONCEPT_8  CONCEPT_9  \\\n",
       "0          5          0       480         35          2          0   \n",
       "1          9         -7      1050         45          5          4   \n",
       "2          4          7       600          5          4          9   \n",
       "3         11          7       180         45          4          1   \n",
       "4          1          0        60         45          8          5   \n",
       "\n",
       "   YARDSGAINED_Mean  AVG_OVER_TOGO  prob_FIRST  TARGET_1ST  ... PLAYID_RUN1  \\\n",
       "0          6.360000       1.272000    0.437594           0  ...           0   \n",
       "1          4.756098       0.528455    0.560704           1  ...           0   \n",
       "2          8.164835       2.041209    0.608032           1  ...           0   \n",
       "3          6.216667       0.565152    0.323197           0  ...           0   \n",
       "4         13.416667      13.416667    0.391505           0  ...           0   \n",
       "\n",
       "   PLAYID_RUN2  PLAYID_RUN3  PLAYID_RUN5  TEE_SHORT  TEE_MED  TEE_LONG  \\\n",
       "0            1            0            0          0        1         0   \n",
       "1            0            0            1          0        0         1   \n",
       "2            0            0            0          0        1         0   \n",
       "3            0            0            0          0        0         0   \n",
       "4            0            0            0          1        0         0   \n",
       "\n",
       "   TEE_XLONG  DOWNNAME_1st  DOWNNAME_3rd  \n",
       "0          0             1             0  \n",
       "1          0             1             0  \n",
       "2          0             0             1  \n",
       "3          1             1             0  \n",
       "4          0             1             0  \n",
       "\n",
       "[5 rows x 28 columns]"
      ]
     },
     "execution_count": 5,
     "metadata": {},
     "output_type": "execute_result"
    }
   ],
   "source": [
    "df = transform_mydata(df1)\n",
    "df.head()"
   ]
  },
  {
   "cell_type": "markdown",
   "metadata": {
    "id": "e4f83483-50b2-484a-b2fe-8620195bb4c6",
    "tags": []
   },
   "source": [
    "## <b>Data Selection for Model Build</b>"
   ]
  },
  {
   "cell_type": "markdown",
   "metadata": {
    "id": "a6491cc4-7015-4a00-b4d8-80f6b3eb2259"
   },
   "source": [
    " ### Model Build"
   ]
  },
  {
   "cell_type": "markdown",
   "metadata": {
    "id": "a6e4b75d496049428f188bfa5f64b70c"
   },
   "source": [
    "We will build 2 models to predict First Down, one using Logistic Regression and one with Cross-Validation."
   ]
  },
  {
   "cell_type": "markdown",
   "metadata": {
    "id": "37bb5d78ee784f4580a98cb229773d33"
   },
   "source": [
    "#### Data Preparation is complete. Step 1 is Sample Splitting "
   ]
  },
  {
   "cell_type": "markdown",
   "metadata": {
    "id": "cd7b5bba564146adb7cf0a7845cd83fd"
   },
   "source": [
    "First we will save a validation sample for testing the batch deployment"
   ]
  },
  {
   "cell_type": "code",
   "execution_count": 6,
   "metadata": {
    "id": "4e2c2f113cc94050866c26ade18ab18a",
    "tags": []
   },
   "outputs": [
    {
     "name": "stdout",
     "output_type": "stream",
     "text": [
      "8000\n"
     ]
    }
   ],
   "source": [
    "model_df = df.sample(frac=0.8, random_state=100)\n",
    "#valid_df = df[~df.index.isin(model_df.index)]\n",
    "print(len(model_df)) #,len(valid_df))"
   ]
  },
  {
   "cell_type": "markdown",
   "metadata": {
    "id": "62f575c339684932b9499b0e50a6721b"
   },
   "source": [
    "Working with First Down predictions, we split the data, stratifying on selected data fields, always including y </br>\n",
    "If desired, we can use the substitute scaled data for raw input variables. They have already been transformed into the appropriate array. "
   ]
  },
  {
   "cell_type": "code",
   "execution_count": 7,
   "metadata": {
    "id": "c47b593fb3194af98712716dfcac0f0f",
    "tags": []
   },
   "outputs": [],
   "source": [
    "from sklearn.model_selection import train_test_split\n",
    "\n",
    "## https://scikit-learn.org/stable/modules/generated/sklearn.model_selection.train_test_split.html\n",
    "\n",
    "X = model_df.drop(columns = ['TARGET_1ST','STRAT_1ST'], axis = 1) ## We are using the same input variables, so the same scaled data will work. Only change is the target and stratification variables.\n",
    "y = model_df['TARGET_1ST'].values\n",
    "\n",
    "train_X, test_X, train_y, test_y = train_test_split(X, y, test_size=0.2, stratify = model_df.STRAT_1ST, random_state=121)"
   ]
  },
  {
   "cell_type": "markdown",
   "metadata": {
    "id": "b7c69ad824a6420d8f11e899247bce82"
   },
   "source": [
    "Now we run the Logistic Regression model"
   ]
  },
  {
   "cell_type": "code",
   "execution_count": 8,
   "metadata": {
    "id": "64690977-1232-4082-ba88-2cf33cf57700",
    "tags": []
   },
   "outputs": [],
   "source": [
    "from sklearn.linear_model import LogisticRegression\n",
    "\n",
    "## https://scikit-learn.org/stable/modules/generated/sklearn.linear_model.LogisticRegression.html\n",
    "# instantiate the model\n",
    "logit = LogisticRegression()\n",
    "\n",
    "# check the default parameters\n",
    "#logit.get_params()"
   ]
  },
  {
   "cell_type": "code",
   "execution_count": 9,
   "metadata": {
    "id": "7c296f31e8c84ed28c770073d80a2dc4",
    "tags": []
   },
   "outputs": [],
   "source": [
    "import warnings\n",
    "\n",
    "#ignore by message\n",
    "warnings.filterwarnings(\"ignore\")\n",
    "\n",
    "# fit the model with data using the default parameters\n",
    "sk_logr = logit.fit(train_X,train_y)\n",
    "#sk_logr.score(test_X, test_y)"
   ]
  },
  {
   "cell_type": "code",
   "execution_count": 10,
   "metadata": {
    "id": "e6eec2fa32654256a0fab4c168e7697c",
    "scrolled": true,
    "tags": []
   },
   "outputs": [
    {
     "name": "stdout",
     "output_type": "stream",
     "text": [
      "              precision    recall  f1-score   support\n",
      "\n",
      "           0       0.73      0.69      0.71       607\n",
      "           1       0.82      0.84      0.83       993\n",
      "\n",
      "    accuracy                           0.78      1600\n",
      "   macro avg       0.77      0.77      0.77      1600\n",
      "weighted avg       0.78      0.78      0.78      1600\n",
      "\n"
     ]
    }
   ],
   "source": [
    "import sklearn.pipeline\n",
    "from sklearn.metrics import roc_curve, roc_auc_score\n",
    "### call pipeline.predict() on your X_test data to make a set of test predictions\n",
    "sk_pred = sk_logr.predict(test_X)\n",
    "\n",
    "### test your predictions using sklearn.classification_report()\n",
    "report = sklearn.metrics.classification_report(test_y, sk_pred)\n",
    "print(report)"
   ]
  },
  {
   "cell_type": "code",
   "execution_count": 11,
   "metadata": {
    "id": "e8cd177a-30a4-45f8-ad6c-446050350e56",
    "tags": []
   },
   "outputs": [
    {
     "data": {
      "text/plain": [
       "0.8287841191066997"
      ]
     },
     "execution_count": 11,
     "metadata": {},
     "output_type": "execute_result"
    }
   ],
   "source": [
    "sklearn.metrics.f1_score(test_y, sk_pred)"
   ]
  },
  {
   "cell_type": "code",
   "execution_count": 12,
   "metadata": {
    "id": "3d7af4a3d91b42758e572896df4d4e0d",
    "scrolled": true,
    "tags": []
   },
   "outputs": [],
   "source": [
    "sk_probs = sk_logr.predict_proba(test_X)\n",
    "#sk_probs"
   ]
  },
  {
   "cell_type": "code",
   "execution_count": 13,
   "metadata": {
    "id": "2d54cf01-b101-4ed7-be97-dc2eaaba15e0",
    "tags": []
   },
   "outputs": [
    {
     "data": {
      "text/plain": [
       "<matplotlib.axes._subplots.AxesSubplot at 0x7fd4b1588dd0>"
      ]
     },
     "execution_count": 13,
     "metadata": {},
     "output_type": "execute_result"
    },
    {
     "data": {
      "image/png": "[encoded data removed]",
      "text/plain": [
       "<Figure size 432x288 with 1 Axes>"
      ]
     },
     "metadata": {
      "needs_background": "light"
     },
     "output_type": "display_data"
    }
   ],
   "source": [
    "sns.distplot(sk_probs, kde=True, hist=True)"
   ]
  },
  {
   "cell_type": "markdown",
   "metadata": {
    "id": "8cce6e85d135443faab25fc436c4b6e5"
   },
   "source": [
    "### Build a second model using Cross Validation"
   ]
  },
  {
   "cell_type": "code",
   "execution_count": 13,
   "metadata": {
    "id": "b9001a30f6c34b0f8f94c08671927aa0",
    "tags": []
   },
   "outputs": [],
   "source": [
    "import warnings\n",
    "warnings.filterwarnings(\"ignore\")\n",
    "\n",
    "from sklearn.linear_model import LogisticRegressionCV\n",
    "\n",
    "# fit the model with data using the default parameters\n",
    "cv_logr = LogisticRegressionCV(cv=7, random_state=0).fit(X, y)\n",
    "#cv_logr.get_params()\n",
    "#cv_logr.score(test_X, test_y)"
   ]
  },
  {
   "cell_type": "code",
   "execution_count": 14,
   "metadata": {
    "id": "1c6aefe4b44a44c880b916ad8d458230",
    "tags": []
   },
   "outputs": [
    {
     "name": "stdout",
     "output_type": "stream",
     "text": [
      "              precision    recall  f1-score   support\n",
      "\n",
      "           0       0.98      0.95      0.97       607\n",
      "           1       0.97      0.99      0.98       993\n",
      "\n",
      "    accuracy                           0.98      1600\n",
      "   macro avg       0.98      0.97      0.97      1600\n",
      "weighted avg       0.98      0.98      0.98      1600\n",
      "\n"
     ]
    }
   ],
   "source": [
    "cv_pred = cv_logr.predict(test_X)\n",
    "\n",
    "report = sklearn.metrics.classification_report(test_y, cv_pred)\n",
    "print(report)"
   ]
  },
  {
   "cell_type": "code",
   "execution_count": 15,
   "metadata": {
    "id": "745626fab01046febcf07c0857ece76b",
    "scrolled": true,
    "tags": []
   },
   "outputs": [
    {
     "data": {
      "text/plain": [
       "<matplotlib.axes._subplots.AxesSubplot at 0x7f89c5b01190>"
      ]
     },
     "execution_count": 15,
     "metadata": {},
     "output_type": "execute_result"
    },
    {
     "data": {
      "image/png": "[encoded data removed]",
      "text/plain": [
       "<Figure size 432x288 with 1 Axes>"
      ]
     },
     "metadata": {
      "needs_background": "light"
     },
     "output_type": "display_data"
    }
   ],
   "source": [
    "cv_probs = cv_logr.predict_proba(test_X)\n",
    "cv_probs\n",
    "\n",
    "sns.distplot(cv_probs, kde=True, hist=True)"
   ]
  },
  {
   "cell_type": "markdown",
   "metadata": {
    "id": "af32241a-2237-473b-a000-6c17e437c61e",
    "tags": []
   },
   "source": [
    "### ROC Curve for Logistic Regression model"
   ]
  },
  {
   "cell_type": "code",
   "execution_count": 16,
   "metadata": {
    "id": "af9cb805-803a-44e4-b38e-d7001c1318c5",
    "tags": []
   },
   "outputs": [],
   "source": [
    "from my_roc_plot import plot_myroc"
   ]
  },
  {
   "cell_type": "code",
   "execution_count": 17,
   "metadata": {
    "id": "09863c813e464d98883191c3f4ae8f7e",
    "tags": []
   },
   "outputs": [
    {
     "data": {
      "image/png": "[encoded data removed]",
      "text/plain": [
       "<Figure size 432x288 with 1 Axes>"
      ]
     },
     "metadata": {
      "needs_background": "light"
     },
     "output_type": "display_data"
    },
    {
     "data": {
      "text/plain": [
       "<module 'matplotlib.pyplot' from '/opt/conda/envs/Python-3.7-OpenCE/lib/python3.7/site-packages/matplotlib/pyplot.py'>"
      ]
     },
     "execution_count": 17,
     "metadata": {},
     "output_type": "execute_result"
    }
   ],
   "source": [
    "myplot = plot_myroc(sk_probs, cv_probs, test_y)\n",
    "myplot"
   ]
  },
  {
   "cell_type": "markdown",
   "metadata": {
    "id": "9a65cd41-fce1-4026-a33b-051ae93e517e"
   },
   "source": [
    "## Export Data back to project space"
   ]
  },
  {
   "cell_type": "code",
   "execution_count": 18,
   "metadata": {
    "id": "b4a439586fcd45fb8b5ce9a22f3048bb"
   },
   "outputs": [
    {
     "name": "stdout",
     "output_type": "stream",
     "text": [
      "8000 2000\n"
     ]
    }
   ],
   "source": [
    "#model_df = df.sample(frac=0.8, random_state=100)\n",
    "valid_df = df1[~df1.index.isin(model_df.index)]\n",
    "print(len(model_df),len(valid_df))\n",
    "#df1"
   ]
  },
  {
   "cell_type": "code",
   "execution_count": 19,
   "metadata": {
    "id": "c4e12c8a-944b-4201-ba03-c25de86dd24b"
   },
   "outputs": [
    {
     "data": {
      "text/plain": [
       "{'name': 'validation_data.csv',\n",
       " 'asset_type': 'data_asset',\n",
       " 'asset_id': 'data_asset.validationdatacsv',\n",
       " 'attachment_id': '6b948fde-1524-4213-96eb-18602e4b80bb',\n",
       " 'filepath': 'data_asset/validation_data.csv',\n",
       " 'data_size': 214390,\n",
       " 'mime': 'text/csv',\n",
       " 'summary': ['looked up asset', 'selected attachment', 'overwritten file']}"
      ]
     },
     "execution_count": 19,
     "metadata": {},
     "output_type": "execute_result"
    }
   ],
   "source": [
    "from ibm_watson_studio_lib import access_project_or_space\n",
    "wslib = access_project_or_space()\n",
    "wslib.save_data(\"validation_data.csv\", valid_df.to_csv(index=False).encode(),overwrite=True)"
   ]
  },
  {
   "cell_type": "markdown",
   "metadata": {
    "id": "62bf1786-dc59-4379-8d42-a69e47ca1e87"
   },
   "source": [
    "### Re-import saved data and view it"
   ]
  },
  {
   "cell_type": "code",
   "execution_count": 20,
   "metadata": {
    "id": "1686ee2d-5281-480c-b55e-74e8fe5296dd"
   },
   "outputs": [
    {
     "name": "stdout",
     "output_type": "stream",
     "text": [
      "(2000, 19)\n"
     ]
    },
    {
     "data": {
      "text/html": [
       "<div>\n",
       "<style scoped>\n",
       "    .dataframe tbody tr th:only-of-type {\n",
       "        vertical-align: middle;\n",
       "    }\n",
       "\n",
       "    .dataframe tbody tr th {\n",
       "        vertical-align: top;\n",
       "    }\n",
       "\n",
       "    .dataframe thead th {\n",
       "        text-align: right;\n",
       "    }\n",
       "</style>\n",
       "<table border=\"1\" class=\"dataframe\">\n",
       "  <thead>\n",
       "    <tr style=\"text-align: right;\">\n",
       "      <th></th>\n",
       "      <th>HALF</th>\n",
       "      <th>DOWNNUM</th>\n",
       "      <th>YARDSTOGO</th>\n",
       "      <th>SCOREDIFF</th>\n",
       "      <th>TIMELEFT</th>\n",
       "      <th>DOWNNAME</th>\n",
       "      <th>TRUEFIELD</th>\n",
       "      <th>YARDSGAINED_Mean</th>\n",
       "      <th>AVG_OVER_TOGO</th>\n",
       "      <th>PLAYIDSTR</th>\n",
       "      <th>RUN_PASS</th>\n",
       "      <th>CONCEPT_8</th>\n",
       "      <th>CONCEPT_9</th>\n",
       "      <th>pred_TD</th>\n",
       "      <th>prob_TD_NO</th>\n",
       "      <th>prob_TD_YES</th>\n",
       "      <th>pred_FIRST</th>\n",
       "      <th>prob_FIRST_NO</th>\n",
       "      <th>prob_FIRST_YES</th>\n",
       "    </tr>\n",
       "  </thead>\n",
       "  <tbody>\n",
       "    <tr>\n",
       "      <th>0</th>\n",
       "      <td>0</td>\n",
       "      <td>2</td>\n",
       "      <td>4</td>\n",
       "      <td>7</td>\n",
       "      <td>600</td>\n",
       "      <td>3rd</td>\n",
       "      <td>5</td>\n",
       "      <td>8.164835</td>\n",
       "      <td>2.04120875</td>\n",
       "      <td>200000049</td>\n",
       "      <td>PASS</td>\n",
       "      <td>4</td>\n",
       "      <td>9</td>\n",
       "      <td>N</td>\n",
       "      <td>0.929719852</td>\n",
       "      <td>0.070280148</td>\n",
       "      <td>Y</td>\n",
       "      <td>0.391968242</td>\n",
       "      <td>0.608031758</td>\n",
       "    </tr>\n",
       "    <tr>\n",
       "      <th>1</th>\n",
       "      <td>0</td>\n",
       "      <td>2</td>\n",
       "      <td>1</td>\n",
       "      <td>7</td>\n",
       "      <td>1140</td>\n",
       "      <td>3rd</td>\n",
       "      <td>5</td>\n",
       "      <td>13.16</td>\n",
       "      <td>13.16</td>\n",
       "      <td>200000062</td>\n",
       "      <td>PASS</td>\n",
       "      <td>6</td>\n",
       "      <td>2</td>\n",
       "      <td>N</td>\n",
       "      <td>0.918811506</td>\n",
       "      <td>0.081188494</td>\n",
       "      <td>Y</td>\n",
       "      <td>0.197842735</td>\n",
       "      <td>0.802157265</td>\n",
       "    </tr>\n",
       "    <tr>\n",
       "      <th>2</th>\n",
       "      <td>0</td>\n",
       "      <td>2</td>\n",
       "      <td>7</td>\n",
       "      <td>7</td>\n",
       "      <td>60</td>\n",
       "      <td>3rd</td>\n",
       "      <td>45</td>\n",
       "      <td>5.62</td>\n",
       "      <td>0.802857143</td>\n",
       "      <td>100000031</td>\n",
       "      <td>RUN</td>\n",
       "      <td>3</td>\n",
       "      <td>1</td>\n",
       "      <td>N</td>\n",
       "      <td>0.999992873</td>\n",
       "      <td>7.13E-06</td>\n",
       "      <td>N</td>\n",
       "      <td>0.546142512</td>\n",
       "      <td>0.453857488</td>\n",
       "    </tr>\n",
       "    <tr>\n",
       "      <th>3</th>\n",
       "      <td>0</td>\n",
       "      <td>0</td>\n",
       "      <td>3</td>\n",
       "      <td>-7</td>\n",
       "      <td>975</td>\n",
       "      <td>1st</td>\n",
       "      <td>5</td>\n",
       "      <td>11.895105</td>\n",
       "      <td>3.965035</td>\n",
       "      <td>200000083</td>\n",
       "      <td>PASS</td>\n",
       "      <td>8</td>\n",
       "      <td>3</td>\n",
       "      <td>Y</td>\n",
       "      <td>0.435497017</td>\n",
       "      <td>0.564502983</td>\n",
       "      <td>Y</td>\n",
       "      <td>0.499266757</td>\n",
       "      <td>0.500733243</td>\n",
       "    </tr>\n",
       "    <tr>\n",
       "      <th>4</th>\n",
       "      <td>0</td>\n",
       "      <td>2</td>\n",
       "      <td>4</td>\n",
       "      <td>7</td>\n",
       "      <td>600</td>\n",
       "      <td>3rd</td>\n",
       "      <td>5</td>\n",
       "      <td>5.62</td>\n",
       "      <td>1.405</td>\n",
       "      <td>100000010</td>\n",
       "      <td>RUN</td>\n",
       "      <td>1</td>\n",
       "      <td>0</td>\n",
       "      <td>N</td>\n",
       "      <td>0.621614407</td>\n",
       "      <td>0.378385593</td>\n",
       "      <td>Y</td>\n",
       "      <td>0.455149394</td>\n",
       "      <td>0.544850606</td>\n",
       "    </tr>\n",
       "  </tbody>\n",
       "</table>\n",
       "</div>"
      ],
      "text/plain": [
       "  HALF DOWNNUM YARDSTOGO SCOREDIFF TIMELEFT DOWNNAME TRUEFIELD  \\\n",
       "0    0       2         4         7      600      3rd         5   \n",
       "1    0       2         1         7     1140      3rd         5   \n",
       "2    0       2         7         7       60      3rd        45   \n",
       "3    0       0         3        -7      975      1st         5   \n",
       "4    0       2         4         7      600      3rd         5   \n",
       "\n",
       "  YARDSGAINED_Mean AVG_OVER_TOGO  PLAYIDSTR RUN_PASS CONCEPT_8 CONCEPT_9  \\\n",
       "0         8.164835    2.04120875  200000049     PASS         4         9   \n",
       "1            13.16         13.16  200000062     PASS         6         2   \n",
       "2             5.62   0.802857143  100000031      RUN         3         1   \n",
       "3        11.895105      3.965035  200000083     PASS         8         3   \n",
       "4             5.62         1.405  100000010      RUN         1         0   \n",
       "\n",
       "  pred_TD   prob_TD_NO  prob_TD_YES pred_FIRST prob_FIRST_NO prob_FIRST_YES  \n",
       "0       N  0.929719852  0.070280148          Y   0.391968242    0.608031758  \n",
       "1       N  0.918811506  0.081188494          Y   0.197842735    0.802157265  \n",
       "2       N  0.999992873     7.13E-06          N   0.546142512    0.453857488  \n",
       "3       Y  0.435497017  0.564502983          Y   0.499266757    0.500733243  \n",
       "4       N  0.621614407  0.378385593          Y   0.455149394    0.544850606  "
      ]
     },
     "execution_count": 20,
     "metadata": {},
     "output_type": "execute_result"
    }
   ],
   "source": [
    "import itc_utils.flight_service as itcfs\n",
    "\n",
    "readClient = itcfs.get_flight_client()\n",
    "\n",
    "nb_data_request = {'data_name': \"\"\"validation_data.csv\"\"\", 'interaction_properties': {}}\n",
    "\n",
    "flightInfo = itcfs.get_flight_info(readClient, nb_data_request=nb_data_request)\n",
    "\n",
    "df_val = itcfs.read_pandas_and_concat(readClient, flightInfo)\n",
    "print(df_val.shape)\n",
    "df_val.head()"
   ]
  },
  {
   "cell_type": "code",
   "execution_count": null,
   "metadata": {
    "id": "3f9ec01e-70af-4caa-a89e-21b756efbdd4"
   },
   "outputs": [],
   "source": []
  }
 ],
 "metadata": {
  "kernelspec": {
   "display_name": "Python 3.7",
   "language": "python",
   "name": "python3"
  },
  "language_info": {
   "codemirror_mode": {
    "name": "ipython",
    "version": 3
   },
   "file_extension": ".py",
   "mimetype": "text/x-python",
   "name": "python",
   "nbconvert_exporter": "python",
   "pygments_lexer": "ipython3",
   "version": "3.7.11"
  },
  "toc-showtags": true
 },
 "nbformat": 4,
 "nbformat_minor": 4
}
