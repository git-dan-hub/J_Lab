{
 "cells": [
  {
   "cell_type": "markdown",
   "metadata": {
    "id": "3368fecd-f8f0-4a11-8948-3a1c9e1cf486"
   },
   "source": [
    "### <b>Import Packages</b>"
   ]
  },
  {
   "cell_type": "code",
   "execution_count": 1,
   "metadata": {
    "id": "9251e0c2-83fe-4e08-826e-86d94707bb52",
    "tags": []
   },
   "outputs": [],
   "source": [
    "import pandas as pd\n",
    "import numpy as np\n",
    "import sklearn as sk\n",
    "import seaborn as sns\n",
    "import matplotlib.pyplot as plt\n",
    "from sklearn.preprocessing import OneHotEncoder"
   ]
  },
  {
   "cell_type": "code",
   "execution_count": 2,
   "metadata": {
    "id": "9243b4c1-28f3-481f-b7e1-709fecbbe576",
    "tags": []
   },
   "outputs": [
    {
     "data": {
      "text/plain": [
       "'0.23.2'"
      ]
     },
     "execution_count": 2,
     "metadata": {},
     "output_type": "execute_result"
    }
   ],
   "source": [
    "sk.__version__"
   ]
  },
  {
   "cell_type": "markdown",
   "metadata": {
    "id": "49014fbb-a647-480f-a115-d0f35a14929e"
   },
   "source": [
    "### <b>Import Data</b>"
   ]
  },
  {
   "cell_type": "code",
   "execution_count": 4,
   "metadata": {
    "id": "61ba0332-6397-4d7e-9757-81b8d9a2cfe6",
    "tags": []
   },
   "outputs": [],
   "source": [
    "# df_h = pd.read_csv('/project_data/data_asset/Sample Heloc Data Dummy Values.csv')\n",
    "# df_h.head()"
   ]
  },
  {
   "cell_type": "code",
   "execution_count": 3,
   "metadata": {
    "id": "6e1a4538-9570-4373-8e44-a3e23e295a4c",
    "scrolled": true,
    "tags": []
   },
   "outputs": [
    {
     "data": {
      "text/html": [
       "<div>\n",
       "<style scoped>\n",
       "    .dataframe tbody tr th:only-of-type {\n",
       "        vertical-align: middle;\n",
       "    }\n",
       "\n",
       "    .dataframe tbody tr th {\n",
       "        vertical-align: top;\n",
       "    }\n",
       "\n",
       "    .dataframe thead th {\n",
       "        text-align: right;\n",
       "    }\n",
       "</style>\n",
       "<table border=\"1\" class=\"dataframe\">\n",
       "  <thead>\n",
       "    <tr style=\"text-align: right;\">\n",
       "      <th></th>\n",
       "      <th>HALF</th>\n",
       "      <th>DOWNNUM</th>\n",
       "      <th>YARDSTOGO</th>\n",
       "      <th>SCOREDIFF</th>\n",
       "      <th>TIMELEFT</th>\n",
       "      <th>DOWNNAME</th>\n",
       "      <th>TRUEFIELD</th>\n",
       "      <th>YARDSGAINED_Mean</th>\n",
       "      <th>AVG_OVER_TOGO</th>\n",
       "      <th>PLAYIDSTR</th>\n",
       "      <th>RUN_PASS</th>\n",
       "      <th>CONCEPT_8</th>\n",
       "      <th>CONCEPT_9</th>\n",
       "      <th>pred_TD</th>\n",
       "      <th>prob_TD_NO</th>\n",
       "      <th>prob_TD_YES</th>\n",
       "      <th>pred_FIRST</th>\n",
       "      <th>prob_FIRST_NO</th>\n",
       "      <th>prob_FIRST_YES</th>\n",
       "    </tr>\n",
       "  </thead>\n",
       "  <tbody>\n",
       "    <tr>\n",
       "      <th>0</th>\n",
       "      <td>0</td>\n",
       "      <td>0</td>\n",
       "      <td>5</td>\n",
       "      <td>0</td>\n",
       "      <td>480</td>\n",
       "      <td>1st</td>\n",
       "      <td>35</td>\n",
       "      <td>6.36</td>\n",
       "      <td>1.272</td>\n",
       "      <td>100000020</td>\n",
       "      <td>RUN</td>\n",
       "      <td>2</td>\n",
       "      <td>0</td>\n",
       "      <td>N</td>\n",
       "      <td>0.989180609</td>\n",
       "      <td>0.010819391</td>\n",
       "      <td>N</td>\n",
       "      <td>0.562406343</td>\n",
       "      <td>0.437593657</td>\n",
       "    </tr>\n",
       "    <tr>\n",
       "      <th>1</th>\n",
       "      <td>0</td>\n",
       "      <td>0</td>\n",
       "      <td>9</td>\n",
       "      <td>-7</td>\n",
       "      <td>1050</td>\n",
       "      <td>1st</td>\n",
       "      <td>45</td>\n",
       "      <td>4.756098</td>\n",
       "      <td>0.528455333</td>\n",
       "      <td>100000054</td>\n",
       "      <td>RUN</td>\n",
       "      <td>5</td>\n",
       "      <td>4</td>\n",
       "      <td>N</td>\n",
       "      <td>0.999278473</td>\n",
       "      <td>0.000721527</td>\n",
       "      <td>Y</td>\n",
       "      <td>0.439295772</td>\n",
       "      <td>0.560704228</td>\n",
       "    </tr>\n",
       "    <tr>\n",
       "      <th>2</th>\n",
       "      <td>0</td>\n",
       "      <td>2</td>\n",
       "      <td>4</td>\n",
       "      <td>7</td>\n",
       "      <td>600</td>\n",
       "      <td>3rd</td>\n",
       "      <td>5</td>\n",
       "      <td>8.164835</td>\n",
       "      <td>2.04120875</td>\n",
       "      <td>200000049</td>\n",
       "      <td>PASS</td>\n",
       "      <td>4</td>\n",
       "      <td>9</td>\n",
       "      <td>N</td>\n",
       "      <td>0.929719852</td>\n",
       "      <td>0.070280148</td>\n",
       "      <td>Y</td>\n",
       "      <td>0.391968242</td>\n",
       "      <td>0.608031758</td>\n",
       "    </tr>\n",
       "    <tr>\n",
       "      <th>3</th>\n",
       "      <td>0</td>\n",
       "      <td>0</td>\n",
       "      <td>11</td>\n",
       "      <td>7</td>\n",
       "      <td>180</td>\n",
       "      <td>1st</td>\n",
       "      <td>45</td>\n",
       "      <td>6.216667</td>\n",
       "      <td>0.565151545</td>\n",
       "      <td>200000041</td>\n",
       "      <td>PASS</td>\n",
       "      <td>4</td>\n",
       "      <td>1</td>\n",
       "      <td>N</td>\n",
       "      <td>0.999941376</td>\n",
       "      <td>5.86E-05</td>\n",
       "      <td>N</td>\n",
       "      <td>0.676802873</td>\n",
       "      <td>0.323197127</td>\n",
       "    </tr>\n",
       "    <tr>\n",
       "      <th>4</th>\n",
       "      <td>0</td>\n",
       "      <td>0</td>\n",
       "      <td>1</td>\n",
       "      <td>0</td>\n",
       "      <td>60</td>\n",
       "      <td>1st</td>\n",
       "      <td>45</td>\n",
       "      <td>13.416667</td>\n",
       "      <td>13.416667</td>\n",
       "      <td>200000085</td>\n",
       "      <td>PASS</td>\n",
       "      <td>8</td>\n",
       "      <td>5</td>\n",
       "      <td>N</td>\n",
       "      <td>0.800382789</td>\n",
       "      <td>0.199617211</td>\n",
       "      <td>N</td>\n",
       "      <td>0.60849475</td>\n",
       "      <td>0.39150525</td>\n",
       "    </tr>\n",
       "  </tbody>\n",
       "</table>\n",
       "</div>"
      ],
      "text/plain": [
       "  HALF DOWNNUM YARDSTOGO SCOREDIFF TIMELEFT DOWNNAME TRUEFIELD  \\\n",
       "0    0       0         5         0      480      1st        35   \n",
       "1    0       0         9        -7     1050      1st        45   \n",
       "2    0       2         4         7      600      3rd         5   \n",
       "3    0       0        11         7      180      1st        45   \n",
       "4    0       0         1         0       60      1st        45   \n",
       "\n",
       "  YARDSGAINED_Mean AVG_OVER_TOGO  PLAYIDSTR RUN_PASS CONCEPT_8 CONCEPT_9  \\\n",
       "0             6.36         1.272  100000020      RUN         2         0   \n",
       "1         4.756098   0.528455333  100000054      RUN         5         4   \n",
       "2         8.164835    2.04120875  200000049     PASS         4         9   \n",
       "3         6.216667   0.565151545  200000041     PASS         4         1   \n",
       "4        13.416667     13.416667  200000085     PASS         8         5   \n",
       "\n",
       "  pred_TD   prob_TD_NO  prob_TD_YES pred_FIRST prob_FIRST_NO prob_FIRST_YES  \n",
       "0       N  0.989180609  0.010819391          N   0.562406343    0.437593657  \n",
       "1       N  0.999278473  0.000721527          Y   0.439295772    0.560704228  \n",
       "2       N  0.929719852  0.070280148          Y   0.391968242    0.608031758  \n",
       "3       N  0.999941376     5.86E-05          N   0.676802873    0.323197127  \n",
       "4       N  0.800382789  0.199617211          N    0.60849475     0.39150525  "
      ]
     },
     "execution_count": 3,
     "metadata": {},
     "output_type": "execute_result"
    }
   ],
   "source": [
    "import itc_utils.flight_service as itcfs\n",
    "\n",
    "readClient = itcfs.get_flight_client()\n",
    "\n",
    "nb_data_request = {'data_name': \"\"\"Test_fields_100821_results.csv\"\"\", 'interaction_properties': {}}\n",
    "\n",
    "flightInfo = itcfs.get_flight_info(readClient, nb_data_request=nb_data_request)\n",
    "\n",
    "df1 = itcfs.read_pandas_and_concat(readClient, flightInfo)\n",
    "df1.head()"
   ]
  },
  {
   "cell_type": "code",
   "execution_count": 6,
   "metadata": {
    "id": "1d65eea3-650f-4da3-a939-4f56c77630c3",
    "tags": []
   },
   "outputs": [],
   "source": [
    "from mytest_function import transform_mydata"
   ]
  },
  {
   "cell_type": "code",
   "execution_count": 7,
   "metadata": {
    "id": "a63b8b23-2d57-4bc0-8caf-ba39075d590c",
    "tags": []
   },
   "outputs": [
    {
     "data": {
      "text/html": [
       "<div>\n",
       "<style scoped>\n",
       "    .dataframe tbody tr th:only-of-type {\n",
       "        vertical-align: middle;\n",
       "    }\n",
       "\n",
       "    .dataframe tbody tr th {\n",
       "        vertical-align: top;\n",
       "    }\n",
       "\n",
       "    .dataframe thead th {\n",
       "        text-align: right;\n",
       "    }\n",
       "</style>\n",
       "<table border=\"1\" class=\"dataframe\">\n",
       "  <thead>\n",
       "    <tr style=\"text-align: right;\">\n",
       "      <th></th>\n",
       "      <th>YARDSTOGO</th>\n",
       "      <th>SCOREDIFF</th>\n",
       "      <th>TIMELEFT</th>\n",
       "      <th>TRUEFIELD</th>\n",
       "      <th>CONCEPT_8</th>\n",
       "      <th>CONCEPT_9</th>\n",
       "      <th>YARDSGAINED_Mean</th>\n",
       "      <th>AVG_OVER_TOGO</th>\n",
       "      <th>prob_FIRST</th>\n",
       "      <th>TARGET_1ST</th>\n",
       "      <th>...</th>\n",
       "      <th>PLAYID_RUN1</th>\n",
       "      <th>PLAYID_RUN2</th>\n",
       "      <th>PLAYID_RUN3</th>\n",
       "      <th>PLAYID_RUN5</th>\n",
       "      <th>TEE_SHORT</th>\n",
       "      <th>TEE_MED</th>\n",
       "      <th>TEE_LONG</th>\n",
       "      <th>TEE_XLONG</th>\n",
       "      <th>DOWNNAME_1st</th>\n",
       "      <th>DOWNNAME_3rd</th>\n",
       "    </tr>\n",
       "  </thead>\n",
       "  <tbody>\n",
       "    <tr>\n",
       "      <th>0</th>\n",
       "      <td>5</td>\n",
       "      <td>0</td>\n",
       "      <td>480</td>\n",
       "      <td>35</td>\n",
       "      <td>2</td>\n",
       "      <td>0</td>\n",
       "      <td>6.360000</td>\n",
       "      <td>1.272000</td>\n",
       "      <td>0.437594</td>\n",
       "      <td>0</td>\n",
       "      <td>...</td>\n",
       "      <td>0</td>\n",
       "      <td>1</td>\n",
       "      <td>0</td>\n",
       "      <td>0</td>\n",
       "      <td>0</td>\n",
       "      <td>1</td>\n",
       "      <td>0</td>\n",
       "      <td>0</td>\n",
       "      <td>1</td>\n",
       "      <td>0</td>\n",
       "    </tr>\n",
       "    <tr>\n",
       "      <th>1</th>\n",
       "      <td>9</td>\n",
       "      <td>-7</td>\n",
       "      <td>1050</td>\n",
       "      <td>45</td>\n",
       "      <td>5</td>\n",
       "      <td>4</td>\n",
       "      <td>4.756098</td>\n",
       "      <td>0.528455</td>\n",
       "      <td>0.560704</td>\n",
       "      <td>1</td>\n",
       "      <td>...</td>\n",
       "      <td>0</td>\n",
       "      <td>0</td>\n",
       "      <td>0</td>\n",
       "      <td>1</td>\n",
       "      <td>0</td>\n",
       "      <td>0</td>\n",
       "      <td>1</td>\n",
       "      <td>0</td>\n",
       "      <td>1</td>\n",
       "      <td>0</td>\n",
       "    </tr>\n",
       "    <tr>\n",
       "      <th>2</th>\n",
       "      <td>4</td>\n",
       "      <td>7</td>\n",
       "      <td>600</td>\n",
       "      <td>5</td>\n",
       "      <td>4</td>\n",
       "      <td>9</td>\n",
       "      <td>8.164835</td>\n",
       "      <td>2.041209</td>\n",
       "      <td>0.608032</td>\n",
       "      <td>1</td>\n",
       "      <td>...</td>\n",
       "      <td>0</td>\n",
       "      <td>0</td>\n",
       "      <td>0</td>\n",
       "      <td>0</td>\n",
       "      <td>0</td>\n",
       "      <td>1</td>\n",
       "      <td>0</td>\n",
       "      <td>0</td>\n",
       "      <td>0</td>\n",
       "      <td>1</td>\n",
       "    </tr>\n",
       "    <tr>\n",
       "      <th>3</th>\n",
       "      <td>11</td>\n",
       "      <td>7</td>\n",
       "      <td>180</td>\n",
       "      <td>45</td>\n",
       "      <td>4</td>\n",
       "      <td>1</td>\n",
       "      <td>6.216667</td>\n",
       "      <td>0.565152</td>\n",
       "      <td>0.323197</td>\n",
       "      <td>0</td>\n",
       "      <td>...</td>\n",
       "      <td>0</td>\n",
       "      <td>0</td>\n",
       "      <td>0</td>\n",
       "      <td>0</td>\n",
       "      <td>0</td>\n",
       "      <td>0</td>\n",
       "      <td>0</td>\n",
       "      <td>1</td>\n",
       "      <td>1</td>\n",
       "      <td>0</td>\n",
       "    </tr>\n",
       "    <tr>\n",
       "      <th>4</th>\n",
       "      <td>1</td>\n",
       "      <td>0</td>\n",
       "      <td>60</td>\n",
       "      <td>45</td>\n",
       "      <td>8</td>\n",
       "      <td>5</td>\n",
       "      <td>13.416667</td>\n",
       "      <td>13.416667</td>\n",
       "      <td>0.391505</td>\n",
       "      <td>0</td>\n",
       "      <td>...</td>\n",
       "      <td>0</td>\n",
       "      <td>0</td>\n",
       "      <td>0</td>\n",
       "      <td>0</td>\n",
       "      <td>1</td>\n",
       "      <td>0</td>\n",
       "      <td>0</td>\n",
       "      <td>0</td>\n",
       "      <td>1</td>\n",
       "      <td>0</td>\n",
       "    </tr>\n",
       "  </tbody>\n",
       "</table>\n",
       "<p>5 rows × 28 columns</p>\n",
       "</div>"
      ],
      "text/plain": [
       "   YARDSTOGO  SCOREDIFF  TIMELEFT  TRUEFIELD  CONCEPT_8  CONCEPT_9  \\\n",
       "0          5          0       480         35          2          0   \n",
       "1          9         -7      1050         45          5          4   \n",
       "2          4          7       600          5          4          9   \n",
       "3         11          7       180         45          4          1   \n",
       "4          1          0        60         45          8          5   \n",
       "\n",
       "   YARDSGAINED_Mean  AVG_OVER_TOGO  prob_FIRST  TARGET_1ST  ... PLAYID_RUN1  \\\n",
       "0          6.360000       1.272000    0.437594           0  ...           0   \n",
       "1          4.756098       0.528455    0.560704           1  ...           0   \n",
       "2          8.164835       2.041209    0.608032           1  ...           0   \n",
       "3          6.216667       0.565152    0.323197           0  ...           0   \n",
       "4         13.416667      13.416667    0.391505           0  ...           0   \n",
       "\n",
       "   PLAYID_RUN2  PLAYID_RUN3  PLAYID_RUN5  TEE_SHORT  TEE_MED  TEE_LONG  \\\n",
       "0            1            0            0          0        1         0   \n",
       "1            0            0            1          0        0         1   \n",
       "2            0            0            0          0        1         0   \n",
       "3            0            0            0          0        0         0   \n",
       "4            0            0            0          1        0         0   \n",
       "\n",
       "   TEE_XLONG  DOWNNAME_1st  DOWNNAME_3rd  \n",
       "0          0             1             0  \n",
       "1          0             1             0  \n",
       "2          0             0             1  \n",
       "3          1             1             0  \n",
       "4          0             1             0  \n",
       "\n",
       "[5 rows x 28 columns]"
      ]
     },
     "execution_count": 7,
     "metadata": {},
     "output_type": "execute_result"
    }
   ],
   "source": [
    "df = transform_mydata(df1)\n",
    "df.head()"
   ]
  },
  {
   "cell_type": "markdown",
   "metadata": {
    "id": "e4f83483-50b2-484a-b2fe-8620195bb4c6",
    "tags": []
   },
   "source": [
    "## <b>Data Selection for Model Build</b>"
   ]
  },
  {
   "cell_type": "markdown",
   "metadata": {
    "id": "a6491cc4-7015-4a00-b4d8-80f6b3eb2259"
   },
   "source": [
    " ### Model Build"
   ]
  },
  {
   "cell_type": "markdown",
   "metadata": {
    "id": "a6e4b75d496049428f188bfa5f64b70c"
   },
   "source": [
    "We will build 2 models to predict First Down, one using Logistic Regression and one with Cross-Validation."
   ]
  },
  {
   "cell_type": "markdown",
   "metadata": {
    "id": "37bb5d78ee784f4580a98cb229773d33"
   },
   "source": [
    "#### Data Preparation is complete. Step 1 is Sample Splitting "
   ]
  },
  {
   "cell_type": "markdown",
   "metadata": {
    "id": "cd7b5bba564146adb7cf0a7845cd83fd"
   },
   "source": [
    "First we will save a validation sample for testing the batch deployment"
   ]
  },
  {
   "cell_type": "code",
   "execution_count": 8,
   "metadata": {
    "id": "4e2c2f113cc94050866c26ade18ab18a",
    "tags": []
   },
   "outputs": [
    {
     "name": "stdout",
     "output_type": "stream",
     "text": [
      "8000\n"
     ]
    }
   ],
   "source": [
    "model_df = df.sample(frac=0.8, random_state=100)\n",
    "#valid_df = df[~df.index.isin(model_df.index)]\n",
    "print(len(model_df)) #,len(valid_df))"
   ]
  },
  {
   "cell_type": "markdown",
   "metadata": {
    "id": "62f575c339684932b9499b0e50a6721b"
   },
   "source": [
    "Working with First Down predictions, we split the data, stratifying on selected data fields, always including y </br>\n",
    "If desired, we can use the substitute scaled data for raw input variables. They have already been transformed into the appropriate array. "
   ]
  },
  {
   "cell_type": "code",
   "execution_count": 9,
   "metadata": {
    "id": "c47b593fb3194af98712716dfcac0f0f",
    "tags": []
   },
   "outputs": [],
   "source": [
    "from sklearn.model_selection import train_test_split\n",
    "\n",
    "## https://scikit-learn.org/stable/modules/generated/sklearn.model_selection.train_test_split.html\n",
    "\n",
    "X = model_df.drop(columns = ['TARGET_1ST','STRAT_1ST'], axis = 1) ## We are using the same input variables, so the same scaled data will work. Only change is the target and stratification variables.\n",
    "y = model_df['TARGET_1ST'].values\n",
    "\n",
    "train_X, test_X, train_y, test_y = train_test_split(X, y, test_size=0.2, stratify = model_df.STRAT_1ST, random_state=121)"
   ]
  },
  {
   "cell_type": "markdown",
   "metadata": {
    "id": "b7c69ad824a6420d8f11e899247bce82"
   },
   "source": [
    "Now we run the Logistic Regression model"
   ]
  },
  {
   "cell_type": "code",
   "execution_count": 10,
   "metadata": {
    "id": "64690977-1232-4082-ba88-2cf33cf57700",
    "tags": []
   },
   "outputs": [],
   "source": [
    "from sklearn.linear_model import LogisticRegression\n",
    "\n",
    "## https://scikit-learn.org/stable/modules/generated/sklearn.linear_model.LogisticRegression.html\n",
    "# instantiate the model\n",
    "logit = LogisticRegression()\n",
    "\n",
    "# check the default parameters\n",
    "#logit.get_params()"
   ]
  },
  {
   "cell_type": "code",
   "execution_count": 11,
   "metadata": {
    "id": "7c296f31e8c84ed28c770073d80a2dc4",
    "tags": []
   },
   "outputs": [
    {
     "data": {
      "text/plain": [
       "0.784375"
      ]
     },
     "execution_count": 11,
     "metadata": {},
     "output_type": "execute_result"
    }
   ],
   "source": [
    "import warnings\n",
    "\n",
    "#ignore by message\n",
    "warnings.filterwarnings(\"ignore\")\n",
    "\n",
    "# fit the model with data using the default parameters\n",
    "sk_logr = logit.fit(train_X,train_y)\n",
    "sk_logr.score(test_X, test_y)"
   ]
  },
  {
   "cell_type": "code",
   "execution_count": 12,
   "metadata": {
    "id": "e6eec2fa32654256a0fab4c168e7697c",
    "scrolled": true,
    "tags": []
   },
   "outputs": [
    {
     "name": "stdout",
     "output_type": "stream",
     "text": [
      "              precision    recall  f1-score   support\n",
      "\n",
      "           0       0.73      0.69      0.71       607\n",
      "           1       0.82      0.84      0.83       993\n",
      "\n",
      "    accuracy                           0.78      1600\n",
      "   macro avg       0.77      0.77      0.77      1600\n",
      "weighted avg       0.78      0.78      0.78      1600\n",
      "\n"
     ]
    }
   ],
   "source": [
    "import sklearn.pipeline\n",
    "from sklearn.metrics import roc_curve, roc_auc_score\n",
    "### call pipeline.predict() on your X_test data to make a set of test predictions\n",
    "sk_pred = sk_logr.predict(test_X)\n",
    "\n",
    "### test your predictions using sklearn.classification_report()\n",
    "report = sklearn.metrics.classification_report(test_y, sk_pred)\n",
    "print(report)"
   ]
  },
  {
   "cell_type": "code",
   "execution_count": 13,
   "metadata": {
    "id": "e8cd177a-30a4-45f8-ad6c-446050350e56",
    "tags": []
   },
   "outputs": [
    {
     "data": {
      "text/plain": [
       "0.8287841191066997"
      ]
     },
     "execution_count": 13,
     "metadata": {},
     "output_type": "execute_result"
    }
   ],
   "source": [
    "sklearn.metrics.f1_score(test_y, sk_pred)"
   ]
  },
  {
   "cell_type": "code",
   "execution_count": 14,
   "metadata": {
    "id": "3d7af4a3d91b42758e572896df4d4e0d",
    "scrolled": true,
    "tags": []
   },
   "outputs": [
    {
     "data": {
      "text/plain": [
       "array([[0.21056597, 0.78943403],\n",
       "       [0.07610297, 0.92389703],\n",
       "       [0.17291691, 0.82708309],\n",
       "       ...,\n",
       "       [0.07652876, 0.92347124],\n",
       "       [0.20045445, 0.79954555],\n",
       "       [0.07256404, 0.92743596]])"
      ]
     },
     "execution_count": 14,
     "metadata": {},
     "output_type": "execute_result"
    }
   ],
   "source": [
    "sk_probs = sk_logr.predict_proba(test_X)\n",
    "sk_probs"
   ]
  },
  {
   "cell_type": "code",
   "execution_count": 15,
   "metadata": {
    "id": "2d54cf01-b101-4ed7-be97-dc2eaaba15e0",
    "tags": []
   },
   "outputs": [
    {
     "data": {
      "text/plain": [
       "<matplotlib.axes._subplots.AxesSubplot at 0x7febf5630390>"
      ]
     },
     "execution_count": 15,
     "metadata": {},
     "output_type": "execute_result"
    },
    {
     "data": {
      "image/png": "[encoded data removed]",
      "text/plain": [
       "<Figure size 432x288 with 1 Axes>"
      ]
     },
     "metadata": {
      "needs_background": "light"
     },
     "output_type": "display_data"
    }
   ],
   "source": [
    "sns.distplot(sk_probs, kde=True, hist=True)"
   ]
  },
  {
   "cell_type": "code",
   "execution_count": 16,
   "metadata": {
    "id": "e03ffa11-1a51-4a44-a815-aef1f6c07b5a",
    "tags": []
   },
   "outputs": [],
   "source": [
    "coef_logr = sk_logr.coef_\n",
    "s = pd.Series(coef_logr[0])\n",
    "s1 = pd.Series(10, index=X.columns)\n",
    "s1_df = pd.DataFrame(s1)\n",
    "s1_df[0] = s.values\n",
    "#s1_df"
   ]
  },
  {
   "cell_type": "code",
   "execution_count": 17,
   "metadata": {
    "id": "b545d233f0cd4a9cb407c65277a32901",
    "scrolled": true,
    "tags": []
   },
   "outputs": [
    {
     "data": {
      "image/png": "[encoded data removed]",
      "text/plain": [
       "<Figure size 432x288 with 1 Axes>"
      ]
     },
     "metadata": {
      "needs_background": "light"
     },
     "output_type": "display_data"
    }
   ],
   "source": [
    "#LOGR_features = pd.Series(data=s1_df[0],index=df_TD.index)\n",
    "s1_df.sort_values(by=0,ascending=True,inplace=True)\n",
    "\n",
    "s1_df.plot(kind='barh')\n",
    "plt.title(\"Features by Coeff\")\n",
    "plt.show()"
   ]
  },
  {
   "cell_type": "markdown",
   "metadata": {
    "id": "8cce6e85d135443faab25fc436c4b6e5"
   },
   "source": [
    "### Build a second model using Cross Validation"
   ]
  },
  {
   "cell_type": "code",
   "execution_count": 18,
   "metadata": {
    "id": "b9001a30f6c34b0f8f94c08671927aa0",
    "tags": []
   },
   "outputs": [
    {
     "data": {
      "text/plain": [
       "{'Cs': 10,\n",
       " 'class_weight': None,\n",
       " 'cv': 7,\n",
       " 'dual': False,\n",
       " 'fit_intercept': True,\n",
       " 'intercept_scaling': 1.0,\n",
       " 'l1_ratios': None,\n",
       " 'max_iter': 100,\n",
       " 'multi_class': 'auto',\n",
       " 'n_jobs': None,\n",
       " 'penalty': 'l2',\n",
       " 'random_state': 0,\n",
       " 'refit': True,\n",
       " 'scoring': None,\n",
       " 'solver': 'lbfgs',\n",
       " 'tol': 0.0001,\n",
       " 'verbose': 0}"
      ]
     },
     "execution_count": 18,
     "metadata": {},
     "output_type": "execute_result"
    }
   ],
   "source": [
    "import warnings\n",
    "warnings.filterwarnings(\"ignore\")\n",
    "\n",
    "from sklearn.linear_model import LogisticRegressionCV\n",
    "\n",
    "cv_logr = LogisticRegressionCV(cv=7, random_state=0).fit(X, y)\n",
    "cv_logr.get_params()"
   ]
  },
  {
   "cell_type": "code",
   "execution_count": 19,
   "metadata": {
    "id": "b6e1350fa2f34a5590abe75c9abd6d54",
    "tags": []
   },
   "outputs": [
    {
     "data": {
      "text/plain": [
       "0.974"
      ]
     },
     "execution_count": 19,
     "metadata": {},
     "output_type": "execute_result"
    }
   ],
   "source": [
    "cv_logr.score(X, y)"
   ]
  },
  {
   "cell_type": "code",
   "execution_count": 20,
   "metadata": {
    "id": "1c6aefe4b44a44c880b916ad8d458230",
    "tags": []
   },
   "outputs": [
    {
     "name": "stdout",
     "output_type": "stream",
     "text": [
      "              precision    recall  f1-score   support\n",
      "\n",
      "           0       0.98      0.95      0.97       607\n",
      "           1       0.97      0.99      0.98       993\n",
      "\n",
      "    accuracy                           0.98      1600\n",
      "   macro avg       0.98      0.97      0.97      1600\n",
      "weighted avg       0.98      0.98      0.98      1600\n",
      "\n"
     ]
    }
   ],
   "source": [
    "cv_pred = cv_logr.predict(test_X)\n",
    "\n",
    "report = sklearn.metrics.classification_report(test_y, cv_pred)\n",
    "print(report)"
   ]
  },
  {
   "cell_type": "code",
   "execution_count": 21,
   "metadata": {
    "id": "745626fab01046febcf07c0857ece76b",
    "scrolled": true,
    "tags": []
   },
   "outputs": [
    {
     "data": {
      "text/plain": [
       "<matplotlib.axes._subplots.AxesSubplot at 0x7febf53dbf90>"
      ]
     },
     "execution_count": 21,
     "metadata": {},
     "output_type": "execute_result"
    },
    {
     "data": {
      "image/png": "[encoded data removed]",
      "text/plain": [
       "<Figure size 432x288 with 1 Axes>"
      ]
     },
     "metadata": {
      "needs_background": "light"
     },
     "output_type": "display_data"
    }
   ],
   "source": [
    "cv_probs = cv_logr.predict_proba(test_X)\n",
    "cv_probs\n",
    "\n",
    "sns.distplot(cv_probs, kde=True, hist=True)"
   ]
  },
  {
   "cell_type": "markdown",
   "metadata": {
    "id": "af32241a-2237-473b-a000-6c17e437c61e",
    "tags": []
   },
   "source": [
    "### ROC Curve for Logistic Regression model"
   ]
  },
  {
   "cell_type": "code",
   "execution_count": 22,
   "metadata": {
    "id": "af9cb805-803a-44e4-b38e-d7001c1318c5",
    "tags": []
   },
   "outputs": [],
   "source": [
    "from my_roc_plot import plot_myroc"
   ]
  },
  {
   "cell_type": "code",
   "execution_count": 25,
   "metadata": {
    "id": "a63c3cf6-246d-4d92-b470-5355f4d8270a",
    "tags": []
   },
   "outputs": [
    {
     "data": {
      "text/plain": [
       "array([[2.95522661e-02, 9.70447734e-01],\n",
       "       [2.22884572e-04, 9.99777115e-01],\n",
       "       [1.26784917e-02, 9.87321508e-01],\n",
       "       ...,\n",
       "       [1.74205099e-04, 9.99825795e-01],\n",
       "       [8.28837998e-01, 1.71162002e-01],\n",
       "       [2.65203483e-01, 7.34796517e-01]])"
      ]
     },
     "execution_count": 25,
     "metadata": {},
     "output_type": "execute_result"
    }
   ],
   "source": [
    "cv_probs"
   ]
  },
  {
   "cell_type": "code",
   "execution_count": 23,
   "metadata": {
    "id": "09863c813e464d98883191c3f4ae8f7e",
    "tags": []
   },
   "outputs": [
    {
     "ename": "NameError",
     "evalue": "name 'test_y' is not defined",
     "output_type": "error",
     "traceback": [
      "\u001b[0;31m---------------------------------------------------------------------------\u001b[0m",
      "\u001b[0;31mNameError\u001b[0m                                 Traceback (most recent call last)",
      "\u001b[0;32m<ipython-input-23-1adc1adc9d89>\u001b[0m in \u001b[0;36m<module>\u001b[0;34m\u001b[0m\n\u001b[0;32m----> 1\u001b[0;31m \u001b[0mmyplot\u001b[0m \u001b[0;34m=\u001b[0m \u001b[0mplot_myroc\u001b[0m\u001b[0;34m(\u001b[0m\u001b[0msk_probs\u001b[0m\u001b[0;34m,\u001b[0m \u001b[0mcv_probs\u001b[0m\u001b[0;34m)\u001b[0m\u001b[0;34m\u001b[0m\u001b[0;34m\u001b[0m\u001b[0m\n\u001b[0m\u001b[1;32m      2\u001b[0m \u001b[0mmyplot\u001b[0m\u001b[0;34m\u001b[0m\u001b[0;34m\u001b[0m\u001b[0m\n",
      "\u001b[0;32m/userfs/my_roc_plot.py\u001b[0m in \u001b[0;36mplot_myroc\u001b[0;34m(sk_probs, cv_probs)\u001b[0m\n\u001b[1;32m     10\u001b[0m \u001b[0;34m\u001b[0m\u001b[0m\n\u001b[1;32m     11\u001b[0m     \u001b[0;31m# calculate scores\u001b[0m\u001b[0;34m\u001b[0m\u001b[0;34m\u001b[0m\u001b[0;34m\u001b[0m\u001b[0m\n\u001b[0;32m---> 12\u001b[0;31m     \u001b[0mcv_auc\u001b[0m \u001b[0;34m=\u001b[0m \u001b[0mroc_auc_score\u001b[0m\u001b[0;34m(\u001b[0m\u001b[0mtest_y\u001b[0m\u001b[0;34m,\u001b[0m \u001b[0mcv_probs1\u001b[0m\u001b[0;34m)\u001b[0m\u001b[0;34m\u001b[0m\u001b[0;34m\u001b[0m\u001b[0m\n\u001b[0m\u001b[1;32m     13\u001b[0m     \u001b[0mlr_auc\u001b[0m \u001b[0;34m=\u001b[0m \u001b[0mroc_auc_score\u001b[0m\u001b[0;34m(\u001b[0m\u001b[0mtest_y\u001b[0m\u001b[0;34m,\u001b[0m \u001b[0msk_probs1\u001b[0m\u001b[0;34m)\u001b[0m\u001b[0;34m\u001b[0m\u001b[0;34m\u001b[0m\u001b[0m\n\u001b[1;32m     14\u001b[0m \u001b[0;34m\u001b[0m\u001b[0m\n",
      "\u001b[0;31mNameError\u001b[0m: name 'test_y' is not defined"
     ]
    }
   ],
   "source": [
    "myplot = plot_myroc(sk_probs, cv_probs)\n",
    "myplot"
   ]
  },
  {
   "cell_type": "code",
   "execution_count": 32,
   "metadata": {
    "id": "6cd723302331415189ab43250bb55e87"
   },
   "outputs": [
    {
     "data": {
      "text/plain": [
       "<matplotlib.axes._subplots.AxesSubplot at 0x7ff52d92df90>"
      ]
     },
     "execution_count": 32,
     "metadata": {},
     "output_type": "execute_result"
    },
    {
     "data": {
      "image/png": "[encoded data removed]",
      "text/plain": [
       "<Figure size 432x288 with 1 Axes>"
      ]
     },
     "metadata": {
      "needs_background": "light"
     },
     "output_type": "display_data"
    }
   ],
   "source": [
    "sns.distplot(cv_probs,hist=True,kde=False)\n",
    "sns.distplot(sk_probs,hist=True,kde=False)"
   ]
  },
  {
   "cell_type": "code",
   "execution_count": 33,
   "metadata": {
    "id": "51c589738e9d40d3ab26ece64d5c50b4",
    "scrolled": true
   },
   "outputs": [
    {
     "data": {
      "text/plain": [
       "<matplotlib.axes._subplots.AxesSubplot at 0x7ff52d7dda50>"
      ]
     },
     "execution_count": 33,
     "metadata": {},
     "output_type": "execute_result"
    },
    {
     "data": {
      "image/png": "[encoded data removed]",
      "text/plain": [
       "<Figure size 432x288 with 1 Axes>"
      ]
     },
     "metadata": {
      "needs_background": "light"
     },
     "output_type": "display_data"
    }
   ],
   "source": [
    "sns.distplot(cv_probs,hist=False,kde=True)\n",
    "sns.distplot(sk_probs,hist=False,kde=True)"
   ]
  },
  {
   "cell_type": "code",
   "execution_count": 34,
   "metadata": {
    "id": "fe462375cb874a2b80eefcba1407da9a",
    "scrolled": true
   },
   "outputs": [
    {
     "data": {
      "text/plain": [
       "'eyJhbGciOiJSUzI1NiIsInR5cCI6IkpXVCIsImtpZCI6IklTQWdYV2czTE5uRVVETVg0OFB2b1BnVEEybHpCYmhxaGNaZUEyN2d5X00ifQ.eyJ1aWQiOiIxMDAwMzMxMDMwIiwidXNlcm5hbWUiOiJkYW4uc2NoZXVjaEB1cy5pYm0uY29tIiwicm9sZSI6IlVzZXIiLCJwZXJtaXNzaW9ucyI6WyJjcmVhdGVfcHJvamVjdCIsImF1dGhvcl9nb3Zlcm5hbmNlX2FydGlmYWN0cyIsInZpZXdfZ292ZXJuYW5jZV9hcnRpZmFjdHMiLCJjYW5fcHJvdmlzaW9uIiwiYWNjZXNzX2NhdGFsb2ciLCJ2aWV3X3F1YWxpdHkiLCJtYW5hZ2VfaW5mb3JtYXRpb25fYXNzZXRzIiwibWFuYWdlX21ldGFkYXRhX2ltcG9ydCIsIm1hbmFnZV9kaXNjb3ZlcnkiLCJtYW5hZ2VfcXVhbGl0eSIsImNyZWF0ZV9zcGFjZSIsImFjY2Vzc19hZHZhbmNlZF9nb3Zlcm5hbmNlX2NhcGFiaWxpdGllcyIsImFjY2Vzc19hZHZhbmNlZF9tYXBwaW5nX2NhcGFiaWxpdGllcyIsIm1hbmFnZV9jYXRhbG9nIiwiYWNjZXNzX2luZm9ybWF0aW9uX2Fzc2V0cyIsIm1hbmFnZV9zcGFjZSIsIm1vbml0b3Jfc3BhY2UiLCJtYW5hZ2VfY2F0ZWdvcmllcyIsInZpZXdfcGxhdGZvcm1faGVhbHRoIiwibWFuYWdlX3Byb2plY3QiLCJtb25pdG9yX3Byb2plY3QiLCJtYW5hZ2Vfc2VydmljZV9pbnN0YW5jZXMiLCJtYW5hZ2VfZ292ZXJuYW5jZV93b3JrZmxvdyIsIm1vbml0b3JfcGxhdGZvcm0iXSwiZ3JvdXBzIjpbMTAwMDBdLCJzdWIiOiJkYW4uc2NoZXVjaEB1cy5pYm0uY29tIiwiaXNzIjoiS05PWFNTTyIsImF1ZCI6IkRTWCIsImlhdCI6MTY0MzkxNDk3OCwiZXhwIjozNjE2NDM5MTEzNzh9.Nw2kZoMDanKyqReP81gd6gXItMZIAJbkBB4u-vkNsAs3OrenqpePLZ4nRC9Y51ykXx5UFTl4YH715wdX_PDaI87OSnGO1G5C5FiqmH6UPY1Bb81__ivyWQ4cUB2qz5FGx1mbIBOKN-ASzms4WfjgDBbjY9EhoCYqSHyFgyfDIjen3JnK4xAeqMUUxSprGdMgjYttSGiGrB0kngyHfo2N6wl-smg4OnjTp9g5NbVfuNy_YrqZq6GqkiaArSclVCkVy0-aJRf9vdzYFra-2gZrrdoCTb803nLbNgN3ms_aq6yZ7JDxfnrEPtk-BntT4IszpeOUFB6C0CNVJas_pQtb5A'"
      ]
     },
     "execution_count": 34,
     "metadata": {},
     "output_type": "execute_result"
    }
   ],
   "source": [
    "import os\n",
    "import requests\n",
    "import json\n",
    "import time\n",
    "from project_lib import Project\n",
    "\n",
    "token = os.environ.get('USER_ACCESS_TOKEN')\n",
    "project_id = os.environ.get('PROJECT_ID')\n",
    "host = os.environ['RUNTIME_ENV_APSX_URL']\n",
    "token"
   ]
  },
  {
   "cell_type": "code",
   "execution_count": 35,
   "metadata": {
    "id": "b4a439586fcd45fb8b5ce9a22f3048bb"
   },
   "outputs": [
    {
     "name": "stdout",
     "output_type": "stream",
     "text": [
      "8000 2000\n"
     ]
    }
   ],
   "source": [
    "#model_df = df.sample(frac=0.8, random_state=100)\n",
    "valid_df = df1[~df1.index.isin(model_df.index)]\n",
    "print(len(model_df),len(valid_df))\n",
    "#df1"
   ]
  },
  {
   "cell_type": "code",
   "execution_count": 33,
   "metadata": {
    "id": "c9124ea8a3f94dc68504fcf021b01ec8"
   },
   "outputs": [
    {
     "data": {
      "text/plain": [
       "{'file_name': 'Validation_Test_file.csv',\n",
       " 'message': 'File saved to project storage.',\n",
       " 'asset_id': '9a6aab1e-0eb6-4813-a0de-7803fbe3e313'}"
      ]
     },
     "execution_count": 33,
     "metadata": {},
     "output_type": "execute_result"
    }
   ],
   "source": [
    "export_filename = 'Validation_Test_file.csv'\n",
    "\n",
    "#export = valid_df.drop(columns = ['TARGET_1ST','STRAT_1ST'], axis = 1)\n",
    "export = valid_df.copy()\n",
    "project = Project(project_id=project_id, project_access_token=token)\n",
    "project.save_data(export_filename, export.to_csv(index=False), overwrite=True)"
   ]
  }
 ],
 "metadata": {
  "kernelspec": {
   "display_name": "Python 3.7",
   "language": "python",
   "name": "python3"
  },
  "language_info": {
   "codemirror_mode": {
    "name": "ipython",
    "version": 3
   },
   "file_extension": ".py",
   "mimetype": "text/x-python",
   "name": "python",
   "nbconvert_exporter": "python",
   "pygments_lexer": "ipython3",
   "version": "3.7.11"
  },
  "toc-showtags": true
 },
 "nbformat": 4,
 "nbformat_minor": 4
}
