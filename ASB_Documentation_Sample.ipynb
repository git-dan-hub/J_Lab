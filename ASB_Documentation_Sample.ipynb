{
 "cells": [
  {
   "cell_type": "markdown",
   "metadata": {},
   "source": [
    "| Stretch/Untouched | ProbDistribution | Accuracy |\n",
    "| :- | -: | :-: |\n",
    "| Stretched | Gaussian | .843"
   ]
  },
  {
   "cell_type": "markdown",
   "metadata": {},
   "source": [
    "Retail Credit Policy (RCP) has been charged with the development and update of default probability models for the various consumer and Commercial and Industrial (C&I) portfolios.  These models are used for portfolio management and the calculation of loss expectancy within the Risk Adjusted Return on Capital (RAROC) framework.  This document describes the process utilized to update the HELOC portfolio model and describes the methods by which the updates are validated.\n",
    "\n",
    "The HELOC portfolio is comprised of real-estate secured lines of credit and fixed-rate loan option (FRELO) instruments which are attached-to and utilize the commitment of the parent HELOC loan.  The HELOC lines have variable interest rates and preset draw and repayment periods while the FRELOs behave like term loans and have fixed interest rates and amortization schedules.  The products in the HELOC portfolio are shown in the table below.  FRELOs are not included in the modeling dataset as discrete loans, but they are assigned the risk parameters from the HELOC portfolio as a proxy for calculating Expected Loss.\n"
   ]
  },
  {
   "cell_type": "code",
   "execution_count": 6,
   "metadata": {},
   "outputs": [
    {
     "ename": "SyntaxError",
     "evalue": "invalid syntax (<ipython-input-6-67e68930346f>, line 1)",
     "output_type": "error",
     "traceback": [
      "\u001b[1;36m  File \u001b[1;32m\"<ipython-input-6-67e68930346f>\"\u001b[1;36m, line \u001b[1;32m1\u001b[0m\n\u001b[1;33m    | Product Code | Product Description |\u001b[0m\n\u001b[1;37m    ^\u001b[0m\n\u001b[1;31mSyntaxError\u001b[0m\u001b[1;31m:\u001b[0m invalid syntax\n"
     ]
    }
   ],
   "source": [
    "| Product Code | Product Description |\n",
    "| :-: | :-: |\n",
    "| 540 | EQUITY MAXIMIZER LINE |\n",
    "| 549 | EQUITY CREDIT LINE |\n",
    "| 589 | EQUITY POWER LINE |\n",
    "| 594 | LIBERTY HOME EQUITY LOC |"
   ]
  },
  {
   "cell_type": "markdown",
   "metadata": {},
   "source": [
    "| Product Code | Product Description |\n",
    "| :-: | :-: |\n",
    "| 540 | EQUITY MAXIMIZER LINE |\n",
    "| 549 | EQUITY CREDIT LINE |\n",
    "| 589 | EQUITY POWER LINE |\n",
    "| 594 | LIBERTY HOME EQUITY LOC |\n",
    "| 595 | EQUITY EXPRESS|"
   ]
  },
  {
   "cell_type": "markdown",
   "metadata": {},
   "source": [
    "## 2 DATA OVERVIEW"
   ]
  },
  {
   "cell_type": "markdown",
   "metadata": {},
   "source": [
    "The data used for modeling is generated in a single file referred to as a historical banding file.  The historical banding file contains annual performance data for multiple years beginning in 2009.  As part of the data design, a portfolio snapshot is taken at the beginning of each performance period and tracked forward 12 months.  \n",
    "\n",
    "If an account is originated after the beginning of the performance period it is not counted until the following performance period.  In an effort to preserve all defaults, an account originated after the beginning of the performance period that defaults within the performance period is included in the modeling data set and considered a non-baselined default.  During the data generation process, the current year’s performance data is appended to the prior year’s historical banding file which contains performance data for all prior years, to generate the current year’s historical banding file which is used in the modeling process.  "
   ]
  },
  {
   "cell_type": "markdown",
   "metadata": {},
   "source": [
    "The file used for the model update is “HELOC_BANDING_FILE_2020 with Balance.csv” and can be found in the data repository for the 2021 model update. The model years and performance periods included in the banding file is shown in the table below."
   ]
  },
  {
   "cell_type": "markdown",
   "metadata": {},
   "source": [
    "##### Table 1. Overview of Performance Periods for 2021 Build"
   ]
  },
  {
   "cell_type": "code",
   "execution_count": null,
   "metadata": {},
   "outputs": [],
   "source": []
  },
  {
   "cell_type": "markdown",
   "metadata": {},
   "source": [
    "## 4\tModel Update"
   ]
  },
  {
   "cell_type": "markdown",
   "metadata": {},
   "source": [
    "This model update is part of the ongoing model management lifecycle.  PD models are updated annually to include the most recent year(s) of observations.  The goal is for the model to cover a full economic cycle.  As a rough rule of thumb, this translates to using all available years of observation, unless more than 7 years of history is available.  For portfolios where there is an excess of data (beyond 7 years), the model owner is responsible to determining if additional years (beyond the most recent 7) are sufficiently valuable to include.\n",
    "\n",
    "For the 2021-2022 HELOC model, 12-years of observations is available. However, this year, inactive loans, defined as loans with zero balances, are excluded from the model build, mimicking production. As balances are unavailable for performance years prior to 2011, they are thereby excluded. In short, 10-years of history is used.\n"
   ]
  },
  {
   "cell_type": "markdown",
   "metadata": {},
   "source": [
    "### 4.1\tModel Purpose"
   ]
  },
  {
   "cell_type": "markdown",
   "metadata": {},
   "source": [
    "As described above, the purpose of the model is to provide an estimate of the economic losses the portfolio will sustain in a twelve month window from the time of evaluation.  This estimate is then used as a data point for portfolio risk management, the establishment of underwriting guidelines, and the estimation of required reserves."
   ]
  },
  {
   "cell_type": "markdown",
   "metadata": {},
   "source": [
    "### 4.2\tKey Assumptions and Limitations"
   ]
  },
  {
   "cell_type": "markdown",
   "metadata": {},
   "source": [
    "The models are based on the Basel II guidance for economic loss models.  The limits and assumptions of such models are documented in both the guidance and the common body of literature on the subject.  For the ASB implementation, the development is also limited by data availability.  For the HELOC model, 9 years of data are utilized in the model update to incorporate appropriate consideration for the current economic cycle and the possible lack of representativeness of the data used to construct the data.  "
   ]
  },
  {
   "cell_type": "markdown",
   "metadata": {},
   "source": [
    "### 4.3\tModel Data "
   ]
  },
  {
   "cell_type": "markdown",
   "metadata": {},
   "source": [
    "The summary of the banding file data is shown below:"
   ]
  },
  {
   "cell_type": "markdown",
   "metadata": {},
   "source": [
    "1)\tDefaults By Year, Excluding Inactive Records"
   ]
  },
  {
   "cell_type": "code",
   "execution_count": null,
   "metadata": {},
   "outputs": [],
   "source": [
    "Performance Year\t# Non-Defaults\t# Defaults\t# Total\tDefault Rate %\n",
    "2011\t5,880\t28\t5,908\t0.47%\n",
    "2012\t6,958\t30\t6,988\t0.43%\n",
    "2013\t7,299\t19\t7,318\t0.26%\n",
    "2014\t8,540\t15\t8,555\t0.18%\n",
    "2015\t9,589\t30\t9,619\t0.31%\n",
    "2016\t9,545\t44\t9,589\t0.46%\n",
    "2017\t9,348\t48\t9,396\t0.51%\n",
    "2018\t9,406\t66\t9,472\t0.70%\n",
    "2019\t9,767\t77\t9,844\t0.78%\n",
    "2020\t10,005\t59\t10,064\t0.59%\n"
   ]
  },
  {
   "cell_type": "markdown",
   "metadata": {},
   "source": [
    "2)\tMissing Values By Year, Excluding Inactive Records"
   ]
  },
  {
   "cell_type": "code",
   "execution_count": null,
   "metadata": {},
   "outputs": [],
   "source": [
    "Performance Year\t# Missing FICO\t# Missing BKRPT\t# Missing AGE\t% Missing FICO\t% Missing BKRPT\t% Missing AGE\n",
    "2011\t429\t420\t0\t7.26%\t7.11%\t0.00%\n",
    "2012\t92\t85\t0\t1.32%\t1.22%\t0.00%\n",
    "2013\t769\t769\t0\t10.51%\t10.51%\t0.00%\n",
    "2014\t99\t93\t0\t1.16%\t1.09%\t0.00%\n",
    "2015\t110\t101\t0\t1.14%\t1.05%\t0.00%\n",
    "2016\t107\t152\t0\t1.12%\t1.59%\t0.00%\n",
    "2017\t90\t148\t0\t0.96%\t1.58%\t0.00%\n",
    "2018\t90\t174\t0\t0.95%\t1.84%\t0.00%\n",
    "2019\t97\t310\t0\t0.99%\t3.15%\t0.00%\n",
    "2020\t100\t323\t0\t0.99%\t3.21%\t0.00%\n"
   ]
  },
  {
   "cell_type": "markdown",
   "metadata": {},
   "source": [
    "Note: There are no missing values for age.  Starting in 2014 , the number of missing scores dropped noticeably due to changes in the format and contents of the file sent to Experian for scoring, resulting in a higher ‘hit-rate’ of customers and fewer missing scores.  "
   ]
  },
  {
   "cell_type": "markdown",
   "metadata": {},
   "source": [
    "3)\tData groups\n",
    "\n",
    "The Missing Data Group is comprised of records missing the FICO or BKRPT score.  \n"
   ]
  },
  {
   "cell_type": "code",
   "execution_count": null,
   "metadata": {},
   "outputs": [],
   "source": []
  }
 ],
 "metadata": {
  "kernelspec": {
   "display_name": "Python 3",
   "language": "python",
   "name": "python3"
  },
  "language_info": {
   "codemirror_mode": {
    "name": "ipython",
    "version": 3
   },
   "file_extension": ".py",
   "mimetype": "text/x-python",
   "name": "python",
   "nbconvert_exporter": "python",
   "pygments_lexer": "ipython3",
   "version": "3.7.3"
  }
 },
 "nbformat": 4,
 "nbformat_minor": 2
}
