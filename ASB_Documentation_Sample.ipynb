{
 "cells": [
  {
   "cell_type": "markdown",
   "metadata": {
    "id": "057b0c8b-9647-46ea-9d10-5fae339be7ea"
   },
   "source": [
    "#### American Savings Bank\n",
    "# 2021 PD UPDATE for HELOC\n",
    "#### Retail Credit Policy"
   ]
  },
  {
   "cell_type": "markdown",
   "metadata": {
    "id": "812f4e7c-5f6a-4289-a4dd-421ee44bf198"
   },
   "source": [
    "## Contents\n",
    "1. [Summary](#1.-Summary)\n",
    "2. [Data Overview](#2.-DATA-OVERVIEW)<br>\n",
    "    2.1 [Data Requirements](#2.1-Data-Requirements)<br>\n",
    "    2.2 [Data Generation Process](#2.2-Data-Generation-Process)<br>\n",
    "    2.3 [Data Validation](#2.3-Data-Validation)<br>\n",
    "3. [Model Overview](#3-Model-Overview)<br>\n",
    "4. [Model Update](#4-Model-Update)"
   ]
  },
  {
   "cell_type": "markdown",
   "metadata": {
    "id": "7fcbf148-068c-4778-8579-48eef5b8bedb"
   },
   "source": [
    "## 1. Summary"
   ]
  },
  {
   "cell_type": "markdown",
   "metadata": {
    "id": "7470140f-d744-41f7-9559-1d8e5bddf5fb"
   },
   "source": [
    "Retail Credit Policy (RCP) has been charged with the development and update of default probability models for the various consumer and Commercial and Industrial (C&I) portfolios.  These models are used for portfolio management and the calculation of loss expectancy within the Risk Adjusted Return on Capital (RAROC) framework.  This document describes the process utilized to update the HELOC portfolio model and describes the methods by which the updates are validated.\n",
    "\n",
    "The HELOC portfolio is comprised of real-estate secured lines of credit and fixed-rate loan option (FRELO) instruments which are attached-to and utilize the commitment of the parent HELOC loan.  The HELOC lines have variable interest rates and preset draw and repayment periods while the FRELOs behave like term loans and have fixed interest rates and amortization schedules.  The products in the HELOC portfolio are shown in the table below.  FRELOs are not included in the modeling dataset as discrete loans, but they are assigned the risk parameters from the HELOC portfolio as a proxy for calculating Expected Loss.\n"
   ]
  },
  {
   "cell_type": "markdown",
   "metadata": {
    "id": "d4059265-6bbb-49a3-906d-353409b1243c"
   },
   "source": [
    "| Product Code | Product Description |\n",
    "| :-: | :-- |\n",
    "| 540 | EQUITY MAXIMIZER LINE |\n",
    "| 549 | EQUITY CREDIT LINE |\n",
    "| 589 | EQUITY POWER LINE |\n",
    "| 594 | LIBERTY HOME EQUITY LOC |\n",
    "| 595 | EQUITY EXPRESS|\n",
    "| 596 | EQUITY EXPRESS TOTAL LOC/ODP |\n",
    "| 610 | (FRELO) CEL FRELO OPTION |\n",
    "| 695 | (FRELO) EEX FIXED RATE LOAN OPTION |"
   ]
  },
  {
   "cell_type": "markdown",
   "metadata": {
    "id": "1bfcd78e-3a47-4f23-9893-cca919b402a8"
   },
   "source": [
    "## 2. DATA OVERVIEW"
   ]
  },
  {
   "cell_type": "markdown",
   "metadata": {
    "id": "42d5130c-f6ea-4f22-b56f-933a15b78245"
   },
   "source": [
    "The data used for modeling is generated in a single file referred to as a historical banding file.  The historical banding file contains annual performance data for multiple years beginning in 2009.  As part of the data design, a portfolio snapshot is taken at the beginning of each performance period and tracked forward 12 months.  \n",
    "\n",
    "If an account is originated after the beginning of the performance period it is not counted until the following performance period.  In an effort to preserve all defaults, an account originated after the beginning of the performance period that defaults within the performance period is included in the modeling data set and considered a non-baselined default.  During the data generation process, the current year’s performance data is appended to the prior year’s historical banding file which contains performance data for all prior years, to generate the current year’s historical banding file which is used in the modeling process.  "
   ]
  },
  {
   "cell_type": "markdown",
   "metadata": {
    "id": "8356de53-d042-4480-bf0c-9886039d469c"
   },
   "source": [
    "The file used for the model update is “HELOC_BANDING_FILE_2020 with Balance.csv” and can be found in the data repository for the 2021 model update. The model years and performance periods included in the banding file is shown in the table below."
   ]
  },
  {
   "cell_type": "markdown",
   "metadata": {
    "id": "3cbcdff2-db90-462a-950d-213e75d16ebb"
   },
   "source": [
    "##### Table 1. Overview of Performance Periods for 2021 Build"
   ]
  },
  {
   "cell_type": "code",
   "execution_count": null,
   "metadata": {
    "id": "8a2cabdb-78a4-4cd2-93bb-f1deaf3f7faf"
   },
   "outputs": [],
   "source": [
    "import numpy as np\n",
    "import pandas as pd\n",
    "import matplotlib.pyplot as plt\n",
    "import seaborn as sns\n",
    "from IPython.display import HTML"
   ]
  },
  {
   "cell_type": "code",
   "execution_count": 18,
   "metadata": {
    "id": "c0dcf399-d1c9-46ff-b830-5d83a2abddf5"
   },
   "outputs": [
    {
     "data": {
      "text/html": [
       "<style  type=\"text/css\" >\n",
       "</style><table id=\"T_caafdf06_43cd_11ec_9f1f_83bc3db02e30\" ><thead>    <tr>        <th class=\"blank level0\" ></th>        <th class=\"col_heading level0 col0\" >Data Use</th>        <th class=\"col_heading level0 col1\" >Balance Data as of Date</th>        <th class=\"col_heading level0 col2\" >Build Year</th>        <th class=\"col_heading level0 col3\" >Use Year</th>        <th class=\"col_heading level0 col4\" >Performance Year</th>        <th class=\"col_heading level0 col5\" >Performance Period</th>        <th class=\"col_heading level0 col6\" >Performance Period.1</th>        <th class=\"col_heading level0 col7\" >Survival Date</th>    </tr></thead><tbody>\n",
       "                <tr>\n",
       "                        <th id=\"T_caafdf06_43cd_11ec_9f1f_83bc3db02e30level0_row0\" class=\"row_heading level0 row0\" >0</th>\n",
       "                        <td id=\"T_caafdf06_43cd_11ec_9f1f_83bc3db02e30row0_col0\" class=\"data row0 col0\" >nan</td>\n",
       "                        <td id=\"T_caafdf06_43cd_11ec_9f1f_83bc3db02e30row0_col1\" class=\"data row0 col1\" >nan</td>\n",
       "                        <td id=\"T_caafdf06_43cd_11ec_9f1f_83bc3db02e30row0_col2\" class=\"data row0 col2\" >nan</td>\n",
       "                        <td id=\"T_caafdf06_43cd_11ec_9f1f_83bc3db02e30row0_col3\" class=\"data row0 col3\" >nan</td>\n",
       "                        <td id=\"T_caafdf06_43cd_11ec_9f1f_83bc3db02e30row0_col4\" class=\"data row0 col4\" >nan</td>\n",
       "                        <td id=\"T_caafdf06_43cd_11ec_9f1f_83bc3db02e30row0_col5\" class=\"data row0 col5\" > Start Date</td>\n",
       "                        <td id=\"T_caafdf06_43cd_11ec_9f1f_83bc3db02e30row0_col6\" class=\"data row0 col6\" >End Date</td>\n",
       "                        <td id=\"T_caafdf06_43cd_11ec_9f1f_83bc3db02e30row0_col7\" class=\"data row0 col7\" >nan</td>\n",
       "            </tr>\n",
       "            <tr>\n",
       "                        <th id=\"T_caafdf06_43cd_11ec_9f1f_83bc3db02e30level0_row1\" class=\"row_heading level0 row1\" >1</th>\n",
       "                        <td id=\"T_caafdf06_43cd_11ec_9f1f_83bc3db02e30row1_col0\" class=\"data row1 col0\" >Excluded</td>\n",
       "                        <td id=\"T_caafdf06_43cd_11ec_9f1f_83bc3db02e30row1_col1\" class=\"data row1 col1\" >12/31/2008</td>\n",
       "                        <td id=\"T_caafdf06_43cd_11ec_9f1f_83bc3db02e30row1_col2\" class=\"data row1 col2\" >2009.000000</td>\n",
       "                        <td id=\"T_caafdf06_43cd_11ec_9f1f_83bc3db02e30row1_col3\" class=\"data row1 col3\" >2010</td>\n",
       "                        <td id=\"T_caafdf06_43cd_11ec_9f1f_83bc3db02e30row1_col4\" class=\"data row1 col4\" >2009.000000</td>\n",
       "                        <td id=\"T_caafdf06_43cd_11ec_9f1f_83bc3db02e30row1_col5\" class=\"data row1 col5\" >1/1/2009</td>\n",
       "                        <td id=\"T_caafdf06_43cd_11ec_9f1f_83bc3db02e30row1_col6\" class=\"data row1 col6\" >12/31/2009</td>\n",
       "                        <td id=\"T_caafdf06_43cd_11ec_9f1f_83bc3db02e30row1_col7\" class=\"data row1 col7\" >10/31/2009</td>\n",
       "            </tr>\n",
       "            <tr>\n",
       "                        <th id=\"T_caafdf06_43cd_11ec_9f1f_83bc3db02e30level0_row2\" class=\"row_heading level0 row2\" >2</th>\n",
       "                        <td id=\"T_caafdf06_43cd_11ec_9f1f_83bc3db02e30row2_col0\" class=\"data row2 col0\" >nan</td>\n",
       "                        <td id=\"T_caafdf06_43cd_11ec_9f1f_83bc3db02e30row2_col1\" class=\"data row2 col1\" >12/31/2009</td>\n",
       "                        <td id=\"T_caafdf06_43cd_11ec_9f1f_83bc3db02e30row2_col2\" class=\"data row2 col2\" >2010.000000</td>\n",
       "                        <td id=\"T_caafdf06_43cd_11ec_9f1f_83bc3db02e30row2_col3\" class=\"data row2 col3\" >2011</td>\n",
       "                        <td id=\"T_caafdf06_43cd_11ec_9f1f_83bc3db02e30row2_col4\" class=\"data row2 col4\" >2010.000000</td>\n",
       "                        <td id=\"T_caafdf06_43cd_11ec_9f1f_83bc3db02e30row2_col5\" class=\"data row2 col5\" >1/1/2010</td>\n",
       "                        <td id=\"T_caafdf06_43cd_11ec_9f1f_83bc3db02e30row2_col6\" class=\"data row2 col6\" >12/31/2010</td>\n",
       "                        <td id=\"T_caafdf06_43cd_11ec_9f1f_83bc3db02e30row2_col7\" class=\"data row2 col7\" >10/31/2010</td>\n",
       "            </tr>\n",
       "            <tr>\n",
       "                        <th id=\"T_caafdf06_43cd_11ec_9f1f_83bc3db02e30level0_row3\" class=\"row_heading level0 row3\" >3</th>\n",
       "                        <td id=\"T_caafdf06_43cd_11ec_9f1f_83bc3db02e30row3_col0\" class=\"data row3 col0\" >Train</td>\n",
       "                        <td id=\"T_caafdf06_43cd_11ec_9f1f_83bc3db02e30row3_col1\" class=\"data row3 col1\" >12/31/2010</td>\n",
       "                        <td id=\"T_caafdf06_43cd_11ec_9f1f_83bc3db02e30row3_col2\" class=\"data row3 col2\" >2011.000000</td>\n",
       "                        <td id=\"T_caafdf06_43cd_11ec_9f1f_83bc3db02e30row3_col3\" class=\"data row3 col3\" >2012</td>\n",
       "                        <td id=\"T_caafdf06_43cd_11ec_9f1f_83bc3db02e30row3_col4\" class=\"data row3 col4\" >2011.000000</td>\n",
       "                        <td id=\"T_caafdf06_43cd_11ec_9f1f_83bc3db02e30row3_col5\" class=\"data row3 col5\" >1/1/2011</td>\n",
       "                        <td id=\"T_caafdf06_43cd_11ec_9f1f_83bc3db02e30row3_col6\" class=\"data row3 col6\" >12/31/2011</td>\n",
       "                        <td id=\"T_caafdf06_43cd_11ec_9f1f_83bc3db02e30row3_col7\" class=\"data row3 col7\" >10/31/2011</td>\n",
       "            </tr>\n",
       "            <tr>\n",
       "                        <th id=\"T_caafdf06_43cd_11ec_9f1f_83bc3db02e30level0_row4\" class=\"row_heading level0 row4\" >4</th>\n",
       "                        <td id=\"T_caafdf06_43cd_11ec_9f1f_83bc3db02e30row4_col0\" class=\"data row4 col0\" >nan</td>\n",
       "                        <td id=\"T_caafdf06_43cd_11ec_9f1f_83bc3db02e30row4_col1\" class=\"data row4 col1\" >12/31/2011</td>\n",
       "                        <td id=\"T_caafdf06_43cd_11ec_9f1f_83bc3db02e30row4_col2\" class=\"data row4 col2\" >2012.000000</td>\n",
       "                        <td id=\"T_caafdf06_43cd_11ec_9f1f_83bc3db02e30row4_col3\" class=\"data row4 col3\" >2013</td>\n",
       "                        <td id=\"T_caafdf06_43cd_11ec_9f1f_83bc3db02e30row4_col4\" class=\"data row4 col4\" >2012.000000</td>\n",
       "                        <td id=\"T_caafdf06_43cd_11ec_9f1f_83bc3db02e30row4_col5\" class=\"data row4 col5\" >1/1/2012</td>\n",
       "                        <td id=\"T_caafdf06_43cd_11ec_9f1f_83bc3db02e30row4_col6\" class=\"data row4 col6\" >12/31/2012</td>\n",
       "                        <td id=\"T_caafdf06_43cd_11ec_9f1f_83bc3db02e30row4_col7\" class=\"data row4 col7\" >10/31/2012</td>\n",
       "            </tr>\n",
       "    </tbody></table>"
      ],
      "text/plain": [
       "<pandas.io.formats.style.Styler at 0x7fff60418f90>"
      ]
     },
     "execution_count": 18,
     "metadata": {},
     "output_type": "execute_result"
    }
   ],
   "source": [
    "import numpy as np\n",
    "import pandas as pd\n",
    "import matplotlib.pyplot as plt\n",
    "import seaborn as sns\n",
    "from IPython.display import HTML\n",
    "\n",
    "perf = pd.read_csv('/project_data/data_asset/table_Performance_Builds.csv')\n",
    "perf.style\n"
   ]
  },
  {
   "cell_type": "code",
   "execution_count": 19,
   "metadata": {
    "id": "cbe0cb57-efc4-4e0e-ab7a-1152bf96cc9f"
   },
   "outputs": [
    {
     "data": {
      "text/plain": [
       "Index(['Data Use', 'Balance Data as of Date', 'Build Year', 'Use Year',\n",
       "       'Performance Year', 'Performance Period', 'Performance Period.1',\n",
       "       'Survival Date'],\n",
       "      dtype='object')"
      ]
     },
     "execution_count": 19,
     "metadata": {},
     "output_type": "execute_result"
    }
   ],
   "source": [
    "perf.columns"
   ]
  },
  {
   "cell_type": "code",
   "execution_count": 20,
   "metadata": {
    "id": "dc8163c4-5016-41a7-ac57-a54facad47fc"
   },
   "outputs": [
    {
     "data": {
      "text/html": [
       "<div>\n",
       "<style scoped>\n",
       "    .dataframe tbody tr th:only-of-type {\n",
       "        vertical-align: middle;\n",
       "    }\n",
       "\n",
       "    .dataframe tbody tr th {\n",
       "        vertical-align: top;\n",
       "    }\n",
       "\n",
       "    .dataframe thead th {\n",
       "        text-align: right;\n",
       "    }\n",
       "</style>\n",
       "<table border=\"1\" class=\"dataframe\">\n",
       "  <thead>\n",
       "    <tr style=\"text-align: right;\">\n",
       "      <th></th>\n",
       "      <th>Data Use</th>\n",
       "      <th>Balance Data as of Date</th>\n",
       "      <th>Build Year</th>\n",
       "      <th>Use Year</th>\n",
       "      <th>Performance Year</th>\n",
       "      <th>Performance Period</th>\n",
       "      <th>Performance Period.1</th>\n",
       "      <th>Survival Date</th>\n",
       "    </tr>\n",
       "  </thead>\n",
       "  <tbody>\n",
       "    <tr>\n",
       "      <th>0</th>\n",
       "      <td>NaN</td>\n",
       "      <td>NaN</td>\n",
       "      <td>NaN</td>\n",
       "      <td>NaN</td>\n",
       "      <td>NaN</td>\n",
       "      <td>Start Date</td>\n",
       "      <td>End Date</td>\n",
       "      <td>NaN</td>\n",
       "    </tr>\n",
       "    <tr>\n",
       "      <th>1</th>\n",
       "      <td>Excluded</td>\n",
       "      <td>12/31/2008</td>\n",
       "      <td>2009.0</td>\n",
       "      <td>2010</td>\n",
       "      <td>2009.0</td>\n",
       "      <td>1/1/2009</td>\n",
       "      <td>12/31/2009</td>\n",
       "      <td>10/31/2009</td>\n",
       "    </tr>\n",
       "    <tr>\n",
       "      <th>2</th>\n",
       "      <td>NaN</td>\n",
       "      <td>12/31/2009</td>\n",
       "      <td>2010.0</td>\n",
       "      <td>2011</td>\n",
       "      <td>2010.0</td>\n",
       "      <td>1/1/2010</td>\n",
       "      <td>12/31/2010</td>\n",
       "      <td>10/31/2010</td>\n",
       "    </tr>\n",
       "    <tr>\n",
       "      <th>3</th>\n",
       "      <td>Train</td>\n",
       "      <td>12/31/2010</td>\n",
       "      <td>2011.0</td>\n",
       "      <td>2012</td>\n",
       "      <td>2011.0</td>\n",
       "      <td>1/1/2011</td>\n",
       "      <td>12/31/2011</td>\n",
       "      <td>10/31/2011</td>\n",
       "    </tr>\n",
       "    <tr>\n",
       "      <th>4</th>\n",
       "      <td>NaN</td>\n",
       "      <td>12/31/2011</td>\n",
       "      <td>2012.0</td>\n",
       "      <td>2013</td>\n",
       "      <td>2012.0</td>\n",
       "      <td>1/1/2012</td>\n",
       "      <td>12/31/2012</td>\n",
       "      <td>10/31/2012</td>\n",
       "    </tr>\n",
       "    <tr>\n",
       "      <th>5</th>\n",
       "      <td>NaN</td>\n",
       "      <td>10/31/2012</td>\n",
       "      <td>2013.0</td>\n",
       "      <td>2014</td>\n",
       "      <td>2013.0</td>\n",
       "      <td>11/1/2012</td>\n",
       "      <td>10/31/2013</td>\n",
       "      <td>8/31/2013</td>\n",
       "    </tr>\n",
       "    <tr>\n",
       "      <th>6</th>\n",
       "      <td>NaN</td>\n",
       "      <td>8/31/2013</td>\n",
       "      <td>2014.0</td>\n",
       "      <td>2015</td>\n",
       "      <td>2014.0</td>\n",
       "      <td>9/1/2013</td>\n",
       "      <td>8/31/2014</td>\n",
       "      <td>6/30/2014</td>\n",
       "    </tr>\n",
       "    <tr>\n",
       "      <th>7</th>\n",
       "      <td>NaN</td>\n",
       "      <td>8/31/2014</td>\n",
       "      <td>2015.0</td>\n",
       "      <td>2016</td>\n",
       "      <td>2015.0</td>\n",
       "      <td>9/1/2014</td>\n",
       "      <td>8/31/2015</td>\n",
       "      <td>6/30/2015</td>\n",
       "    </tr>\n",
       "    <tr>\n",
       "      <th>8</th>\n",
       "      <td>NaN</td>\n",
       "      <td>8/31/2015</td>\n",
       "      <td>2016.0</td>\n",
       "      <td>2017</td>\n",
       "      <td>2016.0</td>\n",
       "      <td>9/1/2015</td>\n",
       "      <td>8/31/2016</td>\n",
       "      <td>6/30/2016</td>\n",
       "    </tr>\n",
       "    <tr>\n",
       "      <th>9</th>\n",
       "      <td>NaN</td>\n",
       "      <td>8/31/2016</td>\n",
       "      <td>2017.0</td>\n",
       "      <td>2018-2021</td>\n",
       "      <td>2017.0</td>\n",
       "      <td>9/1/2016</td>\n",
       "      <td>8/31/2017</td>\n",
       "      <td>6/30/2017</td>\n",
       "    </tr>\n",
       "    <tr>\n",
       "      <th>10</th>\n",
       "      <td>NaN</td>\n",
       "      <td>8/31/2017</td>\n",
       "      <td>2018.0</td>\n",
       "      <td>NaN</td>\n",
       "      <td>2018.0</td>\n",
       "      <td>9/1/2017</td>\n",
       "      <td>8/31/2018</td>\n",
       "      <td>6/30/2018</td>\n",
       "    </tr>\n",
       "    <tr>\n",
       "      <th>11</th>\n",
       "      <td>NaN</td>\n",
       "      <td>6/30/2018</td>\n",
       "      <td>2019.0</td>\n",
       "      <td>NaN</td>\n",
       "      <td>2019.0</td>\n",
       "      <td>7/1/2018</td>\n",
       "      <td>6/30/2019</td>\n",
       "      <td>4/30/2019</td>\n",
       "    </tr>\n",
       "    <tr>\n",
       "      <th>12</th>\n",
       "      <td>Test</td>\n",
       "      <td>6/30/2019</td>\n",
       "      <td>2020.0</td>\n",
       "      <td>2022</td>\n",
       "      <td>2020.0</td>\n",
       "      <td>7/1/2019</td>\n",
       "      <td>6/30/2020</td>\n",
       "      <td>4/30/2020</td>\n",
       "    </tr>\n",
       "  </tbody>\n",
       "</table>\n",
       "</div>"
      ],
      "text/plain": [
       "    Data Use Balance Data as of Date  Build Year   Use Year  Performance Year  \\\n",
       "0        NaN                     NaN         NaN        NaN               NaN   \n",
       "1   Excluded              12/31/2008      2009.0       2010            2009.0   \n",
       "2        NaN              12/31/2009      2010.0       2011            2010.0   \n",
       "3      Train              12/31/2010      2011.0       2012            2011.0   \n",
       "4        NaN              12/31/2011      2012.0       2013            2012.0   \n",
       "5        NaN              10/31/2012      2013.0       2014            2013.0   \n",
       "6        NaN               8/31/2013      2014.0       2015            2014.0   \n",
       "7        NaN               8/31/2014      2015.0       2016            2015.0   \n",
       "8        NaN               8/31/2015      2016.0       2017            2016.0   \n",
       "9        NaN               8/31/2016      2017.0  2018-2021            2017.0   \n",
       "10       NaN               8/31/2017      2018.0        NaN            2018.0   \n",
       "11       NaN               6/30/2018      2019.0        NaN            2019.0   \n",
       "12      Test               6/30/2019      2020.0       2022            2020.0   \n",
       "\n",
       "   Performance Period Performance Period.1 Survival Date  \n",
       "0          Start Date             End Date           NaN  \n",
       "1            1/1/2009           12/31/2009    10/31/2009  \n",
       "2            1/1/2010           12/31/2010    10/31/2010  \n",
       "3            1/1/2011           12/31/2011    10/31/2011  \n",
       "4            1/1/2012           12/31/2012    10/31/2012  \n",
       "5           11/1/2012           10/31/2013     8/31/2013  \n",
       "6            9/1/2013            8/31/2014     6/30/2014  \n",
       "7            9/1/2014            8/31/2015     6/30/2015  \n",
       "8            9/1/2015            8/31/2016     6/30/2016  \n",
       "9            9/1/2016            8/31/2017     6/30/2017  \n",
       "10           9/1/2017            8/31/2018     6/30/2018  \n",
       "11           7/1/2018            6/30/2019     4/30/2019  \n",
       "12           7/1/2019            6/30/2020     4/30/2020  "
      ]
     },
     "execution_count": 20,
     "metadata": {},
     "output_type": "execute_result"
    }
   ],
   "source": [
    "perf"
   ]
  },
  {
   "cell_type": "code",
   "execution_count": null,
   "metadata": {
    "id": "118373de-4694-4a63-9b86-9cd8a3c78b1e"
   },
   "outputs": [],
   "source": [
    "                  index=pd.Index(['Data Use', 'Balance Data as of Date']),\n",
    "                  columns=pd.MultiIndex.from_product([['Decision Tree', 'Regression', 'Random'],['Tumour', 'Non-Tumour']], names=['Model:', 'Predicted:']))\n"
   ]
  },
  {
   "cell_type": "code",
   "execution_count": 15,
   "metadata": {
    "id": "34375847-56e7-4a01-9790-fe41656d2efd"
   },
   "outputs": [
    {
     "ename": "KeyError",
     "evalue": "\"None of [Index(['Index'], dtype='object')] are in the [columns]\"",
     "output_type": "error",
     "traceback": [
      "\u001b[0;31m---------------------------------------------------------------------------\u001b[0m",
      "\u001b[0;31mKeyError\u001b[0m                                  Traceback (most recent call last)",
      "\u001b[0;32m<ipython-input-15-3d844f27cbd5>\u001b[0m in \u001b[0;36m<module>\u001b[0;34m\u001b[0m\n\u001b[0;32m----> 1\u001b[0;31m \u001b[0ms\u001b[0m \u001b[0;34m=\u001b[0m \u001b[0mperf\u001b[0m\u001b[0;34m.\u001b[0m\u001b[0mstyle\u001b[0m\u001b[0;34m.\u001b[0m\u001b[0mformat\u001b[0m\u001b[0;34m(\u001b[0m\u001b[0;34m'{:.0f}'\u001b[0m\u001b[0;34m)\u001b[0m\u001b[0;34m.\u001b[0m\u001b[0mhide_columns\u001b[0m\u001b[0;34m(\u001b[0m\u001b[0;34m[\u001b[0m\u001b[0;34m(\u001b[0m\u001b[0;34m'Index'\u001b[0m\u001b[0;34m)\u001b[0m\u001b[0;34m]\u001b[0m\u001b[0;34m)\u001b[0m\u001b[0;34m\u001b[0m\u001b[0;34m\u001b[0m\u001b[0m\n\u001b[0m\u001b[1;32m      2\u001b[0m \u001b[0ms\u001b[0m\u001b[0;34m\u001b[0m\u001b[0;34m\u001b[0m\u001b[0m\n",
      "\u001b[0;32m/opt/conda/envs/Python-3.7-OpenCE/lib/python3.7/site-packages/pandas/io/formats/style.py\u001b[0m in \u001b[0;36mhide_columns\u001b[0;34m(self, subset)\u001b[0m\n\u001b[1;32m    958\u001b[0m         \"\"\"\n\u001b[1;32m    959\u001b[0m         \u001b[0msubset\u001b[0m \u001b[0;34m=\u001b[0m \u001b[0m_non_reducing_slice\u001b[0m\u001b[0;34m(\u001b[0m\u001b[0msubset\u001b[0m\u001b[0;34m)\u001b[0m\u001b[0;34m\u001b[0m\u001b[0;34m\u001b[0m\u001b[0m\n\u001b[0;32m--> 960\u001b[0;31m         \u001b[0mhidden_df\u001b[0m \u001b[0;34m=\u001b[0m \u001b[0mself\u001b[0m\u001b[0;34m.\u001b[0m\u001b[0mdata\u001b[0m\u001b[0;34m.\u001b[0m\u001b[0mloc\u001b[0m\u001b[0;34m[\u001b[0m\u001b[0msubset\u001b[0m\u001b[0;34m]\u001b[0m\u001b[0;34m\u001b[0m\u001b[0;34m\u001b[0m\u001b[0m\n\u001b[0m\u001b[1;32m    961\u001b[0m         \u001b[0mself\u001b[0m\u001b[0;34m.\u001b[0m\u001b[0mhidden_columns\u001b[0m \u001b[0;34m=\u001b[0m \u001b[0mself\u001b[0m\u001b[0;34m.\u001b[0m\u001b[0mcolumns\u001b[0m\u001b[0;34m.\u001b[0m\u001b[0mget_indexer_for\u001b[0m\u001b[0;34m(\u001b[0m\u001b[0mhidden_df\u001b[0m\u001b[0;34m.\u001b[0m\u001b[0mcolumns\u001b[0m\u001b[0;34m)\u001b[0m\u001b[0;34m\u001b[0m\u001b[0;34m\u001b[0m\u001b[0m\n\u001b[1;32m    962\u001b[0m         \u001b[0;32mreturn\u001b[0m \u001b[0mself\u001b[0m\u001b[0;34m\u001b[0m\u001b[0;34m\u001b[0m\u001b[0m\n",
      "\u001b[0;32m/opt/conda/envs/Python-3.7-OpenCE/lib/python3.7/site-packages/pandas/core/indexing.py\u001b[0m in \u001b[0;36m__getitem__\u001b[0;34m(self, key)\u001b[0m\n\u001b[1;32m   1760\u001b[0m                 \u001b[0;32mexcept\u001b[0m \u001b[0;34m(\u001b[0m\u001b[0mKeyError\u001b[0m\u001b[0;34m,\u001b[0m \u001b[0mIndexError\u001b[0m\u001b[0;34m,\u001b[0m \u001b[0mAttributeError\u001b[0m\u001b[0;34m)\u001b[0m\u001b[0;34m:\u001b[0m\u001b[0;34m\u001b[0m\u001b[0;34m\u001b[0m\u001b[0m\n\u001b[1;32m   1761\u001b[0m                     \u001b[0;32mpass\u001b[0m\u001b[0;34m\u001b[0m\u001b[0;34m\u001b[0m\u001b[0m\n\u001b[0;32m-> 1762\u001b[0;31m             \u001b[0;32mreturn\u001b[0m \u001b[0mself\u001b[0m\u001b[0;34m.\u001b[0m\u001b[0m_getitem_tuple\u001b[0m\u001b[0;34m(\u001b[0m\u001b[0mkey\u001b[0m\u001b[0;34m)\u001b[0m\u001b[0;34m\u001b[0m\u001b[0;34m\u001b[0m\u001b[0m\n\u001b[0m\u001b[1;32m   1763\u001b[0m         \u001b[0;32melse\u001b[0m\u001b[0;34m:\u001b[0m\u001b[0;34m\u001b[0m\u001b[0;34m\u001b[0m\u001b[0m\n\u001b[1;32m   1764\u001b[0m             \u001b[0;31m# we by definition only have the 0th axis\u001b[0m\u001b[0;34m\u001b[0m\u001b[0;34m\u001b[0m\u001b[0;34m\u001b[0m\u001b[0m\n",
      "\u001b[0;32m/opt/conda/envs/Python-3.7-OpenCE/lib/python3.7/site-packages/pandas/core/indexing.py\u001b[0m in \u001b[0;36m_getitem_tuple\u001b[0;34m(self, tup)\u001b[0m\n\u001b[1;32m   1287\u001b[0m                 \u001b[0;32mcontinue\u001b[0m\u001b[0;34m\u001b[0m\u001b[0;34m\u001b[0m\u001b[0m\n\u001b[1;32m   1288\u001b[0m \u001b[0;34m\u001b[0m\u001b[0m\n\u001b[0;32m-> 1289\u001b[0;31m             \u001b[0mretval\u001b[0m \u001b[0;34m=\u001b[0m \u001b[0mgetattr\u001b[0m\u001b[0;34m(\u001b[0m\u001b[0mretval\u001b[0m\u001b[0;34m,\u001b[0m \u001b[0mself\u001b[0m\u001b[0;34m.\u001b[0m\u001b[0mname\u001b[0m\u001b[0;34m)\u001b[0m\u001b[0;34m.\u001b[0m\u001b[0m_getitem_axis\u001b[0m\u001b[0;34m(\u001b[0m\u001b[0mkey\u001b[0m\u001b[0;34m,\u001b[0m \u001b[0maxis\u001b[0m\u001b[0;34m=\u001b[0m\u001b[0mi\u001b[0m\u001b[0;34m)\u001b[0m\u001b[0;34m\u001b[0m\u001b[0;34m\u001b[0m\u001b[0m\n\u001b[0m\u001b[1;32m   1290\u001b[0m \u001b[0;34m\u001b[0m\u001b[0m\n\u001b[1;32m   1291\u001b[0m         \u001b[0;32mreturn\u001b[0m \u001b[0mretval\u001b[0m\u001b[0;34m\u001b[0m\u001b[0;34m\u001b[0m\u001b[0m\n",
      "\u001b[0;32m/opt/conda/envs/Python-3.7-OpenCE/lib/python3.7/site-packages/pandas/core/indexing.py\u001b[0m in \u001b[0;36m_getitem_axis\u001b[0;34m(self, key, axis)\u001b[0m\n\u001b[1;32m   1952\u001b[0m                     \u001b[0;32mraise\u001b[0m \u001b[0mValueError\u001b[0m\u001b[0;34m(\u001b[0m\u001b[0;34m\"Cannot index with multidimensional key\"\u001b[0m\u001b[0;34m)\u001b[0m\u001b[0;34m\u001b[0m\u001b[0;34m\u001b[0m\u001b[0m\n\u001b[1;32m   1953\u001b[0m \u001b[0;34m\u001b[0m\u001b[0m\n\u001b[0;32m-> 1954\u001b[0;31m                 \u001b[0;32mreturn\u001b[0m \u001b[0mself\u001b[0m\u001b[0;34m.\u001b[0m\u001b[0m_getitem_iterable\u001b[0m\u001b[0;34m(\u001b[0m\u001b[0mkey\u001b[0m\u001b[0;34m,\u001b[0m \u001b[0maxis\u001b[0m\u001b[0;34m=\u001b[0m\u001b[0maxis\u001b[0m\u001b[0;34m)\u001b[0m\u001b[0;34m\u001b[0m\u001b[0;34m\u001b[0m\u001b[0m\n\u001b[0m\u001b[1;32m   1955\u001b[0m \u001b[0;34m\u001b[0m\u001b[0m\n\u001b[1;32m   1956\u001b[0m             \u001b[0;31m# nested tuple slicing\u001b[0m\u001b[0;34m\u001b[0m\u001b[0;34m\u001b[0m\u001b[0;34m\u001b[0m\u001b[0m\n",
      "\u001b[0;32m/opt/conda/envs/Python-3.7-OpenCE/lib/python3.7/site-packages/pandas/core/indexing.py\u001b[0m in \u001b[0;36m_getitem_iterable\u001b[0;34m(self, key, axis)\u001b[0m\n\u001b[1;32m   1593\u001b[0m         \u001b[0;32melse\u001b[0m\u001b[0;34m:\u001b[0m\u001b[0;34m\u001b[0m\u001b[0;34m\u001b[0m\u001b[0m\n\u001b[1;32m   1594\u001b[0m             \u001b[0;31m# A collection of keys\u001b[0m\u001b[0;34m\u001b[0m\u001b[0;34m\u001b[0m\u001b[0;34m\u001b[0m\u001b[0m\n\u001b[0;32m-> 1595\u001b[0;31m             \u001b[0mkeyarr\u001b[0m\u001b[0;34m,\u001b[0m \u001b[0mindexer\u001b[0m \u001b[0;34m=\u001b[0m \u001b[0mself\u001b[0m\u001b[0;34m.\u001b[0m\u001b[0m_get_listlike_indexer\u001b[0m\u001b[0;34m(\u001b[0m\u001b[0mkey\u001b[0m\u001b[0;34m,\u001b[0m \u001b[0maxis\u001b[0m\u001b[0;34m,\u001b[0m \u001b[0mraise_missing\u001b[0m\u001b[0;34m=\u001b[0m\u001b[0;32mFalse\u001b[0m\u001b[0;34m)\u001b[0m\u001b[0;34m\u001b[0m\u001b[0;34m\u001b[0m\u001b[0m\n\u001b[0m\u001b[1;32m   1596\u001b[0m             return self.obj._reindex_with_indexers(\n\u001b[1;32m   1597\u001b[0m                 \u001b[0;34m{\u001b[0m\u001b[0maxis\u001b[0m\u001b[0;34m:\u001b[0m \u001b[0;34m[\u001b[0m\u001b[0mkeyarr\u001b[0m\u001b[0;34m,\u001b[0m \u001b[0mindexer\u001b[0m\u001b[0;34m]\u001b[0m\u001b[0;34m}\u001b[0m\u001b[0;34m,\u001b[0m \u001b[0mcopy\u001b[0m\u001b[0;34m=\u001b[0m\u001b[0;32mTrue\u001b[0m\u001b[0;34m,\u001b[0m \u001b[0mallow_dups\u001b[0m\u001b[0;34m=\u001b[0m\u001b[0;32mTrue\u001b[0m\u001b[0;34m\u001b[0m\u001b[0;34m\u001b[0m\u001b[0m\n",
      "\u001b[0;32m/opt/conda/envs/Python-3.7-OpenCE/lib/python3.7/site-packages/pandas/core/indexing.py\u001b[0m in \u001b[0;36m_get_listlike_indexer\u001b[0;34m(self, key, axis, raise_missing)\u001b[0m\n\u001b[1;32m   1551\u001b[0m \u001b[0;34m\u001b[0m\u001b[0m\n\u001b[1;32m   1552\u001b[0m         self._validate_read_indexer(\n\u001b[0;32m-> 1553\u001b[0;31m             \u001b[0mkeyarr\u001b[0m\u001b[0;34m,\u001b[0m \u001b[0mindexer\u001b[0m\u001b[0;34m,\u001b[0m \u001b[0mo\u001b[0m\u001b[0;34m.\u001b[0m\u001b[0m_get_axis_number\u001b[0m\u001b[0;34m(\u001b[0m\u001b[0maxis\u001b[0m\u001b[0;34m)\u001b[0m\u001b[0;34m,\u001b[0m \u001b[0mraise_missing\u001b[0m\u001b[0;34m=\u001b[0m\u001b[0mraise_missing\u001b[0m\u001b[0;34m\u001b[0m\u001b[0;34m\u001b[0m\u001b[0m\n\u001b[0m\u001b[1;32m   1554\u001b[0m         )\n\u001b[1;32m   1555\u001b[0m         \u001b[0;32mreturn\u001b[0m \u001b[0mkeyarr\u001b[0m\u001b[0;34m,\u001b[0m \u001b[0mindexer\u001b[0m\u001b[0;34m\u001b[0m\u001b[0;34m\u001b[0m\u001b[0m\n",
      "\u001b[0;32m/opt/conda/envs/Python-3.7-OpenCE/lib/python3.7/site-packages/pandas/core/indexing.py\u001b[0m in \u001b[0;36m_validate_read_indexer\u001b[0;34m(self, key, indexer, axis, raise_missing)\u001b[0m\n\u001b[1;32m   1638\u001b[0m             \u001b[0;32mif\u001b[0m \u001b[0mmissing\u001b[0m \u001b[0;34m==\u001b[0m \u001b[0mlen\u001b[0m\u001b[0;34m(\u001b[0m\u001b[0mindexer\u001b[0m\u001b[0;34m)\u001b[0m\u001b[0;34m:\u001b[0m\u001b[0;34m\u001b[0m\u001b[0;34m\u001b[0m\u001b[0m\n\u001b[1;32m   1639\u001b[0m                 \u001b[0maxis_name\u001b[0m \u001b[0;34m=\u001b[0m \u001b[0mself\u001b[0m\u001b[0;34m.\u001b[0m\u001b[0mobj\u001b[0m\u001b[0;34m.\u001b[0m\u001b[0m_get_axis_name\u001b[0m\u001b[0;34m(\u001b[0m\u001b[0maxis\u001b[0m\u001b[0;34m)\u001b[0m\u001b[0;34m\u001b[0m\u001b[0;34m\u001b[0m\u001b[0m\n\u001b[0;32m-> 1640\u001b[0;31m                 \u001b[0;32mraise\u001b[0m \u001b[0mKeyError\u001b[0m\u001b[0;34m(\u001b[0m\u001b[0;34mf\"None of [{key}] are in the [{axis_name}]\"\u001b[0m\u001b[0;34m)\u001b[0m\u001b[0;34m\u001b[0m\u001b[0;34m\u001b[0m\u001b[0m\n\u001b[0m\u001b[1;32m   1641\u001b[0m \u001b[0;34m\u001b[0m\u001b[0m\n\u001b[1;32m   1642\u001b[0m             \u001b[0;31m# We (temporarily) allow for some missing keys with .loc, except in\u001b[0m\u001b[0;34m\u001b[0m\u001b[0;34m\u001b[0m\u001b[0;34m\u001b[0m\u001b[0m\n",
      "\u001b[0;31mKeyError\u001b[0m: \"None of [Index(['Index'], dtype='object')] are in the [columns]\""
     ]
    }
   ],
   "source": [
    "s = perf.style.format('{:.0f}').hide_columns([('Index')])\n",
    "s"
   ]
  },
  {
   "cell_type": "code",
   "execution_count": null,
   "metadata": {
    "id": "b4315fc6-7154-498b-8efa-0a251e72e4f7"
   },
   "outputs": [],
   "source": [
    "df.style.applymap(color_negative_red, subset=['total_amt_usd_diff','total_amt_usd_pct_diff'])\n"
   ]
  },
  {
   "cell_type": "code",
   "execution_count": 5,
   "metadata": {
    "id": "ccd73964-cdbd-4a4b-91a0-85ef1464b8f6"
   },
   "outputs": [],
   "source": [
    "styles = [\n",
    "    dict(selector='tr:nth-of-type(odd)', props=[('background', '#eee')]), \n",
    "    dict(selector='tr:nth-of-type(even)', props=[('background', 'green')]),\n",
    "    dict(selector='th', props=[('background', '#33caff'), ('color', 'white'), ('font-family', 'verdana')]),\n",
    "    dict(selector='td', props=[('font-family', 'verdana')]),\n",
    "    dict(selector='tr:hover', props=[('background-color', 'pink')])\n",
    "    ]"
   ]
  },
  {
   "cell_type": "code",
   "execution_count": 6,
   "metadata": {
    "id": "0c3d0f83-4867-41a5-8e0e-0eec42a24a82"
   },
   "outputs": [
    {
     "data": {
      "text/html": [
       "<style  type=\"text/css\" >\n",
       "    #T_e74eafbe_4334_11ec_9f1f_83bc3db02e30 tr:nth-of-type(odd) {\n",
       "          background: #eee;\n",
       "    }    #T_e74eafbe_4334_11ec_9f1f_83bc3db02e30 tr:nth-of-type(even) {\n",
       "          background: green;\n",
       "    }    #T_e74eafbe_4334_11ec_9f1f_83bc3db02e30 th {\n",
       "          background: #33caff;\n",
       "          color: white;\n",
       "          font-family: verdana;\n",
       "    }    #T_e74eafbe_4334_11ec_9f1f_83bc3db02e30 td {\n",
       "          font-family: verdana;\n",
       "    }    #T_e74eafbe_4334_11ec_9f1f_83bc3db02e30 tr:hover {\n",
       "          background-color: pink;\n",
       "    }</style><table id=\"T_e74eafbe_4334_11ec_9f1f_83bc3db02e30\" ><thead>    <tr>        <th class=\"index_name level0\" >Model:</th>        <th class=\"col_heading level0 col0\" colspan=2>Decision Tree</th>        <th class=\"col_heading level0 col2\" colspan=2>Regression</th>        <th class=\"col_heading level0 col4\" colspan=2>Random</th>    </tr>    <tr>        <th class=\"index_name level1\" >Predicted:</th>        <th class=\"col_heading level1 col0\" >Tumour</th>        <th class=\"col_heading level1 col1\" >Non-Tumour</th>        <th class=\"col_heading level1 col2\" >Tumour</th>        <th class=\"col_heading level1 col3\" >Non-Tumour</th>        <th class=\"col_heading level1 col4\" >Tumour</th>        <th class=\"col_heading level1 col5\" >Non-Tumour</th>    </tr>    <tr>        <th class=\"index_name level0\" >Actual Label:</th>        <th class=\"blank\" ></th>        <th class=\"blank\" ></th>        <th class=\"blank\" ></th>        <th class=\"blank\" ></th>        <th class=\"blank\" ></th>        <th class=\"blank\" ></th>    </tr></thead><tbody>\n",
       "                <tr>\n",
       "                        <th id=\"T_e74eafbe_4334_11ec_9f1f_83bc3db02e30level0_row0\" class=\"row_heading level0 row0\" >Tumour (Positive)</th>\n",
       "                        <td id=\"T_e74eafbe_4334_11ec_9f1f_83bc3db02e30row0_col0\" class=\"data row0 col0\" >38.000000</td>\n",
       "                        <td id=\"T_e74eafbe_4334_11ec_9f1f_83bc3db02e30row0_col1\" class=\"data row0 col1\" >2.000000</td>\n",
       "                        <td id=\"T_e74eafbe_4334_11ec_9f1f_83bc3db02e30row0_col2\" class=\"data row0 col2\" >18.000000</td>\n",
       "                        <td id=\"T_e74eafbe_4334_11ec_9f1f_83bc3db02e30row0_col3\" class=\"data row0 col3\" >22.000000</td>\n",
       "                        <td id=\"T_e74eafbe_4334_11ec_9f1f_83bc3db02e30row0_col4\" class=\"data row0 col4\" >21</td>\n",
       "                        <td id=\"T_e74eafbe_4334_11ec_9f1f_83bc3db02e30row0_col5\" class=\"data row0 col5\" >nan</td>\n",
       "            </tr>\n",
       "            <tr>\n",
       "                        <th id=\"T_e74eafbe_4334_11ec_9f1f_83bc3db02e30level0_row1\" class=\"row_heading level0 row1\" >Non-Tumour (Negative)</th>\n",
       "                        <td id=\"T_e74eafbe_4334_11ec_9f1f_83bc3db02e30row1_col0\" class=\"data row1 col0\" >19.000000</td>\n",
       "                        <td id=\"T_e74eafbe_4334_11ec_9f1f_83bc3db02e30row1_col1\" class=\"data row1 col1\" >439.000000</td>\n",
       "                        <td id=\"T_e74eafbe_4334_11ec_9f1f_83bc3db02e30row1_col2\" class=\"data row1 col2\" >6.000000</td>\n",
       "                        <td id=\"T_e74eafbe_4334_11ec_9f1f_83bc3db02e30row1_col3\" class=\"data row1 col3\" >452.000000</td>\n",
       "                        <td id=\"T_e74eafbe_4334_11ec_9f1f_83bc3db02e30row1_col4\" class=\"data row1 col4\" >226</td>\n",
       "                        <td id=\"T_e74eafbe_4334_11ec_9f1f_83bc3db02e30row1_col5\" class=\"data row1 col5\" >232.000000</td>\n",
       "            </tr>\n",
       "    </tbody></table>"
      ],
      "text/plain": [
       "<pandas.io.formats.style.Styler at 0x7fff605da110>"
      ]
     },
     "execution_count": 6,
     "metadata": {},
     "output_type": "execute_result"
    }
   ],
   "source": [
    "df = pd.DataFrame([[38.0, 2.0, 18.0, 22.0, 21, np.nan],[19, 439, 6, 452, 226,232]],\n",
    "                  index=pd.Index(['Tumour (Positive)', 'Non-Tumour (Negative)'], name='Actual Label:'),\n",
    "                  columns=pd.MultiIndex.from_product([['Decision Tree', 'Regression', 'Random'],['Tumour', 'Non-Tumour']], names=['Model:', 'Predicted:']))\n",
    "df.style.set_table_styles(styles)"
   ]
  },
  {
   "cell_type": "code",
   "execution_count": 7,
   "metadata": {
    "id": "cd12f66e-a60f-4b97-95ef-907cb8735c25"
   },
   "outputs": [
    {
     "data": {
      "text/html": [
       "<style  type=\"text/css\" >\n",
       "    #T_061688f4_4335_11ec_9f1f_83bc3db02e30 tr:nth-of-type(odd) {\n",
       "          background: #eee;\n",
       "    }    #T_061688f4_4335_11ec_9f1f_83bc3db02e30 tr:nth-of-type(even) {\n",
       "          background: green;\n",
       "    }    #T_061688f4_4335_11ec_9f1f_83bc3db02e30 th {\n",
       "          background: #33caff;\n",
       "          color: white;\n",
       "          font-family: verdana;\n",
       "    }    #T_061688f4_4335_11ec_9f1f_83bc3db02e30 td {\n",
       "          font-family: verdana;\n",
       "    }    #T_061688f4_4335_11ec_9f1f_83bc3db02e30 tr:hover {\n",
       "          background-color: pink;\n",
       "    }    #T_061688f4_4335_11ec_9f1f_83bc3db02e30row0_col4 {\n",
       "            background-color:  #e5ffe5;\n",
       "            color:  #000000;\n",
       "            : ;\n",
       "        }    #T_061688f4_4335_11ec_9f1f_83bc3db02e30row0_col5 {\n",
       "            background-color:  #e5ffe5;\n",
       "            color:  #000000;\n",
       "            : ;\n",
       "        }    #T_061688f4_4335_11ec_9f1f_83bc3db02e30row1_col4 {\n",
       "            background-color:  #008000;\n",
       "            color:  #f1f1f1;\n",
       "            background-color:  yellow;\n",
       "        }    #T_061688f4_4335_11ec_9f1f_83bc3db02e30row1_col5 {\n",
       "            background-color:  #e5ffe5;\n",
       "            color:  #000000;\n",
       "            background-color:  yellow;\n",
       "        }</style><table id=\"T_061688f4_4335_11ec_9f1f_83bc3db02e30\" ><caption>This is a custom caption.</caption><thead>    <tr>        <th class=\"index_name level0\" >Model:</th>        <th class=\"col_heading level0 col0\" colspan=2>Decision Tree</th>        <th class=\"col_heading level0 col2\" colspan=2>Regression</th>        <th class=\"col_heading level0 col4\" colspan=2>Random</th>    </tr>    <tr>        <th class=\"index_name level1\" >Predicted:</th>        <th class=\"col_heading level1 col0\" >Tumour</th>        <th class=\"col_heading level1 col1\" >Non-Tumour</th>        <th class=\"col_heading level1 col2\" >Tumour</th>        <th class=\"col_heading level1 col3\" >Non-Tumour</th>        <th class=\"col_heading level1 col4\" >Tumour</th>        <th class=\"col_heading level1 col5\" >Non-Tumour</th>    </tr>    <tr>        <th class=\"index_name level0\" >Actual Label:</th>        <th class=\"blank\" ></th>        <th class=\"blank\" ></th>        <th class=\"blank\" ></th>        <th class=\"blank\" ></th>        <th class=\"blank\" ></th>        <th class=\"blank\" ></th>    </tr></thead><tbody>\n",
       "                <tr>\n",
       "                        <th id=\"T_061688f4_4335_11ec_9f1f_83bc3db02e30level0_row0\" class=\"row_heading level0 row0\" >Tumour (Positive)</th>\n",
       "                        <td id=\"T_061688f4_4335_11ec_9f1f_83bc3db02e30row0_col0\" class=\"data row0 col0\" >38.000000</td>\n",
       "                        <td id=\"T_061688f4_4335_11ec_9f1f_83bc3db02e30row0_col1\" class=\"data row0 col1\" >2.000000</td>\n",
       "                        <td id=\"T_061688f4_4335_11ec_9f1f_83bc3db02e30row0_col2\" class=\"data row0 col2\" >18.000000</td>\n",
       "                        <td id=\"T_061688f4_4335_11ec_9f1f_83bc3db02e30row0_col3\" class=\"data row0 col3\" >22.000000</td>\n",
       "                        <td id=\"T_061688f4_4335_11ec_9f1f_83bc3db02e30row0_col4\" class=\"data row0 col4\" >21</td>\n",
       "                        <td id=\"T_061688f4_4335_11ec_9f1f_83bc3db02e30row0_col5\" class=\"data row0 col5\" >nan</td>\n",
       "            </tr>\n",
       "            <tr>\n",
       "                        <th id=\"T_061688f4_4335_11ec_9f1f_83bc3db02e30level0_row1\" class=\"row_heading level0 row1\" >Non-Tumour (Negative)</th>\n",
       "                        <td id=\"T_061688f4_4335_11ec_9f1f_83bc3db02e30row1_col0\" class=\"data row1 col0\" >19.000000</td>\n",
       "                        <td id=\"T_061688f4_4335_11ec_9f1f_83bc3db02e30row1_col1\" class=\"data row1 col1\" >439.000000</td>\n",
       "                        <td id=\"T_061688f4_4335_11ec_9f1f_83bc3db02e30row1_col2\" class=\"data row1 col2\" >6.000000</td>\n",
       "                        <td id=\"T_061688f4_4335_11ec_9f1f_83bc3db02e30row1_col3\" class=\"data row1 col3\" >452.000000</td>\n",
       "                        <td id=\"T_061688f4_4335_11ec_9f1f_83bc3db02e30row1_col4\" class=\"data row1 col4\" >226</td>\n",
       "                        <td id=\"T_061688f4_4335_11ec_9f1f_83bc3db02e30row1_col5\" class=\"data row1 col5\" >232.000000</td>\n",
       "            </tr>\n",
       "    </tbody></table>"
      ],
      "text/plain": [
       "<pandas.io.formats.style.Styler at 0x7fff8c264310>"
      ]
     },
     "execution_count": 7,
     "metadata": {},
     "output_type": "execute_result"
    }
   ],
   "source": [
    "cm = sns.light_palette(\"green\", as_cmap=True)\n",
    "(df.style\n",
    "  .background_gradient(cmap=cm, subset=['Random','total_amt_usd_pct_diff'])\n",
    "  .highlight_max(subset=['Random','total_amt_usd_pct_diff'])\n",
    "  .set_caption('This is a custom caption.')\n",
    "  .format({'total_amt_usd_pct_diff': \"{:.2%}\"})\n",
    "  .set_table_styles(styles))"
   ]
  },
  {
   "cell_type": "code",
   "execution_count": 27,
   "metadata": {
    "id": "84a8baa8-541c-4668-87f2-60c5435a45d0"
   },
   "outputs": [
    {
     "data": {
      "text/html": [
       "<style  type=\"text/css\" >\n",
       "    #T_07837676_4320_11ec_a200_51a965e1c7e6 tr:nth-of-type(odd) {\n",
       "          background: #eee;\n",
       "    }    #T_07837676_4320_11ec_a200_51a965e1c7e6 tr:nth-of-type(even) {\n",
       "          background: white;\n",
       "    }    #T_07837676_4320_11ec_a200_51a965e1c7e6 th {\n",
       "          background: #33caff;\n",
       "          color: white;\n",
       "          font-family: verdana;\n",
       "    }    #T_07837676_4320_11ec_a200_51a965e1c7e6 td {\n",
       "          font-family: verdana;\n",
       "    }    #T_07837676_4320_11ec_a200_51a965e1c7e6 tr:hover {\n",
       "          background-color: pink;\n",
       "    }</style><table id=\"T_07837676_4320_11ec_a200_51a965e1c7e6\" ><thead>    <tr>        <th class=\"index_name level0\" >Model:</th>        <th class=\"col_heading level0 col0\" colspan=2>Decision Tree</th>        <th class=\"col_heading level0 col2\" colspan=2>Regression</th>        <th class=\"col_heading level0 col4\" colspan=2>Random</th>    </tr>    <tr>        <th class=\"index_name level1\" >Predicted:</th>        <th class=\"col_heading level1 col0\" >Tumour</th>        <th class=\"col_heading level1 col1\" >Non-Tumour</th>        <th class=\"col_heading level1 col2\" >Tumour</th>        <th class=\"col_heading level1 col3\" >Non-Tumour</th>        <th class=\"col_heading level1 col4\" >Tumour</th>        <th class=\"col_heading level1 col5\" >Non-Tumour</th>    </tr>    <tr>        <th class=\"index_name level0\" >Actual Label:</th>        <th class=\"blank\" ></th>        <th class=\"blank\" ></th>        <th class=\"blank\" ></th>        <th class=\"blank\" ></th>        <th class=\"blank\" ></th>        <th class=\"blank\" ></th>    </tr></thead><tbody>\n",
       "                <tr>\n",
       "                        <th id=\"T_07837676_4320_11ec_a200_51a965e1c7e6level0_row0\" class=\"row_heading level0 row0\" >Tumour (Positive)</th>\n",
       "                        <td id=\"T_07837676_4320_11ec_a200_51a965e1c7e6row0_col0\" class=\"data row0 col0\" >38.000000</td>\n",
       "                        <td id=\"T_07837676_4320_11ec_a200_51a965e1c7e6row0_col1\" class=\"data row0 col1\" >2.000000</td>\n",
       "                        <td id=\"T_07837676_4320_11ec_a200_51a965e1c7e6row0_col2\" class=\"data row0 col2\" >18.000000</td>\n",
       "                        <td id=\"T_07837676_4320_11ec_a200_51a965e1c7e6row0_col3\" class=\"data row0 col3\" >22.000000</td>\n",
       "                        <td id=\"T_07837676_4320_11ec_a200_51a965e1c7e6row0_col4\" class=\"data row0 col4\" >21</td>\n",
       "                        <td id=\"T_07837676_4320_11ec_a200_51a965e1c7e6row0_col5\" class=\"data row0 col5\" >nan</td>\n",
       "            </tr>\n",
       "            <tr>\n",
       "                        <th id=\"T_07837676_4320_11ec_a200_51a965e1c7e6level0_row1\" class=\"row_heading level0 row1\" >Non-Tumour (Negative)</th>\n",
       "                        <td id=\"T_07837676_4320_11ec_a200_51a965e1c7e6row1_col0\" class=\"data row1 col0\" >19.000000</td>\n",
       "                        <td id=\"T_07837676_4320_11ec_a200_51a965e1c7e6row1_col1\" class=\"data row1 col1\" >439.000000</td>\n",
       "                        <td id=\"T_07837676_4320_11ec_a200_51a965e1c7e6row1_col2\" class=\"data row1 col2\" >6.000000</td>\n",
       "                        <td id=\"T_07837676_4320_11ec_a200_51a965e1c7e6row1_col3\" class=\"data row1 col3\" >452.000000</td>\n",
       "                        <td id=\"T_07837676_4320_11ec_a200_51a965e1c7e6row1_col4\" class=\"data row1 col4\" >226</td>\n",
       "                        <td id=\"T_07837676_4320_11ec_a200_51a965e1c7e6row1_col5\" class=\"data row1 col5\" >232.000000</td>\n",
       "            </tr>\n",
       "    </tbody></table>"
      ],
      "text/plain": [
       "<pandas.io.formats.style.Styler at 0x7fff899ef1d0>"
      ]
     },
     "execution_count": 27,
     "metadata": {},
     "output_type": "execute_result"
    }
   ],
   "source": [
    "styles = df.style.set_table_styles(\n",
    "[{'selector': 'tr:nth-of-type(odd)', 'props': [('background', '#eee')]}, \n",
    "{'selector': 'tr:nth-of-type(even)', 'props': [('background', 'white')]},\n",
    "{'selector': 'th', 'props': [('background', '#33caff'), ('color', 'white'), ('font-family', 'verdana')]},\n",
    "{'selector': 'td', 'props': [('font-family', 'verdana')]},\n",
    "{'selector': 'tr:hover', 'props': [('background-color', 'pink')]}])\n"
   ]
  },
  {
   "cell_type": "code",
   "execution_count": 51,
   "metadata": {
    "id": "80e7c388-58b7-432d-97b8-041e65a4b1a9"
   },
   "outputs": [
    {
     "data": {
      "text/html": [
       "<style  type=\"text/css\" >\n",
       "    #T_fa9b07c4_4321_11ec_a200_51a965e1c7e6row0_col0 {\n",
       "            color:  black;\n",
       "        }    #T_fa9b07c4_4321_11ec_a200_51a965e1c7e6row0_col1 {\n",
       "            color:  red;\n",
       "        }    #T_fa9b07c4_4321_11ec_a200_51a965e1c7e6row0_col2 {\n",
       "            color:  red;\n",
       "        }    #T_fa9b07c4_4321_11ec_a200_51a965e1c7e6row0_col3 {\n",
       "            color:  black;\n",
       "        }    #T_fa9b07c4_4321_11ec_a200_51a965e1c7e6row0_col4 {\n",
       "            color:  black;\n",
       "        }    #T_fa9b07c4_4321_11ec_a200_51a965e1c7e6row0_col5 {\n",
       "            color:  black;\n",
       "        }    #T_fa9b07c4_4321_11ec_a200_51a965e1c7e6row1_col0 {\n",
       "            color:  red;\n",
       "        }    #T_fa9b07c4_4321_11ec_a200_51a965e1c7e6row1_col1 {\n",
       "            color:  green;\n",
       "        }    #T_fa9b07c4_4321_11ec_a200_51a965e1c7e6row1_col2 {\n",
       "            color:  red;\n",
       "        }    #T_fa9b07c4_4321_11ec_a200_51a965e1c7e6row1_col3 {\n",
       "            color:  green;\n",
       "        }    #T_fa9b07c4_4321_11ec_a200_51a965e1c7e6row1_col4 {\n",
       "            color:  black;\n",
       "        }    #T_fa9b07c4_4321_11ec_a200_51a965e1c7e6row1_col5 {\n",
       "            color:  black;\n",
       "        }</style><table id=\"T_fa9b07c4_4321_11ec_a200_51a965e1c7e6\" ><thead>    <tr>        <th class=\"index_name level0\" >Model:</th>        <th class=\"col_heading level0 col0\" colspan=2>Decision Tree</th>        <th class=\"col_heading level0 col2\" colspan=2>Regression</th>        <th class=\"col_heading level0 col4\" colspan=2>Random</th>    </tr>    <tr>        <th class=\"index_name level1\" >Predicted:</th>        <th class=\"col_heading level1 col0\" >Tumour</th>        <th class=\"col_heading level1 col1\" >Non-Tumour</th>        <th class=\"col_heading level1 col2\" >Tumour</th>        <th class=\"col_heading level1 col3\" >Non-Tumour</th>        <th class=\"col_heading level1 col4\" >Tumour</th>        <th class=\"col_heading level1 col5\" >Non-Tumour</th>    </tr>    <tr>        <th class=\"index_name level0\" >Actual Label:</th>        <th class=\"blank\" ></th>        <th class=\"blank\" ></th>        <th class=\"blank\" ></th>        <th class=\"blank\" ></th>        <th class=\"blank\" ></th>        <th class=\"blank\" ></th>    </tr></thead><tbody>\n",
       "                <tr>\n",
       "                        <th id=\"T_fa9b07c4_4321_11ec_a200_51a965e1c7e6level0_row0\" class=\"row_heading level0 row0\" >Tumour (Positive)</th>\n",
       "                        <td id=\"T_fa9b07c4_4321_11ec_a200_51a965e1c7e6row0_col0\" class=\"data row0 col0\" >38.000000</td>\n",
       "                        <td id=\"T_fa9b07c4_4321_11ec_a200_51a965e1c7e6row0_col1\" class=\"data row0 col1\" >2.000000</td>\n",
       "                        <td id=\"T_fa9b07c4_4321_11ec_a200_51a965e1c7e6row0_col2\" class=\"data row0 col2\" >18.000000</td>\n",
       "                        <td id=\"T_fa9b07c4_4321_11ec_a200_51a965e1c7e6row0_col3\" class=\"data row0 col3\" >22.000000</td>\n",
       "                        <td id=\"T_fa9b07c4_4321_11ec_a200_51a965e1c7e6row0_col4\" class=\"data row0 col4\" >21</td>\n",
       "                        <td id=\"T_fa9b07c4_4321_11ec_a200_51a965e1c7e6row0_col5\" class=\"data row0 col5\" >nan</td>\n",
       "            </tr>\n",
       "            <tr>\n",
       "                        <th id=\"T_fa9b07c4_4321_11ec_a200_51a965e1c7e6level0_row1\" class=\"row_heading level0 row1\" >Non-Tumour (Negative)</th>\n",
       "                        <td id=\"T_fa9b07c4_4321_11ec_a200_51a965e1c7e6row1_col0\" class=\"data row1 col0\" >19.000000</td>\n",
       "                        <td id=\"T_fa9b07c4_4321_11ec_a200_51a965e1c7e6row1_col1\" class=\"data row1 col1\" >439.000000</td>\n",
       "                        <td id=\"T_fa9b07c4_4321_11ec_a200_51a965e1c7e6row1_col2\" class=\"data row1 col2\" >6.000000</td>\n",
       "                        <td id=\"T_fa9b07c4_4321_11ec_a200_51a965e1c7e6row1_col3\" class=\"data row1 col3\" >452.000000</td>\n",
       "                        <td id=\"T_fa9b07c4_4321_11ec_a200_51a965e1c7e6row1_col4\" class=\"data row1 col4\" >226</td>\n",
       "                        <td id=\"T_fa9b07c4_4321_11ec_a200_51a965e1c7e6row1_col5\" class=\"data row1 col5\" >232.000000</td>\n",
       "            </tr>\n",
       "    </tbody></table>"
      ],
      "text/plain": [
       "<pandas.io.formats.style.Styler at 0x7fff898f7850>"
      ]
     },
     "execution_count": 51,
     "metadata": {},
     "output_type": "execute_result"
    }
   ],
   "source": [
    "def color_red(val):\n",
    "    if val < 20:\n",
    "        color = 'red'\n",
    "    elif val > 400:\n",
    "        color = 'green'\n",
    "    else:\n",
    "        color = 'black'\n",
    "    return 'color: %s' % color\n",
    "\n",
    "df.style.applymap(color_red)"
   ]
  },
  {
   "cell_type": "code",
   "execution_count": 12,
   "metadata": {
    "id": "2d14628e-203d-4fd3-a067-dab801e07160"
   },
   "outputs": [],
   "source": [
    "s = df.style.format(formatter={('Decision Tree', 'Tumour'): \"{:.2f}\",('Decision Tree', 'Non-Tumour'): \"{:.2f}\",\n",
    "                ('Regression', 'Non-Tumour'): lambda x: \"{:,.0f}%\".format(x*-1e6)\n",
    "                })\n",
    "#s = df.style.applymap(color_red)"
   ]
  },
  {
   "cell_type": "code",
   "execution_count": 13,
   "metadata": {
    "id": "48dfb706-c761-492c-83df-aec7405c07b4"
   },
   "outputs": [
    {
     "data": {
      "text/html": [
       "<style  type=\"text/css\" >\n",
       "</style><table id=\"T_809872c2_43cb_11ec_9f1f_83bc3db02e30\" ><thead>    <tr>        <th class=\"index_name level0\" >Model:</th>        <th class=\"col_heading level0 col0\" colspan=2>Decision Tree</th>        <th class=\"col_heading level0 col2\" colspan=2>Regression</th>        <th class=\"col_heading level0 col4\" colspan=2>Random</th>    </tr>    <tr>        <th class=\"index_name level1\" >Predicted:</th>        <th class=\"col_heading level1 col0\" >Tumour</th>        <th class=\"col_heading level1 col1\" >Non-Tumour</th>        <th class=\"col_heading level1 col2\" >Tumour</th>        <th class=\"col_heading level1 col3\" >Non-Tumour</th>        <th class=\"col_heading level1 col4\" >Tumour</th>        <th class=\"col_heading level1 col5\" >Non-Tumour</th>    </tr>    <tr>        <th class=\"index_name level0\" >Actual Label:</th>        <th class=\"blank\" ></th>        <th class=\"blank\" ></th>        <th class=\"blank\" ></th>        <th class=\"blank\" ></th>        <th class=\"blank\" ></th>        <th class=\"blank\" ></th>    </tr></thead><tbody>\n",
       "                <tr>\n",
       "                        <th id=\"T_809872c2_43cb_11ec_9f1f_83bc3db02e30level0_row0\" class=\"row_heading level0 row0\" >Tumour (Positive)</th>\n",
       "                        <td id=\"T_809872c2_43cb_11ec_9f1f_83bc3db02e30row0_col0\" class=\"data row0 col0\" >38.00</td>\n",
       "                        <td id=\"T_809872c2_43cb_11ec_9f1f_83bc3db02e30row0_col1\" class=\"data row0 col1\" >2.00</td>\n",
       "                        <td id=\"T_809872c2_43cb_11ec_9f1f_83bc3db02e30row0_col2\" class=\"data row0 col2\" >18.000000</td>\n",
       "                        <td id=\"T_809872c2_43cb_11ec_9f1f_83bc3db02e30row0_col3\" class=\"data row0 col3\" >-22,000,000%</td>\n",
       "                        <td id=\"T_809872c2_43cb_11ec_9f1f_83bc3db02e30row0_col4\" class=\"data row0 col4\" >21</td>\n",
       "                        <td id=\"T_809872c2_43cb_11ec_9f1f_83bc3db02e30row0_col5\" class=\"data row0 col5\" >nan</td>\n",
       "            </tr>\n",
       "            <tr>\n",
       "                        <th id=\"T_809872c2_43cb_11ec_9f1f_83bc3db02e30level0_row1\" class=\"row_heading level0 row1\" >Non-Tumour (Negative)</th>\n",
       "                        <td id=\"T_809872c2_43cb_11ec_9f1f_83bc3db02e30row1_col0\" class=\"data row1 col0\" >19.00</td>\n",
       "                        <td id=\"T_809872c2_43cb_11ec_9f1f_83bc3db02e30row1_col1\" class=\"data row1 col1\" >439.00</td>\n",
       "                        <td id=\"T_809872c2_43cb_11ec_9f1f_83bc3db02e30row1_col2\" class=\"data row1 col2\" >6.000000</td>\n",
       "                        <td id=\"T_809872c2_43cb_11ec_9f1f_83bc3db02e30row1_col3\" class=\"data row1 col3\" >-452,000,000%</td>\n",
       "                        <td id=\"T_809872c2_43cb_11ec_9f1f_83bc3db02e30row1_col4\" class=\"data row1 col4\" >226</td>\n",
       "                        <td id=\"T_809872c2_43cb_11ec_9f1f_83bc3db02e30row1_col5\" class=\"data row1 col5\" >232.000000</td>\n",
       "            </tr>\n",
       "    </tbody></table>"
      ],
      "text/plain": [
       "<pandas.io.formats.style.Styler at 0x7fff6056fd90>"
      ]
     },
     "execution_count": 13,
     "metadata": {},
     "output_type": "execute_result"
    }
   ],
   "source": [
    "s"
   ]
  },
  {
   "cell_type": "code",
   "execution_count": 17,
   "metadata": {
    "id": "117bb185-8255-4660-9c89-3875fe9a344b"
   },
   "outputs": [
    {
     "ename": "ValueError",
     "evalue": "not enough values to unpack (expected 2, got 1)",
     "output_type": "error",
     "traceback": [
      "\u001b[0;31m---------------------------------------------------------------------------\u001b[0m",
      "\u001b[0;31mValueError\u001b[0m                                Traceback (most recent call last)",
      "\u001b[0;32m/opt/conda/envs/Python-3.7-OpenCE/lib/python3.7/site-packages/IPython/core/formatters.py\u001b[0m in \u001b[0;36m__call__\u001b[0;34m(self, obj)\u001b[0m\n\u001b[1;32m    343\u001b[0m             \u001b[0mmethod\u001b[0m \u001b[0;34m=\u001b[0m \u001b[0mget_real_method\u001b[0m\u001b[0;34m(\u001b[0m\u001b[0mobj\u001b[0m\u001b[0;34m,\u001b[0m \u001b[0mself\u001b[0m\u001b[0;34m.\u001b[0m\u001b[0mprint_method\u001b[0m\u001b[0;34m)\u001b[0m\u001b[0;34m\u001b[0m\u001b[0;34m\u001b[0m\u001b[0m\n\u001b[1;32m    344\u001b[0m             \u001b[0;32mif\u001b[0m \u001b[0mmethod\u001b[0m \u001b[0;32mis\u001b[0m \u001b[0;32mnot\u001b[0m \u001b[0;32mNone\u001b[0m\u001b[0;34m:\u001b[0m\u001b[0;34m\u001b[0m\u001b[0;34m\u001b[0m\u001b[0m\n\u001b[0;32m--> 345\u001b[0;31m                 \u001b[0;32mreturn\u001b[0m \u001b[0mmethod\u001b[0m\u001b[0;34m(\u001b[0m\u001b[0;34m)\u001b[0m\u001b[0;34m\u001b[0m\u001b[0;34m\u001b[0m\u001b[0m\n\u001b[0m\u001b[1;32m    346\u001b[0m             \u001b[0;32mreturn\u001b[0m \u001b[0;32mNone\u001b[0m\u001b[0;34m\u001b[0m\u001b[0;34m\u001b[0m\u001b[0m\n\u001b[1;32m    347\u001b[0m         \u001b[0;32melse\u001b[0m\u001b[0;34m:\u001b[0m\u001b[0;34m\u001b[0m\u001b[0;34m\u001b[0m\u001b[0m\n",
      "\u001b[0;32m/opt/conda/envs/Python-3.7-OpenCE/lib/python3.7/site-packages/pandas/io/formats/style.py\u001b[0m in \u001b[0;36m_repr_html_\u001b[0;34m(self)\u001b[0m\n\u001b[1;32m    180\u001b[0m         \u001b[0mHooks\u001b[0m \u001b[0minto\u001b[0m \u001b[0mJupyter\u001b[0m \u001b[0mnotebook\u001b[0m \u001b[0mrich\u001b[0m \u001b[0mdisplay\u001b[0m \u001b[0msystem\u001b[0m\u001b[0;34m.\u001b[0m\u001b[0;34m\u001b[0m\u001b[0;34m\u001b[0m\u001b[0m\n\u001b[1;32m    181\u001b[0m         \"\"\"\n\u001b[0;32m--> 182\u001b[0;31m         \u001b[0;32mreturn\u001b[0m \u001b[0mself\u001b[0m\u001b[0;34m.\u001b[0m\u001b[0mrender\u001b[0m\u001b[0;34m(\u001b[0m\u001b[0;34m)\u001b[0m\u001b[0;34m\u001b[0m\u001b[0;34m\u001b[0m\u001b[0m\n\u001b[0m\u001b[1;32m    183\u001b[0m \u001b[0;34m\u001b[0m\u001b[0m\n\u001b[1;32m    184\u001b[0m     @Appender(\n",
      "\u001b[0;32m/opt/conda/envs/Python-3.7-OpenCE/lib/python3.7/site-packages/pandas/io/formats/style.py\u001b[0m in \u001b[0;36mrender\u001b[0;34m(self, **kwargs)\u001b[0m\n\u001b[1;32m    544\u001b[0m         \u001b[0md\u001b[0m\u001b[0;34m[\u001b[0m\u001b[0;34m\"cellstyle\"\u001b[0m\u001b[0;34m]\u001b[0m \u001b[0;34m=\u001b[0m \u001b[0mtrimmed\u001b[0m\u001b[0;34m\u001b[0m\u001b[0;34m\u001b[0m\u001b[0m\n\u001b[1;32m    545\u001b[0m         \u001b[0md\u001b[0m\u001b[0;34m.\u001b[0m\u001b[0mupdate\u001b[0m\u001b[0;34m(\u001b[0m\u001b[0mkwargs\u001b[0m\u001b[0;34m)\u001b[0m\u001b[0;34m\u001b[0m\u001b[0;34m\u001b[0m\u001b[0m\n\u001b[0;32m--> 546\u001b[0;31m         \u001b[0;32mreturn\u001b[0m \u001b[0mself\u001b[0m\u001b[0;34m.\u001b[0m\u001b[0mtemplate\u001b[0m\u001b[0;34m.\u001b[0m\u001b[0mrender\u001b[0m\u001b[0;34m(\u001b[0m\u001b[0;34m**\u001b[0m\u001b[0md\u001b[0m\u001b[0;34m)\u001b[0m\u001b[0;34m\u001b[0m\u001b[0;34m\u001b[0m\u001b[0m\n\u001b[0m\u001b[1;32m    547\u001b[0m \u001b[0;34m\u001b[0m\u001b[0m\n\u001b[1;32m    548\u001b[0m     \u001b[0;32mdef\u001b[0m \u001b[0m_update_ctx\u001b[0m\u001b[0;34m(\u001b[0m\u001b[0mself\u001b[0m\u001b[0;34m,\u001b[0m \u001b[0mattrs\u001b[0m\u001b[0;34m)\u001b[0m\u001b[0;34m:\u001b[0m\u001b[0;34m\u001b[0m\u001b[0;34m\u001b[0m\u001b[0m\n",
      "\u001b[0;32m/opt/conda/envs/Python-3.7-OpenCE/lib/python3.7/site-packages/jinja2/environment.py\u001b[0m in \u001b[0;36mrender\u001b[0;34m(self, *args, **kwargs)\u001b[0m\n\u001b[1;32m   1088\u001b[0m             \u001b[0;32mreturn\u001b[0m \u001b[0mconcat\u001b[0m\u001b[0;34m(\u001b[0m\u001b[0mself\u001b[0m\u001b[0;34m.\u001b[0m\u001b[0mroot_render_func\u001b[0m\u001b[0;34m(\u001b[0m\u001b[0mself\u001b[0m\u001b[0;34m.\u001b[0m\u001b[0mnew_context\u001b[0m\u001b[0;34m(\u001b[0m\u001b[0mvars\u001b[0m\u001b[0;34m)\u001b[0m\u001b[0;34m)\u001b[0m\u001b[0;34m)\u001b[0m\u001b[0;34m\u001b[0m\u001b[0;34m\u001b[0m\u001b[0m\n\u001b[1;32m   1089\u001b[0m         \u001b[0;32mexcept\u001b[0m \u001b[0mException\u001b[0m\u001b[0;34m:\u001b[0m\u001b[0;34m\u001b[0m\u001b[0;34m\u001b[0m\u001b[0m\n\u001b[0;32m-> 1090\u001b[0;31m             \u001b[0mself\u001b[0m\u001b[0;34m.\u001b[0m\u001b[0menvironment\u001b[0m\u001b[0;34m.\u001b[0m\u001b[0mhandle_exception\u001b[0m\u001b[0;34m(\u001b[0m\u001b[0;34m)\u001b[0m\u001b[0;34m\u001b[0m\u001b[0;34m\u001b[0m\u001b[0m\n\u001b[0m\u001b[1;32m   1091\u001b[0m \u001b[0;34m\u001b[0m\u001b[0m\n\u001b[1;32m   1092\u001b[0m     \u001b[0;32mdef\u001b[0m \u001b[0mrender_async\u001b[0m\u001b[0;34m(\u001b[0m\u001b[0mself\u001b[0m\u001b[0;34m,\u001b[0m \u001b[0;34m*\u001b[0m\u001b[0margs\u001b[0m\u001b[0;34m,\u001b[0m \u001b[0;34m**\u001b[0m\u001b[0mkwargs\u001b[0m\u001b[0;34m)\u001b[0m\u001b[0;34m:\u001b[0m\u001b[0;34m\u001b[0m\u001b[0;34m\u001b[0m\u001b[0m\n",
      "\u001b[0;32m/opt/conda/envs/Python-3.7-OpenCE/lib/python3.7/site-packages/jinja2/environment.py\u001b[0m in \u001b[0;36mhandle_exception\u001b[0;34m(self, source)\u001b[0m\n\u001b[1;32m    830\u001b[0m         \u001b[0;32mfrom\u001b[0m \u001b[0;34m.\u001b[0m\u001b[0mdebug\u001b[0m \u001b[0;32mimport\u001b[0m \u001b[0mrewrite_traceback_stack\u001b[0m\u001b[0;34m\u001b[0m\u001b[0;34m\u001b[0m\u001b[0m\n\u001b[1;32m    831\u001b[0m \u001b[0;34m\u001b[0m\u001b[0m\n\u001b[0;32m--> 832\u001b[0;31m         \u001b[0mreraise\u001b[0m\u001b[0;34m(\u001b[0m\u001b[0;34m*\u001b[0m\u001b[0mrewrite_traceback_stack\u001b[0m\u001b[0;34m(\u001b[0m\u001b[0msource\u001b[0m\u001b[0;34m=\u001b[0m\u001b[0msource\u001b[0m\u001b[0;34m)\u001b[0m\u001b[0;34m)\u001b[0m\u001b[0;34m\u001b[0m\u001b[0;34m\u001b[0m\u001b[0m\n\u001b[0m\u001b[1;32m    833\u001b[0m \u001b[0;34m\u001b[0m\u001b[0m\n\u001b[1;32m    834\u001b[0m     \u001b[0;32mdef\u001b[0m \u001b[0mjoin_path\u001b[0m\u001b[0;34m(\u001b[0m\u001b[0mself\u001b[0m\u001b[0;34m,\u001b[0m \u001b[0mtemplate\u001b[0m\u001b[0;34m,\u001b[0m \u001b[0mparent\u001b[0m\u001b[0;34m)\u001b[0m\u001b[0;34m:\u001b[0m\u001b[0;34m\u001b[0m\u001b[0;34m\u001b[0m\u001b[0m\n",
      "\u001b[0;32m/opt/conda/envs/Python-3.7-OpenCE/lib/python3.7/site-packages/jinja2/_compat.py\u001b[0m in \u001b[0;36mreraise\u001b[0;34m(tp, value, tb)\u001b[0m\n\u001b[1;32m     26\u001b[0m     \u001b[0;32mdef\u001b[0m \u001b[0mreraise\u001b[0m\u001b[0;34m(\u001b[0m\u001b[0mtp\u001b[0m\u001b[0;34m,\u001b[0m \u001b[0mvalue\u001b[0m\u001b[0;34m,\u001b[0m \u001b[0mtb\u001b[0m\u001b[0;34m=\u001b[0m\u001b[0;32mNone\u001b[0m\u001b[0;34m)\u001b[0m\u001b[0;34m:\u001b[0m\u001b[0;34m\u001b[0m\u001b[0;34m\u001b[0m\u001b[0m\n\u001b[1;32m     27\u001b[0m         \u001b[0;32mif\u001b[0m \u001b[0mvalue\u001b[0m\u001b[0;34m.\u001b[0m\u001b[0m__traceback__\u001b[0m \u001b[0;32mis\u001b[0m \u001b[0;32mnot\u001b[0m \u001b[0mtb\u001b[0m\u001b[0;34m:\u001b[0m\u001b[0;34m\u001b[0m\u001b[0;34m\u001b[0m\u001b[0m\n\u001b[0;32m---> 28\u001b[0;31m             \u001b[0;32mraise\u001b[0m \u001b[0mvalue\u001b[0m\u001b[0;34m.\u001b[0m\u001b[0mwith_traceback\u001b[0m\u001b[0;34m(\u001b[0m\u001b[0mtb\u001b[0m\u001b[0;34m)\u001b[0m\u001b[0;34m\u001b[0m\u001b[0;34m\u001b[0m\u001b[0m\n\u001b[0m\u001b[1;32m     29\u001b[0m         \u001b[0;32mraise\u001b[0m \u001b[0mvalue\u001b[0m\u001b[0;34m\u001b[0m\u001b[0;34m\u001b[0m\u001b[0m\n\u001b[1;32m     30\u001b[0m \u001b[0;34m\u001b[0m\u001b[0m\n",
      "\u001b[0;32m/opt/conda/envs/Python-3.7-OpenCE/lib/python3.7/site-packages/pandas/io/formats/templates/html.tpl\u001b[0m in \u001b[0;36mtop-level template code\u001b[0;34m()\u001b[0m\n\u001b[1;32m      1\u001b[0m {# Update the template_structure.html document too #}\n\u001b[1;32m      2\u001b[0m \u001b[0;34m{\u001b[0m\u001b[0;34m%\u001b[0m\u001b[0;34m-\u001b[0m \u001b[0mblock\u001b[0m \u001b[0mbefore_style\u001b[0m \u001b[0;34m-\u001b[0m\u001b[0;34m%\u001b[0m\u001b[0;34m}\u001b[0m\u001b[0;34m{\u001b[0m\u001b[0;34m%\u001b[0m\u001b[0;34m-\u001b[0m \u001b[0mendblock\u001b[0m \u001b[0mbefore_style\u001b[0m \u001b[0;34m-\u001b[0m\u001b[0;34m%\u001b[0m\u001b[0;34m}\u001b[0m\u001b[0;34m\u001b[0m\u001b[0;34m\u001b[0m\u001b[0m\n\u001b[0;32m----> 3\u001b[0;31m \u001b[0;34m{\u001b[0m\u001b[0;34m%\u001b[0m \u001b[0mblock\u001b[0m \u001b[0mstyle\u001b[0m \u001b[0;34m%\u001b[0m\u001b[0;34m}\u001b[0m\u001b[0;34m\u001b[0m\u001b[0;34m\u001b[0m\u001b[0m\n\u001b[0m\u001b[1;32m      4\u001b[0m \u001b[0;34m<\u001b[0m\u001b[0mstyle\u001b[0m  \u001b[0mtype\u001b[0m\u001b[0;34m=\u001b[0m\u001b[0;34m\"text/css\"\u001b[0m \u001b[0;34m>\u001b[0m\u001b[0;34m\u001b[0m\u001b[0;34m\u001b[0m\u001b[0m\n\u001b[1;32m      5\u001b[0m \u001b[0;34m{\u001b[0m\u001b[0;34m%\u001b[0m \u001b[0mblock\u001b[0m \u001b[0mtable_styles\u001b[0m \u001b[0;34m%\u001b[0m\u001b[0;34m}\u001b[0m\u001b[0;34m\u001b[0m\u001b[0;34m\u001b[0m\u001b[0m\n",
      "\u001b[0;32m/opt/conda/envs/Python-3.7-OpenCE/lib/python3.7/site-packages/pandas/io/formats/templates/html.tpl\u001b[0m in \u001b[0;36mblock \"style\"\u001b[0;34m()\u001b[0m\n\u001b[1;32m      3\u001b[0m \u001b[0;34m{\u001b[0m\u001b[0;34m%\u001b[0m \u001b[0mblock\u001b[0m \u001b[0mstyle\u001b[0m \u001b[0;34m%\u001b[0m\u001b[0;34m}\u001b[0m\u001b[0;34m\u001b[0m\u001b[0;34m\u001b[0m\u001b[0m\n\u001b[1;32m      4\u001b[0m \u001b[0;34m<\u001b[0m\u001b[0mstyle\u001b[0m  \u001b[0mtype\u001b[0m\u001b[0;34m=\u001b[0m\u001b[0;34m\"text/css\"\u001b[0m \u001b[0;34m>\u001b[0m\u001b[0;34m\u001b[0m\u001b[0;34m\u001b[0m\u001b[0m\n\u001b[0;32m----> 5\u001b[0;31m \u001b[0;34m{\u001b[0m\u001b[0;34m%\u001b[0m \u001b[0mblock\u001b[0m \u001b[0mtable_styles\u001b[0m \u001b[0;34m%\u001b[0m\u001b[0;34m}\u001b[0m\u001b[0;34m\u001b[0m\u001b[0;34m\u001b[0m\u001b[0m\n\u001b[0m\u001b[1;32m      6\u001b[0m \u001b[0;34m{\u001b[0m\u001b[0;34m%\u001b[0m \u001b[0;32mfor\u001b[0m \u001b[0ms\u001b[0m \u001b[0;32min\u001b[0m \u001b[0mtable_styles\u001b[0m \u001b[0;34m%\u001b[0m\u001b[0;34m}\u001b[0m\u001b[0;34m\u001b[0m\u001b[0;34m\u001b[0m\u001b[0m\n\u001b[1;32m      7\u001b[0m     \u001b[0;31m#T_{{uuid}} {{s.selector}} {\u001b[0m\u001b[0;34m\u001b[0m\u001b[0;34m\u001b[0m\u001b[0;34m\u001b[0m\u001b[0m\n",
      "\u001b[0;32m/opt/conda/envs/Python-3.7-OpenCE/lib/python3.7/site-packages/pandas/io/formats/templates/html.tpl\u001b[0m in \u001b[0;36mblock \"table_styles\"\u001b[0;34m()\u001b[0m\n\u001b[1;32m      6\u001b[0m \u001b[0;34m{\u001b[0m\u001b[0;34m%\u001b[0m \u001b[0;32mfor\u001b[0m \u001b[0ms\u001b[0m \u001b[0;32min\u001b[0m \u001b[0mtable_styles\u001b[0m \u001b[0;34m%\u001b[0m\u001b[0;34m}\u001b[0m\u001b[0;34m\u001b[0m\u001b[0;34m\u001b[0m\u001b[0m\n\u001b[1;32m      7\u001b[0m     \u001b[0;31m#T_{{uuid}} {{s.selector}} {\u001b[0m\u001b[0;34m\u001b[0m\u001b[0;34m\u001b[0m\u001b[0;34m\u001b[0m\u001b[0m\n\u001b[0;32m----> 8\u001b[0;31m     \u001b[0;34m{\u001b[0m\u001b[0;34m%\u001b[0m \u001b[0;32mfor\u001b[0m \u001b[0mp\u001b[0m\u001b[0;34m,\u001b[0m\u001b[0mval\u001b[0m \u001b[0;32min\u001b[0m \u001b[0ms\u001b[0m\u001b[0;34m.\u001b[0m\u001b[0mprops\u001b[0m \u001b[0;34m%\u001b[0m\u001b[0;34m}\u001b[0m\u001b[0;34m\u001b[0m\u001b[0;34m\u001b[0m\u001b[0m\n\u001b[0m\u001b[1;32m      9\u001b[0m       \u001b[0;34m{\u001b[0m\u001b[0;34m{\u001b[0m\u001b[0mp\u001b[0m\u001b[0;34m}\u001b[0m\u001b[0;34m}\u001b[0m\u001b[0;34m:\u001b[0m \u001b[0;34m{\u001b[0m\u001b[0;34m{\u001b[0m\u001b[0mval\u001b[0m\u001b[0;34m}\u001b[0m\u001b[0;34m}\u001b[0m\u001b[0;34m;\u001b[0m\u001b[0;34m\u001b[0m\u001b[0;34m\u001b[0m\u001b[0m\n\u001b[1;32m     10\u001b[0m     \u001b[0;34m{\u001b[0m\u001b[0;34m%\u001b[0m \u001b[0mendfor\u001b[0m \u001b[0;34m-\u001b[0m\u001b[0;34m%\u001b[0m\u001b[0;34m}\u001b[0m\u001b[0;34m\u001b[0m\u001b[0;34m\u001b[0m\u001b[0m\n",
      "\u001b[0;31mValueError\u001b[0m: not enough values to unpack (expected 2, got 1)"
     ]
    },
    {
     "data": {
      "text/plain": [
       "<pandas.io.formats.style.Styler at 0x7fff89b52e90>"
      ]
     },
     "execution_count": 17,
     "metadata": {},
     "output_type": "execute_result"
    }
   ],
   "source": [
    "index_names = {'selector': '.index_name',\n",
    "    'props': 'font-style: italic; color: darkgrey; font-weight:normal;'}\n",
    "headers = {'selector': 'th:not(.index_name)',\n",
    "    'props': 'background-color: #000066; color: white;'}\n",
    "s.set_table_styles([index_names, headers])"
   ]
  },
  {
   "cell_type": "code",
   "execution_count": 9,
   "metadata": {
    "id": "8608003e-c84f-4971-855c-ddf35b815a34"
   },
   "outputs": [
    {
     "ename": "TypeError",
     "evalue": "set_table_styles() got an unexpected keyword argument 'axis'",
     "output_type": "error",
     "traceback": [
      "\u001b[0;31m---------------------------------------------------------------------------\u001b[0m",
      "\u001b[0;31mTypeError\u001b[0m                                 Traceback (most recent call last)",
      "\u001b[0;32m<ipython-input-9-64fa79a9366b>\u001b[0m in \u001b[0;36m<module>\u001b[0;34m\u001b[0m\n\u001b[1;32m      5\u001b[0m          'props': [('font-size', '25px')]}]\n\u001b[1;32m      6\u001b[0m \u001b[0;34m\u001b[0m\u001b[0m\n\u001b[0;32m----> 7\u001b[0;31m }, axis=1, overwrite=False)\n\u001b[0m",
      "\u001b[0;31mTypeError\u001b[0m: set_table_styles() got an unexpected keyword argument 'axis'"
     ]
    }
   ],
   "source": [
    "df.style.set_table_styles({\n",
    "\n",
    "    0: [{'selector': 'td:hover',\n",
    "\n",
    "         'props': [('font-size', '25px')]}]\n",
    "\n",
    "}, axis=1, overwrite=False)"
   ]
  },
  {
   "cell_type": "markdown",
   "metadata": {
    "id": "821fc5b5-c3bd-4f90-911a-222bd9a9a1a3"
   },
   "source": [
    "### 2.1 Data Requirements"
   ]
  },
  {
   "cell_type": "markdown",
   "metadata": {
    "id": "d6a7b64d-eeff-4cb3-b24f-a118cfb18b27"
   },
   "source": [
    "The current year’s banding file contains data reflective of the current 12 month performance period including customer’s credit scores, account-level data and flags indicating whether an account has gone into default during the performance period.  The data requirements for the current year’s banding file can be found in Appendix C."
   ]
  },
  {
   "cell_type": "markdown",
   "metadata": {
    "id": "2663c16d-1f94-4f3b-a646-d7950a2719d8"
   },
   "source": [
    "### 2.2 Data Generation Process"
   ]
  },
  {
   "cell_type": "markdown",
   "metadata": {
    "id": "51a22894-bf52-4519-a2f3-edbbdf08f4bd"
   },
   "source": [
    "The current year’s performance data was extracted from the Enterprise Data Warehouse (EDW) and combined with the customer’s credit scores obtained from Experian to generate the banding file for the current year.  The current year’s banding file data was appended to the prior year’s historical banding file to generate a cumulative historical banding file for use in the PD model update.\n",
    "\n",
    "The banding file was generated in a controlled production environment by the Technology Data Management Team based on data requirements provided by the Credit Team.\n",
    "\n",
    "Note:  The performance period start and end dates were rolled back by two months in both the 2014 and 2015 Model Years in order to align the performance periods with the bank’s operational and budget periods (see Period Table above).  Rolling back the performance period by two months resulted in the performance from the last two months of the prior Model Year being duplicated in the current Model Year.  E.g. Defaults that occurred in the last two months (Sept and Oct 2013) in the 2014 Model Year also appeared in the 2015 Model Year.    \n"
   ]
  },
  {
   "cell_type": "markdown",
   "metadata": {
    "id": "fe8e974c-967f-4f93-8c47-4d0e53895f86"
   },
   "source": [
    "###   2.3 Data Validation"
   ]
  },
  {
   "cell_type": "markdown",
   "metadata": {
    "id": "2b46e1a7-2be4-46e1-a9cb-8cbf9f78e4c8"
   },
   "source": [
    "The banding file generated by the Technology Data Management Team was validated by a member of the Retail Credit Policy and Analytics team.  A link to the data validation results can be found in Appendix D."
   ]
  },
  {
   "cell_type": "markdown",
   "metadata": {
    "id": "b484c6b8-b333-4d72-96e2-56ac6a1185f9"
   },
   "source": [
    "## 3 Model Overview"
   ]
  },
  {
   "cell_type": "markdown",
   "metadata": {
    "id": "46e53154-5c90-45f9-a9e4-87f0e43bb34f"
   },
   "source": [
    "__Conceptual Soundness__"
   ]
  },
  {
   "cell_type": "markdown",
   "metadata": {
    "id": "6321ff53-5da0-47c3-921c-054af1007c03"
   },
   "source": [
    "As part of the annual model update, the bank evaluates current and new variables to see if the performance of the model can be improved.  For each year’s update, the variables considered include credit scores and other reasonable loan attributes available on the file.\n",
    "\n",
    "The poHELOCation was split into a training and validation dataset.  The training dataset was used to generate the model, and the validation dataset was used to evaluate the model. \n",
    "\n",
    "The bank has standardized on the use of logistic regression for default modeling.  Using the Logit is a logical choice, as the function ties directly to an odds function, which is appropriate for a probability model.  For this reason and given that the model is stable, other development options such as probit, decision trees, etc. were not tested or utilized.\n",
    "\n",
    "The measures of model performance used are the area under the receiver operating characteristic curve (AUC) and the Kolmogorov-Smirnov (KS) test.  The minimum usable score the AUC characteristic is considered to be 0.7.  The minimum usable KS score is 0.2.  Scores below these thresholds indicate that the updated model is insufficient for use by the bank. \n"
   ]
  },
  {
   "cell_type": "markdown",
   "metadata": {
    "id": "9d910334-2c3b-4d73-9247-aaa9e45e57b1"
   },
   "source": [
    "__Ongoing Monitoring__"
   ]
  },
  {
   "cell_type": "markdown",
   "metadata": {
    "id": "dcf9c29d-e0c7-4537-b363-8a1acb9104ef"
   },
   "source": [
    "Given the use of the models in determining economic loss, the primary method of ongoing monitoring is the comparison of expected loss over a given period with the actual loss incurred.  Since the expected loss incorporates the net present value of all future recoveries, the usefulness of the latter measure over a manageable time frame is questionable as the full recoveries may take years to achieve.  Considering this limitation, the primary method used for monitoring will be to evaluate changes in the loss to ensure that significant shifts in predicted values correspond to actual portfolio events.  This is achieved through the expected loss migration monitoring that is reported monthly by Retail Credit Policy at operational review.\n",
    "\n",
    "Additionally, the model results are utilized as part of the quantitative component of the allowance for loan lease losses (ALLL) which is evaluated for appropriateness quarterly.  This constitutes a one-step-removed validation, as the model is only one component; however significant variances for expected loss values (as evaluated by bank staff) would be apparent. Such significant variances are remediated through qualitative factors (Q-Factors) within the ALLL framework until the model can be updated to quantitatively mitigate the variance, at which point the Q-Factor would be reduced or removed.\n"
   ]
  },
  {
   "cell_type": "code",
   "execution_count": null,
   "metadata": {
    "id": "29a9fae4-e2b1-4dad-b638-cb563ac925a6"
   },
   "outputs": [],
   "source": []
  },
  {
   "cell_type": "markdown",
   "metadata": {
    "id": "1070a474-515f-4269-8969-f3664b91cafc"
   },
   "source": [
    "## 4 Model Update"
   ]
  },
  {
   "cell_type": "markdown",
   "metadata": {
    "id": "ab1d20f3-9669-49f5-80cb-ad0f1a06c791"
   },
   "source": [
    "This model update is part of the ongoing model management lifecycle.  PD models are updated annually to include the most recent year(s) of observations.  The goal is for the model to cover a full economic cycle.  As a rough rule of thumb, this translates to using all available years of observation, unless more than 7 years of history is available.  For portfolios where there is an excess of data (beyond 7 years), the model owner is responsible to determining if additional years (beyond the most recent 7) are sufficiently valuable to include.\n",
    "\n",
    "For the 2021-2022 HELOC model, 12-years of observations is available. However, this year, inactive loans, defined as loans with zero balances, are excluded from the model build, mimicking production. As balances are unavailable for performance years prior to 2011, they are thereby excluded. In short, 10-years of history is used.\n"
   ]
  },
  {
   "cell_type": "markdown",
   "metadata": {
    "id": "beaab0f9-8002-4c80-859d-6c2c79cd1c38"
   },
   "source": [
    "### 4.1\tModel Purpose"
   ]
  },
  {
   "cell_type": "markdown",
   "metadata": {
    "id": "4cac62ed-bd6d-40aa-9734-57cf9c90b8f6"
   },
   "source": [
    "As described above, the purpose of the model is to provide an estimate of the economic losses the portfolio will sustain in a twelve month window from the time of evaluation.  This estimate is then used as a data point for portfolio risk management, the establishment of underwriting guidelines, and the estimation of required reserves."
   ]
  },
  {
   "cell_type": "markdown",
   "metadata": {
    "id": "c8eededc-708a-4545-97b3-47e2da941551"
   },
   "source": [
    "### 4.2\tKey Assumptions and Limitations"
   ]
  },
  {
   "cell_type": "markdown",
   "metadata": {
    "id": "e084d22f-9d74-42c7-9b0a-bae327dbc48b"
   },
   "source": [
    "The models are based on the Basel II guidance for economic loss models.  The limits and assumptions of such models are documented in both the guidance and the common body of literature on the subject.  For the ASB implementation, the development is also limited by data availability.  For the HELOC model, 9 years of data are utilized in the model update to incorporate appropriate consideration for the current economic cycle and the possible lack of representativeness of the data used to construct the data.  "
   ]
  },
  {
   "cell_type": "markdown",
   "metadata": {
    "id": "7218aaa5-cbdf-4081-b67f-9843d70d6503"
   },
   "source": [
    "### 4.3\tModel Data "
   ]
  },
  {
   "cell_type": "markdown",
   "metadata": {
    "id": "7a50a25e-5087-48fd-8635-651758a447fa"
   },
   "source": [
    "__Link__ for basic formatting tips (<font color=pink>subscription required</font>): \n",
    ">[click me]https://medium.com/analytics-vidhya/the-jupyter-notebook-formatting-guide-873ab39f765e#id_token=eyJhbGciOiJSUzI1NiIsImtpZCI6Ijg1ODI4YzU5Mjg0YTY5YjU0YjI3NDgzZTQ4N2MzYmQ0NmNkMmEyYjMiLCJ0eXAiOiJKV1QifQ.eyJpc3MiOiJodHRwczovL2FjY291bnRzLmdvb2dsZS5jb20iLCJuYmYiOjE2MzU4Njg4MjgsImF1ZCI6IjIxNjI5NjAzNTgzNC1rMWs2cWUwNjBzMnRwMmEyamFtNGxqZGNtczAwc3R0Zy5hcHBzLmdvb2dsZXVzZXJjb250ZW50LmNvbSIsInN1YiI6IjEwNzIzMjYzMTI3MzE3OTk3MDc5MiIsImVtYWlsIjoiZGFuLnNjaGV1Y2hAZ21haWwuY29tIiwiZW1haWxfdmVyaWZpZWQiOnRydWUsImF6cCI6IjIxNjI5NjAzNTgzNC1rMWs2cWUwNjBzMnRwMmEyamFtNGxqZGNtczAwc3R0Zy5hcHBzLmdvb2dsZXVzZXJjb250ZW50LmNvbSIsIm5hbWUiOiJEYW4gU2NoZXVjaCIsInBpY3R1cmUiOiJodHRwczovL2xoMy5nb29nbGV1c2VyY29udGVudC5jb20vYS0vQU9oMTRHZ1dPTEhvUmE3NGJJdlZOaTZkLW5YZjZ5d1NQSG1qblhweUR3aWU1UT1zOTYtYyIsImdpdmVuX25hbWUiOiJEYW4iLCJmYW1pbHlfbmFtZSI6IlNjaGV1Y2giLCJpYXQiOjE2MzU4NjkxMjgsImV4cCI6MTYzNTg3MjcyOCwianRpIjoiY2UwZmRiM2YxZmFkOTJiODVkOThlNzBkYTFjOWI3YWE5YjUxZGE4MSJ9.JZZENkWlSLQ1c-nXvkqkR87WXdbJ8t7bASPGFAcK2kPn0c6rN5v0YIE_v7tbYacRCJnL1atnt0sVQpfM440-BOeNN8FWk-TzRdPLPhjBgM2UPNxyVP9LllxIFS4CrUofY1UD1_QngytEKXG2FhKiK1iW3_ExGysm1jMSIB1vGK5z2-RDxxHfPFETcxb18teA6F5bgDxv3Hi0v6u9jq0mEDPG5ZHNJ5BzaNN-fmiIygBkt959LQp47E-5hnPYTyc1s9mS4rQoFt6hhxR0FbzIwFFpDQbxKirkfdHyMQHQzjcOIyQZoiTgqg4bvPHMEiMiUprGYoTQ5HJMP-ctqPzbtw"
   ]
  },
  {
   "cell_type": "markdown",
   "metadata": {
    "id": "a1d858eb-5bea-4a64-b721-959c083dd464"
   },
   "source": [
    "__The summary of the banding file data is shown below:__"
   ]
  },
  {
   "cell_type": "markdown",
   "metadata": {
    "id": "aa3b1412-94be-418d-9e80-5c2444b9553d"
   },
   "source": [
    "1)\t_Defaults By Year, Excluding Inactive Records_"
   ]
  },
  {
   "cell_type": "code",
   "execution_count": 51,
   "metadata": {
    "id": "bd3d047e-9438-48ad-8012-4e54a460acf0"
   },
   "outputs": [],
   "source": [
    "from tabulate import tabulate"
   ]
  },
  {
   "cell_type": "code",
   "execution_count": 63,
   "metadata": {
    "id": "b9ab2747-fc4b-429c-8b70-7f91402ee341"
   },
   "outputs": [],
   "source": [
    "def color_negative_red(value):\n",
    "  \"\"\"\n",
    "  Colors elements in a dateframe\n",
    "  green if positive and red if\n",
    "  negative. Does not color NaN\n",
    "  values.\n",
    "  \"\"\"\n",
    "\n",
    "  if value > 0.50:\n",
    "    color = 'red'\n",
    "  elif value <= 0.50:\n",
    "    color = 'green'\n",
    "  else:\n",
    "    color = 'black'\n",
    "\n",
    "  return 'color: %s' % color"
   ]
  },
  {
   "cell_type": "code",
   "execution_count": 9,
   "metadata": {
    "id": "27b73f35-3f64-43a9-a71f-fb7c7315867d"
   },
   "outputs": [
    {
     "data": {
      "text/html": [
       "<div>\n",
       "<style scoped>\n",
       "    .dataframe tbody tr th:only-of-type {\n",
       "        vertical-align: middle;\n",
       "    }\n",
       "\n",
       "    .dataframe tbody tr th {\n",
       "        vertical-align: top;\n",
       "    }\n",
       "\n",
       "    .dataframe thead th {\n",
       "        text-align: right;\n",
       "    }\n",
       "</style>\n",
       "<table border=\"1\" class=\"dataframe\">\n",
       "  <thead>\n",
       "    <tr style=\"text-align: right;\">\n",
       "      <th></th>\n",
       "      <th>Performance Year</th>\n",
       "      <th># Non-Defaults</th>\n",
       "      <th># Defaults</th>\n",
       "      <th># Total</th>\n",
       "      <th>Default Rate %</th>\n",
       "    </tr>\n",
       "  </thead>\n",
       "  <tbody>\n",
       "    <tr>\n",
       "      <th>0</th>\n",
       "      <td>2011</td>\n",
       "      <td>5,880</td>\n",
       "      <td>28</td>\n",
       "      <td>5,908</td>\n",
       "      <td>0.47%</td>\n",
       "    </tr>\n",
       "    <tr>\n",
       "      <th>1</th>\n",
       "      <td>2012</td>\n",
       "      <td>6,958</td>\n",
       "      <td>30</td>\n",
       "      <td>6,988</td>\n",
       "      <td>0.43%</td>\n",
       "    </tr>\n",
       "    <tr>\n",
       "      <th>2</th>\n",
       "      <td>2013</td>\n",
       "      <td>7,299</td>\n",
       "      <td>19</td>\n",
       "      <td>7,318</td>\n",
       "      <td>0.26%</td>\n",
       "    </tr>\n",
       "    <tr>\n",
       "      <th>3</th>\n",
       "      <td>2014</td>\n",
       "      <td>8,540</td>\n",
       "      <td>15</td>\n",
       "      <td>8,555</td>\n",
       "      <td>0.18%</td>\n",
       "    </tr>\n",
       "    <tr>\n",
       "      <th>4</th>\n",
       "      <td>2015</td>\n",
       "      <td>9,589</td>\n",
       "      <td>30</td>\n",
       "      <td>9,619</td>\n",
       "      <td>0.31%</td>\n",
       "    </tr>\n",
       "    <tr>\n",
       "      <th>5</th>\n",
       "      <td>2016</td>\n",
       "      <td>9,545</td>\n",
       "      <td>44</td>\n",
       "      <td>9,589</td>\n",
       "      <td>0.46%</td>\n",
       "    </tr>\n",
       "    <tr>\n",
       "      <th>6</th>\n",
       "      <td>2017</td>\n",
       "      <td>9,348</td>\n",
       "      <td>48</td>\n",
       "      <td>9,396</td>\n",
       "      <td>0.51%</td>\n",
       "    </tr>\n",
       "    <tr>\n",
       "      <th>7</th>\n",
       "      <td>2018</td>\n",
       "      <td>9,406</td>\n",
       "      <td>66</td>\n",
       "      <td>9,472</td>\n",
       "      <td>0.70%</td>\n",
       "    </tr>\n",
       "    <tr>\n",
       "      <th>8</th>\n",
       "      <td>2019</td>\n",
       "      <td>9,767</td>\n",
       "      <td>77</td>\n",
       "      <td>9,844</td>\n",
       "      <td>0.78%</td>\n",
       "    </tr>\n",
       "    <tr>\n",
       "      <th>9</th>\n",
       "      <td>2020</td>\n",
       "      <td>10,005</td>\n",
       "      <td>59</td>\n",
       "      <td>10,064</td>\n",
       "      <td>0.59%</td>\n",
       "    </tr>\n",
       "  </tbody>\n",
       "</table>\n",
       "</div>"
      ],
      "text/plain": [
       "   Performance Year # Non-Defaults  # Defaults # Total Default Rate %\n",
       "0              2011          5,880          28   5,908          0.47%\n",
       "1              2012          6,958          30   6,988          0.43%\n",
       "2              2013          7,299          19   7,318          0.26%\n",
       "3              2014          8,540          15   8,555          0.18%\n",
       "4              2015          9,589          30   9,619          0.31%\n",
       "5              2016          9,545          44   9,589          0.46%\n",
       "6              2017          9,348          48   9,396          0.51%\n",
       "7              2018          9,406          66   9,472          0.70%\n",
       "8              2019          9,767          77   9,844          0.78%\n",
       "9              2020         10,005          59  10,064          0.59%"
      ]
     },
     "execution_count": 9,
     "metadata": {},
     "output_type": "execute_result"
    }
   ],
   "source": [
    "def_yr = pd.read_csv('/project_data/data_asset/table_Default_by_Year.csv')\n",
    "#def_yr.astype({'Default Rate %': 'float'}).dtypes\n",
    "def_yr.dtypes\n",
    "def_yr"
   ]
  },
  {
   "cell_type": "markdown",
   "metadata": {
    "id": "b042007c-e475-4175-954f-4f36e94205ca"
   },
   "source": [
    "## Inserting Math Symbols and Expressions"
   ]
  },
  {
   "cell_type": "markdown",
   "metadata": {
    "id": "c18e1867-befb-414f-895c-687e7894a441"
   },
   "source": [
    "Math expressions and symbols can be written into documents using Matplotlib documentation. Build the formula or expression in a markdown cell and then run.\n",
    "\n",
    "https://matplotlib.org/stable/tutorials/text/mathtext.html?highlight=mathematical%20expressions"
   ]
  },
  {
   "cell_type": "code",
   "execution_count": 1,
   "metadata": {
    "id": "2526e4f5-25c9-43b1-b465-010382dbb8bc"
   },
   "outputs": [],
   "source": [
    "from tabulate import tabulate\n"
   ]
  },
  {
   "cell_type": "code",
   "execution_count": 4,
   "metadata": {
    "id": "9b2fe738-5389-45fa-99bf-d5d83ebdbed7"
   },
   "outputs": [],
   "source": [
    "import matplotlib.pyplot as plt\n",
    "import matplotlib as mpl\n",
    "\n",
    "# https://matplotlib.org/stable/tutorials/text/mathtext.html?highlight=mathematical%20expressions"
   ]
  },
  {
   "cell_type": "markdown",
   "metadata": {
    "id": "5219b34b-8b4e-402f-8eb5-f2d100a72ed1"
   },
   "source": [
    "$ x = x + y$"
   ]
  },
  {
   "cell_type": "markdown",
   "metadata": {
    "id": "3e876703-28de-4eaa-bb88-de8acb7e1aa2"
   },
   "source": [
    "r'$\\sum_{i=0}^\\infty x_i$'\n"
   ]
  },
  {
   "cell_type": "markdown",
   "metadata": {
    "id": "ec279fb4-b41f-44b0-90dd-a1b3708930c0"
   },
   "source": [
    "r'$\\left(\\frac{5 - \\frac{1}{x}}{4}\\right)$'"
   ]
  },
  {
   "cell_type": "markdown",
   "metadata": {
    "id": "6cada6fa-1205-4cfd-80fb-961c0d1fdebc"
   },
   "source": [
    "$BS = \\frac{1}{N}$ '$\\sum_{i=t}^N x_i$'"
   ]
  },
  {
   "cell_type": "markdown",
   "metadata": {
    "id": "847b0265-2822-4c90-a716-47d878974fce"
   },
   "source": [
    "### Brier Score Formula\n",
    "\n"
   ]
  },
  {
   "cell_type": "markdown",
   "metadata": {
    "id": "e2bb8299-423a-437f-811b-62843f04bd85"
   },
   "source": [
    "\n",
    "$BS = \\frac{1}{N}$ $\\sum_{i=t}^N \\left(f_t - o_t\\right)^2$\n"
   ]
  },
  {
   "cell_type": "markdown",
   "metadata": {
    "id": "71de5cb4-3840-4005-99a0-b2c11c9d6a52"
   },
   "source": [
    "plt.title(r'$\\alpha > \\beta$')"
   ]
  },
  {
   "cell_type": "code",
   "execution_count": 12,
   "metadata": {
    "id": "5ffc69ef-2d1a-422c-9170-c4d7e53eb27a"
   },
   "outputs": [
    {
     "data": {
      "text/html": [
       "<script>jQuery(function() {if (jQuery(\"body.notebook_app\").length == 0) { jQuery(\".input_area\").toggle(); jQuery(\".prompt\").toggle();}});</script>"
      ]
     },
     "metadata": {},
     "output_type": "display_data"
    },
    {
     "data": {
      "text/html": [
       "<style>#notebook div.output_subarea {max-width:100%;}</style>"
      ],
      "text/plain": [
       "<IPython.core.display.HTML object>"
      ]
     },
     "execution_count": 12,
     "metadata": {},
     "output_type": "execute_result"
    }
   ],
   "source": [
    "from IPython.display import display\n",
    "from IPython.display import HTML\n",
    "import IPython.core.display as di\n",
    "\n",
    "di.display_html('<script>jQuery(function() {if (jQuery(\"body.notebook_app\").length == 0) { jQuery(\".input_area\").toggle(); jQuery(\".prompt\").toggle();}});</script>', raw=True)\n",
    "\n",
    "CSS = \"\"\"#notebook div.output_subarea {max-width:100%;}\"\"\" #changes output_subarea width to 100% (from 100% - 14ex)\n",
    "HTML('<style>{}</style>'.format(CSS))"
   ]
  },
  {
   "cell_type": "code",
   "execution_count": 13,
   "metadata": {
    "id": "e9eedf11-b4a2-4cd9-835e-1c5f8734905c"
   },
   "outputs": [],
   "source": [
    "from IPython.display import HTML\n",
    "import random\n",
    "\n",
    "def hide_toggle(for_next=False):\n",
    "    this_cell = \"\"\"$('div.cell.code_cell.rendered.selected')\"\"\"\n",
    "    next_cell = this_cell + '.next()'\n",
    "\n",
    "    toggle_text = 'Toggle show/hide'  # text shown on toggle link\n",
    "    target_cell = this_cell  # target cell to control with toggle\n",
    "    js_hide_current = ''  # bit of JS to permanently hide code in current cell (only when toggling next cell)\n",
    "\n",
    "    if for_next:\n",
    "        target_cell = next_cell\n",
    "        toggle_text += ' next cell'\n",
    "        js_hide_current = this_cell + '.find(\"div.input\").hide();'\n",
    "\n",
    "    js_f_name = 'code_toggle_{}'.format(str(random.randint(1,2**64)))\n",
    "\n",
    "    html = \"\"\"\n",
    "        <script>\n",
    "            function {f_name}() {{\n",
    "                {cell_selector}.find('div.input').toggle();\n",
    "            }}\n",
    "\n",
    "            {js_hide_current}\n",
    "        </script>\n",
    "\n",
    "        <a href=\"javascript:{f_name}()\">{toggle_text}</a>\n",
    "    \"\"\".format(\n",
    "        f_name=js_f_name,\n",
    "        cell_selector=target_cell,\n",
    "        js_hide_current=js_hide_current, \n",
    "        toggle_text=toggle_text\n",
    "    )\n",
    "\n",
    "    return HTML(html)"
   ]
  },
  {
   "cell_type": "code",
   "execution_count": 15,
   "metadata": {
    "id": "a135cc7b-b1f3-4717-a657-6edfc784e131"
   },
   "outputs": [],
   "source": [
    "from IPython.display import HTML\n",
    "import random\n",
    "\n",
    "def hide_toggle(for_next=False):\n",
    "    this_cell = \"\"\"$('div.cell.code_cell.rendered.selected')\"\"\" ; next_cell = this_cell + '.next()';\n",
    "    toggle_text = 'Code show/hide'  # text shown on toggle link\n",
    "    target_cell = this_cell ;  js_hide_current = '' \n",
    "\n",
    "    if for_next:\n",
    "        target_cell = next_cell; toggle_text += ' next cell';\n",
    "        js_hide_current = this_cell + '.find(\"div.input\").hide();'\n",
    "    js_f_name = 'code_toggle_{}'.format(str(random.randint(1,2**64)))\n",
    "\n",
    "    html = \"\"\"<script>\n",
    "            function {f_name}() {{{cell_selector}.find('div.input').toggle(); }}\n",
    "            {js_hide_current}\n",
    "        </script>\n",
    "        <a href=\"javascript:{f_name}()\">{toggle_text}</a>\n",
    "    \"\"\".format(f_name=js_f_name,cell_selector=target_cell,js_hide_current=js_hide_current, toggle_text=toggle_text )\n",
    "    return HTML(html)"
   ]
  },
  {
   "cell_type": "code",
   "execution_count": 19,
   "metadata": {
    "id": "3cbcb47e-7fa4-4259-a5e6-684bb1d66483"
   },
   "outputs": [
    {
     "data": {
      "text/html": [
       "<style  type=\"text/css\" >\n",
       "</style><table id=\"T_098055b2_3c03_11ec_b712_7dd0e66d67c8\" ><thead>    <tr>        <th class=\"index_name level0\" >Model:</th>        <th class=\"col_heading level0 col0\" colspan=2>Decision Tree</th>        <th class=\"col_heading level0 col2\" colspan=2>Regression</th>        <th class=\"col_heading level0 col4\" colspan=2>Random</th>    </tr>    <tr>        <th class=\"index_name level1\" >Predicted:</th>        <th class=\"col_heading level1 col0\" >Tumour</th>        <th class=\"col_heading level1 col1\" >Non-Tumour</th>        <th class=\"col_heading level1 col2\" >Tumour</th>        <th class=\"col_heading level1 col3\" >Non-Tumour</th>        <th class=\"col_heading level1 col4\" >Tumour</th>        <th class=\"col_heading level1 col5\" >Non-Tumour</th>    </tr>    <tr>        <th class=\"index_name level0\" >Actual Label:</th>        <th class=\"blank\" ></th>        <th class=\"blank\" ></th>        <th class=\"blank\" ></th>        <th class=\"blank\" ></th>        <th class=\"blank\" ></th>        <th class=\"blank\" ></th>    </tr></thead><tbody>\n",
       "                <tr>\n",
       "                        <th id=\"T_098055b2_3c03_11ec_b712_7dd0e66d67c8level0_row0\" class=\"row_heading level0 row0\" >Tumour (Positive)</th>\n",
       "                        <td id=\"T_098055b2_3c03_11ec_b712_7dd0e66d67c8row0_col0\" class=\"data row0 col0\" >38.000000</td>\n",
       "                        <td id=\"T_098055b2_3c03_11ec_b712_7dd0e66d67c8row0_col1\" class=\"data row0 col1\" >2.000000</td>\n",
       "                        <td id=\"T_098055b2_3c03_11ec_b712_7dd0e66d67c8row0_col2\" class=\"data row0 col2\" >18.000000</td>\n",
       "                        <td id=\"T_098055b2_3c03_11ec_b712_7dd0e66d67c8row0_col3\" class=\"data row0 col3\" >22.000000</td>\n",
       "                        <td id=\"T_098055b2_3c03_11ec_b712_7dd0e66d67c8row0_col4\" class=\"data row0 col4\" >21</td>\n",
       "                        <td id=\"T_098055b2_3c03_11ec_b712_7dd0e66d67c8row0_col5\" class=\"data row0 col5\" >nan</td>\n",
       "            </tr>\n",
       "            <tr>\n",
       "                        <th id=\"T_098055b2_3c03_11ec_b712_7dd0e66d67c8level0_row1\" class=\"row_heading level0 row1\" >Non-Tumour (Negative)</th>\n",
       "                        <td id=\"T_098055b2_3c03_11ec_b712_7dd0e66d67c8row1_col0\" class=\"data row1 col0\" >19.000000</td>\n",
       "                        <td id=\"T_098055b2_3c03_11ec_b712_7dd0e66d67c8row1_col1\" class=\"data row1 col1\" >439.000000</td>\n",
       "                        <td id=\"T_098055b2_3c03_11ec_b712_7dd0e66d67c8row1_col2\" class=\"data row1 col2\" >6.000000</td>\n",
       "                        <td id=\"T_098055b2_3c03_11ec_b712_7dd0e66d67c8row1_col3\" class=\"data row1 col3\" >452.000000</td>\n",
       "                        <td id=\"T_098055b2_3c03_11ec_b712_7dd0e66d67c8row1_col4\" class=\"data row1 col4\" >226</td>\n",
       "                        <td id=\"T_098055b2_3c03_11ec_b712_7dd0e66d67c8row1_col5\" class=\"data row1 col5\" >232.000000</td>\n",
       "            </tr>\n",
       "    </tbody></table>"
      ],
      "text/plain": [
       "<pandas.io.formats.style.Styler at 0x7fff5b906850>"
      ]
     },
     "execution_count": 19,
     "metadata": {},
     "output_type": "execute_result"
    }
   ],
   "source": [
    "import pandas as pd\n",
    "import numpy as np\n",
    "\n",
    "df = pd.DataFrame([[38.0, 2.0, 18.0, 22.0, 21, np.nan],[19, 439, 6, 452, 226,232]],\n",
    "                  index=pd.Index(['Tumour (Positive)', 'Non-Tumour (Negative)'], name='Actual Label:'),\n",
    "                  columns=pd.MultiIndex.from_product([['Decision Tree', 'Regression', 'Random'],['Tumour', 'Non-Tumour']], names=['Model:', 'Predicted:']))\n",
    "\n",
    "df.style"
   ]
  },
  {
   "cell_type": "code",
   "execution_count": 1,
   "metadata": {
    "id": "b5c8c983-4910-45bd-a0c1-b914c55b44b0"
   },
   "outputs": [
    {
     "data": {
      "image/png": "[encoded data removed]",
      "text/plain": [
       "<Figure size 432x288 with 1 Axes>"
      ]
     },
     "metadata": {
      "needs_background": "light"
     },
     "output_type": "display_data"
    }
   ],
   "source": [
    "import numpy as np\n",
    "import matplotlib.pyplot as plt\n",
    "plt.ion()\n",
    "\n",
    "data = np.random.randn(2, 100)\n",
    "fig, ax = plt.subplots()\n",
    "ax.scatter(*data, c=data[1], s=100*np.abs(data[0]));"
   ]
  },
  {
   "cell_type": "code",
   "execution_count": 6,
   "metadata": {
    "id": "d1175000-086e-4f70-95d3-844287dc8a90"
   },
   "outputs": [
    {
     "data": {
      "text/html": [
       "<style  type=\"text/css\" >\n",
       "</style><table id=\"T_af4e5d68_3bfe_11ec_b712_7dd0e66d67c8\" ><thead>    <tr>        <th class=\"index_name level0\" >Model:</th>        <th class=\"col_heading level0 col0\" colspan=2>Decision Tree</th>        <th class=\"col_heading level0 col2\" colspan=2>Regression</th>        <th class=\"col_heading level0 col4\" colspan=2>Random</th>    </tr>    <tr>        <th class=\"index_name level1\" >Predicted:</th>        <th class=\"col_heading level1 col0\" >Tumour</th>        <th class=\"col_heading level1 col1\" >Non-Tumour</th>        <th class=\"col_heading level1 col2\" >Tumour</th>        <th class=\"col_heading level1 col3\" >Non-Tumour</th>        <th class=\"col_heading level1 col4\" >Tumour</th>        <th class=\"col_heading level1 col5\" >Non-Tumour</th>    </tr>    <tr>        <th class=\"index_name level0\" >Actual Label:</th>        <th class=\"blank\" ></th>        <th class=\"blank\" ></th>        <th class=\"blank\" ></th>        <th class=\"blank\" ></th>        <th class=\"blank\" ></th>        <th class=\"blank\" ></th>    </tr></thead><tbody>\n",
       "                <tr>\n",
       "                        <th id=\"T_af4e5d68_3bfe_11ec_b712_7dd0e66d67c8level0_row0\" class=\"row_heading level0 row0\" >Tumour (Positive)</th>\n",
       "                        <td id=\"T_af4e5d68_3bfe_11ec_b712_7dd0e66d67c8row0_col0\" class=\"data row0 col0\" >38.000000</td>\n",
       "                        <td id=\"T_af4e5d68_3bfe_11ec_b712_7dd0e66d67c8row0_col1\" class=\"data row0 col1\" >2.000000</td>\n",
       "                        <td id=\"T_af4e5d68_3bfe_11ec_b712_7dd0e66d67c8row0_col2\" class=\"data row0 col2\" >18.000000</td>\n",
       "                        <td id=\"T_af4e5d68_3bfe_11ec_b712_7dd0e66d67c8row0_col3\" class=\"data row0 col3\" >22.000000</td>\n",
       "                        <td id=\"T_af4e5d68_3bfe_11ec_b712_7dd0e66d67c8row0_col4\" class=\"data row0 col4\" >21</td>\n",
       "                        <td id=\"T_af4e5d68_3bfe_11ec_b712_7dd0e66d67c8row0_col5\" class=\"data row0 col5\" >nan</td>\n",
       "            </tr>\n",
       "            <tr>\n",
       "                        <th id=\"T_af4e5d68_3bfe_11ec_b712_7dd0e66d67c8level0_row1\" class=\"row_heading level0 row1\" >Non-Tumour (Negative)</th>\n",
       "                        <td id=\"T_af4e5d68_3bfe_11ec_b712_7dd0e66d67c8row1_col0\" class=\"data row1 col0\" >19.000000</td>\n",
       "                        <td id=\"T_af4e5d68_3bfe_11ec_b712_7dd0e66d67c8row1_col1\" class=\"data row1 col1\" >439.000000</td>\n",
       "                        <td id=\"T_af4e5d68_3bfe_11ec_b712_7dd0e66d67c8row1_col2\" class=\"data row1 col2\" >6.000000</td>\n",
       "                        <td id=\"T_af4e5d68_3bfe_11ec_b712_7dd0e66d67c8row1_col3\" class=\"data row1 col3\" >452.000000</td>\n",
       "                        <td id=\"T_af4e5d68_3bfe_11ec_b712_7dd0e66d67c8row1_col4\" class=\"data row1 col4\" >226</td>\n",
       "                        <td id=\"T_af4e5d68_3bfe_11ec_b712_7dd0e66d67c8row1_col5\" class=\"data row1 col5\" >232.000000</td>\n",
       "            </tr>\n",
       "    </tbody></table>"
      ],
      "text/plain": [
       "<pandas.io.formats.style.Styler at 0x7fff86254c10>"
      ]
     },
     "execution_count": 6,
     "metadata": {},
     "output_type": "execute_result"
    }
   ],
   "source": [
    "df.style"
   ]
  },
  {
   "cell_type": "markdown",
   "metadata": {
    "id": "8d7e1944-aef0-4a07-972a-d5680df32bc0"
   },
   "source": [
    "2)\tMissing Values By Year, Excluding Inactive Records"
   ]
  },
  {
   "cell_type": "markdown",
   "metadata": {
    "id": "e6aafb33-d65d-4ca0-bc8e-f7f4506d4ebb"
   },
   "source": [
    "Note: There are no missing values for age.  Starting in 2014 , the number of missing scores dropped noticeably due to changes in the format and contents of the file sent to Experian for scoring, resulting in a higher ‘hit-rate’ of customers and fewer missing scores.  "
   ]
  },
  {
   "cell_type": "markdown",
   "metadata": {
    "id": "7dc223b0-6fa4-45a0-acd5-5b498c97487e"
   },
   "source": [
    "3)\tData groups\n",
    "\n",
    "The Missing Data Group is comprised of records missing the FICO or BKRPT score.  \n"
   ]
  },
  {
   "cell_type": "code",
   "execution_count": null,
   "metadata": {
    "id": "91d32c66-e5d5-429e-b264-2247a22e529b"
   },
   "outputs": [],
   "source": [
    "import seaborn as sns\n",
    "sns.set_theme(style=\"whitegrid\")\n",
    "\n",
    "# Load the example exercise dataset\n",
    "df = sns.load_dataset(\"exercise\")\n",
    "\n",
    "# Draw a pointplot to show pulse as a function of three categorical factors\n",
    "g = sns.catplot(x=\"time\", y=\"pulse\", hue=\"kind\", col=\"diet\",\n",
    "                capsize=.2, palette=\"YlGnBu_d\", height=6, aspect=.75,\n",
    "                kind=\"point\", data=df)\n",
    "g.despine(left=True)"
   ]
  },
  {
   "cell_type": "code",
   "execution_count": 21,
   "metadata": {
    "id": "8bc455e2-1b8f-429b-9cfd-251883f4443c"
   },
   "outputs": [
    {
     "data": {
      "text/html": [
       "<div>\n",
       "<style scoped>\n",
       "    .dataframe tbody tr th:only-of-type {\n",
       "        vertical-align: middle;\n",
       "    }\n",
       "\n",
       "    .dataframe tbody tr th {\n",
       "        vertical-align: top;\n",
       "    }\n",
       "\n",
       "    .dataframe thead th {\n",
       "        text-align: right;\n",
       "    }\n",
       "</style>\n",
       "<table border=\"1\" class=\"dataframe\">\n",
       "  <thead>\n",
       "    <tr style=\"text-align: right;\">\n",
       "      <th></th>\n",
       "      <th>HALF</th>\n",
       "      <th>DOWNNUM</th>\n",
       "      <th>YARDSTOGO</th>\n",
       "      <th>SCOREDIFF</th>\n",
       "      <th>TIMELEFT</th>\n",
       "      <th>DOWNNAME</th>\n",
       "      <th>TRUEFIELD</th>\n",
       "      <th>YARDSGAINED_Mean</th>\n",
       "      <th>AVG_OVER_TOGO</th>\n",
       "      <th>PLAYIDSTR</th>\n",
       "      <th>RUN_PASS</th>\n",
       "      <th>CONCEPT_8</th>\n",
       "      <th>CONCEPT_9</th>\n",
       "      <th>pred_TD</th>\n",
       "      <th>prob_TD_NO</th>\n",
       "      <th>prob_TD_YES</th>\n",
       "      <th>pred_FIRST</th>\n",
       "      <th>prob_FIRST_NO</th>\n",
       "      <th>prob_FIRST_YES</th>\n",
       "    </tr>\n",
       "  </thead>\n",
       "  <tbody>\n",
       "    <tr>\n",
       "      <th>0</th>\n",
       "      <td>0</td>\n",
       "      <td>0</td>\n",
       "      <td>5</td>\n",
       "      <td>0</td>\n",
       "      <td>480</td>\n",
       "      <td>1st</td>\n",
       "      <td>35</td>\n",
       "      <td>6.360000</td>\n",
       "      <td>1.272000</td>\n",
       "      <td>100000020</td>\n",
       "      <td>RUN</td>\n",
       "      <td>2</td>\n",
       "      <td>0</td>\n",
       "      <td>N</td>\n",
       "      <td>0.989181</td>\n",
       "      <td>0.010819</td>\n",
       "      <td>N</td>\n",
       "      <td>0.562406</td>\n",
       "      <td>0.437594</td>\n",
       "    </tr>\n",
       "    <tr>\n",
       "      <th>1</th>\n",
       "      <td>0</td>\n",
       "      <td>0</td>\n",
       "      <td>9</td>\n",
       "      <td>-7</td>\n",
       "      <td>1050</td>\n",
       "      <td>1st</td>\n",
       "      <td>45</td>\n",
       "      <td>4.756098</td>\n",
       "      <td>0.528455</td>\n",
       "      <td>100000054</td>\n",
       "      <td>RUN</td>\n",
       "      <td>5</td>\n",
       "      <td>4</td>\n",
       "      <td>N</td>\n",
       "      <td>0.999278</td>\n",
       "      <td>0.000722</td>\n",
       "      <td>Y</td>\n",
       "      <td>0.439296</td>\n",
       "      <td>0.560704</td>\n",
       "    </tr>\n",
       "    <tr>\n",
       "      <th>2</th>\n",
       "      <td>0</td>\n",
       "      <td>2</td>\n",
       "      <td>4</td>\n",
       "      <td>7</td>\n",
       "      <td>600</td>\n",
       "      <td>3rd</td>\n",
       "      <td>5</td>\n",
       "      <td>8.164835</td>\n",
       "      <td>2.041209</td>\n",
       "      <td>200000049</td>\n",
       "      <td>PASS</td>\n",
       "      <td>4</td>\n",
       "      <td>9</td>\n",
       "      <td>N</td>\n",
       "      <td>0.929720</td>\n",
       "      <td>0.070280</td>\n",
       "      <td>Y</td>\n",
       "      <td>0.391968</td>\n",
       "      <td>0.608032</td>\n",
       "    </tr>\n",
       "    <tr>\n",
       "      <th>3</th>\n",
       "      <td>0</td>\n",
       "      <td>0</td>\n",
       "      <td>11</td>\n",
       "      <td>7</td>\n",
       "      <td>180</td>\n",
       "      <td>1st</td>\n",
       "      <td>45</td>\n",
       "      <td>6.216667</td>\n",
       "      <td>0.565152</td>\n",
       "      <td>200000041</td>\n",
       "      <td>PASS</td>\n",
       "      <td>4</td>\n",
       "      <td>1</td>\n",
       "      <td>N</td>\n",
       "      <td>0.999941</td>\n",
       "      <td>0.000059</td>\n",
       "      <td>N</td>\n",
       "      <td>0.676803</td>\n",
       "      <td>0.323197</td>\n",
       "    </tr>\n",
       "    <tr>\n",
       "      <th>4</th>\n",
       "      <td>0</td>\n",
       "      <td>0</td>\n",
       "      <td>1</td>\n",
       "      <td>0</td>\n",
       "      <td>60</td>\n",
       "      <td>1st</td>\n",
       "      <td>45</td>\n",
       "      <td>13.416667</td>\n",
       "      <td>13.416667</td>\n",
       "      <td>200000085</td>\n",
       "      <td>PASS</td>\n",
       "      <td>8</td>\n",
       "      <td>5</td>\n",
       "      <td>N</td>\n",
       "      <td>0.800383</td>\n",
       "      <td>0.199617</td>\n",
       "      <td>N</td>\n",
       "      <td>0.608495</td>\n",
       "      <td>0.391505</td>\n",
       "    </tr>\n",
       "  </tbody>\n",
       "</table>\n",
       "</div>"
      ],
      "text/plain": [
       "   HALF  DOWNNUM  YARDSTOGO  SCOREDIFF  TIMELEFT DOWNNAME  TRUEFIELD  \\\n",
       "0     0        0          5          0       480      1st         35   \n",
       "1     0        0          9         -7      1050      1st         45   \n",
       "2     0        2          4          7       600      3rd          5   \n",
       "3     0        0         11          7       180      1st         45   \n",
       "4     0        0          1          0        60      1st         45   \n",
       "\n",
       "   YARDSGAINED_Mean  AVG_OVER_TOGO  PLAYIDSTR RUN_PASS  CONCEPT_8  CONCEPT_9  \\\n",
       "0          6.360000       1.272000  100000020      RUN          2          0   \n",
       "1          4.756098       0.528455  100000054      RUN          5          4   \n",
       "2          8.164835       2.041209  200000049     PASS          4          9   \n",
       "3          6.216667       0.565152  200000041     PASS          4          1   \n",
       "4         13.416667      13.416667  200000085     PASS          8          5   \n",
       "\n",
       "  pred_TD  prob_TD_NO  prob_TD_YES pred_FIRST  prob_FIRST_NO  prob_FIRST_YES  \n",
       "0       N    0.989181     0.010819          N       0.562406        0.437594  \n",
       "1       N    0.999278     0.000722          Y       0.439296        0.560704  \n",
       "2       N    0.929720     0.070280          Y       0.391968        0.608032  \n",
       "3       N    0.999941     0.000059          N       0.676803        0.323197  \n",
       "4       N    0.800383     0.199617          N       0.608495        0.391505  "
      ]
     },
     "execution_count": 21,
     "metadata": {},
     "output_type": "execute_result"
    }
   ],
   "source": [
    "\n",
    "df = pd.read_csv('/project_data/data_asset/Test_fields_100821_results.csv')\n",
    "df.head()\n"
   ]
  },
  {
   "cell_type": "code",
   "execution_count": null,
   "metadata": {
    "id": "4f8e8ab7-6826-4042-b490-992ec1644bc4"
   },
   "outputs": [],
   "source": [
    "# palette = sns.color_palette(\"mako_r\", 2)\n",
    "# sns.lineplot(\n",
    "#     data=df, x=\"YARDSTOGO\", y=\"prob_FIRST_YES\",\n",
    "#     hue=\"RUN_PASS\", style=\"RUN_PASS\",\n",
    "#     palette=palette\n",
    "# )"
   ]
  },
  {
   "cell_type": "code",
   "execution_count": 23,
   "metadata": {
    "id": "04a6dacc-522e-4a40-b182-edbbad0827c2"
   },
   "outputs": [],
   "source": [
    "# Imports\n",
    "import pandas as pd\n",
    "import numpy as np # for calculating standard deviation and mean\n",
    "import scipy.stats as sp # for calculating standard error\n",
    "import matplotlib.pyplot as plt # for improving our visualizations# Read data\n"
   ]
  },
  {
   "cell_type": "code",
   "execution_count": 27,
   "metadata": {
    "id": "25f4c7ba-87b0-4b99-ad65-7ad92c911b9d"
   },
   "outputs": [
    {
     "data": {
      "text/html": [
       "<div>\n",
       "<style scoped>\n",
       "    .dataframe tbody tr th:only-of-type {\n",
       "        vertical-align: middle;\n",
       "    }\n",
       "\n",
       "    .dataframe tbody tr th {\n",
       "        vertical-align: top;\n",
       "    }\n",
       "\n",
       "    .dataframe thead th {\n",
       "        text-align: right;\n",
       "    }\n",
       "</style>\n",
       "<table border=\"1\" class=\"dataframe\">\n",
       "  <thead>\n",
       "    <tr style=\"text-align: right;\">\n",
       "      <th></th>\n",
       "      <th>CONCEPT_8</th>\n",
       "      <th>YARDSTOGO</th>\n",
       "      <th>mean</th>\n",
       "      <th>std</th>\n",
       "    </tr>\n",
       "  </thead>\n",
       "  <tbody>\n",
       "    <tr>\n",
       "      <th>0</th>\n",
       "      <td>1</td>\n",
       "      <td>1</td>\n",
       "      <td>0.689542</td>\n",
       "      <td>0.135284</td>\n",
       "    </tr>\n",
       "    <tr>\n",
       "      <th>1</th>\n",
       "      <td>1</td>\n",
       "      <td>2</td>\n",
       "      <td>0.679022</td>\n",
       "      <td>0.101312</td>\n",
       "    </tr>\n",
       "    <tr>\n",
       "      <th>2</th>\n",
       "      <td>1</td>\n",
       "      <td>3</td>\n",
       "      <td>0.617726</td>\n",
       "      <td>0.112089</td>\n",
       "    </tr>\n",
       "    <tr>\n",
       "      <th>3</th>\n",
       "      <td>1</td>\n",
       "      <td>4</td>\n",
       "      <td>0.591071</td>\n",
       "      <td>0.106505</td>\n",
       "    </tr>\n",
       "    <tr>\n",
       "      <th>4</th>\n",
       "      <td>1</td>\n",
       "      <td>5</td>\n",
       "      <td>0.576179</td>\n",
       "      <td>0.117321</td>\n",
       "    </tr>\n",
       "    <tr>\n",
       "      <th>...</th>\n",
       "      <td>...</td>\n",
       "      <td>...</td>\n",
       "      <td>...</td>\n",
       "      <td>...</td>\n",
       "    </tr>\n",
       "    <tr>\n",
       "      <th>94</th>\n",
       "      <td>9</td>\n",
       "      <td>7</td>\n",
       "      <td>0.478114</td>\n",
       "      <td>0.124801</td>\n",
       "    </tr>\n",
       "    <tr>\n",
       "      <th>95</th>\n",
       "      <td>9</td>\n",
       "      <td>8</td>\n",
       "      <td>0.498963</td>\n",
       "      <td>0.140859</td>\n",
       "    </tr>\n",
       "    <tr>\n",
       "      <th>96</th>\n",
       "      <td>9</td>\n",
       "      <td>9</td>\n",
       "      <td>0.467695</td>\n",
       "      <td>0.140666</td>\n",
       "    </tr>\n",
       "    <tr>\n",
       "      <th>97</th>\n",
       "      <td>9</td>\n",
       "      <td>10</td>\n",
       "      <td>0.484774</td>\n",
       "      <td>0.147744</td>\n",
       "    </tr>\n",
       "    <tr>\n",
       "      <th>98</th>\n",
       "      <td>9</td>\n",
       "      <td>11</td>\n",
       "      <td>0.393724</td>\n",
       "      <td>0.183893</td>\n",
       "    </tr>\n",
       "  </tbody>\n",
       "</table>\n",
       "<p>99 rows × 4 columns</p>\n",
       "</div>"
      ],
      "text/plain": [
       "    CONCEPT_8  YARDSTOGO      mean       std\n",
       "0           1          1  0.689542  0.135284\n",
       "1           1          2  0.679022  0.101312\n",
       "2           1          3  0.617726  0.112089\n",
       "3           1          4  0.591071  0.106505\n",
       "4           1          5  0.576179  0.117321\n",
       "..        ...        ...       ...       ...\n",
       "94          9          7  0.478114  0.124801\n",
       "95          9          8  0.498963  0.140859\n",
       "96          9          9  0.467695  0.140666\n",
       "97          9         10  0.484774  0.147744\n",
       "98          9         11  0.393724  0.183893\n",
       "\n",
       "[99 rows x 4 columns]"
      ]
     },
     "execution_count": 27,
     "metadata": {},
     "output_type": "execute_result"
    }
   ],
   "source": [
    "first_prob = df.groupby(['CONCEPT_8','YARDSTOGO'])['prob_FIRST_YES'].agg([np.mean, np.std]).reset_index()\n",
    "first_prob"
   ]
  },
  {
   "cell_type": "code",
   "execution_count": 31,
   "metadata": {
    "id": "e5e869fd-38ab-4a43-839a-683e7e3ae1c9"
   },
   "outputs": [
    {
     "data": {
      "text/plain": [
       "<Figure size 432x288 with 0 Axes>"
      ]
     },
     "metadata": {},
     "output_type": "display_data"
    },
    {
     "data": {
      "image/png": "[encoded data removed]",
      "text/plain": [
       "<Figure size 432x288 with 4 Axes>"
      ]
     },
     "metadata": {
      "needs_background": "light"
     },
     "output_type": "display_data"
    }
   ],
   "source": [
    "plt.figure();\n",
    "\n",
    "bp = first_prob.boxplot(by=['CONCEPT_8'])"
   ]
  },
  {
   "cell_type": "code",
   "execution_count": 46,
   "metadata": {
    "id": "69251bb7-bed1-4b3c-8183-2eed98d0eec8"
   },
   "outputs": [
    {
     "name": "stderr",
     "output_type": "stream",
     "text": [
      "/opt/conda/envs/Python-3.7-OpenCE/lib/python3.7/site-packages/numpy/core/_asarray.py:83: VisibleDeprecationWarning: Creating an ndarray from ragged nested sequences (which is a list-or-tuple of lists-or-tuples-or ndarrays with different lengths or shapes) is deprecated. If you meant to do this, you must specify 'dtype=object' when creating the ndarray\n",
      "  return array(a, dtype, copy=False, order=order)\n"
     ]
    },
    {
     "data": {
      "image/png": "[encoded data removed]",
      "text/plain": [
       "<Figure size 432x288 with 1 Axes>"
      ]
     },
     "metadata": {
      "needs_background": "light"
     },
     "output_type": "display_data"
    }
   ],
   "source": [
    "red_circle = dict(marker = 'o')\n",
    "mean_shape = dict(markerfacecolor='blue', marker = 'o')\n",
    "bp = df.boxplot(column=[\"prob_FIRST_YES\"], by=[\"CONCEPT_8\"], showmeans=True, meanprops=mean_shape)\n",
    "\n",
    "#bp = first_prob.boxplot(column=[\"mean\", \"std\"], by=[\"CONCEPT_8\", \"YARDSTOGO\"])"
   ]
  },
  {
   "cell_type": "code",
   "execution_count": 37,
   "metadata": {
    "id": "3f6a357b-f0e0-44e9-8ac0-124d10a4c252"
   },
   "outputs": [
    {
     "ename": "AttributeError",
     "evalue": "module 'pylab' has no attribute 'df'",
     "output_type": "error",
     "traceback": [
      "\u001b[0;31m---------------------------------------------------------------------------\u001b[0m",
      "\u001b[0;31mAttributeError\u001b[0m                            Traceback (most recent call last)",
      "\u001b[0;32m<ipython-input-37-b8f31f8c33db>\u001b[0m in \u001b[0;36m<module>\u001b[0;34m\u001b[0m\n\u001b[1;32m      6\u001b[0m \u001b[0mY2\u001b[0m \u001b[0;34m=\u001b[0m \u001b[0mX\u001b[0m\u001b[0;34m**\u001b[0m\u001b[0;36m2\u001b[0m \u001b[0;34m+\u001b[0m \u001b[0mnp\u001b[0m\u001b[0;34m.\u001b[0m\u001b[0mrandom\u001b[0m\u001b[0;34m.\u001b[0m\u001b[0mrandom\u001b[0m\u001b[0;34m(\u001b[0m\u001b[0mX\u001b[0m\u001b[0;34m.\u001b[0m\u001b[0mshape\u001b[0m\u001b[0;34m)\u001b[0m\u001b[0;34m\u001b[0m\u001b[0;34m\u001b[0m\u001b[0m\n\u001b[1;32m      7\u001b[0m \u001b[0;34m\u001b[0m\u001b[0m\n\u001b[0;32m----> 8\u001b[0;31m \u001b[0mplt\u001b[0m\u001b[0;34m.\u001b[0m\u001b[0mdf\u001b[0m\u001b[0;34m.\u001b[0m\u001b[0mboxplot\u001b[0m\u001b[0;34m(\u001b[0m\u001b[0mcolumn\u001b[0m\u001b[0;34m=\u001b[0m\u001b[0;34m[\u001b[0m\u001b[0;34m\"prob_FIRST_YES\"\u001b[0m\u001b[0;34m]\u001b[0m\u001b[0;34m,\u001b[0m \u001b[0mby\u001b[0m\u001b[0;34m=\u001b[0m\u001b[0;34m[\u001b[0m\u001b[0;34m\"CONCEPT_8\"\u001b[0m\u001b[0;34m]\u001b[0m\u001b[0;34m)\u001b[0m\u001b[0;34m\u001b[0m\u001b[0;34m\u001b[0m\u001b[0m\n\u001b[0m\u001b[1;32m      9\u001b[0m \u001b[0mplt\u001b[0m\u001b[0;34m.\u001b[0m\u001b[0mscatter\u001b[0m\u001b[0;34m(\u001b[0m\u001b[0mX\u001b[0m\u001b[0;34m,\u001b[0m\u001b[0mY2\u001b[0m\u001b[0;34m,\u001b[0m\u001b[0mcolor\u001b[0m\u001b[0;34m=\u001b[0m\u001b[0;34m'g'\u001b[0m\u001b[0;34m)\u001b[0m\u001b[0;34m\u001b[0m\u001b[0;34m\u001b[0m\u001b[0m\n\u001b[1;32m     10\u001b[0m \u001b[0mplt\u001b[0m\u001b[0;34m.\u001b[0m\u001b[0mshow\u001b[0m\u001b[0;34m(\u001b[0m\u001b[0;34m)\u001b[0m\u001b[0;34m\u001b[0m\u001b[0;34m\u001b[0m\u001b[0m\n",
      "\u001b[0;31mAttributeError\u001b[0m: module 'pylab' has no attribute 'df'"
     ]
    }
   ],
   "source": [
    "import numpy as np\n",
    "import pylab as plt\n",
    "\n",
    "X = np.linspace(0,5,100)\n",
    "Y1 = X + 2*np.random.random(X.shape)\n",
    "Y2 = X**2 + np.random.random(X.shape)\n",
    "\n",
    "\n",
    "plt.df.boxplot(column=[\"prob_FIRST_YES\"], by=[\"CONCEPT_8\"])\n",
    "plt.scatter(X,Y2,color='g')\n",
    "plt.show()"
   ]
  },
  {
   "cell_type": "code",
   "execution_count": null,
   "metadata": {
    "id": "87485fda-0af6-4ddc-a723-25e9549f1024"
   },
   "outputs": [],
   "source": [
    "import numpy as np\n",
    "import pylab as plt\n",
    "\n",
    "X = np.linspace(0,5,100)\n",
    "Y1 = X + 2*np.random.random(X.shape)\n",
    "Y2 = X**2 + np.random.random(X.shape)\n",
    "\n",
    "plt.scatter(X,Y1,color='k')\n",
    "plt.scatter(X,Y2,color='g')\n",
    "plt.show()"
   ]
  },
  {
   "cell_type": "code",
   "execution_count": 28,
   "metadata": {
    "id": "9d1cc7ba-eaf7-4dcb-ae25-465cbe65e31a"
   },
   "outputs": [
    {
     "ename": "AttributeError",
     "evalue": "'Rectangle' object has no property 'colors'",
     "output_type": "error",
     "traceback": [
      "\u001b[0;31m---------------------------------------------------------------------------\u001b[0m",
      "\u001b[0;31mAttributeError\u001b[0m                            Traceback (most recent call last)",
      "\u001b[0;32m<ipython-input-28-dd4c92b49bb7>\u001b[0m in \u001b[0;36m<module>\u001b[0;34m\u001b[0m\n\u001b[0;32m----> 1\u001b[0;31m \u001b[0max\u001b[0m \u001b[0;34m=\u001b[0m \u001b[0mfirst_prob\u001b[0m\u001b[0;34m.\u001b[0m\u001b[0mplot\u001b[0m\u001b[0;34m(\u001b[0m\u001b[0mkind\u001b[0m \u001b[0;34m=\u001b[0m \u001b[0;34m\"barh\"\u001b[0m\u001b[0;34m,\u001b[0m \u001b[0my\u001b[0m \u001b[0;34m=\u001b[0m \u001b[0;34m\"mean\"\u001b[0m\u001b[0;34m,\u001b[0m \u001b[0mlegend\u001b[0m \u001b[0;34m=\u001b[0m \u001b[0;32mFalse\u001b[0m\u001b[0;34m,\u001b[0m \u001b[0mtitle\u001b[0m \u001b[0;34m=\u001b[0m \u001b[0;34m\"Average First Down Chance\"\u001b[0m\u001b[0;34m,\u001b[0m \u001b[0mcolors\u001b[0m \u001b[0;34m=\u001b[0m \u001b[0;34m[\u001b[0m\u001b[0;34m\"steelblue\"\u001b[0m\u001b[0;34m,\u001b[0m \u001b[0;34m\"seagreen\"\u001b[0m\u001b[0;34m]\u001b[0m\u001b[0;34m)\u001b[0m \u001b[0;31m# no error bars added here# X\u001b[0m\u001b[0;34m\u001b[0m\u001b[0;34m\u001b[0m\u001b[0m\n\u001b[0m\u001b[1;32m      2\u001b[0m \u001b[0max\u001b[0m\u001b[0;34m.\u001b[0m\u001b[0mset_xlabel\u001b[0m\u001b[0;34m(\u001b[0m\u001b[0;34m\"Likelihood (%)\"\u001b[0m\u001b[0;34m)\u001b[0m\u001b[0;31m# Y\u001b[0m\u001b[0;34m\u001b[0m\u001b[0;34m\u001b[0m\u001b[0m\n\u001b[1;32m      3\u001b[0m \u001b[0max\u001b[0m\u001b[0;34m.\u001b[0m\u001b[0mset_ylabel\u001b[0m\u001b[0;34m(\u001b[0m\u001b[0;34m\"\"\u001b[0m\u001b[0;34m)\u001b[0m\u001b[0;34m\u001b[0m\u001b[0;34m\u001b[0m\u001b[0m\n\u001b[1;32m      4\u001b[0m \u001b[0;31m#ax.set_yticklabels([\"Conventional\", \"Organic\"])# Overall\u001b[0m\u001b[0;34m\u001b[0m\u001b[0;34m\u001b[0m\u001b[0;34m\u001b[0m\u001b[0m\n\u001b[1;32m      5\u001b[0m \u001b[0;32mfor\u001b[0m \u001b[0mkey\u001b[0m\u001b[0;34m,\u001b[0m \u001b[0mspine\u001b[0m \u001b[0;32min\u001b[0m \u001b[0max\u001b[0m\u001b[0;34m.\u001b[0m\u001b[0mspines\u001b[0m\u001b[0;34m.\u001b[0m\u001b[0mitems\u001b[0m\u001b[0;34m(\u001b[0m\u001b[0;34m)\u001b[0m\u001b[0;34m:\u001b[0m\u001b[0;34m\u001b[0m\u001b[0;34m\u001b[0m\u001b[0m\n",
      "\u001b[0;32m/opt/conda/envs/Python-3.7-OpenCE/lib/python3.7/site-packages/pandas/plotting/_core.py\u001b[0m in \u001b[0;36m__call__\u001b[0;34m(self, *args, **kwargs)\u001b[0m\n\u001b[1;32m    845\u001b[0m                     \u001b[0mdata\u001b[0m\u001b[0;34m.\u001b[0m\u001b[0mcolumns\u001b[0m \u001b[0;34m=\u001b[0m \u001b[0mlabel_name\u001b[0m\u001b[0;34m\u001b[0m\u001b[0;34m\u001b[0m\u001b[0m\n\u001b[1;32m    846\u001b[0m \u001b[0;34m\u001b[0m\u001b[0m\n\u001b[0;32m--> 847\u001b[0;31m         \u001b[0;32mreturn\u001b[0m \u001b[0mplot_backend\u001b[0m\u001b[0;34m.\u001b[0m\u001b[0mplot\u001b[0m\u001b[0;34m(\u001b[0m\u001b[0mdata\u001b[0m\u001b[0;34m,\u001b[0m \u001b[0mkind\u001b[0m\u001b[0;34m=\u001b[0m\u001b[0mkind\u001b[0m\u001b[0;34m,\u001b[0m \u001b[0;34m**\u001b[0m\u001b[0mkwargs\u001b[0m\u001b[0;34m)\u001b[0m\u001b[0;34m\u001b[0m\u001b[0;34m\u001b[0m\u001b[0m\n\u001b[0m\u001b[1;32m    848\u001b[0m \u001b[0;34m\u001b[0m\u001b[0m\n\u001b[1;32m    849\u001b[0m     \u001b[0m__call__\u001b[0m\u001b[0;34m.\u001b[0m\u001b[0m__doc__\u001b[0m \u001b[0;34m=\u001b[0m \u001b[0m__doc__\u001b[0m\u001b[0;34m\u001b[0m\u001b[0;34m\u001b[0m\u001b[0m\n",
      "\u001b[0;32m/opt/conda/envs/Python-3.7-OpenCE/lib/python3.7/site-packages/pandas/plotting/_matplotlib/__init__.py\u001b[0m in \u001b[0;36mplot\u001b[0;34m(data, kind, **kwargs)\u001b[0m\n\u001b[1;32m     59\u001b[0m             \u001b[0mkwargs\u001b[0m\u001b[0;34m[\u001b[0m\u001b[0;34m\"ax\"\u001b[0m\u001b[0;34m]\u001b[0m \u001b[0;34m=\u001b[0m \u001b[0mgetattr\u001b[0m\u001b[0;34m(\u001b[0m\u001b[0max\u001b[0m\u001b[0;34m,\u001b[0m \u001b[0;34m\"left_ax\"\u001b[0m\u001b[0;34m,\u001b[0m \u001b[0max\u001b[0m\u001b[0;34m)\u001b[0m\u001b[0;34m\u001b[0m\u001b[0;34m\u001b[0m\u001b[0m\n\u001b[1;32m     60\u001b[0m     \u001b[0mplot_obj\u001b[0m \u001b[0;34m=\u001b[0m \u001b[0mPLOT_CLASSES\u001b[0m\u001b[0;34m[\u001b[0m\u001b[0mkind\u001b[0m\u001b[0;34m]\u001b[0m\u001b[0;34m(\u001b[0m\u001b[0mdata\u001b[0m\u001b[0;34m,\u001b[0m \u001b[0;34m**\u001b[0m\u001b[0mkwargs\u001b[0m\u001b[0;34m)\u001b[0m\u001b[0;34m\u001b[0m\u001b[0;34m\u001b[0m\u001b[0m\n\u001b[0;32m---> 61\u001b[0;31m     \u001b[0mplot_obj\u001b[0m\u001b[0;34m.\u001b[0m\u001b[0mgenerate\u001b[0m\u001b[0;34m(\u001b[0m\u001b[0;34m)\u001b[0m\u001b[0;34m\u001b[0m\u001b[0;34m\u001b[0m\u001b[0m\n\u001b[0m\u001b[1;32m     62\u001b[0m     \u001b[0mplot_obj\u001b[0m\u001b[0;34m.\u001b[0m\u001b[0mdraw\u001b[0m\u001b[0;34m(\u001b[0m\u001b[0;34m)\u001b[0m\u001b[0;34m\u001b[0m\u001b[0;34m\u001b[0m\u001b[0m\n\u001b[1;32m     63\u001b[0m     \u001b[0;32mreturn\u001b[0m \u001b[0mplot_obj\u001b[0m\u001b[0;34m.\u001b[0m\u001b[0mresult\u001b[0m\u001b[0;34m\u001b[0m\u001b[0;34m\u001b[0m\u001b[0m\n",
      "\u001b[0;32m/opt/conda/envs/Python-3.7-OpenCE/lib/python3.7/site-packages/pandas/plotting/_matplotlib/core.py\u001b[0m in \u001b[0;36mgenerate\u001b[0;34m(self)\u001b[0m\n\u001b[1;32m    261\u001b[0m         \u001b[0mself\u001b[0m\u001b[0;34m.\u001b[0m\u001b[0m_compute_plot_data\u001b[0m\u001b[0;34m(\u001b[0m\u001b[0;34m)\u001b[0m\u001b[0;34m\u001b[0m\u001b[0;34m\u001b[0m\u001b[0m\n\u001b[1;32m    262\u001b[0m         \u001b[0mself\u001b[0m\u001b[0;34m.\u001b[0m\u001b[0m_setup_subplots\u001b[0m\u001b[0;34m(\u001b[0m\u001b[0;34m)\u001b[0m\u001b[0;34m\u001b[0m\u001b[0;34m\u001b[0m\u001b[0m\n\u001b[0;32m--> 263\u001b[0;31m         \u001b[0mself\u001b[0m\u001b[0;34m.\u001b[0m\u001b[0m_make_plot\u001b[0m\u001b[0;34m(\u001b[0m\u001b[0;34m)\u001b[0m\u001b[0;34m\u001b[0m\u001b[0;34m\u001b[0m\u001b[0m\n\u001b[0m\u001b[1;32m    264\u001b[0m         \u001b[0mself\u001b[0m\u001b[0;34m.\u001b[0m\u001b[0m_add_table\u001b[0m\u001b[0;34m(\u001b[0m\u001b[0;34m)\u001b[0m\u001b[0;34m\u001b[0m\u001b[0;34m\u001b[0m\u001b[0m\n\u001b[1;32m    265\u001b[0m         \u001b[0mself\u001b[0m\u001b[0;34m.\u001b[0m\u001b[0m_make_legend\u001b[0m\u001b[0;34m(\u001b[0m\u001b[0;34m)\u001b[0m\u001b[0;34m\u001b[0m\u001b[0;34m\u001b[0m\u001b[0m\n",
      "\u001b[0;32m/opt/conda/envs/Python-3.7-OpenCE/lib/python3.7/site-packages/pandas/plotting/_matplotlib/core.py\u001b[0m in \u001b[0;36m_make_plot\u001b[0;34m(self)\u001b[0m\n\u001b[1;32m   1403\u001b[0m                     \u001b[0mlabel\u001b[0m\u001b[0;34m=\u001b[0m\u001b[0mlabel\u001b[0m\u001b[0;34m,\u001b[0m\u001b[0;34m\u001b[0m\u001b[0;34m\u001b[0m\u001b[0m\n\u001b[1;32m   1404\u001b[0m                     \u001b[0mlog\u001b[0m\u001b[0;34m=\u001b[0m\u001b[0mself\u001b[0m\u001b[0;34m.\u001b[0m\u001b[0mlog\u001b[0m\u001b[0;34m,\u001b[0m\u001b[0;34m\u001b[0m\u001b[0;34m\u001b[0m\u001b[0m\n\u001b[0;32m-> 1405\u001b[0;31m                     \u001b[0;34m**\u001b[0m\u001b[0mkwds\u001b[0m\u001b[0;34m,\u001b[0m\u001b[0;34m\u001b[0m\u001b[0;34m\u001b[0m\u001b[0m\n\u001b[0m\u001b[1;32m   1406\u001b[0m                 )\n\u001b[1;32m   1407\u001b[0m             \u001b[0mself\u001b[0m\u001b[0;34m.\u001b[0m\u001b[0m_add_legend_handle\u001b[0m\u001b[0;34m(\u001b[0m\u001b[0mrect\u001b[0m\u001b[0;34m,\u001b[0m \u001b[0mlabel\u001b[0m\u001b[0;34m,\u001b[0m \u001b[0mindex\u001b[0m\u001b[0;34m=\u001b[0m\u001b[0mi\u001b[0m\u001b[0;34m)\u001b[0m\u001b[0;34m\u001b[0m\u001b[0;34m\u001b[0m\u001b[0m\n",
      "\u001b[0;32m/opt/conda/envs/Python-3.7-OpenCE/lib/python3.7/site-packages/pandas/plotting/_matplotlib/core.py\u001b[0m in \u001b[0;36m_plot\u001b[0;34m(cls, ax, x, y, w, start, log, **kwds)\u001b[0m\n\u001b[1;32m   1443\u001b[0m     \u001b[0;34m@\u001b[0m\u001b[0mclassmethod\u001b[0m\u001b[0;34m\u001b[0m\u001b[0;34m\u001b[0m\u001b[0m\n\u001b[1;32m   1444\u001b[0m     \u001b[0;32mdef\u001b[0m \u001b[0m_plot\u001b[0m\u001b[0;34m(\u001b[0m\u001b[0mcls\u001b[0m\u001b[0;34m,\u001b[0m \u001b[0max\u001b[0m\u001b[0;34m,\u001b[0m \u001b[0mx\u001b[0m\u001b[0;34m,\u001b[0m \u001b[0my\u001b[0m\u001b[0;34m,\u001b[0m \u001b[0mw\u001b[0m\u001b[0;34m,\u001b[0m \u001b[0mstart\u001b[0m\u001b[0;34m=\u001b[0m\u001b[0;36m0\u001b[0m\u001b[0;34m,\u001b[0m \u001b[0mlog\u001b[0m\u001b[0;34m=\u001b[0m\u001b[0;32mFalse\u001b[0m\u001b[0;34m,\u001b[0m \u001b[0;34m**\u001b[0m\u001b[0mkwds\u001b[0m\u001b[0;34m)\u001b[0m\u001b[0;34m:\u001b[0m\u001b[0;34m\u001b[0m\u001b[0;34m\u001b[0m\u001b[0m\n\u001b[0;32m-> 1445\u001b[0;31m         \u001b[0;32mreturn\u001b[0m \u001b[0max\u001b[0m\u001b[0;34m.\u001b[0m\u001b[0mbarh\u001b[0m\u001b[0;34m(\u001b[0m\u001b[0mx\u001b[0m\u001b[0;34m,\u001b[0m \u001b[0my\u001b[0m\u001b[0;34m,\u001b[0m \u001b[0mw\u001b[0m\u001b[0;34m,\u001b[0m \u001b[0mleft\u001b[0m\u001b[0;34m=\u001b[0m\u001b[0mstart\u001b[0m\u001b[0;34m,\u001b[0m \u001b[0mlog\u001b[0m\u001b[0;34m=\u001b[0m\u001b[0mlog\u001b[0m\u001b[0;34m,\u001b[0m \u001b[0;34m**\u001b[0m\u001b[0mkwds\u001b[0m\u001b[0;34m)\u001b[0m\u001b[0;34m\u001b[0m\u001b[0;34m\u001b[0m\u001b[0m\n\u001b[0m\u001b[1;32m   1446\u001b[0m \u001b[0;34m\u001b[0m\u001b[0m\n\u001b[1;32m   1447\u001b[0m     \u001b[0;32mdef\u001b[0m \u001b[0m_decorate_ticks\u001b[0m\u001b[0;34m(\u001b[0m\u001b[0mself\u001b[0m\u001b[0;34m,\u001b[0m \u001b[0max\u001b[0m\u001b[0;34m,\u001b[0m \u001b[0mname\u001b[0m\u001b[0;34m,\u001b[0m \u001b[0mticklabels\u001b[0m\u001b[0;34m,\u001b[0m \u001b[0mstart_edge\u001b[0m\u001b[0;34m,\u001b[0m \u001b[0mend_edge\u001b[0m\u001b[0;34m)\u001b[0m\u001b[0;34m:\u001b[0m\u001b[0;34m\u001b[0m\u001b[0;34m\u001b[0m\u001b[0m\n",
      "\u001b[0;32m/opt/conda/envs/Python-3.7-OpenCE/lib/python3.7/site-packages/matplotlib/axes/_axes.py\u001b[0m in \u001b[0;36mbarh\u001b[0;34m(self, y, width, height, left, align, **kwargs)\u001b[0m\n\u001b[1;32m   2545\u001b[0m         \u001b[0mkwargs\u001b[0m\u001b[0;34m.\u001b[0m\u001b[0msetdefault\u001b[0m\u001b[0;34m(\u001b[0m\u001b[0;34m'orientation'\u001b[0m\u001b[0;34m,\u001b[0m \u001b[0;34m'horizontal'\u001b[0m\u001b[0;34m)\u001b[0m\u001b[0;34m\u001b[0m\u001b[0;34m\u001b[0m\u001b[0m\n\u001b[1;32m   2546\u001b[0m         patches = self.bar(x=left, height=height, width=width, bottom=y,\n\u001b[0;32m-> 2547\u001b[0;31m                            align=align, **kwargs)\n\u001b[0m\u001b[1;32m   2548\u001b[0m         \u001b[0;32mreturn\u001b[0m \u001b[0mpatches\u001b[0m\u001b[0;34m\u001b[0m\u001b[0;34m\u001b[0m\u001b[0m\n\u001b[1;32m   2549\u001b[0m \u001b[0;34m\u001b[0m\u001b[0m\n",
      "\u001b[0;32m/opt/conda/envs/Python-3.7-OpenCE/lib/python3.7/site-packages/matplotlib/__init__.py\u001b[0m in \u001b[0;36minner\u001b[0;34m(ax, data, *args, **kwargs)\u001b[0m\n\u001b[1;32m   1563\u001b[0m     \u001b[0;32mdef\u001b[0m \u001b[0minner\u001b[0m\u001b[0;34m(\u001b[0m\u001b[0max\u001b[0m\u001b[0;34m,\u001b[0m \u001b[0;34m*\u001b[0m\u001b[0margs\u001b[0m\u001b[0;34m,\u001b[0m \u001b[0mdata\u001b[0m\u001b[0;34m=\u001b[0m\u001b[0;32mNone\u001b[0m\u001b[0;34m,\u001b[0m \u001b[0;34m**\u001b[0m\u001b[0mkwargs\u001b[0m\u001b[0;34m)\u001b[0m\u001b[0;34m:\u001b[0m\u001b[0;34m\u001b[0m\u001b[0;34m\u001b[0m\u001b[0m\n\u001b[1;32m   1564\u001b[0m         \u001b[0;32mif\u001b[0m \u001b[0mdata\u001b[0m \u001b[0;32mis\u001b[0m \u001b[0;32mNone\u001b[0m\u001b[0;34m:\u001b[0m\u001b[0;34m\u001b[0m\u001b[0;34m\u001b[0m\u001b[0m\n\u001b[0;32m-> 1565\u001b[0;31m             \u001b[0;32mreturn\u001b[0m \u001b[0mfunc\u001b[0m\u001b[0;34m(\u001b[0m\u001b[0max\u001b[0m\u001b[0;34m,\u001b[0m \u001b[0;34m*\u001b[0m\u001b[0mmap\u001b[0m\u001b[0;34m(\u001b[0m\u001b[0msanitize_sequence\u001b[0m\u001b[0;34m,\u001b[0m \u001b[0margs\u001b[0m\u001b[0;34m)\u001b[0m\u001b[0;34m,\u001b[0m \u001b[0;34m**\u001b[0m\u001b[0mkwargs\u001b[0m\u001b[0;34m)\u001b[0m\u001b[0;34m\u001b[0m\u001b[0;34m\u001b[0m\u001b[0m\n\u001b[0m\u001b[1;32m   1566\u001b[0m \u001b[0;34m\u001b[0m\u001b[0m\n\u001b[1;32m   1567\u001b[0m         \u001b[0mbound\u001b[0m \u001b[0;34m=\u001b[0m \u001b[0mnew_sig\u001b[0m\u001b[0;34m.\u001b[0m\u001b[0mbind\u001b[0m\u001b[0;34m(\u001b[0m\u001b[0max\u001b[0m\u001b[0;34m,\u001b[0m \u001b[0;34m*\u001b[0m\u001b[0margs\u001b[0m\u001b[0;34m,\u001b[0m \u001b[0;34m**\u001b[0m\u001b[0mkwargs\u001b[0m\u001b[0;34m)\u001b[0m\u001b[0;34m\u001b[0m\u001b[0;34m\u001b[0m\u001b[0m\n",
      "\u001b[0;32m/opt/conda/envs/Python-3.7-OpenCE/lib/python3.7/site-packages/matplotlib/axes/_axes.py\u001b[0m in \u001b[0;36mbar\u001b[0;34m(self, x, height, width, bottom, align, **kwargs)\u001b[0m\n\u001b[1;32m   2396\u001b[0m                 \u001b[0mlabel\u001b[0m\u001b[0;34m=\u001b[0m\u001b[0;34m'_nolegend_'\u001b[0m\u001b[0;34m,\u001b[0m\u001b[0;34m\u001b[0m\u001b[0;34m\u001b[0m\u001b[0m\n\u001b[1;32m   2397\u001b[0m                 )\n\u001b[0;32m-> 2398\u001b[0;31m             \u001b[0mr\u001b[0m\u001b[0;34m.\u001b[0m\u001b[0mupdate\u001b[0m\u001b[0;34m(\u001b[0m\u001b[0mkwargs\u001b[0m\u001b[0;34m)\u001b[0m\u001b[0;34m\u001b[0m\u001b[0;34m\u001b[0m\u001b[0m\n\u001b[0m\u001b[1;32m   2399\u001b[0m             \u001b[0mr\u001b[0m\u001b[0;34m.\u001b[0m\u001b[0mget_path\u001b[0m\u001b[0;34m(\u001b[0m\u001b[0;34m)\u001b[0m\u001b[0;34m.\u001b[0m\u001b[0m_interpolation_steps\u001b[0m \u001b[0;34m=\u001b[0m \u001b[0;36m100\u001b[0m\u001b[0;34m\u001b[0m\u001b[0;34m\u001b[0m\u001b[0m\n\u001b[1;32m   2400\u001b[0m             \u001b[0;32mif\u001b[0m \u001b[0morientation\u001b[0m \u001b[0;34m==\u001b[0m \u001b[0;34m'vertical'\u001b[0m\u001b[0;34m:\u001b[0m\u001b[0;34m\u001b[0m\u001b[0;34m\u001b[0m\u001b[0m\n",
      "\u001b[0;32m/opt/conda/envs/Python-3.7-OpenCE/lib/python3.7/site-packages/matplotlib/artist.py\u001b[0m in \u001b[0;36mupdate\u001b[0;34m(self, props)\u001b[0m\n\u001b[1;32m   1004\u001b[0m \u001b[0;34m\u001b[0m\u001b[0m\n\u001b[1;32m   1005\u001b[0m         \u001b[0;32mwith\u001b[0m \u001b[0mcbook\u001b[0m\u001b[0;34m.\u001b[0m\u001b[0m_setattr_cm\u001b[0m\u001b[0;34m(\u001b[0m\u001b[0mself\u001b[0m\u001b[0;34m,\u001b[0m \u001b[0meventson\u001b[0m\u001b[0;34m=\u001b[0m\u001b[0;32mFalse\u001b[0m\u001b[0;34m)\u001b[0m\u001b[0;34m:\u001b[0m\u001b[0;34m\u001b[0m\u001b[0;34m\u001b[0m\u001b[0m\n\u001b[0;32m-> 1006\u001b[0;31m             \u001b[0mret\u001b[0m \u001b[0;34m=\u001b[0m \u001b[0;34m[\u001b[0m\u001b[0m_update_property\u001b[0m\u001b[0;34m(\u001b[0m\u001b[0mself\u001b[0m\u001b[0;34m,\u001b[0m \u001b[0mk\u001b[0m\u001b[0;34m,\u001b[0m \u001b[0mv\u001b[0m\u001b[0;34m)\u001b[0m \u001b[0;32mfor\u001b[0m \u001b[0mk\u001b[0m\u001b[0;34m,\u001b[0m \u001b[0mv\u001b[0m \u001b[0;32min\u001b[0m \u001b[0mprops\u001b[0m\u001b[0;34m.\u001b[0m\u001b[0mitems\u001b[0m\u001b[0;34m(\u001b[0m\u001b[0;34m)\u001b[0m\u001b[0;34m]\u001b[0m\u001b[0;34m\u001b[0m\u001b[0;34m\u001b[0m\u001b[0m\n\u001b[0m\u001b[1;32m   1007\u001b[0m \u001b[0;34m\u001b[0m\u001b[0m\n\u001b[1;32m   1008\u001b[0m         \u001b[0;32mif\u001b[0m \u001b[0mlen\u001b[0m\u001b[0;34m(\u001b[0m\u001b[0mret\u001b[0m\u001b[0;34m)\u001b[0m\u001b[0;34m:\u001b[0m\u001b[0;34m\u001b[0m\u001b[0;34m\u001b[0m\u001b[0m\n",
      "\u001b[0;32m/opt/conda/envs/Python-3.7-OpenCE/lib/python3.7/site-packages/matplotlib/artist.py\u001b[0m in \u001b[0;36m<listcomp>\u001b[0;34m(.0)\u001b[0m\n\u001b[1;32m   1004\u001b[0m \u001b[0;34m\u001b[0m\u001b[0m\n\u001b[1;32m   1005\u001b[0m         \u001b[0;32mwith\u001b[0m \u001b[0mcbook\u001b[0m\u001b[0;34m.\u001b[0m\u001b[0m_setattr_cm\u001b[0m\u001b[0;34m(\u001b[0m\u001b[0mself\u001b[0m\u001b[0;34m,\u001b[0m \u001b[0meventson\u001b[0m\u001b[0;34m=\u001b[0m\u001b[0;32mFalse\u001b[0m\u001b[0;34m)\u001b[0m\u001b[0;34m:\u001b[0m\u001b[0;34m\u001b[0m\u001b[0;34m\u001b[0m\u001b[0m\n\u001b[0;32m-> 1006\u001b[0;31m             \u001b[0mret\u001b[0m \u001b[0;34m=\u001b[0m \u001b[0;34m[\u001b[0m\u001b[0m_update_property\u001b[0m\u001b[0;34m(\u001b[0m\u001b[0mself\u001b[0m\u001b[0;34m,\u001b[0m \u001b[0mk\u001b[0m\u001b[0;34m,\u001b[0m \u001b[0mv\u001b[0m\u001b[0;34m)\u001b[0m \u001b[0;32mfor\u001b[0m \u001b[0mk\u001b[0m\u001b[0;34m,\u001b[0m \u001b[0mv\u001b[0m \u001b[0;32min\u001b[0m \u001b[0mprops\u001b[0m\u001b[0;34m.\u001b[0m\u001b[0mitems\u001b[0m\u001b[0;34m(\u001b[0m\u001b[0;34m)\u001b[0m\u001b[0;34m]\u001b[0m\u001b[0;34m\u001b[0m\u001b[0;34m\u001b[0m\u001b[0m\n\u001b[0m\u001b[1;32m   1007\u001b[0m \u001b[0;34m\u001b[0m\u001b[0m\n\u001b[1;32m   1008\u001b[0m         \u001b[0;32mif\u001b[0m \u001b[0mlen\u001b[0m\u001b[0;34m(\u001b[0m\u001b[0mret\u001b[0m\u001b[0;34m)\u001b[0m\u001b[0;34m:\u001b[0m\u001b[0;34m\u001b[0m\u001b[0;34m\u001b[0m\u001b[0m\n",
      "\u001b[0;32m/opt/conda/envs/Python-3.7-OpenCE/lib/python3.7/site-packages/matplotlib/artist.py\u001b[0m in \u001b[0;36m_update_property\u001b[0;34m(self, k, v)\u001b[0m\n\u001b[1;32m   1000\u001b[0m                 \u001b[0;32mif\u001b[0m \u001b[0;32mnot\u001b[0m \u001b[0mcallable\u001b[0m\u001b[0;34m(\u001b[0m\u001b[0mfunc\u001b[0m\u001b[0;34m)\u001b[0m\u001b[0;34m:\u001b[0m\u001b[0;34m\u001b[0m\u001b[0;34m\u001b[0m\u001b[0m\n\u001b[1;32m   1001\u001b[0m                     raise AttributeError('{!r} object has no property {!r}'\n\u001b[0;32m-> 1002\u001b[0;31m                                          .format(type(self).__name__, k))\n\u001b[0m\u001b[1;32m   1003\u001b[0m                 \u001b[0;32mreturn\u001b[0m \u001b[0mfunc\u001b[0m\u001b[0;34m(\u001b[0m\u001b[0mv\u001b[0m\u001b[0;34m)\u001b[0m\u001b[0;34m\u001b[0m\u001b[0;34m\u001b[0m\u001b[0m\n\u001b[1;32m   1004\u001b[0m \u001b[0;34m\u001b[0m\u001b[0m\n",
      "\u001b[0;31mAttributeError\u001b[0m: 'Rectangle' object has no property 'colors'"
     ]
    },
    {
     "data": {
      "image/png": "[encoded data removed]",
      "text/plain": [
       "<Figure size 432x288 with 1 Axes>"
      ]
     },
     "metadata": {
      "needs_background": "light"
     },
     "output_type": "display_data"
    }
   ],
   "source": [
    "ax = first_prob.plot(kind = \"barh\", y = \"mean\", legend = False, title = \"Average First Down Chance\", colors = [\"steelblue\", \"seagreen\"]) # no error bars added here# X\n",
    "ax.set_xlabel(\"Likelihood (%)\")# Y\n",
    "ax.set_ylabel(\"\")\n",
    "#ax.set_yticklabels([\"Conventional\", \"Organic\"])# Overall\n",
    "for key, spine in ax.spines.items():\n",
    "    spine.set_visible(False)\n",
    "ax.tick_params(bottom = False, left = False)\n",
    "ax.errorbar(first_prob[\"mean\"], first_prob.index, xerr = first_prob[\"std\"], \n",
    "            linewidth = 1.5, color = \"black\", alpha = 0.4, capsize = 4)"
   ]
  },
  {
   "cell_type": "code",
   "execution_count": 22,
   "metadata": {
    "id": "f676bb77-a8d8-417b-8a08-5de4c10c7cda"
   },
   "outputs": [
    {
     "ename": "AttributeError",
     "evalue": "module 'seaborn' has no attribute 'set_theme'",
     "output_type": "error",
     "traceback": [
      "\u001b[0;31m---------------------------------------------------------------------------\u001b[0m",
      "\u001b[0;31mAttributeError\u001b[0m                            Traceback (most recent call last)",
      "\u001b[0;32m<ipython-input-22-16af7c6a0cea>\u001b[0m in \u001b[0;36m<module>\u001b[0;34m\u001b[0m\n\u001b[1;32m      1\u001b[0m \u001b[0;32mimport\u001b[0m \u001b[0mseaborn\u001b[0m \u001b[0;32mas\u001b[0m \u001b[0msns\u001b[0m\u001b[0;34m\u001b[0m\u001b[0;34m\u001b[0m\u001b[0m\n\u001b[0;32m----> 2\u001b[0;31m \u001b[0msns\u001b[0m\u001b[0;34m.\u001b[0m\u001b[0mset_theme\u001b[0m\u001b[0;34m(\u001b[0m\u001b[0mstyle\u001b[0m\u001b[0;34m=\u001b[0m\u001b[0;34m\"whitegrid\"\u001b[0m\u001b[0;34m)\u001b[0m\u001b[0;34m\u001b[0m\u001b[0;34m\u001b[0m\u001b[0m\n\u001b[0m\u001b[1;32m      3\u001b[0m \u001b[0;34m\u001b[0m\u001b[0m\n\u001b[1;32m      4\u001b[0m \u001b[0;31m# Load the example exercise dataset\u001b[0m\u001b[0;34m\u001b[0m\u001b[0;34m\u001b[0m\u001b[0;34m\u001b[0m\u001b[0m\n\u001b[1;32m      5\u001b[0m \u001b[0;31m#df = sns.load_dataset(\"exercise\")\u001b[0m\u001b[0;34m\u001b[0m\u001b[0;34m\u001b[0m\u001b[0;34m\u001b[0m\u001b[0m\n",
      "\u001b[0;31mAttributeError\u001b[0m: module 'seaborn' has no attribute 'set_theme'"
     ]
    }
   ],
   "source": [
    "import seaborn as sns\n",
    "sns.set_theme(style=\"whitegrid\")\n",
    "\n",
    "# Load the example exercise dataset\n",
    "#df = sns.load_dataset(\"exercise\")\n",
    "\n",
    "\n",
    "# Draw a pointplot to show pulse as a function of three categorical factors\n",
    "g = sns.catplot(x=\"YARDSTOGO\", y=\"prob_FIRST_YES\", hue=\"CONCEPT_8\", col=\"RUN_PASS\",\n",
    "                capsize=.2, palette=\"YlGnBu_d\", height=6, aspect=.75,\n",
    "                kind=\"point\", data=df)\n",
    "g.despine(left=True)"
   ]
  },
  {
   "cell_type": "markdown",
   "metadata": {
    "id": "d5060f43-0404-4b3a-8888-0f3e8b15c1db"
   },
   "source": [
    "# Building Graphics"
   ]
  },
  {
   "cell_type": "code",
   "execution_count": 22,
   "metadata": {
    "id": "d7387cee-2b80-4a4e-8101-a28ffc5c5c43"
   },
   "outputs": [],
   "source": [
    "import pandas as pd\n",
    "import numpy as np"
   ]
  },
  {
   "cell_type": "code",
   "execution_count": 13,
   "metadata": {
    "id": "63ed056e-9067-412c-a0d4-f77f3c18758d"
   },
   "outputs": [
    {
     "data": {
      "text/html": [
       "<div>\n",
       "<style scoped>\n",
       "    .dataframe tbody tr th:only-of-type {\n",
       "        vertical-align: middle;\n",
       "    }\n",
       "\n",
       "    .dataframe tbody tr th {\n",
       "        vertical-align: top;\n",
       "    }\n",
       "\n",
       "    .dataframe thead th {\n",
       "        text-align: right;\n",
       "    }\n",
       "</style>\n",
       "<table border=\"1\" class=\"dataframe\">\n",
       "  <thead>\n",
       "    <tr style=\"text-align: right;\">\n",
       "      <th></th>\n",
       "      <th>prob_FIRST_YES</th>\n",
       "      <th>YARDSTOGO</th>\n",
       "      <th>CONCEPT_9</th>\n",
       "      <th>RUN_PASS</th>\n",
       "    </tr>\n",
       "  </thead>\n",
       "  <tbody>\n",
       "    <tr>\n",
       "      <th>0</th>\n",
       "      <td>0.437594</td>\n",
       "      <td>5</td>\n",
       "      <td>0</td>\n",
       "      <td>RUN</td>\n",
       "    </tr>\n",
       "    <tr>\n",
       "      <th>1</th>\n",
       "      <td>0.560704</td>\n",
       "      <td>9</td>\n",
       "      <td>4</td>\n",
       "      <td>RUN</td>\n",
       "    </tr>\n",
       "    <tr>\n",
       "      <th>2</th>\n",
       "      <td>0.608032</td>\n",
       "      <td>4</td>\n",
       "      <td>9</td>\n",
       "      <td>PASS</td>\n",
       "    </tr>\n",
       "    <tr>\n",
       "      <th>3</th>\n",
       "      <td>0.323197</td>\n",
       "      <td>11</td>\n",
       "      <td>1</td>\n",
       "      <td>PASS</td>\n",
       "    </tr>\n",
       "    <tr>\n",
       "      <th>4</th>\n",
       "      <td>0.391505</td>\n",
       "      <td>1</td>\n",
       "      <td>5</td>\n",
       "      <td>PASS</td>\n",
       "    </tr>\n",
       "  </tbody>\n",
       "</table>\n",
       "</div>"
      ],
      "text/plain": [
       "   prob_FIRST_YES  YARDSTOGO  CONCEPT_9 RUN_PASS\n",
       "0        0.437594          5          0      RUN\n",
       "1        0.560704          9          4      RUN\n",
       "2        0.608032          4          9     PASS\n",
       "3        0.323197         11          1     PASS\n",
       "4        0.391505          1          5     PASS"
      ]
     },
     "execution_count": 13,
     "metadata": {},
     "output_type": "execute_result"
    }
   ],
   "source": [
    "import pandas as pd\n",
    "df = pd.read_csv('/project_data/data_asset/Test_fields_100821_results.csv')\n",
    "df2 = df[[\"prob_FIRST_YES\", \"YARDSTOGO\", \"CONCEPT_9\",\"RUN_PASS\"]]\n",
    "df2.head()"
   ]
  },
  {
   "cell_type": "code",
   "execution_count": 14,
   "metadata": {
    "id": "0cd0dd7b-7b4e-4227-92c1-64333131e955"
   },
   "outputs": [
    {
     "data": {
      "text/html": [
       "<div>\n",
       "<style scoped>\n",
       "    .dataframe tbody tr th:only-of-type {\n",
       "        vertical-align: middle;\n",
       "    }\n",
       "\n",
       "    .dataframe tbody tr th {\n",
       "        vertical-align: top;\n",
       "    }\n",
       "\n",
       "    .dataframe thead th {\n",
       "        text-align: right;\n",
       "    }\n",
       "</style>\n",
       "<table border=\"1\" class=\"dataframe\">\n",
       "  <thead>\n",
       "    <tr style=\"text-align: right;\">\n",
       "      <th></th>\n",
       "      <th>prob_FIRST_YES</th>\n",
       "      <th>YARDSTOGO</th>\n",
       "    </tr>\n",
       "  </thead>\n",
       "  <tbody>\n",
       "    <tr>\n",
       "      <th>10</th>\n",
       "      <td>0.507527</td>\n",
       "      <td>9</td>\n",
       "    </tr>\n",
       "    <tr>\n",
       "      <th>29</th>\n",
       "      <td>0.518098</td>\n",
       "      <td>11</td>\n",
       "    </tr>\n",
       "    <tr>\n",
       "      <th>46</th>\n",
       "      <td>0.420920</td>\n",
       "      <td>10</td>\n",
       "    </tr>\n",
       "    <tr>\n",
       "      <th>69</th>\n",
       "      <td>0.457654</td>\n",
       "      <td>10</td>\n",
       "    </tr>\n",
       "    <tr>\n",
       "      <th>74</th>\n",
       "      <td>0.243133</td>\n",
       "      <td>11</td>\n",
       "    </tr>\n",
       "  </tbody>\n",
       "</table>\n",
       "</div>"
      ],
      "text/plain": [
       "    prob_FIRST_YES  YARDSTOGO\n",
       "10        0.507527          9\n",
       "29        0.518098         11\n",
       "46        0.420920         10\n",
       "69        0.457654         10\n",
       "74        0.243133         11"
      ]
     },
     "execution_count": 14,
     "metadata": {},
     "output_type": "execute_result"
    }
   ],
   "source": [
    "c9_pass0 = df2[(df2['RUN_PASS']=='PASS') & (df2['CONCEPT_9']==0)]\n",
    "c9_pass0 = c9_pass0[[\"prob_FIRST_YES\", \"YARDSTOGO\"]]\n",
    "c9_pass0.head()"
   ]
  },
  {
   "cell_type": "code",
   "execution_count": 15,
   "metadata": {
    "id": "a5ce1c6b-5136-4d28-aad4-e144eb81eaf0"
   },
   "outputs": [],
   "source": [
    "data = c9_pass0.groupby([\"YARDSTOGO\"])"
   ]
  },
  {
   "cell_type": "code",
   "execution_count": 18,
   "metadata": {
    "id": "a6b7bb17-2f1b-4c0f-a0f1-070fd8095603"
   },
   "outputs": [],
   "source": [
    "# Evalualte only PASS for all Concept 9 plays\n",
    "c9_pass = df2[df2['RUN_PASS']=='PASS']"
   ]
  },
  {
   "cell_type": "code",
   "execution_count": 24,
   "metadata": {
    "id": "3f25d276-4e77-4a06-88ed-e55d7d0aae71"
   },
   "outputs": [],
   "source": [
    "c9_pass_mean = c9_pass.groupby([\"CONCEPT_9\", \"YARDSTOGO\"]).mean()\n",
    "#c9_pass_mean"
   ]
  },
  {
   "cell_type": "code",
   "execution_count": 20,
   "metadata": {
    "id": "6321c6a5-d9f7-4197-83fe-798c1f3cc34d"
   },
   "outputs": [],
   "source": [
    "# Format data for plotting\n",
    "result = {}\n",
    "for row, data in c9_pass_mean.iterrows():\n",
    "#     print(row,data)\n",
    "    play_number = row[0]\n",
    "    x = row[1] # yardstogo\n",
    "    y = data['prob_FIRST_YES'] # mean probability of first down for x yards-to-go\n",
    "    if play_number not in result:\n",
    "        result[play_number] = {}\n",
    "        result[play_number]['x'] = []\n",
    "        result[play_number]['y'] = []\n",
    "    result[play_number]['x'].append(x)\n",
    "    result[play_number]['y'].append(y)"
   ]
  },
  {
   "cell_type": "code",
   "execution_count": 23,
   "metadata": {
    "id": "8ce408a2-c71c-41ff-8035-61bdd1b4834e"
   },
   "outputs": [
    {
     "data": {
      "image/png": "[encoded data removed]",
      "text/plain": [
       "<Figure size 432x288 with 1 Axes>"
      ]
     },
     "metadata": {
      "needs_background": "light"
     },
     "output_type": "display_data"
    }
   ],
   "source": [
    "plt.plot(pd.DataFrame(result[0]['y'],result[0]['x']), label=0)\n",
    "plt.plot(pd.DataFrame(result[1]['y'],result[1]['x']), label=1)\n",
    "plt.plot(pd.DataFrame(result[2]['y'],result[2]['x']), label=2, marker='o', markerfacecolor='blue', markersize=12, color='skyblue', linewidth=0)\n",
    "plt.xticks(np.sort(df2['YARDSTOGO'].unique()))\n",
    "plt.legend(loc='upper left', title=\"Concept 9 Plays\", bbox_to_anchor=(1, 1))\n",
    "plt.xlabel(\"YARDSTOGO\")\n",
    "plt.ylabel(\"mean prob_FIRST_YES\")\n",
    "plt.title(\"Concept 9: Average Probability of First Down\")\n",
    "plt.show()"
   ]
  },
  {
   "cell_type": "code",
   "execution_count": 46,
   "metadata": {
    "id": "ddc2113c-ca61-43b5-9ee3-206ea48cc156"
   },
   "outputs": [],
   "source": [
    "# Group by yards to go for play 0 probability of first down\n",
    "data = c9_pass0.groupby([\"YARDSTOGO\"])\n",
    "# print(\"number of groups:\",data.ngroups)\n",
    "#data.groups\n"
   ]
  },
  {
   "cell_type": "code",
   "execution_count": 49,
   "metadata": {
    "id": "b1338029-a12e-407e-981e-7c95d56b0ed9"
   },
   "outputs": [],
   "source": [
    "import warnings\n",
    "warnings.filterwarnings(\"ignore\", category=np.VisibleDeprecationWarning) "
   ]
  },
  {
   "cell_type": "code",
   "execution_count": 50,
   "metadata": {
    "id": "63c944d3-ebb9-41b7-8155-aab757d8c5cb"
   },
   "outputs": [
    {
     "data": {
      "image/png": "[encoded data removed]",
      "text/plain": [
       "<Figure size 432x288 with 1 Axes>"
      ]
     },
     "metadata": {
      "needs_background": "light"
     },
     "output_type": "display_data"
    }
   ],
   "source": [
    "# boxplot for Concept 9 play 0, probability of first down with each yard to go\n",
    "fig1, ax1 = plt.subplots()\n",
    "ax1.set_title('Concept 9 Play 0: Probability of First Down')\n",
    "bp_data = []\n",
    "\n",
    "for d in data.groups:\n",
    "    yardstogo = d\n",
    "    prob_FIRST_YES = data.get_group(yardstogo)\n",
    "    bp_data.append(prob_FIRST_YES['prob_FIRST_YES'].values)\n",
    "#     print(d, prob_FIRST_YES['prob_FIRST_YES'].values)\n",
    "#     print()\n",
    "ax1.boxplot(bp_data)\n",
    "plt.xlabel(\"YARDSTOGO\")\n",
    "plt.ylabel(\"prob_FIRST_YES\")\n",
    "\n",
    "# Additional Points\n",
    "plt.plot(5, 0.5, 'go') # add green dot to yardtogo=5 and prob_FIRST_YES=0.5\n",
    "plt.plot(2, 0.7, 'ro') # add red dot to yardtogo=2 and prob_FIRST_YES=0.7\n",
    "\n",
    "plt.show()"
   ]
  },
  {
   "cell_type": "code",
   "execution_count": 35,
   "metadata": {
    "id": "2283f5ad-87d6-4253-9974-03ffc0989002"
   },
   "outputs": [
    {
     "data": {
      "text/plain": [
       "prob_FIRST_YES    float64\n",
       "YARDSTOGO           int64\n",
       "dtype: object"
      ]
     },
     "execution_count": 35,
     "metadata": {},
     "output_type": "execute_result"
    }
   ],
   "source": [
    " prob_FIRST_YES.dtypes"
   ]
  }
 ],
 "metadata": {
  "kernelspec": {
   "display_name": "Python 3.7",
   "language": "python",
   "name": "python3"
  },
  "language_info": {
   "codemirror_mode": {
    "name": "ipython",
    "version": 3
   },
   "file_extension": ".py",
   "mimetype": "text/x-python",
   "name": "python",
   "nbconvert_exporter": "python",
   "pygments_lexer": "ipython3",
   "version": "3.7.10"
  },
  "toc-autonumbering": false,
  "toc-showcode": false,
  "toc-showmarkdowntxt": false,
  "toc-showtags": false
 },
 "nbformat": 4,
 "nbformat_minor": 4
}
