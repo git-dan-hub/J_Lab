{
 "cells": [
  {
   "cell_type": "code",
   "execution_count": 2,
   "metadata": {
    "id": "61597817-65da-41ca-9541-9d06906b5c28"
   },
   "outputs": [
    {
     "data": {
      "text/plain": [
       "Index(['#year', 'facility', 'accountNumber', 'FICO', 'BKRPT', 'recordCount',\n",
       "       'defaultCount', 'defaultDate', 'defaultBalance', 'cureDate', 'origFICO',\n",
       "       'origBKRPT', 'faceAmountOfNote', 'vintage', 'origLTV', 'origDTI',\n",
       "       'origCollateralValue', 'collateralCode', 'productCode', 'ID',\n",
       "       'enteredDate', 'age', 'lienPosition', 'Customer Balance'],\n",
       "      dtype='object')"
      ]
     },
     "execution_count": 2,
     "metadata": {},
     "output_type": "execute_result"
    }
   ],
   "source": [
    "df_h.columns"
   ]
  },
  {
   "cell_type": "code",
   "execution_count": 5,
   "metadata": {
    "id": "61ba0332-6397-4d7e-9757-81b8d9a2cfe6"
   },
   "outputs": [
    {
     "data": {
      "text/html": [
       "<div>\n",
       "<style scoped>\n",
       "    .dataframe tbody tr th:only-of-type {\n",
       "        vertical-align: middle;\n",
       "    }\n",
       "\n",
       "    .dataframe tbody tr th {\n",
       "        vertical-align: top;\n",
       "    }\n",
       "\n",
       "    .dataframe thead th {\n",
       "        text-align: right;\n",
       "    }\n",
       "</style>\n",
       "<table border=\"1\" class=\"dataframe\">\n",
       "  <thead>\n",
       "    <tr style=\"text-align: right;\">\n",
       "      <th></th>\n",
       "      <th>#year</th>\n",
       "      <th>facility</th>\n",
       "      <th>accountNumber</th>\n",
       "      <th>FICO</th>\n",
       "      <th>BKRPT</th>\n",
       "      <th>recordCount</th>\n",
       "      <th>defaultCount</th>\n",
       "      <th>defaultDate</th>\n",
       "      <th>defaultBalance</th>\n",
       "      <th>cureDate</th>\n",
       "      <th>...</th>\n",
       "      <th>origLTV</th>\n",
       "      <th>origDTI</th>\n",
       "      <th>origCollateralValue</th>\n",
       "      <th>collateralCode</th>\n",
       "      <th>productCode</th>\n",
       "      <th>ID</th>\n",
       "      <th>enteredDate</th>\n",
       "      <th>age</th>\n",
       "      <th>lienPosition</th>\n",
       "      <th>Customer Balance</th>\n",
       "    </tr>\n",
       "  </thead>\n",
       "  <tbody>\n",
       "    <tr>\n",
       "      <th>0</th>\n",
       "      <td>2017</td>\n",
       "      <td>HOF</td>\n",
       "      <td>1</td>\n",
       "      <td>839.0</td>\n",
       "      <td>973.0</td>\n",
       "      <td>1</td>\n",
       "      <td>0</td>\n",
       "      <td>NaN</td>\n",
       "      <td>0</td>\n",
       "      <td>NaN</td>\n",
       "      <td>...</td>\n",
       "      <td>21.1</td>\n",
       "      <td>50.1</td>\n",
       "      <td>10000</td>\n",
       "      <td>OO01</td>\n",
       "      <td>595</td>\n",
       "      <td>1</td>\n",
       "      <td>3/1/2000</td>\n",
       "      <td>1.2</td>\n",
       "      <td>1</td>\n",
       "      <td>101.1</td>\n",
       "    </tr>\n",
       "    <tr>\n",
       "      <th>1</th>\n",
       "      <td>2017</td>\n",
       "      <td>HOS</td>\n",
       "      <td>2</td>\n",
       "      <td>683.0</td>\n",
       "      <td>483.0</td>\n",
       "      <td>1</td>\n",
       "      <td>0</td>\n",
       "      <td>NaN</td>\n",
       "      <td>0</td>\n",
       "      <td>NaN</td>\n",
       "      <td>...</td>\n",
       "      <td>40.0</td>\n",
       "      <td>60.2</td>\n",
       "      <td>12000</td>\n",
       "      <td>OO02</td>\n",
       "      <td>595</td>\n",
       "      <td>2</td>\n",
       "      <td>4/1/2012</td>\n",
       "      <td>2.0</td>\n",
       "      <td>2</td>\n",
       "      <td>201.1</td>\n",
       "    </tr>\n",
       "    <tr>\n",
       "      <th>2</th>\n",
       "      <td>2017</td>\n",
       "      <td>HOF</td>\n",
       "      <td>3</td>\n",
       "      <td>775.0</td>\n",
       "      <td>837.0</td>\n",
       "      <td>1</td>\n",
       "      <td>0</td>\n",
       "      <td>NaN</td>\n",
       "      <td>0</td>\n",
       "      <td>NaN</td>\n",
       "      <td>...</td>\n",
       "      <td>12.1</td>\n",
       "      <td>70.3</td>\n",
       "      <td>11000</td>\n",
       "      <td>OO01</td>\n",
       "      <td>595</td>\n",
       "      <td>3</td>\n",
       "      <td>2/1/2010</td>\n",
       "      <td>3.2</td>\n",
       "      <td>1</td>\n",
       "      <td>302.2</td>\n",
       "    </tr>\n",
       "    <tr>\n",
       "      <th>3</th>\n",
       "      <td>2018</td>\n",
       "      <td>HOF</td>\n",
       "      <td>4</td>\n",
       "      <td>NaN</td>\n",
       "      <td>973.0</td>\n",
       "      <td>1</td>\n",
       "      <td>0</td>\n",
       "      <td>NaN</td>\n",
       "      <td>0</td>\n",
       "      <td>NaN</td>\n",
       "      <td>...</td>\n",
       "      <td>22.2</td>\n",
       "      <td>50.1</td>\n",
       "      <td>10000</td>\n",
       "      <td>OO01</td>\n",
       "      <td>595</td>\n",
       "      <td>4</td>\n",
       "      <td>3/1/2000</td>\n",
       "      <td>3.2</td>\n",
       "      <td>1</td>\n",
       "      <td>95.1</td>\n",
       "    </tr>\n",
       "    <tr>\n",
       "      <th>4</th>\n",
       "      <td>2018</td>\n",
       "      <td>HOS</td>\n",
       "      <td>5</td>\n",
       "      <td>695.0</td>\n",
       "      <td>483.0</td>\n",
       "      <td>1</td>\n",
       "      <td>0</td>\n",
       "      <td>NaN</td>\n",
       "      <td>0</td>\n",
       "      <td>NaN</td>\n",
       "      <td>...</td>\n",
       "      <td>17.9</td>\n",
       "      <td>60.2</td>\n",
       "      <td>12000</td>\n",
       "      <td>OO02</td>\n",
       "      <td>595</td>\n",
       "      <td>5</td>\n",
       "      <td>4/1/2012</td>\n",
       "      <td>4.0</td>\n",
       "      <td>2</td>\n",
       "      <td>75.5</td>\n",
       "    </tr>\n",
       "  </tbody>\n",
       "</table>\n",
       "<p>5 rows × 24 columns</p>\n",
       "</div>"
      ],
      "text/plain": [
       "   #year facility  accountNumber   FICO  BKRPT  recordCount  defaultCount  \\\n",
       "0   2017      HOF              1  839.0  973.0            1             0   \n",
       "1   2017      HOS              2  683.0  483.0            1             0   \n",
       "2   2017      HOF              3  775.0  837.0            1             0   \n",
       "3   2018      HOF              4    NaN  973.0            1             0   \n",
       "4   2018      HOS              5  695.0  483.0            1             0   \n",
       "\n",
       "   defaultDate  defaultBalance  cureDate  ...  origLTV  origDTI  \\\n",
       "0          NaN               0       NaN  ...     21.1     50.1   \n",
       "1          NaN               0       NaN  ...     40.0     60.2   \n",
       "2          NaN               0       NaN  ...     12.1     70.3   \n",
       "3          NaN               0       NaN  ...     22.2     50.1   \n",
       "4          NaN               0       NaN  ...     17.9     60.2   \n",
       "\n",
       "   origCollateralValue  collateralCode  productCode  ID  enteredDate  age  \\\n",
       "0                10000            OO01          595   1     3/1/2000  1.2   \n",
       "1                12000            OO02          595   2     4/1/2012  2.0   \n",
       "2                11000            OO01          595   3     2/1/2010  3.2   \n",
       "3                10000            OO01          595   4     3/1/2000  3.2   \n",
       "4                12000            OO02          595   5     4/1/2012  4.0   \n",
       "\n",
       "   lienPosition  Customer Balance  \n",
       "0             1             101.1  \n",
       "1             2             201.1  \n",
       "2             1             302.2  \n",
       "3             1              95.1  \n",
       "4             2              75.5  \n",
       "\n",
       "[5 rows x 24 columns]"
      ]
     },
     "execution_count": 5,
     "metadata": {},
     "output_type": "execute_result"
    }
   ],
   "source": [
    "import pandas as pd\n",
    "import numpy as np\n",
    "import sklearn as sk\n",
    "import seaborn as sns\n",
    "\n",
    "df_h = pd.read_csv('/project_data/data_asset/Sample Heloc Data Dummy Values.csv')\n",
    "df_h.head()"
   ]
  },
  {
   "cell_type": "code",
   "execution_count": 8,
   "metadata": {
    "id": "287ddb8b-6734-4430-b2cc-4a666dadfcfd"
   },
   "outputs": [],
   "source": [
    "df_h['caPerformanceFlag'] = np.where(pd.isnull(df_h.defaultDate), 0, 1)"
   ]
  },
  {
   "cell_type": "code",
   "execution_count": 9,
   "metadata": {
    "id": "cdee5289-c7c6-475b-949e-877bcf11f863"
   },
   "outputs": [
    {
     "data": {
      "text/html": [
       "<div>\n",
       "<style scoped>\n",
       "    .dataframe tbody tr th:only-of-type {\n",
       "        vertical-align: middle;\n",
       "    }\n",
       "\n",
       "    .dataframe tbody tr th {\n",
       "        vertical-align: top;\n",
       "    }\n",
       "\n",
       "    .dataframe thead th {\n",
       "        text-align: right;\n",
       "    }\n",
       "</style>\n",
       "<table border=\"1\" class=\"dataframe\">\n",
       "  <thead>\n",
       "    <tr style=\"text-align: right;\">\n",
       "      <th></th>\n",
       "      <th>#year</th>\n",
       "      <th>facility</th>\n",
       "      <th>accountNumber</th>\n",
       "      <th>FICO</th>\n",
       "      <th>BKRPT</th>\n",
       "      <th>recordCount</th>\n",
       "      <th>defaultCount</th>\n",
       "      <th>defaultDate</th>\n",
       "      <th>defaultBalance</th>\n",
       "      <th>cureDate</th>\n",
       "      <th>...</th>\n",
       "      <th>origDTI</th>\n",
       "      <th>origCollateralValue</th>\n",
       "      <th>collateralCode</th>\n",
       "      <th>productCode</th>\n",
       "      <th>ID</th>\n",
       "      <th>enteredDate</th>\n",
       "      <th>age</th>\n",
       "      <th>lienPosition</th>\n",
       "      <th>Customer Balance</th>\n",
       "      <th>caPerformanceFlag</th>\n",
       "    </tr>\n",
       "  </thead>\n",
       "  <tbody>\n",
       "    <tr>\n",
       "      <th>0</th>\n",
       "      <td>2017</td>\n",
       "      <td>HOF</td>\n",
       "      <td>1</td>\n",
       "      <td>839.0</td>\n",
       "      <td>973.0</td>\n",
       "      <td>1</td>\n",
       "      <td>0</td>\n",
       "      <td>NaN</td>\n",
       "      <td>0</td>\n",
       "      <td>NaN</td>\n",
       "      <td>...</td>\n",
       "      <td>50.1</td>\n",
       "      <td>10000</td>\n",
       "      <td>OO01</td>\n",
       "      <td>595</td>\n",
       "      <td>1</td>\n",
       "      <td>3/1/2000</td>\n",
       "      <td>1.2</td>\n",
       "      <td>1</td>\n",
       "      <td>101.1</td>\n",
       "      <td>0</td>\n",
       "    </tr>\n",
       "    <tr>\n",
       "      <th>1</th>\n",
       "      <td>2017</td>\n",
       "      <td>HOS</td>\n",
       "      <td>2</td>\n",
       "      <td>683.0</td>\n",
       "      <td>483.0</td>\n",
       "      <td>1</td>\n",
       "      <td>0</td>\n",
       "      <td>NaN</td>\n",
       "      <td>0</td>\n",
       "      <td>NaN</td>\n",
       "      <td>...</td>\n",
       "      <td>60.2</td>\n",
       "      <td>12000</td>\n",
       "      <td>OO02</td>\n",
       "      <td>595</td>\n",
       "      <td>2</td>\n",
       "      <td>4/1/2012</td>\n",
       "      <td>2.0</td>\n",
       "      <td>2</td>\n",
       "      <td>201.1</td>\n",
       "      <td>0</td>\n",
       "    </tr>\n",
       "    <tr>\n",
       "      <th>2</th>\n",
       "      <td>2017</td>\n",
       "      <td>HOF</td>\n",
       "      <td>3</td>\n",
       "      <td>775.0</td>\n",
       "      <td>837.0</td>\n",
       "      <td>1</td>\n",
       "      <td>0</td>\n",
       "      <td>NaN</td>\n",
       "      <td>0</td>\n",
       "      <td>NaN</td>\n",
       "      <td>...</td>\n",
       "      <td>70.3</td>\n",
       "      <td>11000</td>\n",
       "      <td>OO01</td>\n",
       "      <td>595</td>\n",
       "      <td>3</td>\n",
       "      <td>2/1/2010</td>\n",
       "      <td>3.2</td>\n",
       "      <td>1</td>\n",
       "      <td>302.2</td>\n",
       "      <td>0</td>\n",
       "    </tr>\n",
       "    <tr>\n",
       "      <th>3</th>\n",
       "      <td>2018</td>\n",
       "      <td>HOF</td>\n",
       "      <td>4</td>\n",
       "      <td>NaN</td>\n",
       "      <td>973.0</td>\n",
       "      <td>1</td>\n",
       "      <td>0</td>\n",
       "      <td>NaN</td>\n",
       "      <td>0</td>\n",
       "      <td>NaN</td>\n",
       "      <td>...</td>\n",
       "      <td>50.1</td>\n",
       "      <td>10000</td>\n",
       "      <td>OO01</td>\n",
       "      <td>595</td>\n",
       "      <td>4</td>\n",
       "      <td>3/1/2000</td>\n",
       "      <td>3.2</td>\n",
       "      <td>1</td>\n",
       "      <td>95.1</td>\n",
       "      <td>0</td>\n",
       "    </tr>\n",
       "    <tr>\n",
       "      <th>4</th>\n",
       "      <td>2018</td>\n",
       "      <td>HOS</td>\n",
       "      <td>5</td>\n",
       "      <td>695.0</td>\n",
       "      <td>483.0</td>\n",
       "      <td>1</td>\n",
       "      <td>0</td>\n",
       "      <td>NaN</td>\n",
       "      <td>0</td>\n",
       "      <td>NaN</td>\n",
       "      <td>...</td>\n",
       "      <td>60.2</td>\n",
       "      <td>12000</td>\n",
       "      <td>OO02</td>\n",
       "      <td>595</td>\n",
       "      <td>5</td>\n",
       "      <td>4/1/2012</td>\n",
       "      <td>4.0</td>\n",
       "      <td>2</td>\n",
       "      <td>75.5</td>\n",
       "      <td>0</td>\n",
       "    </tr>\n",
       "    <tr>\n",
       "      <th>5</th>\n",
       "      <td>2018</td>\n",
       "      <td>HOF</td>\n",
       "      <td>6</td>\n",
       "      <td>751.0</td>\n",
       "      <td>NaN</td>\n",
       "      <td>1</td>\n",
       "      <td>0</td>\n",
       "      <td>NaN</td>\n",
       "      <td>0</td>\n",
       "      <td>NaN</td>\n",
       "      <td>...</td>\n",
       "      <td>70.3</td>\n",
       "      <td>11000</td>\n",
       "      <td>OO01</td>\n",
       "      <td>595</td>\n",
       "      <td>6</td>\n",
       "      <td>2/1/2010</td>\n",
       "      <td>1.8</td>\n",
       "      <td>1</td>\n",
       "      <td>50.2</td>\n",
       "      <td>0</td>\n",
       "    </tr>\n",
       "  </tbody>\n",
       "</table>\n",
       "<p>6 rows × 25 columns</p>\n",
       "</div>"
      ],
      "text/plain": [
       "   #year facility  accountNumber   FICO  BKRPT  recordCount  defaultCount  \\\n",
       "0   2017      HOF              1  839.0  973.0            1             0   \n",
       "1   2017      HOS              2  683.0  483.0            1             0   \n",
       "2   2017      HOF              3  775.0  837.0            1             0   \n",
       "3   2018      HOF              4    NaN  973.0            1             0   \n",
       "4   2018      HOS              5  695.0  483.0            1             0   \n",
       "5   2018      HOF              6  751.0    NaN            1             0   \n",
       "\n",
       "   defaultDate  defaultBalance  cureDate  ...  origDTI  origCollateralValue  \\\n",
       "0          NaN               0       NaN  ...     50.1                10000   \n",
       "1          NaN               0       NaN  ...     60.2                12000   \n",
       "2          NaN               0       NaN  ...     70.3                11000   \n",
       "3          NaN               0       NaN  ...     50.1                10000   \n",
       "4          NaN               0       NaN  ...     60.2                12000   \n",
       "5          NaN               0       NaN  ...     70.3                11000   \n",
       "\n",
       "   collateralCode  productCode  ID  enteredDate  age lienPosition  \\\n",
       "0            OO01          595   1     3/1/2000  1.2            1   \n",
       "1            OO02          595   2     4/1/2012  2.0            2   \n",
       "2            OO01          595   3     2/1/2010  3.2            1   \n",
       "3            OO01          595   4     3/1/2000  3.2            1   \n",
       "4            OO02          595   5     4/1/2012  4.0            2   \n",
       "5            OO01          595   6     2/1/2010  1.8            1   \n",
       "\n",
       "   Customer Balance  caPerformanceFlag  \n",
       "0             101.1                  0  \n",
       "1             201.1                  0  \n",
       "2             302.2                  0  \n",
       "3              95.1                  0  \n",
       "4              75.5                  0  \n",
       "5              50.2                  0  \n",
       "\n",
       "[6 rows x 25 columns]"
      ]
     },
     "execution_count": 9,
     "metadata": {},
     "output_type": "execute_result"
    }
   ],
   "source": [
    "df_h"
   ]
  },
  {
   "cell_type": "code",
   "execution_count": 185,
   "metadata": {
    "id": "ad97b93b-f133-4a86-a577-7bf5b5f6a4f5"
   },
   "outputs": [
    {
     "data": {
      "text/html": [
       "<div>\n",
       "<style scoped>\n",
       "    .dataframe tbody tr th:only-of-type {\n",
       "        vertical-align: middle;\n",
       "    }\n",
       "\n",
       "    .dataframe tbody tr th {\n",
       "        vertical-align: top;\n",
       "    }\n",
       "\n",
       "    .dataframe thead th {\n",
       "        text-align: right;\n",
       "    }\n",
       "</style>\n",
       "<table border=\"1\" class=\"dataframe\">\n",
       "  <thead>\n",
       "    <tr style=\"text-align: right;\">\n",
       "      <th></th>\n",
       "      <th>HALF</th>\n",
       "      <th>DOWNNUM</th>\n",
       "      <th>YARDSTOGO</th>\n",
       "      <th>SCOREDIFF</th>\n",
       "      <th>TIMELEFT</th>\n",
       "      <th>DOWNNAME</th>\n",
       "      <th>TRUEFIELD</th>\n",
       "      <th>YARDSGAINED_Mean</th>\n",
       "      <th>AVG_OVER_TOGO</th>\n",
       "      <th>PLAYIDSTR</th>\n",
       "      <th>RUN_PASS</th>\n",
       "      <th>CONCEPT_8</th>\n",
       "      <th>CONCEPT_9</th>\n",
       "      <th>pred_TD</th>\n",
       "      <th>prob_TD_NO</th>\n",
       "      <th>prob_TD_YES</th>\n",
       "      <th>pred_FIRST</th>\n",
       "      <th>prob_FIRST_NO</th>\n",
       "      <th>prob_FIRST_YES</th>\n",
       "    </tr>\n",
       "  </thead>\n",
       "  <tbody>\n",
       "    <tr>\n",
       "      <th>0</th>\n",
       "      <td>0</td>\n",
       "      <td>0</td>\n",
       "      <td>5</td>\n",
       "      <td>0</td>\n",
       "      <td>480</td>\n",
       "      <td>1st</td>\n",
       "      <td>35</td>\n",
       "      <td>6.360000</td>\n",
       "      <td>1.272000</td>\n",
       "      <td>100000020</td>\n",
       "      <td>RUN</td>\n",
       "      <td>2</td>\n",
       "      <td>0</td>\n",
       "      <td>N</td>\n",
       "      <td>0.989181</td>\n",
       "      <td>0.010819</td>\n",
       "      <td>N</td>\n",
       "      <td>0.562406</td>\n",
       "      <td>0.437594</td>\n",
       "    </tr>\n",
       "    <tr>\n",
       "      <th>1</th>\n",
       "      <td>0</td>\n",
       "      <td>0</td>\n",
       "      <td>9</td>\n",
       "      <td>-7</td>\n",
       "      <td>1050</td>\n",
       "      <td>1st</td>\n",
       "      <td>45</td>\n",
       "      <td>4.756098</td>\n",
       "      <td>0.528455</td>\n",
       "      <td>100000054</td>\n",
       "      <td>RUN</td>\n",
       "      <td>5</td>\n",
       "      <td>4</td>\n",
       "      <td>N</td>\n",
       "      <td>0.999278</td>\n",
       "      <td>0.000722</td>\n",
       "      <td>Y</td>\n",
       "      <td>0.439296</td>\n",
       "      <td>0.560704</td>\n",
       "    </tr>\n",
       "    <tr>\n",
       "      <th>2</th>\n",
       "      <td>0</td>\n",
       "      <td>2</td>\n",
       "      <td>4</td>\n",
       "      <td>7</td>\n",
       "      <td>600</td>\n",
       "      <td>3rd</td>\n",
       "      <td>5</td>\n",
       "      <td>8.164835</td>\n",
       "      <td>2.041209</td>\n",
       "      <td>200000049</td>\n",
       "      <td>PASS</td>\n",
       "      <td>4</td>\n",
       "      <td>9</td>\n",
       "      <td>N</td>\n",
       "      <td>0.929720</td>\n",
       "      <td>0.070280</td>\n",
       "      <td>Y</td>\n",
       "      <td>0.391968</td>\n",
       "      <td>0.608032</td>\n",
       "    </tr>\n",
       "    <tr>\n",
       "      <th>3</th>\n",
       "      <td>0</td>\n",
       "      <td>0</td>\n",
       "      <td>11</td>\n",
       "      <td>7</td>\n",
       "      <td>180</td>\n",
       "      <td>1st</td>\n",
       "      <td>45</td>\n",
       "      <td>6.216667</td>\n",
       "      <td>0.565152</td>\n",
       "      <td>200000041</td>\n",
       "      <td>PASS</td>\n",
       "      <td>4</td>\n",
       "      <td>1</td>\n",
       "      <td>N</td>\n",
       "      <td>0.999941</td>\n",
       "      <td>0.000059</td>\n",
       "      <td>N</td>\n",
       "      <td>0.676803</td>\n",
       "      <td>0.323197</td>\n",
       "    </tr>\n",
       "    <tr>\n",
       "      <th>4</th>\n",
       "      <td>0</td>\n",
       "      <td>0</td>\n",
       "      <td>1</td>\n",
       "      <td>0</td>\n",
       "      <td>60</td>\n",
       "      <td>1st</td>\n",
       "      <td>45</td>\n",
       "      <td>13.416667</td>\n",
       "      <td>13.416667</td>\n",
       "      <td>200000085</td>\n",
       "      <td>PASS</td>\n",
       "      <td>8</td>\n",
       "      <td>5</td>\n",
       "      <td>N</td>\n",
       "      <td>0.800383</td>\n",
       "      <td>0.199617</td>\n",
       "      <td>N</td>\n",
       "      <td>0.608495</td>\n",
       "      <td>0.391505</td>\n",
       "    </tr>\n",
       "  </tbody>\n",
       "</table>\n",
       "</div>"
      ],
      "text/plain": [
       "   HALF  DOWNNUM  YARDSTOGO  SCOREDIFF  TIMELEFT DOWNNAME  TRUEFIELD  \\\n",
       "0     0        0          5          0       480      1st         35   \n",
       "1     0        0          9         -7      1050      1st         45   \n",
       "2     0        2          4          7       600      3rd          5   \n",
       "3     0        0         11          7       180      1st         45   \n",
       "4     0        0          1          0        60      1st         45   \n",
       "\n",
       "   YARDSGAINED_Mean  AVG_OVER_TOGO  PLAYIDSTR RUN_PASS  CONCEPT_8  CONCEPT_9  \\\n",
       "0          6.360000       1.272000  100000020      RUN          2          0   \n",
       "1          4.756098       0.528455  100000054      RUN          5          4   \n",
       "2          8.164835       2.041209  200000049     PASS          4          9   \n",
       "3          6.216667       0.565152  200000041     PASS          4          1   \n",
       "4         13.416667      13.416667  200000085     PASS          8          5   \n",
       "\n",
       "  pred_TD  prob_TD_NO  prob_TD_YES pred_FIRST  prob_FIRST_NO  prob_FIRST_YES  \n",
       "0       N    0.989181     0.010819          N       0.562406        0.437594  \n",
       "1       N    0.999278     0.000722          Y       0.439296        0.560704  \n",
       "2       N    0.929720     0.070280          Y       0.391968        0.608032  \n",
       "3       N    0.999941     0.000059          N       0.676803        0.323197  \n",
       "4       N    0.800383     0.199617          N       0.608495        0.391505  "
      ]
     },
     "execution_count": 185,
     "metadata": {},
     "output_type": "execute_result"
    }
   ],
   "source": [
    "df = pd.read_csv('/project_data/data_asset/Test_fields_100821_results.csv')\n",
    "df.head()"
   ]
  },
  {
   "cell_type": "code",
   "execution_count": 174,
   "metadata": {
    "id": "ba4356e2-0d7e-4d0d-9b09-0753b1002cb1"
   },
   "outputs": [
    {
     "data": {
      "text/plain": [
       "Index(['HALF', 'DOWNNUM', 'YARDSTOGO', 'SCOREDIFF', 'TIMELEFT', 'DOWNNAME',\n",
       "       'TRUEFIELD', 'YARDSGAINED_Mean', 'AVG_OVER_TOGO', 'PLAYIDSTR',\n",
       "       'RUN_PASS', 'CONCEPT_8', 'CONCEPT_9', 'pred_TD', 'prob_TD_NO',\n",
       "       'prob_TD_YES', 'pred_FIRST', 'prob_FIRST_NO', 'prob_FIRST_YES'],\n",
       "      dtype='object')"
      ]
     },
     "execution_count": 174,
     "metadata": {},
     "output_type": "execute_result"
    }
   ],
   "source": [
    "df.columns"
   ]
  },
  {
   "cell_type": "code",
   "execution_count": 175,
   "metadata": {
    "id": "1aa4b968-51a2-4713-9d1e-88ddd5034356"
   },
   "outputs": [
    {
     "data": {
      "text/plain": [
       "(10000, 19)"
      ]
     },
     "execution_count": 175,
     "metadata": {},
     "output_type": "execute_result"
    }
   ],
   "source": [
    "df.shape"
   ]
  },
  {
   "cell_type": "code",
   "execution_count": 186,
   "metadata": {
    "id": "dca55600-1494-4b9e-a137-9755c4f41ccf"
   },
   "outputs": [],
   "source": [
    "## To drop variables from a dataframe, simply list the ones you want to keep. Can pass to a new dataframe (as here) or drop from original\n",
    "df = pd.DataFrame(df, columns=['HALF', 'DOWNNUM', 'YARDSTOGO', 'SCOREDIFF', 'TIMELEFT', 'DOWNNAME','TRUEFIELD','RUN_PASS',\n",
    "       'CONCEPT_8', 'CONCEPT_9','YARDSGAINED_Mean', 'AVG_OVER_TOGO', 'prob_FIRST_YES','pred_FIRST'])"
   ]
  },
  {
   "cell_type": "code",
   "execution_count": 187,
   "metadata": {
    "id": "eaa8da42-44f7-492a-a3ce-5f5e3df941dd"
   },
   "outputs": [],
   "source": [
    "## Re-Name columns\n",
    "df.columns = ['HALF', 'DOWNNUM', 'YARDSTOGO', 'SCOREDIFF', 'TIMELEFT', 'DOWNNAME','TRUEFIELD','RUN_PASS',\n",
    "       'CONCEPT_8', 'CONCEPT_9','YARDSGAINED_Mean', 'AVG_OVER_TOGO', 'prob_FIRST_YES','TARGET']"
   ]
  },
  {
   "cell_type": "code",
   "execution_count": 178,
   "metadata": {
    "id": "3b45088f-47d5-4975-8524-ef1148a7c172"
   },
   "outputs": [
    {
     "data": {
      "text/plain": [
       "15"
      ]
     },
     "execution_count": 178,
     "metadata": {},
     "output_type": "execute_result"
    }
   ],
   "source": [
    "len(df.columns)"
   ]
  },
  {
   "cell_type": "code",
   "execution_count": 188,
   "metadata": {
    "id": "342bd8b6-5c8f-4695-870c-c54c7dce3a06"
   },
   "outputs": [
    {
     "data": {
      "text/plain": [
       "(10000, 14)"
      ]
     },
     "execution_count": 188,
     "metadata": {},
     "output_type": "execute_result"
    }
   ],
   "source": [
    "df.shape"
   ]
  },
  {
   "cell_type": "code",
   "execution_count": 180,
   "metadata": {
    "id": "efb8e44f-4259-4e63-bb87-facada0900a0"
   },
   "outputs": [
    {
     "data": {
      "text/plain": [
       "HALF                  int64\n",
       "DOWNNUM               int64\n",
       "YARDSTOGO             int64\n",
       "SCOREDIFF             int64\n",
       "TIMELEFT              int64\n",
       "DOWNNAME             object\n",
       "TRUEFIELD             int64\n",
       "RUN_PASS             object\n",
       "CONCEPT_8             int64\n",
       "CONCEPT_9             int64\n",
       "YARDLINE            float64\n",
       "YARDSGAINED_Mean    float64\n",
       "AVG_OVER_TOGO       float64\n",
       "prob_FIRST_YES      float64\n",
       "TARGET               object\n",
       "dtype: object"
      ]
     },
     "execution_count": 180,
     "metadata": {},
     "output_type": "execute_result"
    }
   ],
   "source": [
    "df.dtypes"
   ]
  },
  {
   "cell_type": "code",
   "execution_count": 66,
   "metadata": {
    "id": "91be7986-cb58-4e03-8a8d-1d8ab8258e20"
   },
   "outputs": [],
   "source": [
    "df['strat'] = df['pred_FIRST'].astype(str) + df['probBIN'].astype(str)"
   ]
  },
  {
   "cell_type": "code",
   "execution_count": 67,
   "metadata": {
    "id": "2bd68624-9d72-4c06-9bf1-74efa6f40458"
   },
   "outputs": [
    {
     "data": {
      "text/plain": [
       "0       N(0.397, 0.511]\n",
       "1       Y(0.511, 0.605]\n",
       "2       Y(0.605, 0.686]\n",
       "3       N(0.132, 0.397]\n",
       "4       N(0.132, 0.397]\n",
       "             ...       \n",
       "9995    N(0.397, 0.511]\n",
       "9996    N(0.132, 0.397]\n",
       "9997    Y(0.605, 0.686]\n",
       "9998    Y(0.511, 0.605]\n",
       "9999    Y(0.605, 0.686]\n",
       "Name: strat, Length: 10000, dtype: object"
      ]
     },
     "execution_count": 67,
     "metadata": {},
     "output_type": "execute_result"
    }
   ],
   "source": [
    "df['strat']"
   ]
  },
  {
   "cell_type": "code",
   "execution_count": 63,
   "metadata": {
    "id": "a80e0bdc-cfc0-4403-9e11-10e912809d5a"
   },
   "outputs": [
    {
     "data": {
      "text/plain": [
       "array([[0, nan, 5, ..., nan, 6.36, 1.272],\n",
       "       [0, nan, 9, ..., nan, 4.756098000000001, 0.5284553329999999],\n",
       "       [0, nan, 4, ..., nan, 8.164835, 2.04120875],\n",
       "       ...,\n",
       "       [0, nan, 4, ..., nan, 6.005976, 1.501494],\n",
       "       [0, nan, 2, ..., nan, 8.164835, 4.0824175],\n",
       "       [0, nan, 6, ..., nan, 13.70354, 2.283923333]], dtype=object)"
      ]
     },
     "execution_count": 63,
     "metadata": {},
     "output_type": "execute_result"
    }
   ],
   "source": [
    "X"
   ]
  },
  {
   "cell_type": "code",
   "execution_count": 69,
   "metadata": {
    "id": "778102a2-cf7f-4833-9679-f818448b441e"
   },
   "outputs": [],
   "source": [
    "from sklearn.model_selection import train_test_split\n",
    "\n",
    "## https://scikit-learn.org/stable/modules/generated/sklearn.model_selection.train_test_split.html\n",
    "\n",
    "X = df_rev.drop(['pred_FIRST'], axis=1).values\n",
    "y = df_rev['pred_FIRST'].values\n",
    "\n",
    "train, test = train_test_split(df, test_size=0.3,stratify=df[['strat']], random_state=121)\n"
   ]
  },
  {
   "cell_type": "code",
   "execution_count": 85,
   "metadata": {
    "id": "955e2361-87c6-4d54-9bfb-fd2c68a19d4f"
   },
   "outputs": [
    {
     "data": {
      "text/html": [
       "<div>\n",
       "<style scoped>\n",
       "    .dataframe tbody tr th:only-of-type {\n",
       "        vertical-align: middle;\n",
       "    }\n",
       "\n",
       "    .dataframe tbody tr th {\n",
       "        vertical-align: top;\n",
       "    }\n",
       "\n",
       "    .dataframe thead th {\n",
       "        text-align: right;\n",
       "    }\n",
       "</style>\n",
       "<table border=\"1\" class=\"dataframe\">\n",
       "  <thead>\n",
       "    <tr style=\"text-align: right;\">\n",
       "      <th></th>\n",
       "      <th>HALF</th>\n",
       "      <th>DOWNNUM</th>\n",
       "      <th>YARDSTOGO</th>\n",
       "      <th>SCOREDIFF</th>\n",
       "      <th>TIMELEFT</th>\n",
       "      <th>DOWNNAME</th>\n",
       "      <th>TRUEFIELD</th>\n",
       "      <th>YARDSGAINED_Mean</th>\n",
       "      <th>AVG_OVER_TOGO</th>\n",
       "      <th>PLAYIDSTR</th>\n",
       "      <th>...</th>\n",
       "      <th>CONCEPT_8</th>\n",
       "      <th>CONCEPT_9</th>\n",
       "      <th>pred_TD</th>\n",
       "      <th>prob_TD_NO</th>\n",
       "      <th>prob_TD_YES</th>\n",
       "      <th>pred_FIRST</th>\n",
       "      <th>prob_FIRST_NO</th>\n",
       "      <th>prob_FIRST_YES</th>\n",
       "      <th>probBIN</th>\n",
       "      <th>strat</th>\n",
       "    </tr>\n",
       "  </thead>\n",
       "  <tbody>\n",
       "    <tr>\n",
       "      <th>4892</th>\n",
       "      <td>0</td>\n",
       "      <td>0</td>\n",
       "      <td>7</td>\n",
       "      <td>0</td>\n",
       "      <td>840</td>\n",
       "      <td>1st</td>\n",
       "      <td>25</td>\n",
       "      <td>4.756098</td>\n",
       "      <td>0.679443</td>\n",
       "      <td>100000052</td>\n",
       "      <td>...</td>\n",
       "      <td>5</td>\n",
       "      <td>2</td>\n",
       "      <td>N</td>\n",
       "      <td>0.999617</td>\n",
       "      <td>0.000383</td>\n",
       "      <td>N</td>\n",
       "      <td>0.531507</td>\n",
       "      <td>0.468493</td>\n",
       "      <td>(0.397, 0.511]</td>\n",
       "      <td>N(0.397, 0.511]</td>\n",
       "    </tr>\n",
       "    <tr>\n",
       "      <th>3410</th>\n",
       "      <td>0</td>\n",
       "      <td>0</td>\n",
       "      <td>10</td>\n",
       "      <td>0</td>\n",
       "      <td>840</td>\n",
       "      <td>1st</td>\n",
       "      <td>45</td>\n",
       "      <td>4.756098</td>\n",
       "      <td>0.475610</td>\n",
       "      <td>100000054</td>\n",
       "      <td>...</td>\n",
       "      <td>5</td>\n",
       "      <td>4</td>\n",
       "      <td>N</td>\n",
       "      <td>1.000000</td>\n",
       "      <td>0.000000</td>\n",
       "      <td>N</td>\n",
       "      <td>0.714801</td>\n",
       "      <td>0.285199</td>\n",
       "      <td>(0.132, 0.397]</td>\n",
       "      <td>N(0.132, 0.397]</td>\n",
       "    </tr>\n",
       "    <tr>\n",
       "      <th>6401</th>\n",
       "      <td>0</td>\n",
       "      <td>2</td>\n",
       "      <td>7</td>\n",
       "      <td>-7</td>\n",
       "      <td>90</td>\n",
       "      <td>3rd</td>\n",
       "      <td>25</td>\n",
       "      <td>5.277778</td>\n",
       "      <td>0.753968</td>\n",
       "      <td>100000011</td>\n",
       "      <td>...</td>\n",
       "      <td>1</td>\n",
       "      <td>1</td>\n",
       "      <td>N</td>\n",
       "      <td>0.993548</td>\n",
       "      <td>0.006452</td>\n",
       "      <td>Y</td>\n",
       "      <td>0.434168</td>\n",
       "      <td>0.565832</td>\n",
       "      <td>(0.511, 0.605]</td>\n",
       "      <td>Y(0.511, 0.605]</td>\n",
       "    </tr>\n",
       "    <tr>\n",
       "      <th>5445</th>\n",
       "      <td>0</td>\n",
       "      <td>0</td>\n",
       "      <td>11</td>\n",
       "      <td>0</td>\n",
       "      <td>30</td>\n",
       "      <td>1st</td>\n",
       "      <td>35</td>\n",
       "      <td>6.005976</td>\n",
       "      <td>0.545998</td>\n",
       "      <td>100000034</td>\n",
       "      <td>...</td>\n",
       "      <td>3</td>\n",
       "      <td>4</td>\n",
       "      <td>N</td>\n",
       "      <td>0.981831</td>\n",
       "      <td>0.018169</td>\n",
       "      <td>N</td>\n",
       "      <td>0.784596</td>\n",
       "      <td>0.215404</td>\n",
       "      <td>(0.132, 0.397]</td>\n",
       "      <td>N(0.132, 0.397]</td>\n",
       "    </tr>\n",
       "    <tr>\n",
       "      <th>9790</th>\n",
       "      <td>0</td>\n",
       "      <td>2</td>\n",
       "      <td>7</td>\n",
       "      <td>7</td>\n",
       "      <td>60</td>\n",
       "      <td>3rd</td>\n",
       "      <td>35</td>\n",
       "      <td>6.360000</td>\n",
       "      <td>0.908571</td>\n",
       "      <td>100000020</td>\n",
       "      <td>...</td>\n",
       "      <td>2</td>\n",
       "      <td>0</td>\n",
       "      <td>N</td>\n",
       "      <td>0.999953</td>\n",
       "      <td>0.000047</td>\n",
       "      <td>Y</td>\n",
       "      <td>0.456911</td>\n",
       "      <td>0.543089</td>\n",
       "      <td>(0.511, 0.605]</td>\n",
       "      <td>Y(0.511, 0.605]</td>\n",
       "    </tr>\n",
       "    <tr>\n",
       "      <th>...</th>\n",
       "      <td>...</td>\n",
       "      <td>...</td>\n",
       "      <td>...</td>\n",
       "      <td>...</td>\n",
       "      <td>...</td>\n",
       "      <td>...</td>\n",
       "      <td>...</td>\n",
       "      <td>...</td>\n",
       "      <td>...</td>\n",
       "      <td>...</td>\n",
       "      <td>...</td>\n",
       "      <td>...</td>\n",
       "      <td>...</td>\n",
       "      <td>...</td>\n",
       "      <td>...</td>\n",
       "      <td>...</td>\n",
       "      <td>...</td>\n",
       "      <td>...</td>\n",
       "      <td>...</td>\n",
       "      <td>...</td>\n",
       "      <td>...</td>\n",
       "    </tr>\n",
       "    <tr>\n",
       "      <th>3940</th>\n",
       "      <td>0</td>\n",
       "      <td>2</td>\n",
       "      <td>1</td>\n",
       "      <td>7</td>\n",
       "      <td>180</td>\n",
       "      <td>3rd</td>\n",
       "      <td>35</td>\n",
       "      <td>10.717391</td>\n",
       "      <td>10.717391</td>\n",
       "      <td>200000070</td>\n",
       "      <td>...</td>\n",
       "      <td>7</td>\n",
       "      <td>0</td>\n",
       "      <td>N</td>\n",
       "      <td>0.999679</td>\n",
       "      <td>0.000321</td>\n",
       "      <td>Y</td>\n",
       "      <td>0.169110</td>\n",
       "      <td>0.830890</td>\n",
       "      <td>(0.686, 0.899]</td>\n",
       "      <td>Y(0.686, 0.899]</td>\n",
       "    </tr>\n",
       "    <tr>\n",
       "      <th>6485</th>\n",
       "      <td>0</td>\n",
       "      <td>2</td>\n",
       "      <td>7</td>\n",
       "      <td>-7</td>\n",
       "      <td>300</td>\n",
       "      <td>3rd</td>\n",
       "      <td>45</td>\n",
       "      <td>3.777778</td>\n",
       "      <td>0.539683</td>\n",
       "      <td>100000022</td>\n",
       "      <td>...</td>\n",
       "      <td>2</td>\n",
       "      <td>2</td>\n",
       "      <td>N</td>\n",
       "      <td>0.999970</td>\n",
       "      <td>0.000030</td>\n",
       "      <td>Y</td>\n",
       "      <td>0.279287</td>\n",
       "      <td>0.720713</td>\n",
       "      <td>(0.686, 0.899]</td>\n",
       "      <td>Y(0.686, 0.899]</td>\n",
       "    </tr>\n",
       "    <tr>\n",
       "      <th>5964</th>\n",
       "      <td>0</td>\n",
       "      <td>0</td>\n",
       "      <td>4</td>\n",
       "      <td>0</td>\n",
       "      <td>1050</td>\n",
       "      <td>1st</td>\n",
       "      <td>5</td>\n",
       "      <td>13.196296</td>\n",
       "      <td>3.299074</td>\n",
       "      <td>200000065</td>\n",
       "      <td>...</td>\n",
       "      <td>6</td>\n",
       "      <td>5</td>\n",
       "      <td>N</td>\n",
       "      <td>0.919422</td>\n",
       "      <td>0.080578</td>\n",
       "      <td>Y</td>\n",
       "      <td>0.488917</td>\n",
       "      <td>0.511083</td>\n",
       "      <td>(0.511, 0.605]</td>\n",
       "      <td>Y(0.511, 0.605]</td>\n",
       "    </tr>\n",
       "    <tr>\n",
       "      <th>9214</th>\n",
       "      <td>0</td>\n",
       "      <td>0</td>\n",
       "      <td>7</td>\n",
       "      <td>-7</td>\n",
       "      <td>720</td>\n",
       "      <td>1st</td>\n",
       "      <td>45</td>\n",
       "      <td>4.756098</td>\n",
       "      <td>0.679443</td>\n",
       "      <td>100000055</td>\n",
       "      <td>...</td>\n",
       "      <td>5</td>\n",
       "      <td>5</td>\n",
       "      <td>N</td>\n",
       "      <td>0.993883</td>\n",
       "      <td>0.006117</td>\n",
       "      <td>N</td>\n",
       "      <td>0.538989</td>\n",
       "      <td>0.461011</td>\n",
       "      <td>(0.397, 0.511]</td>\n",
       "      <td>N(0.397, 0.511]</td>\n",
       "    </tr>\n",
       "    <tr>\n",
       "      <th>6657</th>\n",
       "      <td>0</td>\n",
       "      <td>0</td>\n",
       "      <td>11</td>\n",
       "      <td>-7</td>\n",
       "      <td>90</td>\n",
       "      <td>1st</td>\n",
       "      <td>45</td>\n",
       "      <td>12.420000</td>\n",
       "      <td>1.129091</td>\n",
       "      <td>200000081</td>\n",
       "      <td>...</td>\n",
       "      <td>8</td>\n",
       "      <td>1</td>\n",
       "      <td>N</td>\n",
       "      <td>0.998893</td>\n",
       "      <td>0.001107</td>\n",
       "      <td>N</td>\n",
       "      <td>0.718536</td>\n",
       "      <td>0.281464</td>\n",
       "      <td>(0.132, 0.397]</td>\n",
       "      <td>N(0.132, 0.397]</td>\n",
       "    </tr>\n",
       "  </tbody>\n",
       "</table>\n",
       "<p>7000 rows × 21 columns</p>\n",
       "</div>"
      ],
      "text/plain": [
       "      HALF  DOWNNUM  YARDSTOGO  SCOREDIFF  TIMELEFT DOWNNAME  TRUEFIELD  \\\n",
       "4892     0        0          7          0       840      1st         25   \n",
       "3410     0        0         10          0       840      1st         45   \n",
       "6401     0        2          7         -7        90      3rd         25   \n",
       "5445     0        0         11          0        30      1st         35   \n",
       "9790     0        2          7          7        60      3rd         35   \n",
       "...    ...      ...        ...        ...       ...      ...        ...   \n",
       "3940     0        2          1          7       180      3rd         35   \n",
       "6485     0        2          7         -7       300      3rd         45   \n",
       "5964     0        0          4          0      1050      1st          5   \n",
       "9214     0        0          7         -7       720      1st         45   \n",
       "6657     0        0         11         -7        90      1st         45   \n",
       "\n",
       "      YARDSGAINED_Mean  AVG_OVER_TOGO  PLAYIDSTR  ... CONCEPT_8  CONCEPT_9  \\\n",
       "4892          4.756098       0.679443  100000052  ...         5          2   \n",
       "3410          4.756098       0.475610  100000054  ...         5          4   \n",
       "6401          5.277778       0.753968  100000011  ...         1          1   \n",
       "5445          6.005976       0.545998  100000034  ...         3          4   \n",
       "9790          6.360000       0.908571  100000020  ...         2          0   \n",
       "...                ...            ...        ...  ...       ...        ...   \n",
       "3940         10.717391      10.717391  200000070  ...         7          0   \n",
       "6485          3.777778       0.539683  100000022  ...         2          2   \n",
       "5964         13.196296       3.299074  200000065  ...         6          5   \n",
       "9214          4.756098       0.679443  100000055  ...         5          5   \n",
       "6657         12.420000       1.129091  200000081  ...         8          1   \n",
       "\n",
       "      pred_TD prob_TD_NO  prob_TD_YES  pred_FIRST prob_FIRST_NO  \\\n",
       "4892        N   0.999617     0.000383           N      0.531507   \n",
       "3410        N   1.000000     0.000000           N      0.714801   \n",
       "6401        N   0.993548     0.006452           Y      0.434168   \n",
       "5445        N   0.981831     0.018169           N      0.784596   \n",
       "9790        N   0.999953     0.000047           Y      0.456911   \n",
       "...       ...        ...          ...         ...           ...   \n",
       "3940        N   0.999679     0.000321           Y      0.169110   \n",
       "6485        N   0.999970     0.000030           Y      0.279287   \n",
       "5964        N   0.919422     0.080578           Y      0.488917   \n",
       "9214        N   0.993883     0.006117           N      0.538989   \n",
       "6657        N   0.998893     0.001107           N      0.718536   \n",
       "\n",
       "      prob_FIRST_YES         probBIN            strat  \n",
       "4892        0.468493  (0.397, 0.511]  N(0.397, 0.511]  \n",
       "3410        0.285199  (0.132, 0.397]  N(0.132, 0.397]  \n",
       "6401        0.565832  (0.511, 0.605]  Y(0.511, 0.605]  \n",
       "5445        0.215404  (0.132, 0.397]  N(0.132, 0.397]  \n",
       "9790        0.543089  (0.511, 0.605]  Y(0.511, 0.605]  \n",
       "...              ...             ...              ...  \n",
       "3940        0.830890  (0.686, 0.899]  Y(0.686, 0.899]  \n",
       "6485        0.720713  (0.686, 0.899]  Y(0.686, 0.899]  \n",
       "5964        0.511083  (0.511, 0.605]  Y(0.511, 0.605]  \n",
       "9214        0.461011  (0.397, 0.511]  N(0.397, 0.511]  \n",
       "6657        0.281464  (0.132, 0.397]  N(0.132, 0.397]  \n",
       "\n",
       "[7000 rows x 21 columns]"
      ]
     },
     "execution_count": 85,
     "metadata": {},
     "output_type": "execute_result"
    }
   ],
   "source": [
    "train"
   ]
  },
  {
   "cell_type": "code",
   "execution_count": 29,
   "metadata": {
    "id": "3a63e50b-45a7-4593-9380-7a5410284c2d"
   },
   "outputs": [
    {
     "name": "stdout",
     "output_type": "stream",
     "text": [
      "[[0 nan 9 ... nan 12.42 1.38]\n",
      " [0 nan 8 ... nan 10.824561 1.353070125]\n",
      " [0 nan 6 ... nan 3.166667 0.5277778329999999]\n",
      " ...\n",
      " [0 nan 8 ... nan 10.824561 1.353070125]\n",
      " [0 nan 3 ... nan 4.5 1.5]\n",
      " [0 nan 5 ... nan 3.166667 0.6333333999999999]]\n"
     ]
    }
   ],
   "source": [
    "print(train_X)"
   ]
  },
  {
   "cell_type": "code",
   "execution_count": 26,
   "metadata": {
    "id": "416d2ccb-1b6d-4ea6-bc9c-96ae9d2cffba"
   },
   "outputs": [
    {
     "data": {
      "text/plain": [
       "(7000, 12)"
      ]
     },
     "execution_count": 26,
     "metadata": {},
     "output_type": "execute_result"
    }
   ],
   "source": [
    "train_X.shape"
   ]
  },
  {
   "cell_type": "code",
   "execution_count": 30,
   "metadata": {
    "id": "b45cd71e-0302-4ce9-9f87-4d9b9dce1f30"
   },
   "outputs": [
    {
     "data": {
      "text/plain": [
       "array(['N', 'N', 'Y', ..., 'N', 'Y', 'Y'], dtype=object)"
      ]
     },
     "execution_count": 30,
     "metadata": {},
     "output_type": "execute_result"
    }
   ],
   "source": [
    "train_y"
   ]
  },
  {
   "cell_type": "code",
   "execution_count": 32,
   "metadata": {
    "id": "a25c9101-ae35-4e80-80ea-74d8914a2112"
   },
   "outputs": [],
   "source": [
    "df_y = pd.DataFrame(train_y, columns = ['Train_Y'])"
   ]
  },
  {
   "cell_type": "code",
   "execution_count": 35,
   "metadata": {
    "id": "cbaca9cd-6001-41ed-9d08-1a426c3dd04e"
   },
   "outputs": [],
   "source": [
    "df_test_y = pd.DataFrame(test_y, columns = ['Test_Y'])"
   ]
  },
  {
   "cell_type": "code",
   "execution_count": 34,
   "metadata": {
    "id": "ba4fc7c9-e268-47d7-96e1-16b4ee828a53"
   },
   "outputs": [
    {
     "data": {
      "text/plain": [
       "Y    4368\n",
       "N    2632\n",
       "Name: Train_Y, dtype: int64"
      ]
     },
     "execution_count": 34,
     "metadata": {},
     "output_type": "execute_result"
    }
   ],
   "source": [
    "df_y.Train_Y.value_counts()"
   ]
  },
  {
   "cell_type": "code",
   "execution_count": 42,
   "metadata": {
    "id": "3bc683a2-3a4b-493e-9417-b0c799f620cc"
   },
   "outputs": [
    {
     "data": {
      "text/plain": [
       "Y    0.624\n",
       "N    0.376\n",
       "Name: Train_Y, dtype: float64"
      ]
     },
     "execution_count": 42,
     "metadata": {},
     "output_type": "execute_result"
    }
   ],
   "source": [
    "df_y.Train_Y.value_counts('Y')"
   ]
  },
  {
   "cell_type": "code",
   "execution_count": 43,
   "metadata": {
    "id": "ab9c92f1-fb01-4b97-bfeb-1fc325e58637"
   },
   "outputs": [
    {
     "data": {
      "text/plain": [
       "Y    0.624\n",
       "N    0.376\n",
       "Name: Test_Y, dtype: float64"
      ]
     },
     "execution_count": 43,
     "metadata": {},
     "output_type": "execute_result"
    }
   ],
   "source": [
    "df_test_y.Test_Y.value_counts('Y')"
   ]
  },
  {
   "cell_type": "code",
   "execution_count": 181,
   "metadata": {
    "id": "6215a3ed-e670-4fb4-b5b9-999b40d6f638"
   },
   "outputs": [],
   "source": [
    "df['probBIN'] = pd.qcut(df.prob_FIRST_YES, 5)"
   ]
  },
  {
   "cell_type": "code",
   "execution_count": 182,
   "metadata": {
    "id": "83be526c-402d-4e52-8ccb-77bc4d97d236"
   },
   "outputs": [
    {
     "data": {
      "text/plain": [
       "(0.132, 0.397]    2001\n",
       "(0.686, 0.899]    2000\n",
       "(0.605, 0.686]    2000\n",
       "(0.511, 0.605]    2000\n",
       "(0.397, 0.511]    1999\n",
       "Name: probBIN, dtype: int64"
      ]
     },
     "execution_count": 182,
     "metadata": {},
     "output_type": "execute_result"
    }
   ],
   "source": [
    "df.probBIN.value_counts()"
   ]
  },
  {
   "cell_type": "code",
   "execution_count": 163,
   "metadata": {
    "id": "c814e5c3-8698-4839-83c4-e7c1a950406c"
   },
   "outputs": [
    {
     "data": {
      "text/html": [
       "<div>\n",
       "<style scoped>\n",
       "    .dataframe tbody tr th:only-of-type {\n",
       "        vertical-align: middle;\n",
       "    }\n",
       "\n",
       "    .dataframe tbody tr th {\n",
       "        vertical-align: top;\n",
       "    }\n",
       "\n",
       "    .dataframe thead th {\n",
       "        text-align: right;\n",
       "    }\n",
       "</style>\n",
       "<table border=\"1\" class=\"dataframe\">\n",
       "  <thead>\n",
       "    <tr style=\"text-align: right;\">\n",
       "      <th></th>\n",
       "      <th>HALF</th>\n",
       "      <th>DOWN</th>\n",
       "      <th>YARDSTOGO</th>\n",
       "      <th>SCOREDIFF</th>\n",
       "      <th>TIMELEFT</th>\n",
       "      <th>DOWN_STRING</th>\n",
       "      <th>RUN_PASS</th>\n",
       "      <th>CONCEPT_8</th>\n",
       "      <th>CONCEPT_9</th>\n",
       "      <th>YARDLINE</th>\n",
       "      <th>YARDSGAINED_Mean</th>\n",
       "      <th>AVG_OVER_TOGO</th>\n",
       "      <th>prob_FIRST_YES</th>\n",
       "      <th>TARGET</th>\n",
       "      <th>probBIN</th>\n",
       "    </tr>\n",
       "  </thead>\n",
       "  <tbody>\n",
       "    <tr>\n",
       "      <th>0</th>\n",
       "      <td>0</td>\n",
       "      <td>NaN</td>\n",
       "      <td>5</td>\n",
       "      <td>0</td>\n",
       "      <td>480</td>\n",
       "      <td>NaN</td>\n",
       "      <td>RUN</td>\n",
       "      <td>2</td>\n",
       "      <td>0</td>\n",
       "      <td>NaN</td>\n",
       "      <td>6.360000</td>\n",
       "      <td>1.272000</td>\n",
       "      <td>0.437594</td>\n",
       "      <td>N</td>\n",
       "      <td>(0.397, 0.511]</td>\n",
       "    </tr>\n",
       "    <tr>\n",
       "      <th>1</th>\n",
       "      <td>0</td>\n",
       "      <td>NaN</td>\n",
       "      <td>9</td>\n",
       "      <td>-7</td>\n",
       "      <td>1050</td>\n",
       "      <td>NaN</td>\n",
       "      <td>RUN</td>\n",
       "      <td>5</td>\n",
       "      <td>4</td>\n",
       "      <td>NaN</td>\n",
       "      <td>4.756098</td>\n",
       "      <td>0.528455</td>\n",
       "      <td>0.560704</td>\n",
       "      <td>Y</td>\n",
       "      <td>(0.511, 0.605]</td>\n",
       "    </tr>\n",
       "    <tr>\n",
       "      <th>2</th>\n",
       "      <td>0</td>\n",
       "      <td>NaN</td>\n",
       "      <td>4</td>\n",
       "      <td>7</td>\n",
       "      <td>600</td>\n",
       "      <td>NaN</td>\n",
       "      <td>PASS</td>\n",
       "      <td>4</td>\n",
       "      <td>9</td>\n",
       "      <td>NaN</td>\n",
       "      <td>8.164835</td>\n",
       "      <td>2.041209</td>\n",
       "      <td>0.608032</td>\n",
       "      <td>Y</td>\n",
       "      <td>(0.605, 0.686]</td>\n",
       "    </tr>\n",
       "    <tr>\n",
       "      <th>3</th>\n",
       "      <td>0</td>\n",
       "      <td>NaN</td>\n",
       "      <td>11</td>\n",
       "      <td>7</td>\n",
       "      <td>180</td>\n",
       "      <td>NaN</td>\n",
       "      <td>PASS</td>\n",
       "      <td>4</td>\n",
       "      <td>1</td>\n",
       "      <td>NaN</td>\n",
       "      <td>6.216667</td>\n",
       "      <td>0.565152</td>\n",
       "      <td>0.323197</td>\n",
       "      <td>N</td>\n",
       "      <td>(0.132, 0.397]</td>\n",
       "    </tr>\n",
       "    <tr>\n",
       "      <th>4</th>\n",
       "      <td>0</td>\n",
       "      <td>NaN</td>\n",
       "      <td>1</td>\n",
       "      <td>0</td>\n",
       "      <td>60</td>\n",
       "      <td>NaN</td>\n",
       "      <td>PASS</td>\n",
       "      <td>8</td>\n",
       "      <td>5</td>\n",
       "      <td>NaN</td>\n",
       "      <td>13.416667</td>\n",
       "      <td>13.416667</td>\n",
       "      <td>0.391505</td>\n",
       "      <td>N</td>\n",
       "      <td>(0.132, 0.397]</td>\n",
       "    </tr>\n",
       "  </tbody>\n",
       "</table>\n",
       "</div>"
      ],
      "text/plain": [
       "   HALF  DOWN  YARDSTOGO  SCOREDIFF  TIMELEFT  DOWN_STRING RUN_PASS  \\\n",
       "0     0   NaN          5          0       480          NaN      RUN   \n",
       "1     0   NaN          9         -7      1050          NaN      RUN   \n",
       "2     0   NaN          4          7       600          NaN     PASS   \n",
       "3     0   NaN         11          7       180          NaN     PASS   \n",
       "4     0   NaN          1          0        60          NaN     PASS   \n",
       "\n",
       "   CONCEPT_8  CONCEPT_9  YARDLINE  YARDSGAINED_Mean  AVG_OVER_TOGO  \\\n",
       "0          2          0       NaN          6.360000       1.272000   \n",
       "1          5          4       NaN          4.756098       0.528455   \n",
       "2          4          9       NaN          8.164835       2.041209   \n",
       "3          4          1       NaN          6.216667       0.565152   \n",
       "4          8          5       NaN         13.416667      13.416667   \n",
       "\n",
       "   prob_FIRST_YES TARGET         probBIN  \n",
       "0        0.437594      N  (0.397, 0.511]  \n",
       "1        0.560704      Y  (0.511, 0.605]  \n",
       "2        0.608032      Y  (0.605, 0.686]  \n",
       "3        0.323197      N  (0.132, 0.397]  \n",
       "4        0.391505      N  (0.132, 0.397]  "
      ]
     },
     "execution_count": 163,
     "metadata": {},
     "output_type": "execute_result"
    }
   ],
   "source": [
    "df.head()"
   ]
  },
  {
   "cell_type": "code",
   "execution_count": 103,
   "metadata": {
    "id": "dcfa3410-4d14-4cfa-a09d-9b0ec478e1fb"
   },
   "outputs": [],
   "source": [
    "##GGPLOT calls for the dataframe plus aesthetics (aes) which includes the x and y features to be plotted\n",
    "\n",
    "# ggplot(tmp.df, aes(roundedAge, badrate_by_age))+\n",
    "#       geom_point()+\n",
    "#       labs(\n",
    "#         x = \"Age (Rounded)\",\n",
    "#         y = \"Bad Rate\"\n",
    "#       )"
   ]
  },
  {
   "cell_type": "code",
   "execution_count": 164,
   "metadata": {
    "id": "f8830dc2-9ad3-4b2c-bc2c-63407718cbeb"
   },
   "outputs": [
    {
     "data": {
      "image/png": "[encoded data removed]",
      "text/plain": [
       "<Figure size 432x288 with 1 Axes>"
      ]
     },
     "metadata": {
      "needs_background": "light"
     },
     "output_type": "display_data"
    }
   ],
   "source": [
    "import seaborn as sns\n",
    "\n",
    "#sns.set_theme(style=\"whitegrid\")\n",
    "\n",
    "ax = sns.countplot(x=\"probBIN\", data=df)"
   ]
  },
  {
   "cell_type": "code",
   "execution_count": 167,
   "metadata": {
    "id": "06f7e472-0965-4a7c-a0fc-bdec724f2910"
   },
   "outputs": [
    {
     "data": {
      "text/plain": [
       "HALF                   int64\n",
       "DOWN                 float64\n",
       "YARDSTOGO              int64\n",
       "SCOREDIFF              int64\n",
       "TIMELEFT               int64\n",
       "DOWN_STRING          float64\n",
       "RUN_PASS              object\n",
       "CONCEPT_8              int64\n",
       "CONCEPT_9              int64\n",
       "YARDLINE             float64\n",
       "YARDSGAINED_Mean     float64\n",
       "AVG_OVER_TOGO        float64\n",
       "prob_FIRST_YES       float64\n",
       "TARGET                object\n",
       "probBIN             category\n",
       "dtype: object"
      ]
     },
     "execution_count": 167,
     "metadata": {},
     "output_type": "execute_result"
    }
   ],
   "source": [
    "df.dtypes"
   ]
  },
  {
   "cell_type": "code",
   "execution_count": 190,
   "metadata": {
    "id": "b4ff3fdd-8dcc-4ab3-a4cc-dbf104c2e109"
   },
   "outputs": [],
   "source": [
    "df_numeric = df.select_dtypes(include=[np.number])"
   ]
  },
  {
   "cell_type": "code",
   "execution_count": 191,
   "metadata": {
    "id": "b5ddda9f-c6d1-49d5-816c-0f714676c7ce"
   },
   "outputs": [
    {
     "data": {
      "text/html": [
       "<div>\n",
       "<style scoped>\n",
       "    .dataframe tbody tr th:only-of-type {\n",
       "        vertical-align: middle;\n",
       "    }\n",
       "\n",
       "    .dataframe tbody tr th {\n",
       "        vertical-align: top;\n",
       "    }\n",
       "\n",
       "    .dataframe thead th {\n",
       "        text-align: right;\n",
       "    }\n",
       "</style>\n",
       "<table border=\"1\" class=\"dataframe\">\n",
       "  <thead>\n",
       "    <tr style=\"text-align: right;\">\n",
       "      <th></th>\n",
       "      <th>HALF</th>\n",
       "      <th>DOWNNUM</th>\n",
       "      <th>YARDSTOGO</th>\n",
       "      <th>SCOREDIFF</th>\n",
       "      <th>TIMELEFT</th>\n",
       "      <th>TRUEFIELD</th>\n",
       "      <th>CONCEPT_8</th>\n",
       "      <th>CONCEPT_9</th>\n",
       "      <th>YARDSGAINED_Mean</th>\n",
       "      <th>AVG_OVER_TOGO</th>\n",
       "      <th>prob_FIRST_YES</th>\n",
       "    </tr>\n",
       "  </thead>\n",
       "  <tbody>\n",
       "    <tr>\n",
       "      <th>0</th>\n",
       "      <td>0</td>\n",
       "      <td>0</td>\n",
       "      <td>5</td>\n",
       "      <td>0</td>\n",
       "      <td>480</td>\n",
       "      <td>35</td>\n",
       "      <td>2</td>\n",
       "      <td>0</td>\n",
       "      <td>6.360000</td>\n",
       "      <td>1.272000</td>\n",
       "      <td>0.437594</td>\n",
       "    </tr>\n",
       "    <tr>\n",
       "      <th>1</th>\n",
       "      <td>0</td>\n",
       "      <td>0</td>\n",
       "      <td>9</td>\n",
       "      <td>-7</td>\n",
       "      <td>1050</td>\n",
       "      <td>45</td>\n",
       "      <td>5</td>\n",
       "      <td>4</td>\n",
       "      <td>4.756098</td>\n",
       "      <td>0.528455</td>\n",
       "      <td>0.560704</td>\n",
       "    </tr>\n",
       "    <tr>\n",
       "      <th>2</th>\n",
       "      <td>0</td>\n",
       "      <td>2</td>\n",
       "      <td>4</td>\n",
       "      <td>7</td>\n",
       "      <td>600</td>\n",
       "      <td>5</td>\n",
       "      <td>4</td>\n",
       "      <td>9</td>\n",
       "      <td>8.164835</td>\n",
       "      <td>2.041209</td>\n",
       "      <td>0.608032</td>\n",
       "    </tr>\n",
       "    <tr>\n",
       "      <th>3</th>\n",
       "      <td>0</td>\n",
       "      <td>0</td>\n",
       "      <td>11</td>\n",
       "      <td>7</td>\n",
       "      <td>180</td>\n",
       "      <td>45</td>\n",
       "      <td>4</td>\n",
       "      <td>1</td>\n",
       "      <td>6.216667</td>\n",
       "      <td>0.565152</td>\n",
       "      <td>0.323197</td>\n",
       "    </tr>\n",
       "    <tr>\n",
       "      <th>4</th>\n",
       "      <td>0</td>\n",
       "      <td>0</td>\n",
       "      <td>1</td>\n",
       "      <td>0</td>\n",
       "      <td>60</td>\n",
       "      <td>45</td>\n",
       "      <td>8</td>\n",
       "      <td>5</td>\n",
       "      <td>13.416667</td>\n",
       "      <td>13.416667</td>\n",
       "      <td>0.391505</td>\n",
       "    </tr>\n",
       "    <tr>\n",
       "      <th>...</th>\n",
       "      <td>...</td>\n",
       "      <td>...</td>\n",
       "      <td>...</td>\n",
       "      <td>...</td>\n",
       "      <td>...</td>\n",
       "      <td>...</td>\n",
       "      <td>...</td>\n",
       "      <td>...</td>\n",
       "      <td>...</td>\n",
       "      <td>...</td>\n",
       "      <td>...</td>\n",
       "    </tr>\n",
       "    <tr>\n",
       "      <th>9995</th>\n",
       "      <td>0</td>\n",
       "      <td>2</td>\n",
       "      <td>5</td>\n",
       "      <td>0</td>\n",
       "      <td>30</td>\n",
       "      <td>35</td>\n",
       "      <td>1</td>\n",
       "      <td>9</td>\n",
       "      <td>6.430769</td>\n",
       "      <td>1.286154</td>\n",
       "      <td>0.467382</td>\n",
       "    </tr>\n",
       "    <tr>\n",
       "      <th>9996</th>\n",
       "      <td>0</td>\n",
       "      <td>2</td>\n",
       "      <td>11</td>\n",
       "      <td>-7</td>\n",
       "      <td>1200</td>\n",
       "      <td>35</td>\n",
       "      <td>8</td>\n",
       "      <td>5</td>\n",
       "      <td>13.416667</td>\n",
       "      <td>1.219697</td>\n",
       "      <td>0.294593</td>\n",
       "    </tr>\n",
       "    <tr>\n",
       "      <th>9997</th>\n",
       "      <td>0</td>\n",
       "      <td>2</td>\n",
       "      <td>4</td>\n",
       "      <td>0</td>\n",
       "      <td>1050</td>\n",
       "      <td>25</td>\n",
       "      <td>3</td>\n",
       "      <td>3</td>\n",
       "      <td>6.005976</td>\n",
       "      <td>1.501494</td>\n",
       "      <td>0.612723</td>\n",
       "    </tr>\n",
       "    <tr>\n",
       "      <th>9998</th>\n",
       "      <td>0</td>\n",
       "      <td>2</td>\n",
       "      <td>2</td>\n",
       "      <td>7</td>\n",
       "      <td>900</td>\n",
       "      <td>5</td>\n",
       "      <td>4</td>\n",
       "      <td>9</td>\n",
       "      <td>8.164835</td>\n",
       "      <td>4.082418</td>\n",
       "      <td>0.603927</td>\n",
       "    </tr>\n",
       "    <tr>\n",
       "      <th>9999</th>\n",
       "      <td>0</td>\n",
       "      <td>2</td>\n",
       "      <td>6</td>\n",
       "      <td>7</td>\n",
       "      <td>900</td>\n",
       "      <td>35</td>\n",
       "      <td>6</td>\n",
       "      <td>9</td>\n",
       "      <td>13.703540</td>\n",
       "      <td>2.283923</td>\n",
       "      <td>0.668898</td>\n",
       "    </tr>\n",
       "  </tbody>\n",
       "</table>\n",
       "<p>10000 rows × 11 columns</p>\n",
       "</div>"
      ],
      "text/plain": [
       "      HALF  DOWNNUM  YARDSTOGO  SCOREDIFF  TIMELEFT  TRUEFIELD  CONCEPT_8  \\\n",
       "0        0        0          5          0       480         35          2   \n",
       "1        0        0          9         -7      1050         45          5   \n",
       "2        0        2          4          7       600          5          4   \n",
       "3        0        0         11          7       180         45          4   \n",
       "4        0        0          1          0        60         45          8   \n",
       "...    ...      ...        ...        ...       ...        ...        ...   \n",
       "9995     0        2          5          0        30         35          1   \n",
       "9996     0        2         11         -7      1200         35          8   \n",
       "9997     0        2          4          0      1050         25          3   \n",
       "9998     0        2          2          7       900          5          4   \n",
       "9999     0        2          6          7       900         35          6   \n",
       "\n",
       "      CONCEPT_9  YARDSGAINED_Mean  AVG_OVER_TOGO  prob_FIRST_YES  \n",
       "0             0          6.360000       1.272000        0.437594  \n",
       "1             4          4.756098       0.528455        0.560704  \n",
       "2             9          8.164835       2.041209        0.608032  \n",
       "3             1          6.216667       0.565152        0.323197  \n",
       "4             5         13.416667      13.416667        0.391505  \n",
       "...         ...               ...            ...             ...  \n",
       "9995          9          6.430769       1.286154        0.467382  \n",
       "9996          5         13.416667       1.219697        0.294593  \n",
       "9997          3          6.005976       1.501494        0.612723  \n",
       "9998          9          8.164835       4.082418        0.603927  \n",
       "9999          9         13.703540       2.283923        0.668898  \n",
       "\n",
       "[10000 rows x 11 columns]"
      ]
     },
     "execution_count": 191,
     "metadata": {},
     "output_type": "execute_result"
    }
   ],
   "source": [
    "df_numeric"
   ]
  },
  {
   "cell_type": "code",
   "execution_count": 192,
   "metadata": {
    "id": "acfc4d93-0fe0-4b66-a24c-09a7181116bc"
   },
   "outputs": [],
   "source": [
    "df_target = df.TARGET"
   ]
  },
  {
   "cell_type": "code",
   "execution_count": 193,
   "metadata": {
    "id": "c47b4f40-2b9f-4f43-86f1-8a29d65d21de"
   },
   "outputs": [
    {
     "data": {
      "text/plain": [
       "0       N\n",
       "1       Y\n",
       "2       Y\n",
       "3       N\n",
       "4       N\n",
       "       ..\n",
       "9995    N\n",
       "9996    N\n",
       "9997    Y\n",
       "9998    Y\n",
       "9999    Y\n",
       "Name: TARGET, Length: 10000, dtype: object"
      ]
     },
     "execution_count": 193,
     "metadata": {},
     "output_type": "execute_result"
    }
   ],
   "source": [
    "df_target"
   ]
  },
  {
   "cell_type": "code",
   "execution_count": 172,
   "metadata": {
    "id": "b5210c5f-878e-40fa-9e49-f3af9aa637da"
   },
   "outputs": [
    {
     "data": {
      "text/plain": [
       "Index(['HALF', 'DOWN', 'YARDSTOGO', 'SCOREDIFF', 'TIMELEFT', 'DOWN_STRING',\n",
       "       'CONCEPT_8', 'CONCEPT_9', 'YARDLINE', 'YARDSGAINED_Mean',\n",
       "       'AVG_OVER_TOGO', 'prob_FIRST_YES', 'probBIN'],\n",
       "      dtype='object')"
      ]
     },
     "execution_count": 172,
     "metadata": {},
     "output_type": "execute_result"
    }
   ],
   "source": [
    "df_numeric.columns"
   ]
  },
  {
   "cell_type": "code",
   "execution_count": 194,
   "metadata": {
    "id": "a88d3f9c-42b7-42e7-8b25-3cf23dbc1827"
   },
   "outputs": [],
   "source": [
    "from sklearn.model_selection import train_test_split\n",
    "\n",
    "## https://scikit-learn.org/stable/modules/generated/sklearn.model_selection.train_test_split.html\n",
    "\n",
    "X = df_numeric.values\n",
    "y = df['TARGET'].values\n",
    "\n",
    "train_X, test_X, train_y, test_y = train_test_split(X, y, test_size=0.3,stratify=y, random_state=121)\n"
   ]
  },
  {
   "cell_type": "code",
   "execution_count": 195,
   "metadata": {
    "id": "82822243-2673-4698-970b-9a1964bf3fc7"
   },
   "outputs": [
    {
     "data": {
      "text/plain": [
       "7000"
      ]
     },
     "execution_count": 195,
     "metadata": {},
     "output_type": "execute_result"
    }
   ],
   "source": [
    "len(train_X)"
   ]
  },
  {
   "cell_type": "code",
   "execution_count": 196,
   "metadata": {
    "id": "e61115ca-1849-48e6-926a-c9eb33d16c3b"
   },
   "outputs": [
    {
     "data": {
      "text/plain": [
       "array(['N', 'N', 'N', ..., 'Y', 'Y', 'N'], dtype=object)"
      ]
     },
     "execution_count": 196,
     "metadata": {},
     "output_type": "execute_result"
    }
   ],
   "source": [
    "test_y"
   ]
  },
  {
   "cell_type": "code",
   "execution_count": 202,
   "metadata": {
    "id": "cdf7da21-7273-4a71-b6f4-c581f9da14e0"
   },
   "outputs": [],
   "source": [
    "from sklearn import preprocessing\n",
    "\n",
    "scaler = preprocessing.StandardScaler().fit(train_X)\n",
    "scaler\n",
    "\n",
    "X_scaled = scaler.transform(train_X)"
   ]
  },
  {
   "cell_type": "code",
   "execution_count": 205,
   "metadata": {
    "id": "1ba8812d-a295-497a-a79a-9b40e8c1c715"
   },
   "outputs": [],
   "source": [
    "from sklearn.linear_model import LogisticRegression\n",
    "\n",
    "## https://scikit-learn.org/stable/modules/generated/sklearn.linear_model.LogisticRegression.html\n",
    "\n",
    "# instantiate the model (using the default parameters)\n",
    "logit = LogisticRegression()\n",
    "\n",
    "# fit the model with data\n",
    "model = logit.fit(X_scaled,train_y)"
   ]
  },
  {
   "cell_type": "code",
   "execution_count": 207,
   "metadata": {
    "id": "e5dc0b0e-7020-4ce1-ba75-668e0e1e8ffe"
   },
   "outputs": [
    {
     "data": {
      "text/plain": [
       "0.624"
      ]
     },
     "execution_count": 207,
     "metadata": {},
     "output_type": "execute_result"
    }
   ],
   "source": [
    "model.score(test_X, test_y)"
   ]
  },
  {
   "cell_type": "code",
   "execution_count": null,
   "metadata": {
    "id": "8e1c05d0-8f34-4507-8b54-5ae3d54ccb71"
   },
   "outputs": [],
   "source": []
  }
 ],
 "metadata": {
  "kernelspec": {
   "display_name": "Python 3.7",
   "language": "python",
   "name": "python3"
  },
  "language_info": {
   "codemirror_mode": {
    "name": "ipython",
    "version": 3
   },
   "file_extension": ".py",
   "mimetype": "text/x-python",
   "name": "python",
   "nbconvert_exporter": "python",
   "pygments_lexer": "ipython3",
   "version": "3.7.10"
  }
 },
 "nbformat": 4,
 "nbformat_minor": 4
}
