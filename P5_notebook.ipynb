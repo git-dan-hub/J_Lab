{
 "cells": [
  {
   "cell_type": "markdown",
   "metadata": {
    "id": "74b177a3-8c6a-4580-974a-e7596ba5631f"
   },
   "source": [
    "![image](https://github.com/IBM/watson-machine-learning-samples/raw/master/cloud/notebooks/headers/AutoAI-Banner_Pipeline-Notebook.png)\n",
    "# Pipeline 5 Notebook - AutoAI Notebook v1.15.3\n",
    "\n",
    "Consider these tips for working with an auto-generated notebook:\n",
    "- Notebook code generated using AutoAI will execute successfully. If you modify the notebook, we cannot guarantee it will run successfully.\n",
    "- This pipeline is optimized for the original data set. The pipeline might fail or produce sub-optimum results if used with different data.  If you want to use a different data set, consider retraining the AutoAI experiment to generate a new pipeline. For more information, see <a href=\"https://www.ibm.com/support/producthub/icpdata/docs/content/SSQNUZ_latest/wsj/analyze-data/autoai-notebook.html\">Cloud Pak for Data</a>. \n",
    "- Before modifying the pipeline or trying to re-fit the pipeline, consider that the code converts dataframes to numpy arrays before fitting the pipeline (a current restriction of the preprocessor pipeline).\n"
   ]
  },
  {
   "cell_type": "markdown",
   "metadata": {
    "id": "24b3b2a3-400f-43c0-90a3-8cedc2ea5f1b"
   },
   "source": [
    "<a id=\"content\"></a>\n",
    "## Notebook content\n",
    "\n",
    "This notebook contains a Scikit-learn representation of AutoAI pipeline. This notebook introduces commands for getting data, training the model, and testing the model. \n",
    "\n",
    "Some familiarity with Python is helpful. This notebook uses Python 3.8 and scikit-learn 0.23.2."
   ]
  },
  {
   "cell_type": "markdown",
   "metadata": {
    "id": "bd89d086-7cc6-4428-a4df-438cb03486b8",
    "pycharm": {
     "name": "#%% md\n"
    }
   },
   "source": [
    "## Notebook goals\n",
    "\n",
    "-  Scikit-learn pipeline definition\n",
    "-  Pipeline training \n",
    "-  Pipeline evaluation\n",
    "\n",
    "## Contents\n",
    "\n",
    "This notebook contains the following parts:\n",
    "\n",
    "**[Setup](#setup)**<br>\n",
    "&nbsp;&nbsp;[Package installation](#install)<br>\n",
    "&nbsp;&nbsp;[AutoAI experiment metadata](#variables_definition)<br>\n",
    "&nbsp;&nbsp;[Watson Machine Learning connection](#connection)<br>\n",
    "**[Pipeline inspection](#inspection)** <br>\n",
    "&nbsp;&nbsp;[Read training data](#read)<br>\n",
    "&nbsp;&nbsp;[Train and test data split](#split)<br>\n",
    "&nbsp;&nbsp;[Make pipeline](#preview_model_to_python_code)<br>\n",
    "&nbsp;&nbsp;[Train pipeline model](#train)<br>\n",
    "&nbsp;&nbsp;[Test pipeline model](#test_model)<br>\n",
    "**[Next steps](#next_steps)**<br>\n",
    "**[Copyrights](#copyrights)**"
   ]
  },
  {
   "cell_type": "markdown",
   "metadata": {
    "id": "cd6bd4ca-2f6e-44fc-ab15-16a9b12ff285"
   },
   "source": [
    "<a id=\"setup\"></a>\n",
    "# Setup"
   ]
  },
  {
   "cell_type": "markdown",
   "metadata": {
    "id": "61de06f6-8ffe-40d1-a318-c42389b77597"
   },
   "source": [
    "<a id=\"install\"></a>\n",
    "## Package installation\n",
    "Before you use the sample code in this notebook, install the following packages:\n",
    " - ibm_watson_machine_learning,\n",
    " - autoai-libs,\n",
    " - scikit-learn.\n"
   ]
  },
  {
   "cell_type": "code",
   "execution_count": null,
   "metadata": {
    "execution": {
     "iopub.execute_input": "2020-10-12T14:00:45.009458Z",
     "iopub.status.busy": "2020-10-12T14:00:45.007968Z",
     "iopub.status.idle": "2020-10-12T14:00:46.037702Z",
     "shell.execute_reply": "2020-10-12T14:00:46.038270Z"
    },
    "id": "66269501-18c4-43ec-b4b2-6887e7dc4d83",
    "pycharm": {
     "name": "#%%\n"
    },
    "scrolled": true
   },
   "outputs": [],
   "source": [
    "!pip install ibm-watson-machine-learning | tail -n 1\n",
    "!pip install -U autoai-libs==1.12.13 | tail -n 1\n",
    "!pip install -U scikit-learn==0.23.2 | tail -n 1"
   ]
  },
  {
   "cell_type": "markdown",
   "metadata": {
    "id": "e1a51173-c97a-448d-95e1-0246f3c22dd2"
   },
   "source": [
    "<a id=\"variables_definition\"></a>\n",
    "## AutoAI experiment metadata\n",
    "The following cell contains the training data connection details.  \n",
    "**Note**: The connection might contain authorization credentials, so be careful when sharing the notebook."
   ]
  },
  {
   "cell_type": "code",
   "execution_count": null,
   "metadata": {
    "execution": {
     "iopub.execute_input": "2020-10-12T14:00:49.797633Z",
     "iopub.status.busy": "2020-10-12T14:00:49.796778Z",
     "iopub.status.idle": "2020-10-12T14:00:57.182715Z",
     "shell.execute_reply": "2020-10-12T14:00:57.183132Z"
    },
    "id": "dac1b20e-70fd-4b16-9fb7-9a7a1add8e37",
    "pycharm": {
     "is_executing": true
    }
   },
   "outputs": [],
   "source": [
    "from ibm_watson_machine_learning.helpers import DataConnection\n",
    "from ibm_watson_machine_learning.helpers import FSLocation\n",
    "\n",
    "training_data_reference = [\n",
    "    DataConnection(\n",
    "        data_asset_id='4ea5abf4-f695-46d4-888c-6db25d5a7b2f'\n",
    "    ),\n",
    "]\n",
    "training_result_reference = DataConnection(\n",
    "    location=FSLocation(\n",
    "        path='/projects/44b8751c-098f-484b-8c66-ebf128cdd731/assets/auto_ml/bd8a8621-10e2-46f0-ad5a-3ffefafddf24/wml_data/b955d67e-d129-4931-9d8d-706442c24d98/data/automl'\n",
    "    )\n",
    ")"
   ]
  },
  {
   "cell_type": "markdown",
   "metadata": {
    "id": "697818a0-2944-4e6c-b95d-766e2ee459ff"
   },
   "source": [
    "Following cell contains input parameters provided to run the AutoAI experiment in Watson Studio."
   ]
  },
  {
   "cell_type": "code",
   "execution_count": null,
   "metadata": {
    "execution": {
     "iopub.execute_input": "2020-10-12T14:00:57.187305Z",
     "iopub.status.busy": "2020-10-12T14:00:57.186602Z",
     "iopub.status.idle": "2020-10-12T14:00:57.188392Z",
     "shell.execute_reply": "2020-10-12T14:00:57.188878Z"
    },
    "id": "d2add172-43ac-4dae-9350-fee469a0ab03",
    "pycharm": {
     "name": "#%%\n"
    }
   },
   "outputs": [],
   "source": [
    "experiment_metadata = dict(\n",
    "    prediction_type='binary',\n",
    "    prediction_column='pred_FIRST',\n",
    "    holdout_size=0.15,\n",
    "    scoring='roc_auc',\n",
    "    csv_separator=',',\n",
    "    random_state=33,\n",
    "    max_number_of_estimators=2,\n",
    "    training_data_reference=training_data_reference,\n",
    "    training_result_reference=training_result_reference,\n",
    "    include_only_estimators=['LogisticRegression', 'RandomForestClassifier', 'DecisionTreeClassifier', 'GradientBoostingClassifier'],\n",
    "    project_id='44b8751c-098f-484b-8c66-ebf128cdd731',\n",
    "    train_sample_columns_index_list=[0, 1, 2, 3, 4, 5, 6, 7, 8, 9, 10, 11, 12],\n",
    "    positive_label='Y',\n",
    "    drop_duplicates=True\n",
    ")"
   ]
  },
  {
   "cell_type": "markdown",
   "metadata": {
    "id": "0040b15f-6fe4-4882-850b-2763787b0851"
   },
   "source": [
    "## Set `n_jobs` parameter to the number of available CPUs"
   ]
  },
  {
   "cell_type": "code",
   "execution_count": null,
   "metadata": {
    "id": "95cabb26-7415-40e9-a958-c7dd7efd858d"
   },
   "outputs": [],
   "source": [
    "import os, ast\n",
    "CPU_NUMBER = 1\n",
    "if 'RUNTIME_HARDWARE_SPEC' in os.environ:\n",
    "    CPU_NUMBER = int(ast.literal_eval(os.environ['RUNTIME_HARDWARE_SPEC'])['num_cpu'])"
   ]
  },
  {
   "cell_type": "markdown",
   "metadata": {
    "id": "dbc0003e-1a16-430d-94a5-0256ca5f85b1"
   },
   "source": [
    "<a id=\"connection\"></a>\n",
    "## Watson Machine Learning connection\n",
    "\n",
    "This cell defines the credentials required to work with the Watson Machine Learning service."
   ]
  },
  {
   "cell_type": "code",
   "execution_count": null,
   "metadata": {
    "id": "7e9eaa91-3a78-4ce9-8712-277527283074",
    "pycharm": {
     "name": "#%%\n"
    }
   },
   "outputs": [],
   "source": [
    "import os\n",
    "\n",
    "wml_credentials = {\n",
    "    \"instance_id\": \"openshift\",\n",
    "    \"token\": os.environ.get(\"USER_ACCESS_TOKEN\"),\n",
    "    \"url\": os.environ.get(\"RUNTIME_ENV_APSX_URL\"),\n",
    "    \"version\": \"4.0\"\n",
    "}"
   ]
  },
  {
   "cell_type": "code",
   "execution_count": null,
   "metadata": {
    "id": "ff03510b-c69f-468b-8e3f-9d2ec11feb71",
    "pycharm": {
     "name": "#%%\n"
    }
   },
   "outputs": [],
   "source": [
    "from ibm_watson_machine_learning import APIClient\n",
    "\n",
    "wml_client = APIClient(wml_credentials)\n",
    "\n",
    "if 'space_id' in experiment_metadata:\n",
    "    wml_client.set.default_space(experiment_metadata['space_id'])\n",
    "else:\n",
    "    wml_client.set.default_project(experiment_metadata['project_id'])\n",
    "    \n",
    "training_data_reference[0]._wml_client = wml_client"
   ]
  },
  {
   "cell_type": "markdown",
   "metadata": {
    "id": "788b5821-d987-4245-873f-be09a2c835df"
   },
   "source": [
    "<a id=\"inspection\"></a>\n",
    "# Pipeline inspection"
   ]
  },
  {
   "cell_type": "markdown",
   "metadata": {
    "id": "8d753fa7-50ee-4180-9779-60173a11402d",
    "pycharm": {
     "name": "#%% md\n"
    }
   },
   "source": [
    "<a id=\"read\"></a>\n",
    "## Read training data\n",
    "\n",
    "Retrieve training dataset from AutoAI experiment as pandas DataFrame.  \n",
    "**Note**: If reading data using Flight Server for data connections results in an error, provide data as Pandas DataFrame object, for example, reading .CSV file with `pandas.read_csv()`"
   ]
  },
  {
   "cell_type": "code",
   "execution_count": null,
   "metadata": {
    "execution": {
     "iopub.execute_input": "2020-10-12T14:01:16.076169Z",
     "iopub.status.busy": "2020-10-12T14:01:16.075589Z",
     "iopub.status.idle": "2020-10-12T14:01:19.190233Z",
     "shell.execute_reply": "2020-10-12T14:01:19.190807Z"
    },
    "id": "2bf49efa-bdcc-46ee-975b-3016a43c2463",
    "pycharm": {
     "is_executing": true,
     "name": "#%%\n"
    }
   },
   "outputs": [],
   "source": [
    "df = training_data_reference[0].read(experiment_metadata=experiment_metadata)\n",
    "df.dropna('rows', how='any', subset=[experiment_metadata['prediction_column']], inplace=True)"
   ]
  },
  {
   "cell_type": "markdown",
   "metadata": {
    "id": "fe4cb00a-e9c8-49ef-bb0b-5daa1f4e0863"
   },
   "source": [
    "<a id=\"split\"></a>\n",
    "##  Train and test data split"
   ]
  },
  {
   "cell_type": "code",
   "execution_count": null,
   "metadata": {
    "id": "7525d491-6ade-441e-b3e6-052697e64678",
    "pycharm": {
     "is_executing": true
    }
   },
   "outputs": [],
   "source": [
    "from sklearn.model_selection import train_test_split\n",
    "\n",
    "df.drop_duplicates(inplace=True)\n",
    "X = df.drop([experiment_metadata['prediction_column']], axis=1).values\n",
    "y = df[experiment_metadata['prediction_column']].values\n",
    "\n",
    "train_X, test_X, train_y, test_y = train_test_split(X, y, test_size=experiment_metadata['holdout_size'],\n",
    "                                                    stratify=y, random_state=experiment_metadata['random_state'])"
   ]
  },
  {
   "cell_type": "markdown",
   "metadata": {
    "id": "35a633a7-d4b5-45cd-97bc-5c2d5d076252",
    "pycharm": {
     "name": "#%% md\n"
    }
   },
   "source": [
    "<a id=\"preview_model_to_python_code\"></a>\n",
    "## Make pipeline\n",
    "In the next cell, you can find the Scikit-learn definition of the selected AutoAI pipeline."
   ]
  },
  {
   "cell_type": "markdown",
   "metadata": {
    "id": "541f2f1b-f5a1-40be-9a26-cd8281fa30bb"
   },
   "source": [
    "#### Import statements."
   ]
  },
  {
   "cell_type": "code",
   "execution_count": null,
   "metadata": {
    "id": "66f3d298-ab3b-415d-9f61-46870dc49a31",
    "pycharm": {
     "is_executing": true,
     "name": "#%%\n"
    }
   },
   "outputs": [],
   "source": [
    "from autoai_libs.transformers.exportable import ColumnSelector\n",
    "from autoai_libs.transformers.exportable import NumpyColumnSelector\n",
    "from autoai_libs.transformers.exportable import CompressStrings\n",
    "from autoai_libs.transformers.exportable import NumpyReplaceMissingValues\n",
    "from autoai_libs.transformers.exportable import NumpyReplaceUnknownValues\n",
    "from autoai_libs.transformers.exportable import boolean2float\n",
    "from autoai_libs.transformers.exportable import CatImputer\n",
    "from autoai_libs.transformers.exportable import CatEncoder\n",
    "import numpy as np\n",
    "from autoai_libs.transformers.exportable import float32_transform\n",
    "from sklearn.pipeline import make_pipeline\n",
    "from autoai_libs.transformers.exportable import FloatStr2Float\n",
    "from autoai_libs.transformers.exportable import NumImputer\n",
    "from autoai_libs.transformers.exportable import OptStandardScaler\n",
    "from sklearn.pipeline import make_union\n",
    "from autoai_libs.transformers.exportable import NumpyPermuteArray\n",
    "from sklearn.linear_model import LogisticRegression"
   ]
  },
  {
   "cell_type": "markdown",
   "metadata": {
    "id": "de858fd5-f9de-4cfe-bb46-d34ac3da2fc7"
   },
   "source": [
    "#### Pre-processing & Estimator."
   ]
  },
  {
   "cell_type": "code",
   "execution_count": null,
   "metadata": {
    "id": "248afb53-ccb5-4c3c-bafb-3fa3dc888882",
    "pycharm": {
     "is_executing": true,
     "name": "#%%\n"
    }
   },
   "outputs": [],
   "source": [
    "column_selector_0 = ColumnSelector(\n",
    "    columns_indices_list=[1, 2, 3, 4, 5, 6, 7, 8, 9, 10, 11, 12]\n",
    ")\n",
    "numpy_column_selector_0 = NumpyColumnSelector(\n",
    "    columns=[0, 1, 2, 3, 4, 5, 8, 9, 10, 11]\n",
    ")\n",
    "compress_strings = CompressStrings(\n",
    "    compress_type=\"hash\",\n",
    "    dtypes_list=[\n",
    "        \"int_num\", \"int_num\", \"int_num\", \"int_num\", \"char_str\", \"int_num\",\n",
    "        \"int_num\", \"char_str\", \"int_num\", \"int_num\",\n",
    "    ],\n",
    "    missing_values_reference_list=[\"\", \"-\", \"?\", float(\"nan\")],\n",
    "    misslist_list=[[], [], [], [], [], [], [], [], [], []],\n",
    ")\n",
    "numpy_replace_missing_values_0 = NumpyReplaceMissingValues(\n",
    "    missing_values=[], filling_values=float(\"nan\")\n",
    ")\n",
    "numpy_replace_unknown_values = NumpyReplaceUnknownValues(\n",
    "    filling_values=float(\"nan\"),\n",
    "    filling_values_list=[\n",
    "        float(\"nan\"), float(\"nan\"), float(\"nan\"), float(\"nan\"), float(\"nan\"),\n",
    "        float(\"nan\"), float(\"nan\"), float(\"nan\"), float(\"nan\"), float(\"nan\"),\n",
    "    ],\n",
    "    missing_values_reference_list=[\"\", \"-\", \"?\", float(\"nan\")],\n",
    ")\n",
    "cat_imputer = CatImputer(\n",
    "    strategy=\"most_frequent\",\n",
    "    missing_values=float(\"nan\"),\n",
    "    sklearn_version_family=\"23\",\n",
    ")\n",
    "cat_encoder = CatEncoder(\n",
    "    encoding=\"ordinal\",\n",
    "    categories=\"auto\",\n",
    "    dtype=np.float64,\n",
    "    handle_unknown=\"error\",\n",
    "    sklearn_version_family=\"23\",\n",
    ")\n",
    "pipeline_0 = make_pipeline(\n",
    "    column_selector_0,\n",
    "    numpy_column_selector_0,\n",
    "    compress_strings,\n",
    "    numpy_replace_missing_values_0,\n",
    "    numpy_replace_unknown_values,\n",
    "    boolean2float(),\n",
    "    cat_imputer,\n",
    "    cat_encoder,\n",
    "    float32_transform(),\n",
    ")\n",
    "column_selector_1 = ColumnSelector(\n",
    "    columns_indices_list=[1, 2, 3, 4, 5, 6, 7, 8, 9, 10, 11, 12]\n",
    ")\n",
    "numpy_column_selector_1 = NumpyColumnSelector(columns=[6, 7])\n",
    "float_str2_float = FloatStr2Float(\n",
    "    dtypes_list=[\"float_num\", \"float_num\"], missing_values_reference_list=[]\n",
    ")\n",
    "numpy_replace_missing_values_1 = NumpyReplaceMissingValues(\n",
    "    missing_values=[], filling_values=float(\"nan\")\n",
    ")\n",
    "num_imputer = NumImputer(strategy=\"median\", missing_values=float(\"nan\"))\n",
    "opt_standard_scaler = OptStandardScaler(\n",
    "    num_scaler_copy=None,\n",
    "    num_scaler_with_mean=None,\n",
    "    num_scaler_with_std=None,\n",
    "    use_scaler_flag=False,\n",
    ")\n",
    "pipeline_1 = make_pipeline(\n",
    "    column_selector_1,\n",
    "    numpy_column_selector_1,\n",
    "    float_str2_float,\n",
    "    numpy_replace_missing_values_1,\n",
    "    num_imputer,\n",
    "    opt_standard_scaler,\n",
    "    float32_transform(),\n",
    ")\n",
    "union = make_union(pipeline_0, pipeline_1)\n",
    "numpy_permute_array = NumpyPermuteArray(\n",
    "    axis=0, permutation_indices=[0, 1, 2, 3, 4, 5, 8, 9, 10, 11, 6, 7]\n",
    ")\n",
    "logistic_regression = LogisticRegression(\n",
    "    class_weight=\"balanced\",\n",
    "    multi_class=\"ovr\",\n",
    "    n_jobs=CPU_NUMBER,\n",
    "    random_state=33,\n",
    "    solver=\"liblinear\",\n",
    ")\n"
   ]
  },
  {
   "cell_type": "markdown",
   "metadata": {
    "id": "b150829c-f6cf-4060-bd17-d24e3656ad75"
   },
   "source": [
    "#### Pipeline."
   ]
  },
  {
   "cell_type": "code",
   "execution_count": null,
   "metadata": {
    "id": "2520b70b-374c-40c7-9d61-96f35027e835",
    "pycharm": {
     "is_executing": true,
     "name": "#%%\n"
    }
   },
   "outputs": [],
   "source": [
    "pipeline = make_pipeline(union, numpy_permute_array, logistic_regression)"
   ]
  },
  {
   "cell_type": "markdown",
   "metadata": {
    "id": "287ca5ef-5f1c-44ad-a1db-ab05c81c60ef"
   },
   "source": [
    "<a id=\"train\"></a>\n",
    "## Train pipeline model\n"
   ]
  },
  {
   "cell_type": "markdown",
   "metadata": {
    "id": "603fa56a-c5eb-493f-b411-99f2e8410847"
   },
   "source": [
    "### Define scorer from the optimization metric\n",
    "This cell constructs the cell scorer based on the experiment metadata."
   ]
  },
  {
   "cell_type": "code",
   "execution_count": null,
   "metadata": {
    "id": "082780a3-3c30-4e35-9d1d-b6bbb653646d",
    "pycharm": {
     "is_executing": true
    }
   },
   "outputs": [],
   "source": [
    "from sklearn.metrics import get_scorer\n",
    "\n",
    "scorer = get_scorer(experiment_metadata['scoring'])"
   ]
  },
  {
   "cell_type": "markdown",
   "metadata": {
    "id": "47f5150b-72ed-488e-972f-bd98bc83ea94",
    "pycharm": {
     "name": "#%% md\n"
    }
   },
   "source": [
    "<a id=\"test_model\"></a>\n",
    "### Fit pipeline model\n",
    "In this cell, the pipeline is fitted."
   ]
  },
  {
   "cell_type": "code",
   "execution_count": null,
   "metadata": {
    "execution": {
     "iopub.execute_input": "2020-10-12T14:01:19.291734Z",
     "iopub.status.busy": "2020-10-12T14:01:19.244735Z",
     "iopub.status.idle": "2020-10-12T14:01:19.338461Z",
     "shell.execute_reply": "2020-10-12T14:01:19.338958Z"
    },
    "id": "f5fe8692-d908-4486-bd7e-dc1d7da441d9",
    "pycharm": {
     "is_executing": true,
     "name": "#%%\n"
    },
    "scrolled": true
   },
   "outputs": [],
   "source": [
    "pipeline.fit(train_X,train_y)"
   ]
  },
  {
   "cell_type": "markdown",
   "metadata": {
    "id": "7076fee3-40fa-43ad-adad-523e4da209f8"
   },
   "source": [
    "<a id=\"test_model\"></a>\n",
    "## Test pipeline model"
   ]
  },
  {
   "cell_type": "markdown",
   "metadata": {
    "id": "cb9b95c5-5612-4fae-841c-a2e593fc9374"
   },
   "source": [
    "Score the fitted pipeline with the generated scorer using the holdout dataset."
   ]
  },
  {
   "cell_type": "code",
   "execution_count": null,
   "metadata": {
    "execution": {
     "iopub.execute_input": "2020-10-12T14:02:03.910267Z",
     "iopub.status.busy": "2020-10-12T14:02:03.909710Z",
     "iopub.status.idle": "2020-10-12T14:02:03.914154Z",
     "shell.execute_reply": "2020-10-12T14:02:03.914727Z"
    },
    "id": "08e6c137-2ad0-40db-8339-17bd6210ba17",
    "pycharm": {
     "is_executing": true,
     "name": "#%%\n"
    }
   },
   "outputs": [],
   "source": [
    "score = scorer(pipeline, test_X, test_y)\n",
    "print(score)"
   ]
  },
  {
   "cell_type": "code",
   "execution_count": null,
   "metadata": {
    "id": "fae440dd-4e64-47c5-8472-b2016d36f28a"
   },
   "outputs": [],
   "source": [
    "pipeline.predict(test_X)"
   ]
  },
  {
   "cell_type": "markdown",
   "metadata": {
    "id": "70adb43b-3cb4-4eac-a0b0-6d63ef4416f3"
   },
   "source": [
    "<a id=\"next_steps\"></a>\n",
    "# Next steps\n",
    "\n",
    "#### [Model deployment as webservice](https://github.com/IBM/watson-machine-learning-samples/tree/master/cpd4.0/notebooks/python_sdk/deployments/autoai)\n",
    "#### [Run AutoAI experiment with python SDK](https://github.com/IBM/watson-machine-learning-samples/tree/master/cpd4.0/notebooks/python_sdk/experiments/autoai)"
   ]
  },
  {
   "cell_type": "markdown",
   "metadata": {
    "id": "d4d76df5-a099-4a5a-a0c0-50588af04479",
    "pycharm": {
     "name": "#%% md\n"
    }
   },
   "source": [
    "<a id=\"copyrights\"></a>\n",
    "### Copyrights\n",
    "\n",
    "Licensed Materials - Copyright © 2021 IBM. This notebook and its source code are released under the terms of the ILAN License. Use, duplication disclosure restricted by GSA ADP Schedule Contract with IBM Corp.\n",
    "\n",
    "**Note:** The auto-generated notebooks are subject to the International License Agreement for Non-Warranted Programs (or equivalent) and License Information document for Watson Studio Auto-generated Notebook (License Terms), such agreements located in the link below. Specifically, the Source Components and Sample Materials clause included in the License Information document for Watson Studio Auto-generated Notebook applies to the auto-generated notebooks.  \n",
    "\n",
    "By downloading, copying, accessing, or otherwise using the materials, you agree to the <a href=\"http://www14.software.ibm.com/cgi-bin/weblap/lap.pl?li_formnum=L-AMCU-BYC7LF\">License Terms</a>\n",
    "\n",
    "___"
   ]
  }
 ],
 "metadata": {
  "kernelspec": {
   "display_name": "Python 3.7",
   "language": "python",
   "name": "python3"
  },
  "language_info": {
   "codemirror_mode": {
    "name": "ipython",
    "version": 3
   },
   "file_extension": ".py",
   "mimetype": "text/x-python",
   "name": "python",
   "nbconvert_exporter": "python",
   "pygments_lexer": "ipython3",
   "version": "3.7.11"
  }
 },
 "nbformat": 4,
 "nbformat_minor": 4
}
